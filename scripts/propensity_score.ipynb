{
 "cells": [
  {
   "cell_type": "markdown",
   "id": "bb592c7302521f05",
   "metadata": {},
   "source": [
    "### Aplicación de propensity score matching\n",
    "\n"
   ]
  },
  {
   "cell_type": "code",
   "id": "initial_id",
   "metadata": {
    "collapsed": true,
    "jupyter": {
     "outputs_hidden": true
    },
    "ExecuteTime": {
     "end_time": "2024-11-14T17:25:35.991286Z",
     "start_time": "2024-11-14T17:25:35.964795Z"
    }
   },
   "source": [
    "##Borrar datos del entorno\n",
    "rm(list=ls())"
   ],
   "outputs": [],
   "execution_count": 1
  },
  {
   "cell_type": "code",
   "id": "f8093b5932c40803",
   "metadata": {
    "ExecuteTime": {
     "end_time": "2024-11-14T17:25:36.040935Z",
     "start_time": "2024-11-14T17:25:36.004204Z"
    }
   },
   "source": [
    "#Directorio de trabajo\n",
    "setwd(\"C:/Users/claud/Documents/GitHub/proyecto_simi\")"
   ],
   "outputs": [],
   "execution_count": 2
  },
  {
   "cell_type": "code",
   "id": "f0c34780850652e3",
   "metadata": {
    "ExecuteTime": {
     "end_time": "2024-11-14T17:25:36.686640Z",
     "start_time": "2024-11-14T17:25:36.054687Z"
    }
   },
   "source": [
    "if(!require('pacman')) install.packages('pacman')\n",
    "pacman::p_load(tidyverse,janitor,MatchIt,cobalt)"
   ],
   "outputs": [
    {
     "name": "stderr",
     "output_type": "stream",
     "text": [
      "Loading required package: pacman\n",
      "\n"
     ]
    }
   ],
   "execution_count": 3
  },
  {
   "cell_type": "markdown",
   "id": "d277d4d8027e5cfa",
   "metadata": {},
   "source": [
    "#### 1. Se crea función para realizar el modelo y el matching"
   ]
  },
  {
   "metadata": {
    "ExecuteTime": {
     "end_time": "2024-11-14T17:25:36.706763Z",
     "start_time": "2024-11-14T17:25:36.693442Z"
    }
   },
   "cell_type": "code",
   "source": [
    "propscorematch <- function(var_modelo, link_model) {\n",
    "  # Función para imprimir texto en negritas y mayúsculas\n",
    "    bold_text <- function(text) paste0(\"\\033[1m\", \"=== \", toupper(text), \" ===\", \"\\033[0m\")\n",
    "\n",
    "  # Modelo GLM\n",
    "  modelo_glm <- glm(var_modelo, data = datos_colonias, family = link_model)\n",
    "  \n",
    "  # Impresión de resultados\n",
    "  model_type <- ifelse(link_model$link == \"logit\", \"Logit\", \n",
    "                       ifelse(link_model$link == \"probit\", \"Probit\", link_model$link))\n",
    "  cat(bold_text(paste(\"Resultados del modelo\", model_type, \":\")), \"\\n\")\n",
    "  summary_glm <- summary(modelo_glm)\n",
    "  print(summary_glm)\n",
    "  \n",
    "  # Generación de scores de propensión\n",
    "  prs_df <- data.frame(pr_score = predict(modelo_glm, type = \"response\"),\n",
    "                       simi = datos_colonias$simi)\n",
    "  \n",
    "  # MatchIt\n",
    "  matchit_out <- matchit(var_modelo, data = datos_colonias, method = \"nearest\", distance = prs_df$pr_score)\n",
    "  \n",
    "  # Impresión de resultados de MatchIt\n",
    "  cat(bold_text(\"Resumen de los resultados de MatchIt:\"), \"\\n\")\n",
    "  summary_matchit <- summary(matchit_out)\n",
    "  print(summary_matchit)\n",
    "  \n",
    "  # Datos matcheados\n",
    "  datos_matcheados <- match.data(matchit_out)\n",
    "  \n",
    "  # Imprimiendo resultados\n",
    "  cat(bold_text(\"Número de manzanas matcheadas:\"), nrow(datos_matcheados), \"\\n\")\n",
    "  cat(bold_text(\"Número de manzanas matcheadas sin considerar Lomas de San Carlos:\"), \n",
    "      nrow(datos_matcheados[datos_matcheados$simi == 0, ]), \"\\n\")\n",
    "  \n",
    "  # Plot MatchIt\n",
    "  matchit_plot <- plot(summary_matchit)\n",
    "  \n",
    "  # Definición de grupos para el t-test\n",
    "  group_0 <- \"Grupo de control (simi = 0)\"\n",
    "  group_1 <- \"Grupo de tratamiento (simi = 1)\"\n",
    "  \n",
    "  # Impresión del encabezado de los resultados del t-test\n",
    "  cat(bold_text(\"Average Treatment Effect among the Treated (ATT):\"), \"\\n\")\n",
    "  cat(bold_text(\"Grupo 0:\"), group_0, \"\\n\")\n",
    "  cat(bold_text(\"Grupo 1:\"), group_1, \"\\n\")\n",
    "  \n",
    "  # T-test\n",
    "  cat(bold_text(\"Resultados de la prueba t:\"), \"\\n\")\n",
    "  t_test_result <- t.test(imn_2020 ~ simi, data = datos_matcheados)\n",
    "  print(t_test_result)\n",
    "}"
   ],
   "id": "305e8b25aea98791",
   "outputs": [],
   "execution_count": 4
  },
  {
   "cell_type": "markdown",
   "id": "be1c3870cf114dc5",
   "metadata": {},
   "source": [
    "#### 2. Se cargan los datos tanto de la colonia Simi como de las colonias \"similares\" y \n",
    "Se crea una dummy para identificar a qué grupo pertenece cada observación. Estos datos son a nivel manzana y corresponden a 67 colonias, considerando la colonia Lomas de San Carlos. La fuente de información es el Censo de Población y Vivienda 2020."
   ]
  },
  {
   "cell_type": "code",
   "id": "f660c9bcd94545ff",
   "metadata": {
    "ExecuteTime": {
     "end_time": "2024-11-14T17:25:37.256319Z",
     "start_time": "2024-11-14T17:25:36.713659Z"
    }
   },
   "source": [
    "#Cargar datos\n",
    "datos_colonias<-openxlsx::read.xlsx(\"G:/Mi unidad/proyecto_simi/indicadores_mza_col.xlsx\",sheet=2)%>%\n",
    "#Crea dummy para identificar si la manzana pertenece a colonia simi o no\n",
    "mutate(simi=case_when(colonia==\"Lomas de San Carlos\" ~ 1,\n",
    "                        TRUE ~ 0))\n",
    "str(datos_colonias)"
   ],
   "outputs": [
    {
     "name": "stdout",
     "output_type": "stream",
     "text": [
      "'data.frame':\t2904 obs. of  39 variables:\n",
      " $ cvegeo         : chr  \"0900500010258020\" \"0900500010258035\" \"0900500010258009\" \"0900500012574009\" ...\n",
      " $ cve_col        : chr  \"09005_0019\" \"09005_0019\" \"09005_0019\" \"09005_0019\" ...\n",
      " $ id_col         : num  17240 17240 17240 17240 17240 ...\n",
      " $ colonia        : chr  \"Benito Juarez\" \"Benito Juarez\" \"Benito Juarez\" \"Benito Juarez\" ...\n",
      " $ cve_ent        : chr  \"09\" \"09\" \"09\" \"09\" ...\n",
      " $ nom_ent        : chr  \"Ciudad de México\" \"Ciudad de México\" \"Ciudad de México\" \"Ciudad de México\" ...\n",
      " $ cve_mun        : chr  \"005\" \"005\" \"005\" \"005\" ...\n",
      " $ nom_mun        : chr  \"Gustavo A. Madero\" \"Gustavo A. Madero\" \"Gustavo A. Madero\" \"Gustavo A. Madero\" ...\n",
      " $ pobtot         : num  141 147 329 260 117 124 185 119 70 129 ...\n",
      " $ hogjef_f       : num  30 27 56 31 24 12 32 22 10 9 ...\n",
      " $ hogjef_m       : num  20 19 33 37 13 21 16 15 10 29 ...\n",
      " $ graproes       : num  8.91 9.19 8.75 8.44 8.34 ...\n",
      " $ pea            : num  77 68 155 117 50 58 87 63 39 56 ...\n",
      " $ pe_inac        : num  48 51 106 95 40 52 58 35 19 45 ...\n",
      " $ pocupada       : num  76 67 153 115 50 58 83 61 38 55 ...\n",
      " $ pdesocup       : num  0 0 0 0 0 0 4 0 0 0 ...\n",
      " $ pob0_14        : num  24 34 82 69 30 20 49 23 14 36 ...\n",
      " $ pob15_64       : num  104 97 214 170 69 88 127 83 47 81 ...\n",
      " $ pob65_mas      : num  13 16 33 21 18 16 9 13 9 12 ...\n",
      " $ vivtot         : num  53 46 92 71 38 36 50 40 20 39 ...\n",
      " $ pct_noasist    : num  0 0 0 0 0 0 0 0 0 0 ...\n",
      " $ pct_sinesc     : num  2.56 7.08 4.05 8.38 9.2 ...\n",
      " $ pct_analfa     : num  2.56 5.31 4.86 5.24 0 ...\n",
      " $ pct_sinder     : num  24.1 16.3 13.4 28.5 32.5 ...\n",
      " $ pct_pisot      : num  0 0 0 0 0 0 0 0 0 0 ...\n",
      " $ pct_excsa      : num  7.55 0 3.26 4.23 2.63 ...\n",
      " $ pct_nodren     : num  0 0 0 0 0 0 0 0 0 0 ...\n",
      " $ pct_1dor       : num  50.9 45.7 35.9 32.4 52.6 ...\n",
      " $ pct_1cuart     : num  5.66 0 7.61 4.23 0 ...\n",
      " $ pct_sinelec    : num  0 0 0 0 0 0 0 0 0 0 ...\n",
      " $ pct_sinagua    : num  0 0 0 0 0 0 0 0 0 0 ...\n",
      " $ pct_tinaco     : num  88.7 97.8 78.3 74.6 92.1 ...\n",
      " $ pct_cister     : num  22.64 6.52 18.48 14.08 0 ...\n",
      " $ pct_celular    : num  79.2 60.9 80.4 84.5 57.9 ...\n",
      " $ pct_internet   : num  71.7 47.8 59.8 50.7 57.9 ...\n",
      " $ pct_computadora: num  34 30.4 33.7 39.4 31.6 ...\n",
      " $ pct_tv_paga    : num  32.1 21.7 34.8 21.1 10.5 ...\n",
      " $ pct_videos     : num  18.87 15.22 22.83 8.45 0 ...\n",
      " $ simi           : num  0 0 0 0 0 0 0 0 0 0 ...\n"
     ]
    }
   ],
   "execution_count": 5
  },
  {
   "cell_type": "code",
   "id": "22c3657db5f339f5",
   "metadata": {
    "ExecuteTime": {
     "end_time": "2024-11-14T17:25:37.381274Z",
     "start_time": "2024-11-14T17:25:37.270025Z"
    }
   },
   "source": [
    "#Contar unos y ceros de la dummy\n",
    "datos_colonias%>%\n",
    "    count(simi)"
   ],
   "outputs": [
    {
     "data": {
      "text/html": [
       "<table class=\"dataframe\">\n",
       "<caption>A data.frame: 2 × 2</caption>\n",
       "<thead>\n",
       "\t<tr><th scope=col>simi</th><th scope=col>n</th></tr>\n",
       "\t<tr><th scope=col>&lt;dbl&gt;</th><th scope=col>&lt;int&gt;</th></tr>\n",
       "</thead>\n",
       "<tbody>\n",
       "\t<tr><td>0</td><td>2851</td></tr>\n",
       "\t<tr><td>1</td><td>  53</td></tr>\n",
       "</tbody>\n",
       "</table>\n"
      ],
      "text/markdown": "\nA data.frame: 2 × 2\n\n| simi &lt;dbl&gt; | n &lt;int&gt; |\n|---|---|\n| 0 | 2851 |\n| 1 |   53 |\n\n",
      "text/latex": "A data.frame: 2 × 2\n\\begin{tabular}{ll}\n simi & n\\\\\n <dbl> & <int>\\\\\n\\hline\n\t 0 & 2851\\\\\n\t 1 &   53\\\\\n\\end{tabular}\n",
      "text/plain": [
       "  simi n   \n",
       "1 0    2851\n",
       "2 1      53"
      ]
     },
     "metadata": {},
     "output_type": "display_data"
    }
   ],
   "execution_count": 6
  },
  {
   "cell_type": "markdown",
   "id": "c8097430bd08d196",
   "metadata": {},
   "source": [
    "#### 2. Se utilizan datos de marginación. \n",
    "Se busca con ello unir los datos de marginación a nivel colonia con los datos de las manzanas de las colonias seleccionadas. Es importante mencionar que si bien los datos de marginación son a nivel colonia, se asume que, a nivel manzana, son homogéneos. La idea es utilizar el índice de marginación como variable de interés para estimar el efecto del tratamiento."
   ]
  },
  {
   "cell_type": "code",
   "id": "5cf5179a47bd59a4",
   "metadata": {
    "ExecuteTime": {
     "end_time": "2024-11-14T17:25:44.337007Z",
     "start_time": "2024-11-14T17:25:37.442729Z"
    }
   },
   "source": [
    "#Se descargan datos de marginación de CONAPO\n",
    "\n",
    "\n",
    "url_conapo=\"http://www.conapo.gob.mx/work/models/CONAPO/Marginacion/Datos_Abiertos/Colonia/IMC_2020.zip\"\n",
    "\n",
    "download.file(url_conapo, destfile = \"data/IMC_2020.zip\")\n",
    "\n",
    "unzip(\"data/IMC_2020.zip\", exdir = \"data/IMC_2020\")\n"
   ],
   "outputs": [],
   "execution_count": 7
  },
  {
   "cell_type": "code",
   "id": "1fa354779db5dafe",
   "metadata": {
    "ExecuteTime": {
     "end_time": "2024-11-14T17:25:51.723661Z",
     "start_time": "2024-11-14T17:25:44.362473Z"
    }
   },
   "source": [
    "#Se leen los datos y se filtra para CDMX y EdoMex\n",
    "datos_marginacion<-openxlsx::read.xlsx(\"data/IMC_2020/IMUC_2020.xlsx\",sheet=1, \n",
    "                                        startRow = 4)%>%\n",
    "janitor::clean_names()%>%\n",
    "filter(cve_ent==\"09\" | cve_ent==\"15\")%>%\n",
    "select(cve_col,imn_2020)"
   ],
   "outputs": [],
   "execution_count": 8
  },
  {
   "cell_type": "code",
   "id": "8678666f692063ea",
   "metadata": {
    "ExecuteTime": {
     "end_time": "2024-11-14T17:25:51.778640Z",
     "start_time": "2024-11-14T17:25:51.733664Z"
    }
   },
   "source": [
    "#Se unen los datos de marginación a los de las manzanas de las colonias seleccionadas\n",
    "datos_colonias<-datos_colonias%>%\n",
    "left_join(datos_marginacion, by=c(\"cve_col\"=\"cve_col\"))\n",
    "head(datos_colonias,10)"
   ],
   "outputs": [
    {
     "data": {
      "text/html": [
       "<table class=\"dataframe\">\n",
       "<caption>A data.frame: 10 × 40</caption>\n",
       "<thead>\n",
       "\t<tr><th></th><th scope=col>cvegeo</th><th scope=col>cve_col</th><th scope=col>id_col</th><th scope=col>colonia</th><th scope=col>cve_ent</th><th scope=col>nom_ent</th><th scope=col>cve_mun</th><th scope=col>nom_mun</th><th scope=col>pobtot</th><th scope=col>hogjef_f</th><th scope=col>⋯</th><th scope=col>pct_sinagua</th><th scope=col>pct_tinaco</th><th scope=col>pct_cister</th><th scope=col>pct_celular</th><th scope=col>pct_internet</th><th scope=col>pct_computadora</th><th scope=col>pct_tv_paga</th><th scope=col>pct_videos</th><th scope=col>simi</th><th scope=col>imn_2020</th></tr>\n",
       "\t<tr><th></th><th scope=col>&lt;chr&gt;</th><th scope=col>&lt;chr&gt;</th><th scope=col>&lt;dbl&gt;</th><th scope=col>&lt;chr&gt;</th><th scope=col>&lt;chr&gt;</th><th scope=col>&lt;chr&gt;</th><th scope=col>&lt;chr&gt;</th><th scope=col>&lt;chr&gt;</th><th scope=col>&lt;dbl&gt;</th><th scope=col>&lt;dbl&gt;</th><th scope=col>⋯</th><th scope=col>&lt;dbl&gt;</th><th scope=col>&lt;dbl&gt;</th><th scope=col>&lt;dbl&gt;</th><th scope=col>&lt;dbl&gt;</th><th scope=col>&lt;dbl&gt;</th><th scope=col>&lt;dbl&gt;</th><th scope=col>&lt;dbl&gt;</th><th scope=col>&lt;dbl&gt;</th><th scope=col>&lt;dbl&gt;</th><th scope=col>&lt;dbl&gt;</th></tr>\n",
       "</thead>\n",
       "<tbody>\n",
       "\t<tr><th scope=row>1</th><td>0900500010258020</td><td>09005_0019</td><td>17240</td><td>Benito Juarez</td><td>09</td><td>Ciudad de México</td><td>005</td><td>Gustavo A. Madero</td><td>141</td><td>30</td><td>⋯</td><td>0</td><td>88.67925</td><td>22.641509</td><td>79.24528</td><td>71.69811</td><td>33.96226</td><td>32.07547</td><td>18.867925</td><td>0</td><td>0.9519898</td></tr>\n",
       "\t<tr><th scope=row>2</th><td>0900500010258035</td><td>09005_0019</td><td>17240</td><td>Benito Juarez</td><td>09</td><td>Ciudad de México</td><td>005</td><td>Gustavo A. Madero</td><td>147</td><td>27</td><td>⋯</td><td>0</td><td>97.82609</td><td> 6.521739</td><td>60.86957</td><td>47.82609</td><td>30.43478</td><td>21.73913</td><td>15.217391</td><td>0</td><td>0.9519898</td></tr>\n",
       "\t<tr><th scope=row>3</th><td>0900500010258009</td><td>09005_0019</td><td>17240</td><td>Benito Juarez</td><td>09</td><td>Ciudad de México</td><td>005</td><td>Gustavo A. Madero</td><td>329</td><td>56</td><td>⋯</td><td>0</td><td>78.26087</td><td>18.478261</td><td>80.43478</td><td>59.78261</td><td>33.69565</td><td>34.78261</td><td>22.826087</td><td>0</td><td>0.9519898</td></tr>\n",
       "\t<tr><th scope=row>4</th><td>0900500012574009</td><td>09005_0019</td><td>17240</td><td>Benito Juarez</td><td>09</td><td>Ciudad de México</td><td>005</td><td>Gustavo A. Madero</td><td>260</td><td>31</td><td>⋯</td><td>0</td><td>74.64789</td><td>14.084507</td><td>84.50704</td><td>50.70423</td><td>39.43662</td><td>21.12676</td><td> 8.450704</td><td>0</td><td>0.9519898</td></tr>\n",
       "\t<tr><th scope=row>5</th><td>0900500010258019</td><td>09005_0019</td><td>17240</td><td>Benito Juarez</td><td>09</td><td>Ciudad de México</td><td>005</td><td>Gustavo A. Madero</td><td>117</td><td>24</td><td>⋯</td><td>0</td><td>92.10526</td><td> 0.000000</td><td>57.89474</td><td>57.89474</td><td>31.57895</td><td>10.52632</td><td> 0.000000</td><td>0</td><td>0.9519898</td></tr>\n",
       "\t<tr><th scope=row>6</th><td>0900500012574010</td><td>09005_0019</td><td>17240</td><td>Benito Juarez</td><td>09</td><td>Ciudad de México</td><td>005</td><td>Gustavo A. Madero</td><td>124</td><td>12</td><td>⋯</td><td>0</td><td>83.33333</td><td>25.000000</td><td>77.77778</td><td>58.33333</td><td>38.88889</td><td>41.66667</td><td>13.888889</td><td>0</td><td>0.9519898</td></tr>\n",
       "\t<tr><th scope=row>7</th><td>0900500010258001</td><td>09005_0019</td><td>17240</td><td>Benito Juarez</td><td>09</td><td>Ciudad de México</td><td>005</td><td>Gustavo A. Madero</td><td>185</td><td>32</td><td>⋯</td><td>0</td><td>84.00000</td><td>28.000000</td><td>88.00000</td><td>58.00000</td><td>44.00000</td><td>46.00000</td><td>24.000000</td><td>0</td><td>0.9519898</td></tr>\n",
       "\t<tr><th scope=row>8</th><td>0900500010258045</td><td>09005_0019</td><td>17240</td><td>Benito Juarez</td><td>09</td><td>Ciudad de México</td><td>005</td><td>Gustavo A. Madero</td><td>119</td><td>22</td><td>⋯</td><td>0</td><td>92.50000</td><td> 0.000000</td><td>65.00000</td><td>62.50000</td><td>30.00000</td><td>32.50000</td><td>15.000000</td><td>0</td><td>0.9519898</td></tr>\n",
       "\t<tr><th scope=row>9</th><td>0900500010258002</td><td>09005_0019</td><td>17240</td><td>Benito Juarez</td><td>09</td><td>Ciudad de México</td><td>005</td><td>Gustavo A. Madero</td><td> 70</td><td>10</td><td>⋯</td><td>0</td><td>95.00000</td><td> 0.000000</td><td>90.00000</td><td>45.00000</td><td>40.00000</td><td>25.00000</td><td> 0.000000</td><td>0</td><td>0.9519898</td></tr>\n",
       "\t<tr><th scope=row>10</th><td>0900500012574038</td><td>09005_0019</td><td>17240</td><td>Benito Juarez</td><td>09</td><td>Ciudad de México</td><td>005</td><td>Gustavo A. Madero</td><td>129</td><td> 9</td><td>⋯</td><td>0</td><td>64.10256</td><td> 0.000000</td><td>84.61538</td><td>43.58974</td><td>25.64103</td><td>15.38462</td><td> 7.692308</td><td>0</td><td>0.9519898</td></tr>\n",
       "</tbody>\n",
       "</table>\n"
      ],
      "text/markdown": "\nA data.frame: 10 × 40\n\n| <!--/--> | cvegeo &lt;chr&gt; | cve_col &lt;chr&gt; | id_col &lt;dbl&gt; | colonia &lt;chr&gt; | cve_ent &lt;chr&gt; | nom_ent &lt;chr&gt; | cve_mun &lt;chr&gt; | nom_mun &lt;chr&gt; | pobtot &lt;dbl&gt; | hogjef_f &lt;dbl&gt; | ⋯ ⋯ | pct_sinagua &lt;dbl&gt; | pct_tinaco &lt;dbl&gt; | pct_cister &lt;dbl&gt; | pct_celular &lt;dbl&gt; | pct_internet &lt;dbl&gt; | pct_computadora &lt;dbl&gt; | pct_tv_paga &lt;dbl&gt; | pct_videos &lt;dbl&gt; | simi &lt;dbl&gt; | imn_2020 &lt;dbl&gt; |\n|---|---|---|---|---|---|---|---|---|---|---|---|---|---|---|---|---|---|---|---|---|---|\n| 1 | 0900500010258020 | 09005_0019 | 17240 | Benito Juarez | 09 | Ciudad de México | 005 | Gustavo A. Madero | 141 | 30 | ⋯ | 0 | 88.67925 | 22.641509 | 79.24528 | 71.69811 | 33.96226 | 32.07547 | 18.867925 | 0 | 0.9519898 |\n| 2 | 0900500010258035 | 09005_0019 | 17240 | Benito Juarez | 09 | Ciudad de México | 005 | Gustavo A. Madero | 147 | 27 | ⋯ | 0 | 97.82609 |  6.521739 | 60.86957 | 47.82609 | 30.43478 | 21.73913 | 15.217391 | 0 | 0.9519898 |\n| 3 | 0900500010258009 | 09005_0019 | 17240 | Benito Juarez | 09 | Ciudad de México | 005 | Gustavo A. Madero | 329 | 56 | ⋯ | 0 | 78.26087 | 18.478261 | 80.43478 | 59.78261 | 33.69565 | 34.78261 | 22.826087 | 0 | 0.9519898 |\n| 4 | 0900500012574009 | 09005_0019 | 17240 | Benito Juarez | 09 | Ciudad de México | 005 | Gustavo A. Madero | 260 | 31 | ⋯ | 0 | 74.64789 | 14.084507 | 84.50704 | 50.70423 | 39.43662 | 21.12676 |  8.450704 | 0 | 0.9519898 |\n| 5 | 0900500010258019 | 09005_0019 | 17240 | Benito Juarez | 09 | Ciudad de México | 005 | Gustavo A. Madero | 117 | 24 | ⋯ | 0 | 92.10526 |  0.000000 | 57.89474 | 57.89474 | 31.57895 | 10.52632 |  0.000000 | 0 | 0.9519898 |\n| 6 | 0900500012574010 | 09005_0019 | 17240 | Benito Juarez | 09 | Ciudad de México | 005 | Gustavo A. Madero | 124 | 12 | ⋯ | 0 | 83.33333 | 25.000000 | 77.77778 | 58.33333 | 38.88889 | 41.66667 | 13.888889 | 0 | 0.9519898 |\n| 7 | 0900500010258001 | 09005_0019 | 17240 | Benito Juarez | 09 | Ciudad de México | 005 | Gustavo A. Madero | 185 | 32 | ⋯ | 0 | 84.00000 | 28.000000 | 88.00000 | 58.00000 | 44.00000 | 46.00000 | 24.000000 | 0 | 0.9519898 |\n| 8 | 0900500010258045 | 09005_0019 | 17240 | Benito Juarez | 09 | Ciudad de México | 005 | Gustavo A. Madero | 119 | 22 | ⋯ | 0 | 92.50000 |  0.000000 | 65.00000 | 62.50000 | 30.00000 | 32.50000 | 15.000000 | 0 | 0.9519898 |\n| 9 | 0900500010258002 | 09005_0019 | 17240 | Benito Juarez | 09 | Ciudad de México | 005 | Gustavo A. Madero |  70 | 10 | ⋯ | 0 | 95.00000 |  0.000000 | 90.00000 | 45.00000 | 40.00000 | 25.00000 |  0.000000 | 0 | 0.9519898 |\n| 10 | 0900500012574038 | 09005_0019 | 17240 | Benito Juarez | 09 | Ciudad de México | 005 | Gustavo A. Madero | 129 |  9 | ⋯ | 0 | 64.10256 |  0.000000 | 84.61538 | 43.58974 | 25.64103 | 15.38462 |  7.692308 | 0 | 0.9519898 |\n\n",
      "text/latex": "A data.frame: 10 × 40\n\\begin{tabular}{r|lllllllllllllllllllll}\n  & cvegeo & cve\\_col & id\\_col & colonia & cve\\_ent & nom\\_ent & cve\\_mun & nom\\_mun & pobtot & hogjef\\_f & ⋯ & pct\\_sinagua & pct\\_tinaco & pct\\_cister & pct\\_celular & pct\\_internet & pct\\_computadora & pct\\_tv\\_paga & pct\\_videos & simi & imn\\_2020\\\\\n  & <chr> & <chr> & <dbl> & <chr> & <chr> & <chr> & <chr> & <chr> & <dbl> & <dbl> & ⋯ & <dbl> & <dbl> & <dbl> & <dbl> & <dbl> & <dbl> & <dbl> & <dbl> & <dbl> & <dbl>\\\\\n\\hline\n\t1 & 0900500010258020 & 09005\\_0019 & 17240 & Benito Juarez & 09 & Ciudad de México & 005 & Gustavo A. Madero & 141 & 30 & ⋯ & 0 & 88.67925 & 22.641509 & 79.24528 & 71.69811 & 33.96226 & 32.07547 & 18.867925 & 0 & 0.9519898\\\\\n\t2 & 0900500010258035 & 09005\\_0019 & 17240 & Benito Juarez & 09 & Ciudad de México & 005 & Gustavo A. Madero & 147 & 27 & ⋯ & 0 & 97.82609 &  6.521739 & 60.86957 & 47.82609 & 30.43478 & 21.73913 & 15.217391 & 0 & 0.9519898\\\\\n\t3 & 0900500010258009 & 09005\\_0019 & 17240 & Benito Juarez & 09 & Ciudad de México & 005 & Gustavo A. Madero & 329 & 56 & ⋯ & 0 & 78.26087 & 18.478261 & 80.43478 & 59.78261 & 33.69565 & 34.78261 & 22.826087 & 0 & 0.9519898\\\\\n\t4 & 0900500012574009 & 09005\\_0019 & 17240 & Benito Juarez & 09 & Ciudad de México & 005 & Gustavo A. Madero & 260 & 31 & ⋯ & 0 & 74.64789 & 14.084507 & 84.50704 & 50.70423 & 39.43662 & 21.12676 &  8.450704 & 0 & 0.9519898\\\\\n\t5 & 0900500010258019 & 09005\\_0019 & 17240 & Benito Juarez & 09 & Ciudad de México & 005 & Gustavo A. Madero & 117 & 24 & ⋯ & 0 & 92.10526 &  0.000000 & 57.89474 & 57.89474 & 31.57895 & 10.52632 &  0.000000 & 0 & 0.9519898\\\\\n\t6 & 0900500012574010 & 09005\\_0019 & 17240 & Benito Juarez & 09 & Ciudad de México & 005 & Gustavo A. Madero & 124 & 12 & ⋯ & 0 & 83.33333 & 25.000000 & 77.77778 & 58.33333 & 38.88889 & 41.66667 & 13.888889 & 0 & 0.9519898\\\\\n\t7 & 0900500010258001 & 09005\\_0019 & 17240 & Benito Juarez & 09 & Ciudad de México & 005 & Gustavo A. Madero & 185 & 32 & ⋯ & 0 & 84.00000 & 28.000000 & 88.00000 & 58.00000 & 44.00000 & 46.00000 & 24.000000 & 0 & 0.9519898\\\\\n\t8 & 0900500010258045 & 09005\\_0019 & 17240 & Benito Juarez & 09 & Ciudad de México & 005 & Gustavo A. Madero & 119 & 22 & ⋯ & 0 & 92.50000 &  0.000000 & 65.00000 & 62.50000 & 30.00000 & 32.50000 & 15.000000 & 0 & 0.9519898\\\\\n\t9 & 0900500010258002 & 09005\\_0019 & 17240 & Benito Juarez & 09 & Ciudad de México & 005 & Gustavo A. Madero &  70 & 10 & ⋯ & 0 & 95.00000 &  0.000000 & 90.00000 & 45.00000 & 40.00000 & 25.00000 &  0.000000 & 0 & 0.9519898\\\\\n\t10 & 0900500012574038 & 09005\\_0019 & 17240 & Benito Juarez & 09 & Ciudad de México & 005 & Gustavo A. Madero & 129 &  9 & ⋯ & 0 & 64.10256 &  0.000000 & 84.61538 & 43.58974 & 25.64103 & 15.38462 &  7.692308 & 0 & 0.9519898\\\\\n\\end{tabular}\n",
      "text/plain": [
       "   cvegeo           cve_col    id_col colonia       cve_ent nom_ent         \n",
       "1  0900500010258020 09005_0019 17240  Benito Juarez 09      Ciudad de México\n",
       "2  0900500010258035 09005_0019 17240  Benito Juarez 09      Ciudad de México\n",
       "3  0900500010258009 09005_0019 17240  Benito Juarez 09      Ciudad de México\n",
       "4  0900500012574009 09005_0019 17240  Benito Juarez 09      Ciudad de México\n",
       "5  0900500010258019 09005_0019 17240  Benito Juarez 09      Ciudad de México\n",
       "6  0900500012574010 09005_0019 17240  Benito Juarez 09      Ciudad de México\n",
       "7  0900500010258001 09005_0019 17240  Benito Juarez 09      Ciudad de México\n",
       "8  0900500010258045 09005_0019 17240  Benito Juarez 09      Ciudad de México\n",
       "9  0900500010258002 09005_0019 17240  Benito Juarez 09      Ciudad de México\n",
       "10 0900500012574038 09005_0019 17240  Benito Juarez 09      Ciudad de México\n",
       "   cve_mun nom_mun           pobtot hogjef_f ⋯ pct_sinagua pct_tinaco\n",
       "1  005     Gustavo A. Madero 141    30       ⋯ 0           88.67925  \n",
       "2  005     Gustavo A. Madero 147    27       ⋯ 0           97.82609  \n",
       "3  005     Gustavo A. Madero 329    56       ⋯ 0           78.26087  \n",
       "4  005     Gustavo A. Madero 260    31       ⋯ 0           74.64789  \n",
       "5  005     Gustavo A. Madero 117    24       ⋯ 0           92.10526  \n",
       "6  005     Gustavo A. Madero 124    12       ⋯ 0           83.33333  \n",
       "7  005     Gustavo A. Madero 185    32       ⋯ 0           84.00000  \n",
       "8  005     Gustavo A. Madero 119    22       ⋯ 0           92.50000  \n",
       "9  005     Gustavo A. Madero  70    10       ⋯ 0           95.00000  \n",
       "10 005     Gustavo A. Madero 129     9       ⋯ 0           64.10256  \n",
       "   pct_cister pct_celular pct_internet pct_computadora pct_tv_paga pct_videos\n",
       "1  22.641509  79.24528    71.69811     33.96226        32.07547    18.867925 \n",
       "2   6.521739  60.86957    47.82609     30.43478        21.73913    15.217391 \n",
       "3  18.478261  80.43478    59.78261     33.69565        34.78261    22.826087 \n",
       "4  14.084507  84.50704    50.70423     39.43662        21.12676     8.450704 \n",
       "5   0.000000  57.89474    57.89474     31.57895        10.52632     0.000000 \n",
       "6  25.000000  77.77778    58.33333     38.88889        41.66667    13.888889 \n",
       "7  28.000000  88.00000    58.00000     44.00000        46.00000    24.000000 \n",
       "8   0.000000  65.00000    62.50000     30.00000        32.50000    15.000000 \n",
       "9   0.000000  90.00000    45.00000     40.00000        25.00000     0.000000 \n",
       "10  0.000000  84.61538    43.58974     25.64103        15.38462     7.692308 \n",
       "   simi imn_2020 \n",
       "1  0    0.9519898\n",
       "2  0    0.9519898\n",
       "3  0    0.9519898\n",
       "4  0    0.9519898\n",
       "5  0    0.9519898\n",
       "6  0    0.9519898\n",
       "7  0    0.9519898\n",
       "8  0    0.9519898\n",
       "9  0    0.9519898\n",
       "10 0    0.9519898"
      ]
     },
     "metadata": {},
     "output_type": "display_data"
    }
   ],
   "execution_count": 9
  },
  {
   "cell_type": "markdown",
   "id": "f598a2fa71242b45",
   "metadata": {},
   "source": [
    "#### 3. Se inspeccionan las variables para ver si es necesario realizar alguna transformación"
   ]
  },
  {
   "cell_type": "code",
   "id": "f178b29f44cffabd",
   "metadata": {
    "ExecuteTime": {
     "end_time": "2024-11-14T17:25:52.305720Z",
     "start_time": "2024-11-14T17:25:51.796802Z"
    }
   },
   "source": [
    "\n",
    "# Inspección de variables\n",
    "datos_colonias %>%\n",
    "  select(hogjef_f, hogjef_m, graproes, pea, pe_inac, pocupada, pdesocup, pob0_14, pob15_64, pob65_mas) %>%\n",
    "  map2(names(.), ~{\n",
    "    # Calcular máximos, mínimos y medias\n",
    "    min_val <- min(.x, na.rm = TRUE)\n",
    "    max_val <- max(.x, na.rm = TRUE)\n",
    "    mean_val <- mean(.x, na.rm = TRUE)\n",
    "    \n",
    "    # Histograma\n",
    "    hist(.x, main = .y, xlab = .y, col = \"lightgray\", border = \"black\")\n",
    "    \n",
    "    # Líneas de máximos, mínimos y medias\n",
    "    abline(v = min_val, col = \"blue\", lty = 2, lwd = 2)\n",
    "    abline(v = max_val, col = \"red\", lty = 2, lwd = 2)\n",
    "    abline(v = mean_val, col = \"darkgreen\", lty = 1, lwd = 2)\n",
    "    \n",
    "    # Etiquetas\n",
    "    text(min_val, par(\"usr\")[4] * 0.95, labels = paste(\"Mínimo:\", round(min_val, 2)), col = \"blue\", pos = 4)\n",
    "    text(max_val, par(\"usr\")[4] * 0.95, labels = paste(\"Máximo:\", round(max_val, 2)), col = \"red\", pos = 2)\n",
    "    text(mean_val, par(\"usr\")[4] * 0.85, labels = paste(\"Media:\", round(mean_val, 2)), col = \"darkgreen\", pos = 3)\n",
    "  })\n"
   ],
   "outputs": [
    {
     "data": {
      "text/plain": [
       "Plot with title \"hogjef_f\""
      ],
      "image/png": "[encoded data removed]"
     },
     "metadata": {
      "image/png": {
       "width": 420,
       "height": 420
      }
     },
     "output_type": "display_data"
    },
    {
     "data": {
      "text/plain": [
       "Plot with title \"hogjef_m\""
      ],
      "image/png": "[encoded data removed]"
     },
     "metadata": {
      "image/png": {
       "width": 420,
       "height": 420
      }
     },
     "output_type": "display_data"
    },
    {
     "data": {
      "text/plain": [
       "Plot with title \"graproes\""
      ],
      "image/png": "[encoded data removed]"
     },
     "metadata": {
      "image/png": {
       "width": 420,
       "height": 420
      }
     },
     "output_type": "display_data"
    },
    {
     "data": {
      "text/plain": [
       "Plot with title \"pea\""
      ],
      "image/png": "[encoded data removed]"
     },
     "metadata": {
      "image/png": {
       "width": 420,
       "height": 420
      }
     },
     "output_type": "display_data"
    },
    {
     "data": {
      "text/plain": [
       "Plot with title \"pe_inac\""
      ],
      "image/png": "[encoded data removed]"
     },
     "metadata": {
      "image/png": {
       "width": 420,
       "height": 420
      }
     },
     "output_type": "display_data"
    },
    {
     "data": {
      "text/plain": [
       "Plot with title \"pocupada\""
      ],
      "image/png": "[encoded data removed]"
     },
     "metadata": {
      "image/png": {
       "width": 420,
       "height": 420
      }
     },
     "output_type": "display_data"
    },
    {
     "data": {
      "text/plain": [
       "Plot with title \"pdesocup\""
      ],
      "image/png": "[encoded data removed]"
     },
     "metadata": {
      "image/png": {
       "width": 420,
       "height": 420
      }
     },
     "output_type": "display_data"
    },
    {
     "data": {
      "text/plain": [
       "Plot with title \"pob0_14\""
      ],
      "image/png": "[encoded data removed]"
     },
     "metadata": {
      "image/png": {
       "width": 420,
       "height": 420
      }
     },
     "output_type": "display_data"
    },
    {
     "data": {
      "text/plain": [
       "Plot with title \"pob15_64\""
      ],
      "image/png": "[encoded data removed]"
     },
     "metadata": {
      "image/png": {
       "width": 420,
       "height": 420
      }
     },
     "output_type": "display_data"
    },
    {
     "data": {
      "text/html": [
       "<dl>\n",
       "\t<dt>$hogjef_f</dt>\n",
       "\t\t<dd>NULL</dd>\n",
       "\t<dt>$hogjef_m</dt>\n",
       "\t\t<dd>NULL</dd>\n",
       "\t<dt>$graproes</dt>\n",
       "\t\t<dd>NULL</dd>\n",
       "\t<dt>$pea</dt>\n",
       "\t\t<dd>NULL</dd>\n",
       "\t<dt>$pe_inac</dt>\n",
       "\t\t<dd>NULL</dd>\n",
       "\t<dt>$pocupada</dt>\n",
       "\t\t<dd>NULL</dd>\n",
       "\t<dt>$pdesocup</dt>\n",
       "\t\t<dd>NULL</dd>\n",
       "\t<dt>$pob0_14</dt>\n",
       "\t\t<dd>NULL</dd>\n",
       "\t<dt>$pob15_64</dt>\n",
       "\t\t<dd>NULL</dd>\n",
       "\t<dt>$pob65_mas</dt>\n",
       "\t\t<dd>NULL</dd>\n",
       "</dl>\n"
      ],
      "text/markdown": "$hogjef_f\n:   NULL\n$hogjef_m\n:   NULL\n$graproes\n:   NULL\n$pea\n:   NULL\n$pe_inac\n:   NULL\n$pocupada\n:   NULL\n$pdesocup\n:   NULL\n$pob0_14\n:   NULL\n$pob15_64\n:   NULL\n$pob65_mas\n:   NULL\n\n\n",
      "text/latex": "\\begin{description}\n\\item[\\$hogjef\\_f] NULL\n\\item[\\$hogjef\\_m] NULL\n\\item[\\$graproes] NULL\n\\item[\\$pea] NULL\n\\item[\\$pe\\_inac] NULL\n\\item[\\$pocupada] NULL\n\\item[\\$pdesocup] NULL\n\\item[\\$pob0\\_14] NULL\n\\item[\\$pob15\\_64] NULL\n\\item[\\$pob65\\_mas] NULL\n\\end{description}\n",
      "text/plain": [
       "$hogjef_f\n",
       "NULL\n",
       "\n",
       "$hogjef_m\n",
       "NULL\n",
       "\n",
       "$graproes\n",
       "NULL\n",
       "\n",
       "$pea\n",
       "NULL\n",
       "\n",
       "$pe_inac\n",
       "NULL\n",
       "\n",
       "$pocupada\n",
       "NULL\n",
       "\n",
       "$pdesocup\n",
       "NULL\n",
       "\n",
       "$pob0_14\n",
       "NULL\n",
       "\n",
       "$pob15_64\n",
       "NULL\n",
       "\n",
       "$pob65_mas\n",
       "NULL\n"
      ]
     },
     "metadata": {},
     "output_type": "display_data"
    },
    {
     "data": {
      "text/plain": [
       "Plot with title \"pob65_mas\""
      ],
      "image/png": "[encoded data removed]"
     },
     "metadata": {
      "image/png": {
       "width": 420,
       "height": 420
      }
     },
     "output_type": "display_data"
    }
   ],
   "execution_count": 10
  },
  {
   "metadata": {},
   "cell_type": "markdown",
   "source": [
    "## Modelos\n",
    "#### 3. Se establecen los modelos a utilizar"
   ],
   "id": "410a02c88bd06d2"
  },
  {
   "metadata": {},
   "cell_type": "code",
   "outputs": [],
   "execution_count": null,
   "source": [
    "#Modelo general\n",
    "var_modelo <- simi ~ hogjef_f + hogjef_m + graproes + pea +  \n",
    "              pe_inac + pocupada + pdesocup + pob0_14 + pob15_64 + pob65_mas\n",
    "\n",
    "#Modelo con transformación de variables de población a logaritmos. Se utiliza 1 para evitar problemas con ceros\n",
    "var_modelo2 <- simi ~ log(ifelse(hogjef_f == 0, 1, hogjef_f)) + \n",
    "                       log(ifelse(hogjef_m == 0, 1, hogjef_m)) + \n",
    "                       graproes + \n",
    "                       log(ifelse(pea == 0, 1, pea)) +  \n",
    "                       log(ifelse(pe_inac == 0, 1, pe_inac)) + \n",
    "                       log(ifelse(pocupada == 0, 1, pocupada)) + \n",
    "                       log(ifelse(pdesocup == 0, 1, pdesocup)) + \n",
    "                       log(ifelse(pob0_14 == 0, 1, pob0_14)) + \n",
    "                       log(ifelse(pob15_64 == 0, 1, pob15_64)) + \n",
    "                       log(ifelse(pob65_mas == 0, 1, pob65_mas))"
   ],
   "id": "3e2bffd5485f6d65"
  },
  {
   "cell_type": "markdown",
   "id": "fb2d1da7e3186065",
   "metadata": {},
   "source": [
    "#### Modelo probit"
   ]
  },
  {
   "cell_type": "code",
   "id": "b3239eace5c6e001",
   "metadata": {
    "ExecuteTime": {
     "end_time": "2024-11-14T17:25:52.657659Z",
     "start_time": "2024-11-14T17:25:52.355237Z"
    }
   },
   "source": [
    "propscorematch(var_modelo = var_modelo, link_model = binomial(link = \"probit\"))"
   ],
   "outputs": [
    {
     "name": "stderr",
     "output_type": "stream",
     "text": [
      "Warning message:\n",
      "\"glm.fit: fitted probabilities numerically 0 or 1 occurred\"\n"
     ]
    },
    {
     "name": "stdout",
     "output_type": "stream",
     "text": [
      "\u001B[1m=== RESULTADOS DEL MODELO PROBIT : ===\u001B[0m \n",
      "\n",
      "Call:\n",
      "glm(formula = var_modelo, family = link_model, data = datos_colonias)\n",
      "\n",
      "Coefficients:\n",
      "             Estimate Std. Error z value Pr(>|z|)    \n",
      "(Intercept) -2.169468   0.257440  -8.427  < 2e-16 ***\n",
      "hogjef_f    -0.001087   0.017018  -0.064   0.9491    \n",
      "hogjef_m     0.025554   0.014405   1.774   0.0761 .  \n",
      "graproes     0.031545   0.027659   1.141   0.2541    \n",
      "pea         -0.076610   0.091018  -0.842   0.4000    \n",
      "pe_inac     -0.042467   0.024924  -1.704   0.0884 .  \n",
      "pocupada     0.015783   0.086878   0.182   0.8558    \n",
      "pdesocup    -0.113903   0.090695  -1.256   0.2092    \n",
      "pob0_14      0.042366   0.010148   4.175 2.98e-05 ***\n",
      "pob15_64     0.036525   0.025738   1.419   0.1559    \n",
      "pob65_mas    0.029846   0.026386   1.131   0.2580    \n",
      "---\n",
      "Signif. codes:  0 '***' 0.001 '**' 0.01 '*' 0.05 '.' 0.1 ' ' 1\n",
      "\n",
      "(Dispersion parameter for binomial family taken to be 1)\n",
      "\n",
      "    Null deviance: 529.4  on 2903  degrees of freedom\n",
      "Residual deviance: 488.1  on 2893  degrees of freedom\n",
      "AIC: 510.1\n",
      "\n",
      "Number of Fisher Scoring iterations: 8\n",
      "\n",
      "\u001B[1m=== RESUMEN DE LOS RESULTADOS DE MATCHIT: ===\u001B[0m \n",
      "\n",
      "Call:\n",
      "matchit(formula = var_modelo, data = datos_colonias, method = \"nearest\", \n",
      "    distance = prs_df$pr_score)\n",
      "\n",
      "Summary of Balance for All Data:\n",
      "          Means Treated Means Control Std. Mean Diff. Var. Ratio eCDF Mean\n",
      "distance         0.0324        0.0180          0.7269     1.2374    0.2526\n",
      "hogjef_f         8.5094       11.5735         -0.4175     0.4303    0.0384\n",
      "hogjef_m        18.9057       21.4749         -0.1908     0.4903    0.0250\n",
      "graproes         9.2647        9.3526         -0.0922     0.1762    0.0774\n",
      "pea             50.1698       64.0702         -0.3729     0.4419    0.0523\n",
      "pe_inac         31.4151       37.8050         -0.2764     0.5315    0.0385\n",
      "pocupada        49.3774       62.6086         -0.3607     0.4454    0.0505\n",
      "pdesocup         0.2642        0.9670         -0.7293     0.1935    0.0247\n",
      "pob0_14         27.6604       28.7106         -0.0478     0.7419    0.0220\n",
      "pob15_64        70.1698       86.4963         -0.3130     0.5063    0.0505\n",
      "pob65_mas        6.1132        9.3578         -0.6079     0.3097    0.0544\n",
      "          eCDF Max\n",
      "distance    0.4809\n",
      "hogjef_f    0.1625\n",
      "hogjef_m    0.1222\n",
      "graproes    0.2427\n",
      "pea         0.2292\n",
      "pe_inac     0.1360\n",
      "pocupada    0.2278\n",
      "pdesocup    0.1287\n",
      "pob0_14     0.0794\n",
      "pob15_64    0.2240\n",
      "pob65_mas   0.2376\n",
      "\n",
      "Summary of Balance for Matched Data:\n",
      "          Means Treated Means Control Std. Mean Diff. Var. Ratio eCDF Mean\n",
      "distance         0.0324        0.0324         -0.0000     1.0023    0.0004\n",
      "hogjef_f         8.5094        9.5094         -0.1362     0.9390    0.0207\n",
      "hogjef_m        18.9057       19.6038         -0.0518     1.0600    0.0288\n",
      "graproes         9.2647        9.6770         -0.4324     0.8790    0.0721\n",
      "pea             50.1698       51.7925         -0.0435     1.5660    0.0411\n",
      "pe_inac         31.4151       32.1509         -0.0318     1.4613    0.0472\n",
      "pocupada        49.3774       51.0566         -0.0458     1.5275    0.0398\n",
      "pdesocup         0.2642        0.2830         -0.0196     1.1852    0.0031\n",
      "pob0_14         27.6604       28.3585         -0.0318     1.6103    0.0431\n",
      "pob15_64        70.1698       72.0000         -0.0351     1.5087    0.0503\n",
      "pob65_mas        6.1132        6.2830         -0.0318     1.2524    0.0162\n",
      "          eCDF Max Std. Pair Dist.\n",
      "distance    0.0377          0.0021\n",
      "hogjef_f    0.1321          1.0360\n",
      "hogjef_m    0.1509          0.8363\n",
      "graproes    0.2264          1.1859\n",
      "pea         0.2453          0.8827\n",
      "pe_inac     0.2075          0.8725\n",
      "pocupada    0.2642          0.8904\n",
      "pdesocup    0.0189          0.4503\n",
      "pob0_14     0.1698          0.8909\n",
      "pob15_64    0.2264          0.8505\n",
      "pob65_mas   0.1509          0.9651\n",
      "\n",
      "Sample Sizes:\n",
      "          Control Treated\n",
      "All          2851      53\n",
      "Matched        53      53\n",
      "Unmatched    2798       0\n",
      "Discarded       0       0\n",
      "\n",
      "\u001B[1m=== NÚMERO DE MANZANAS MATCHEADAS: ===\u001B[0m 106 \n",
      "\u001B[1m=== NÚMERO DE MANZANAS MATCHEADAS SIN CONSIDERAR LOMAS DE SAN CARLOS: ===\u001B[0m 53 \n",
      "\u001B[1m=== AVERAGE TREATMENT EFFECT AMONG THE TREATED (ATT): ===\u001B[0m \n",
      "\u001B[1m=== GRUPO 0: ===\u001B[0m Grupo de control (simi = 0) \n",
      "\u001B[1m=== GRUPO 1: ===\u001B[0m Grupo de tratamiento (simi = 1) \n",
      "\u001B[1m=== RESULTADOS DE LA PRUEBA T: ===\u001B[0m \n",
      "\n",
      "\tWelch Two Sample t-test\n",
      "\n",
      "data:  imn_2020 by simi\n",
      "t = 4.6062, df = 52, p-value = 2.686e-05\n",
      "alternative hypothesis: true difference in means between group 0 and group 1 is not equal to 0\n",
      "95 percent confidence interval:\n",
      " 0.001603732 0.004079649\n",
      "sample estimates:\n",
      "mean in group 0 mean in group 1 \n",
      "      0.9460781       0.9432364 \n",
      "\n"
     ]
    },
    {
     "data": {
      "text/plain": [
       "plot without title"
      ],
      "image/png": "[encoded data removed]"
     },
     "metadata": {
      "image/png": {
       "width": 420,
       "height": 420
      }
     },
     "output_type": "display_data"
    }
   ],
   "execution_count": 12
  },
  {
   "cell_type": "markdown",
   "id": "f3d6fd96c116ab4d",
   "metadata": {},
   "source": [
    "#### Modelo probit con transformación de variables de población a logaritmos"
   ]
  },
  {
   "cell_type": "code",
   "id": "d573d1dbcc863b16",
   "metadata": {
    "ExecuteTime": {
     "end_time": "2024-11-14T17:25:52.920372Z",
     "start_time": "2024-11-14T17:25:52.666815Z"
    }
   },
   "source": [
    "propscorematch(var_modelo = var_modelo2, link_model = binomial(link = \"probit\"))"
   ],
   "outputs": [
    {
     "name": "stdout",
     "output_type": "stream",
     "text": [
      "\u001B[1m=== RESULTADOS DEL MODELO PROBIT : ===\u001B[0m \n",
      "\n",
      "Call:\n",
      "glm(formula = var_modelo, family = link_model, data = datos_colonias)\n",
      "\n",
      "Coefficients:\n",
      "                                          Estimate Std. Error z value Pr(>|z|)\n",
      "(Intercept)                               -2.29006    0.30569  -7.491 6.81e-14\n",
      "log(ifelse(hogjef_f == 0, 1, hogjef_f))   -0.19434    0.11569  -1.680  0.09299\n",
      "log(ifelse(hogjef_m == 0, 1, hogjef_m))    0.31326    0.24271   1.291  0.19683\n",
      "graproes                                  -0.03169    0.05001  -0.634  0.52628\n",
      "log(ifelse(pea == 0, 1, pea))             -4.93426    2.90467  -1.699  0.08937\n",
      "log(ifelse(pe_inac == 0, 1, pe_inac))     -0.74837    0.25817  -2.899  0.00375\n",
      "log(ifelse(pocupada == 0, 1, pocupada))    2.75943    2.75840   1.000  0.31713\n",
      "log(ifelse(pdesocup == 0, 1, pdesocup))   -0.24721    0.17229  -1.435  0.15135\n",
      "log(ifelse(pob0_14 == 0, 1, pob0_14))      0.50088    0.20334   2.463  0.01377\n",
      "log(ifelse(pob15_64 == 0, 1, pob15_64))    2.23098    0.74720   2.986  0.00283\n",
      "log(ifelse(pob65_mas == 0, 1, pob65_mas))  0.07265    0.09729   0.747  0.45522\n",
      "                                             \n",
      "(Intercept)                               ***\n",
      "log(ifelse(hogjef_f == 0, 1, hogjef_f))   .  \n",
      "log(ifelse(hogjef_m == 0, 1, hogjef_m))      \n",
      "graproes                                     \n",
      "log(ifelse(pea == 0, 1, pea))             .  \n",
      "log(ifelse(pe_inac == 0, 1, pe_inac))     ** \n",
      "log(ifelse(pocupada == 0, 1, pocupada))      \n",
      "log(ifelse(pdesocup == 0, 1, pdesocup))      \n",
      "log(ifelse(pob0_14 == 0, 1, pob0_14))     *  \n",
      "log(ifelse(pob15_64 == 0, 1, pob15_64))   ** \n",
      "log(ifelse(pob65_mas == 0, 1, pob65_mas))    \n",
      "---\n",
      "Signif. codes:  0 '***' 0.001 '**' 0.01 '*' 0.05 '.' 0.1 ' ' 1\n",
      "\n",
      "(Dispersion parameter for binomial family taken to be 1)\n",
      "\n",
      "    Null deviance: 529.40  on 2903  degrees of freedom\n",
      "Residual deviance: 493.47  on 2893  degrees of freedom\n",
      "AIC: 515.47\n",
      "\n",
      "Number of Fisher Scoring iterations: 8\n",
      "\n",
      "\u001B[1m=== RESUMEN DE LOS RESULTADOS DE MATCHIT: ===\u001B[0m \n",
      "\n",
      "Call:\n",
      "matchit(formula = var_modelo, data = datos_colonias, method = \"nearest\", \n",
      "    distance = prs_df$pr_score)\n",
      "\n",
      "Summary of Balance for All Data:\n",
      "                                          Means Treated Means Control\n",
      "distance                                         0.0325        0.0180\n",
      "log(ifelse(hogjef_f == 0, 1, hogjef_f))          1.7348        2.0589\n",
      "log(ifelse(hogjef_m == 0, 1, hogjef_m))          2.6884        2.7182\n",
      "graproes                                         9.2647        9.3526\n",
      "log(ifelse(pea == 0, 1, pea))                    3.6547        3.7824\n",
      "log(ifelse(pe_inac == 0, 1, pe_inac))            3.1531        3.2558\n",
      "log(ifelse(pocupada == 0, 1, pocupada))          3.6402        3.7593\n",
      "log(ifelse(pdesocup == 0, 1, pdesocup))          0.0926        0.2998\n",
      "log(ifelse(pob0_14 == 0, 1, pob0_14))            2.9911        2.9593\n",
      "log(ifelse(pob15_64 == 0, 1, pob15_64))          3.9930        4.0758\n",
      "log(ifelse(pob65_mas == 0, 1, pob65_mas))        1.4993        1.7981\n",
      "                                          Std. Mean Diff. Var. Ratio eCDF Mean\n",
      "distance                                           0.5002     2.8928    0.2292\n",
      "log(ifelse(hogjef_f == 0, 1, hogjef_f))           -0.3080     1.1525    0.0384\n",
      "log(ifelse(hogjef_m == 0, 1, hogjef_m))           -0.0391     0.6505    0.0250\n",
      "graproes                                          -0.0922     0.1762    0.0774\n",
      "log(ifelse(pea == 0, 1, pea))                     -0.1707     0.4863    0.0523\n",
      "log(ifelse(pe_inac == 0, 1, pe_inac))             -0.1187     0.6914    0.0385\n",
      "log(ifelse(pocupada == 0, 1, pocupada))           -0.1599     0.4846    0.0505\n",
      "log(ifelse(pdesocup == 0, 1, pdesocup))           -0.6228     0.2904    0.0247\n",
      "log(ifelse(pob0_14 == 0, 1, pob0_14))              0.0357     0.7329    0.0220\n",
      "log(ifelse(pob15_64 == 0, 1, pob15_64))           -0.1123     0.4381    0.0505\n",
      "log(ifelse(pob65_mas == 0, 1, pob65_mas))         -0.3287     0.7417    0.0544\n",
      "                                          eCDF Max\n",
      "distance                                    0.3744\n",
      "log(ifelse(hogjef_f == 0, 1, hogjef_f))     0.1625\n",
      "log(ifelse(hogjef_m == 0, 1, hogjef_m))     0.1222\n",
      "graproes                                    0.2427\n",
      "log(ifelse(pea == 0, 1, pea))               0.2292\n",
      "log(ifelse(pe_inac == 0, 1, pe_inac))       0.1360\n",
      "log(ifelse(pocupada == 0, 1, pocupada))     0.2278\n",
      "log(ifelse(pdesocup == 0, 1, pdesocup))     0.1287\n",
      "log(ifelse(pob0_14 == 0, 1, pob0_14))       0.0794\n",
      "log(ifelse(pob15_64 == 0, 1, pob15_64))     0.2240\n",
      "log(ifelse(pob65_mas == 0, 1, pob65_mas))   0.2376\n",
      "\n",
      "Summary of Balance for Matched Data:\n",
      "                                          Means Treated Means Control\n",
      "distance                                         0.0325        0.0326\n",
      "log(ifelse(hogjef_f == 0, 1, hogjef_f))          1.7348        2.0213\n",
      "log(ifelse(hogjef_m == 0, 1, hogjef_m))          2.6884        2.7978\n",
      "graproes                                         9.2647        9.3640\n",
      "log(ifelse(pea == 0, 1, pea))                    3.6547        3.8995\n",
      "log(ifelse(pe_inac == 0, 1, pe_inac))            3.1531        3.2644\n",
      "log(ifelse(pocupada == 0, 1, pocupada))          3.6402        3.8876\n",
      "log(ifelse(pdesocup == 0, 1, pdesocup))          0.0926        0.0415\n",
      "log(ifelse(pob0_14 == 0, 1, pob0_14))            2.9911        3.1961\n",
      "log(ifelse(pob15_64 == 0, 1, pob15_64))          3.9930        4.2178\n",
      "log(ifelse(pob65_mas == 0, 1, pob65_mas))        1.4993        1.7212\n",
      "                                          Std. Mean Diff. Var. Ratio eCDF Mean\n",
      "distance                                          -0.0008     0.9906    0.0004\n",
      "log(ifelse(hogjef_f == 0, 1, hogjef_f))           -0.2722     1.6957    0.0186\n",
      "log(ifelse(hogjef_m == 0, 1, hogjef_m))           -0.1434     1.2789    0.0278\n",
      "graproes                                          -0.1041     1.0537    0.0341\n",
      "log(ifelse(pea == 0, 1, pea))                     -0.3274     1.2838    0.0435\n",
      "log(ifelse(pe_inac == 0, 1, pe_inac))             -0.1287     1.0684    0.0219\n",
      "log(ifelse(pocupada == 0, 1, pocupada))           -0.3323     1.2686    0.0437\n",
      "log(ifelse(pdesocup == 0, 1, pdesocup))            0.1536     2.4785    0.0042\n",
      "log(ifelse(pob0_14 == 0, 1, pob0_14))             -0.2304     1.8822    0.0285\n",
      "log(ifelse(pob15_64 == 0, 1, pob15_64))           -0.3048     1.3633    0.0464\n",
      "log(ifelse(pob65_mas == 0, 1, pob65_mas))         -0.2442     1.1950    0.0212\n",
      "                                          eCDF Max Std. Pair Dist.\n",
      "distance                                    0.0377          0.0022\n",
      "log(ifelse(hogjef_f == 0, 1, hogjef_f))     0.1509          0.9981\n",
      "log(ifelse(hogjef_m == 0, 1, hogjef_m))     0.1321          1.0632\n",
      "graproes                                    0.2453          1.0650\n",
      "log(ifelse(pea == 0, 1, pea))               0.2075          1.0972\n",
      "log(ifelse(pe_inac == 0, 1, pe_inac))       0.1132          1.0389\n",
      "log(ifelse(pocupada == 0, 1, pocupada))     0.2264          1.1073\n",
      "log(ifelse(pdesocup == 0, 1, pdesocup))     0.0377          0.2782\n",
      "log(ifelse(pob0_14 == 0, 1, pob0_14))       0.1509          1.0108\n",
      "log(ifelse(pob15_64 == 0, 1, pob15_64))     0.2264          1.0832\n",
      "log(ifelse(pob65_mas == 0, 1, pob65_mas))   0.1321          1.0165\n",
      "\n",
      "Sample Sizes:\n",
      "          Control Treated\n",
      "All          2851      53\n",
      "Matched        53      53\n",
      "Unmatched    2798       0\n",
      "Discarded       0       0\n",
      "\n",
      "\u001B[1m=== NÚMERO DE MANZANAS MATCHEADAS: ===\u001B[0m 106 \n",
      "\u001B[1m=== NÚMERO DE MANZANAS MATCHEADAS SIN CONSIDERAR LOMAS DE SAN CARLOS: ===\u001B[0m 53 \n",
      "\u001B[1m=== AVERAGE TREATMENT EFFECT AMONG THE TREATED (ATT): ===\u001B[0m \n",
      "\u001B[1m=== GRUPO 0: ===\u001B[0m Grupo de control (simi = 0) \n",
      "\u001B[1m=== GRUPO 1: ===\u001B[0m Grupo de tratamiento (simi = 1) \n",
      "\u001B[1m=== RESULTADOS DE LA PRUEBA T: ===\u001B[0m \n",
      "\n",
      "\tWelch Two Sample t-test\n",
      "\n",
      "data:  imn_2020 by simi\n",
      "t = 4.2947, df = 52, p-value = 7.667e-05\n",
      "alternative hypothesis: true difference in means between group 0 and group 1 is not equal to 0\n",
      "95 percent confidence interval:\n",
      " 0.001304598 0.003592925\n",
      "sample estimates:\n",
      "mean in group 0 mean in group 1 \n",
      "      0.9456851       0.9432364 \n",
      "\n"
     ]
    },
    {
     "data": {
      "text/plain": [
       "plot without title"
      ],
      "image/png": "[encoded data removed]"
     },
     "metadata": {
      "image/png": {
       "width": 420,
       "height": 420
      }
     },
     "output_type": "display_data"
    }
   ],
   "execution_count": 13
  },
  {
   "cell_type": "markdown",
   "id": "fda1ce9e33d4dd57",
   "metadata": {},
   "source": [
    "#### Modelo logit   "
   ]
  },
  {
   "cell_type": "code",
   "id": "91639962f5b84fe1",
   "metadata": {
    "ExecuteTime": {
     "end_time": "2024-11-14T17:25:53.118484Z",
     "start_time": "2024-11-14T17:25:52.933779Z"
    }
   },
   "source": [
    "propscorematch(var_modelo = var_modelo, link_model = binomial(link = \"logit\"))"
   ],
   "outputs": [
    {
     "name": "stderr",
     "output_type": "stream",
     "text": [
      "Warning message:\n",
      "\"glm.fit: fitted probabilities numerically 0 or 1 occurred\"\n"
     ]
    },
    {
     "name": "stdout",
     "output_type": "stream",
     "text": [
      "\u001B[1m=== RESULTADOS DEL MODELO LOGIT : ===\u001B[0m \n",
      "\n",
      "Call:\n",
      "glm(formula = var_modelo, family = link_model, data = datos_colonias)\n",
      "\n",
      "Coefficients:\n",
      "             Estimate Std. Error z value Pr(>|z|)    \n",
      "(Intercept) -4.104618   0.631493  -6.500 8.04e-11 ***\n",
      "hogjef_f    -0.000985   0.041689  -0.024   0.9811    \n",
      "hogjef_m     0.057572   0.033809   1.703   0.0886 .  \n",
      "graproes     0.072038   0.067621   1.065   0.2867    \n",
      "pea         -0.193690   0.218278  -0.887   0.3749    \n",
      "pe_inac     -0.109612   0.059647  -1.838   0.0661 .  \n",
      "pocupada     0.040800   0.208319   0.196   0.8447    \n",
      "pdesocup    -0.277124   0.224704  -1.233   0.2175    \n",
      "pob0_14      0.097968   0.023327   4.200 2.67e-05 ***\n",
      "pob15_64     0.097028   0.061757   1.571   0.1162    \n",
      "pob65_mas    0.075359   0.063004   1.196   0.2317    \n",
      "---\n",
      "Signif. codes:  0 '***' 0.001 '**' 0.01 '*' 0.05 '.' 0.1 ' ' 1\n",
      "\n",
      "(Dispersion parameter for binomial family taken to be 1)\n",
      "\n",
      "    Null deviance: 529.40  on 2903  degrees of freedom\n",
      "Residual deviance: 489.35  on 2893  degrees of freedom\n",
      "AIC: 511.35\n",
      "\n",
      "Number of Fisher Scoring iterations: 8\n",
      "\n",
      "\u001B[1m=== RESUMEN DE LOS RESULTADOS DE MATCHIT: ===\u001B[0m \n",
      "\n",
      "Call:\n",
      "matchit(formula = var_modelo, data = datos_colonias, method = \"nearest\", \n",
      "    distance = prs_df$pr_score)\n",
      "\n",
      "Summary of Balance for All Data:\n",
      "          Means Treated Means Control Std. Mean Diff. Var. Ratio eCDF Mean\n",
      "distance         0.0320        0.0180          0.6804     1.3482    0.2494\n",
      "hogjef_f         8.5094       11.5735         -0.4175     0.4303    0.0384\n",
      "hogjef_m        18.9057       21.4749         -0.1908     0.4903    0.0250\n",
      "graproes         9.2647        9.3526         -0.0922     0.1762    0.0774\n",
      "pea             50.1698       64.0702         -0.3729     0.4419    0.0523\n",
      "pe_inac         31.4151       37.8050         -0.2764     0.5315    0.0385\n",
      "pocupada        49.3774       62.6086         -0.3607     0.4454    0.0505\n",
      "pdesocup         0.2642        0.9670         -0.7293     0.1935    0.0247\n",
      "pob0_14         27.6604       28.7106         -0.0478     0.7419    0.0220\n",
      "pob15_64        70.1698       86.4963         -0.3130     0.5063    0.0505\n",
      "pob65_mas        6.1132        9.3578         -0.6079     0.3097    0.0544\n",
      "          eCDF Max\n",
      "distance    0.4708\n",
      "hogjef_f    0.1625\n",
      "hogjef_m    0.1222\n",
      "graproes    0.2427\n",
      "pea         0.2292\n",
      "pe_inac     0.1360\n",
      "pocupada    0.2278\n",
      "pdesocup    0.1287\n",
      "pob0_14     0.0794\n",
      "pob15_64    0.2240\n",
      "pob65_mas   0.2376\n",
      "\n",
      "Summary of Balance for Matched Data:\n",
      "          Means Treated Means Control Std. Mean Diff. Var. Ratio eCDF Mean\n",
      "distance         0.0320        0.0319          0.0038     1.0399    0.0004\n",
      "hogjef_f         8.5094        8.6792         -0.0231     1.1802    0.0191\n",
      "hogjef_m        18.9057       19.0000         -0.0070     1.1113    0.0156\n",
      "graproes         9.2647        9.4809         -0.2268     0.6243    0.0507\n",
      "pea             50.1698       49.5283          0.0172     1.4671    0.0258\n",
      "pe_inac         31.4151       31.2264          0.0082     1.1067    0.0153\n",
      "pocupada        49.3774       48.8491          0.0144     1.4347    0.0255\n",
      "pdesocup         0.2642        0.1509          0.1175     1.4730    0.0021\n",
      "pob0_14         27.6604       26.6038          0.0481     1.2514    0.0196\n",
      "pob15_64        70.1698       68.8491          0.0253     1.3853    0.0265\n",
      "pob65_mas        6.1132        6.8491         -0.1379     1.0411    0.0175\n",
      "          eCDF Max Std. Pair Dist.\n",
      "distance    0.0377          0.0064\n",
      "hogjef_f    0.1321          0.9897\n",
      "hogjef_m    0.1132          0.9204\n",
      "graproes    0.1887          1.2023\n",
      "pea         0.1132          0.8554\n",
      "pe_inac     0.0566          1.0137\n",
      "pocupada    0.1132          0.8631\n",
      "pdesocup    0.0377          0.4307\n",
      "pob0_14     0.0755          0.8969\n",
      "pob15_64    0.1132          0.9044\n",
      "pob65_mas   0.1509          0.9863\n",
      "\n",
      "Sample Sizes:\n",
      "          Control Treated\n",
      "All          2851      53\n",
      "Matched        53      53\n",
      "Unmatched    2798       0\n",
      "Discarded       0       0\n",
      "\n",
      "\u001B[1m=== NÚMERO DE MANZANAS MATCHEADAS: ===\u001B[0m 106 \n",
      "\u001B[1m=== NÚMERO DE MANZANAS MATCHEADAS SIN CONSIDERAR LOMAS DE SAN CARLOS: ===\u001B[0m 53 \n",
      "\u001B[1m=== AVERAGE TREATMENT EFFECT AMONG THE TREATED (ATT): ===\u001B[0m \n",
      "\u001B[1m=== GRUPO 0: ===\u001B[0m Grupo de control (simi = 0) \n",
      "\u001B[1m=== GRUPO 1: ===\u001B[0m Grupo de tratamiento (simi = 1) \n",
      "\u001B[1m=== RESULTADOS DE LA PRUEBA T: ===\u001B[0m \n",
      "\n",
      "\tWelch Two Sample t-test\n",
      "\n",
      "data:  imn_2020 by simi\n",
      "t = 4.2456, df = 52, p-value = 9.022e-05\n",
      "alternative hypothesis: true difference in means between group 0 and group 1 is not equal to 0\n",
      "95 percent confidence interval:\n",
      " 0.001441988 0.004026782\n",
      "sample estimates:\n",
      "mean in group 0 mean in group 1 \n",
      "      0.9459708       0.9432364 \n",
      "\n"
     ]
    },
    {
     "data": {
      "text/plain": [
       "plot without title"
      ],
      "image/png": "[encoded data removed]"
     },
     "metadata": {
      "image/png": {
       "width": 420,
       "height": 420
      }
     },
     "output_type": "display_data"
    }
   ],
   "execution_count": 14
  },
  {
   "cell_type": "markdown",
   "id": "80ff5150708e9913",
   "metadata": {},
   "source": [
    "#### Modelo logit con transformación de variables de población a logaritmos\n"
   ]
  },
  {
   "cell_type": "code",
   "id": "f4751aad9354d822",
   "metadata": {
    "ExecuteTime": {
     "end_time": "2024-11-14T17:25:53.628812Z",
     "start_time": "2024-11-14T17:25:53.365293Z"
    }
   },
   "source": [
    "propscorematch(var_modelo = var_modelo2, link_model = binomial(link = \"logit\"))"
   ],
   "outputs": [
    {
     "name": "stdout",
     "output_type": "stream",
     "text": [
      "\u001B[1m=== RESULTADOS DEL MODELO LOGIT : ===\u001B[0m \n",
      "\n",
      "Call:\n",
      "glm(formula = var_modelo, family = link_model, data = datos_colonias)\n",
      "\n",
      "Coefficients:\n",
      "                                           Estimate Std. Error z value Pr(>|z|)\n",
      "(Intercept)                                -4.38289    0.76387  -5.738  9.6e-09\n",
      "log(ifelse(hogjef_f == 0, 1, hogjef_f))    -0.43403    0.26996  -1.608  0.10789\n",
      "log(ifelse(hogjef_m == 0, 1, hogjef_m))     0.78198    0.60193   1.299  0.19391\n",
      "graproes                                   -0.07049    0.12107  -0.582  0.56040\n",
      "log(ifelse(pea == 0, 1, pea))             -11.46075    6.90339  -1.660  0.09688\n",
      "log(ifelse(pe_inac == 0, 1, pe_inac))      -1.53754    0.57039  -2.696  0.00703\n",
      "log(ifelse(pocupada == 0, 1, pocupada))     6.57813    6.56378   1.002  0.31625\n",
      "log(ifelse(pdesocup == 0, 1, pdesocup))    -0.63946    0.44995  -1.421  0.15526\n",
      "log(ifelse(pob0_14 == 0, 1, pob0_14))       1.18848    0.49305   2.410  0.01593\n",
      "log(ifelse(pob15_64 == 0, 1, pob15_64))     4.79161    1.68891   2.837  0.00455\n",
      "log(ifelse(pob65_mas == 0, 1, pob65_mas))   0.13247    0.22782   0.581  0.56091\n",
      "                                             \n",
      "(Intercept)                               ***\n",
      "log(ifelse(hogjef_f == 0, 1, hogjef_f))      \n",
      "log(ifelse(hogjef_m == 0, 1, hogjef_m))      \n",
      "graproes                                     \n",
      "log(ifelse(pea == 0, 1, pea))             .  \n",
      "log(ifelse(pe_inac == 0, 1, pe_inac))     ** \n",
      "log(ifelse(pocupada == 0, 1, pocupada))      \n",
      "log(ifelse(pdesocup == 0, 1, pdesocup))      \n",
      "log(ifelse(pob0_14 == 0, 1, pob0_14))     *  \n",
      "log(ifelse(pob15_64 == 0, 1, pob15_64))   ** \n",
      "log(ifelse(pob65_mas == 0, 1, pob65_mas))    \n",
      "---\n",
      "Signif. codes:  0 '***' 0.001 '**' 0.01 '*' 0.05 '.' 0.1 ' ' 1\n",
      "\n",
      "(Dispersion parameter for binomial family taken to be 1)\n",
      "\n",
      "    Null deviance: 529.40  on 2903  degrees of freedom\n",
      "Residual deviance: 494.57  on 2893  degrees of freedom\n",
      "AIC: 516.57\n",
      "\n",
      "Number of Fisher Scoring iterations: 8\n",
      "\n",
      "\u001B[1m=== RESUMEN DE LOS RESULTADOS DE MATCHIT: ===\u001B[0m \n",
      "\n",
      "Call:\n",
      "matchit(formula = var_modelo, data = datos_colonias, method = \"nearest\", \n",
      "    distance = prs_df$pr_score)\n",
      "\n",
      "Summary of Balance for All Data:\n",
      "                                          Means Treated Means Control\n",
      "distance                                         0.0329        0.0180\n",
      "log(ifelse(hogjef_f == 0, 1, hogjef_f))          1.7348        2.0589\n",
      "log(ifelse(hogjef_m == 0, 1, hogjef_m))          2.6884        2.7182\n",
      "graproes                                         9.2647        9.3526\n",
      "log(ifelse(pea == 0, 1, pea))                    3.6547        3.7824\n",
      "log(ifelse(pe_inac == 0, 1, pe_inac))            3.1531        3.2558\n",
      "log(ifelse(pocupada == 0, 1, pocupada))          3.6402        3.7593\n",
      "log(ifelse(pdesocup == 0, 1, pdesocup))          0.0926        0.2998\n",
      "log(ifelse(pob0_14 == 0, 1, pob0_14))            2.9911        2.9593\n",
      "log(ifelse(pob15_64 == 0, 1, pob15_64))          3.9930        4.0758\n",
      "log(ifelse(pob65_mas == 0, 1, pob65_mas))        1.4993        1.7981\n",
      "                                          Std. Mean Diff. Var. Ratio eCDF Mean\n",
      "distance                                           0.4535     3.9229    0.2250\n",
      "log(ifelse(hogjef_f == 0, 1, hogjef_f))           -0.3080     1.1525    0.0384\n",
      "log(ifelse(hogjef_m == 0, 1, hogjef_m))           -0.0391     0.6505    0.0250\n",
      "graproes                                          -0.0922     0.1762    0.0774\n",
      "log(ifelse(pea == 0, 1, pea))                     -0.1707     0.4863    0.0523\n",
      "log(ifelse(pe_inac == 0, 1, pe_inac))             -0.1187     0.6914    0.0385\n",
      "log(ifelse(pocupada == 0, 1, pocupada))           -0.1599     0.4846    0.0505\n",
      "log(ifelse(pdesocup == 0, 1, pdesocup))           -0.6228     0.2904    0.0247\n",
      "log(ifelse(pob0_14 == 0, 1, pob0_14))              0.0357     0.7329    0.0220\n",
      "log(ifelse(pob15_64 == 0, 1, pob15_64))           -0.1123     0.4381    0.0505\n",
      "log(ifelse(pob65_mas == 0, 1, pob65_mas))         -0.3287     0.7417    0.0544\n",
      "                                          eCDF Max\n",
      "distance                                    0.3800\n",
      "log(ifelse(hogjef_f == 0, 1, hogjef_f))     0.1625\n",
      "log(ifelse(hogjef_m == 0, 1, hogjef_m))     0.1222\n",
      "graproes                                    0.2427\n",
      "log(ifelse(pea == 0, 1, pea))               0.2292\n",
      "log(ifelse(pe_inac == 0, 1, pe_inac))       0.1360\n",
      "log(ifelse(pocupada == 0, 1, pocupada))     0.2278\n",
      "log(ifelse(pdesocup == 0, 1, pdesocup))     0.1287\n",
      "log(ifelse(pob0_14 == 0, 1, pob0_14))       0.0794\n",
      "log(ifelse(pob15_64 == 0, 1, pob15_64))     0.2240\n",
      "log(ifelse(pob65_mas == 0, 1, pob65_mas))   0.2376\n",
      "\n",
      "Summary of Balance for Matched Data:\n",
      "                                          Means Treated Means Control\n",
      "distance                                         0.0329        0.0319\n",
      "log(ifelse(hogjef_f == 0, 1, hogjef_f))          1.7348        1.8171\n",
      "log(ifelse(hogjef_m == 0, 1, hogjef_m))          2.6884        2.6826\n",
      "graproes                                         9.2647        9.7209\n",
      "log(ifelse(pea == 0, 1, pea))                    3.6547        3.7048\n",
      "log(ifelse(pe_inac == 0, 1, pe_inac))            3.1531        3.1872\n",
      "log(ifelse(pocupada == 0, 1, pocupada))          3.6402        3.6949\n",
      "log(ifelse(pdesocup == 0, 1, pdesocup))          0.0926        0.0622\n",
      "log(ifelse(pob0_14 == 0, 1, pob0_14))            2.9911        3.0596\n",
      "log(ifelse(pob15_64 == 0, 1, pob15_64))          3.9930        4.0431\n",
      "log(ifelse(pob65_mas == 0, 1, pob65_mas))        1.4993        1.4351\n",
      "                                          Std. Mean Diff. Var. Ratio eCDF Mean\n",
      "distance                                           0.0308     1.4443    0.0004\n",
      "log(ifelse(hogjef_f == 0, 1, hogjef_f))           -0.0783     1.1558    0.0131\n",
      "log(ifelse(hogjef_m == 0, 1, hogjef_m))            0.0075     0.8310    0.0142\n",
      "graproes                                          -0.4785     1.0205    0.0827\n",
      "log(ifelse(pea == 0, 1, pea))                     -0.0670     0.8716    0.0223\n",
      "log(ifelse(pe_inac == 0, 1, pe_inac))             -0.0394     0.7479    0.0226\n",
      "log(ifelse(pocupada == 0, 1, pocupada))           -0.0735     0.8654    0.0218\n",
      "log(ifelse(pdesocup == 0, 1, pdesocup))            0.0913     1.6854    0.0031\n",
      "log(ifelse(pob0_14 == 0, 1, pob0_14))             -0.0770     1.5105    0.0222\n",
      "log(ifelse(pob15_64 == 0, 1, pob15_64))           -0.0680     0.8646    0.0253\n",
      "log(ifelse(pob65_mas == 0, 1, pob65_mas))          0.0706     0.6616    0.0258\n",
      "                                          eCDF Max Std. Pair Dist.\n",
      "distance                                    0.0377          0.0319\n",
      "log(ifelse(hogjef_f == 0, 1, hogjef_f))     0.0566          0.8480\n",
      "log(ifelse(hogjef_m == 0, 1, hogjef_m))     0.0755          0.9785\n",
      "graproes                                    0.3208          1.2700\n",
      "log(ifelse(pea == 0, 1, pea))               0.1698          1.0006\n",
      "log(ifelse(pe_inac == 0, 1, pe_inac))       0.1321          0.9000\n",
      "log(ifelse(pocupada == 0, 1, pocupada))     0.1698          1.0083\n",
      "log(ifelse(pdesocup == 0, 1, pdesocup))     0.0189          0.3405\n",
      "log(ifelse(pob0_14 == 0, 1, pob0_14))       0.0943          0.8592\n",
      "log(ifelse(pob15_64 == 0, 1, pob15_64))     0.1698          0.9525\n",
      "log(ifelse(pob65_mas == 0, 1, pob65_mas))   0.1321          1.0577\n",
      "\n",
      "Sample Sizes:\n",
      "          Control Treated\n",
      "All          2851      53\n",
      "Matched        53      53\n",
      "Unmatched    2798       0\n",
      "Discarded       0       0\n",
      "\n",
      "\u001B[1m=== NÚMERO DE MANZANAS MATCHEADAS: ===\u001B[0m 106 \n",
      "\u001B[1m=== NÚMERO DE MANZANAS MATCHEADAS SIN CONSIDERAR LOMAS DE SAN CARLOS: ===\u001B[0m 53 \n",
      "\u001B[1m=== AVERAGE TREATMENT EFFECT AMONG THE TREATED (ATT): ===\u001B[0m \n",
      "\u001B[1m=== GRUPO 0: ===\u001B[0m Grupo de control (simi = 0) \n",
      "\u001B[1m=== GRUPO 1: ===\u001B[0m Grupo de tratamiento (simi = 1) \n",
      "\u001B[1m=== RESULTADOS DE LA PRUEBA T: ===\u001B[0m \n",
      "\n",
      "\tWelch Two Sample t-test\n",
      "\n",
      "data:  imn_2020 by simi\n",
      "t = 7.2188, df = 52, p-value = 2.216e-09\n",
      "alternative hypothesis: true difference in means between group 0 and group 1 is not equal to 0\n",
      "95 percent confidence interval:\n",
      " 0.002626684 0.004649188\n",
      "sample estimates:\n",
      "mean in group 0 mean in group 1 \n",
      "      0.9468743       0.9432364 \n",
      "\n"
     ]
    },
    {
     "data": {
      "text/plain": [
       "plot without title"
      ],
      "image/png": "[encoded data removed]"
     },
     "metadata": {
      "image/png": {
       "width": 420,
       "height": 420
      }
     },
     "output_type": "display_data"
    }
   ],
   "execution_count": 15
  }
 ],
 "metadata": {
  "kernelspec": {
   "display_name": "R",
   "language": "R",
   "name": "ir"
  },
  "language_info": {
   "codemirror_mode": "r",
   "file_extension": ".r",
   "mimetype": "text/x-r-source",
   "name": "R",
   "pygments_lexer": "r",
   "version": "4.4.1"
  }
 },
 "nbformat": 4,
 "nbformat_minor": 5
}
