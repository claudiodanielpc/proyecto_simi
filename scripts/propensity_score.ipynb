{
 "cells": [
  {
   "cell_type": "markdown",
   "id": "bb592c7302521f05",
   "metadata": {},
   "source": [
    "### Aplicación de propensity score matching\n",
    "\n"
   ]
  },
  {
   "cell_type": "code",
   "id": "initial_id",
   "metadata": {
    "collapsed": true,
    "jupyter": {
     "outputs_hidden": true
    },
    "ExecuteTime": {
     "end_time": "2024-12-06T14:26:31.484522Z",
     "start_time": "2024-12-06T14:26:31.469396Z"
    }
   },
   "source": [
    "##Borrar datos del entorno\n",
    "rm(list=ls())"
   ],
   "outputs": [],
   "execution_count": 1
  },
  {
   "cell_type": "code",
   "id": "f8093b5932c40803",
   "metadata": {
    "ExecuteTime": {
     "end_time": "2024-12-06T14:26:31.514147Z",
     "start_time": "2024-12-06T14:26:31.488327Z"
    }
   },
   "source": [
    "#Directorio de trabajo\n",
    "setwd(\"C:/Users/claud/Documents/GitHub/proyecto_simi\")"
   ],
   "outputs": [],
   "execution_count": 2
  },
  {
   "cell_type": "code",
   "id": "f0c34780850652e3",
   "metadata": {
    "ExecuteTime": {
     "end_time": "2024-12-06T14:26:31.963547Z",
     "start_time": "2024-12-06T14:26:31.517915Z"
    }
   },
   "source": [
    "if(!require('pacman')) install.packages('pacman')\n",
    "pacman::p_load(tidyverse,janitor,MatchIt,cobalt)"
   ],
   "outputs": [
    {
     "name": "stderr",
     "output_type": "stream",
     "text": [
      "Loading required package: pacman\n",
      "\n"
     ]
    }
   ],
   "execution_count": 3
  },
  {
   "cell_type": "markdown",
   "id": "d277d4d8027e5cfa",
   "metadata": {},
   "source": [
    "#### 1. Se crea función para realizar el modelo y el matching"
   ]
  },
  {
   "metadata": {
    "ExecuteTime": {
     "end_time": "2024-12-06T14:26:32.021066Z",
     "start_time": "2024-12-06T14:26:32.010138Z"
    }
   },
   "cell_type": "code",
   "source": [
    "propscorematch <- function(var_modelo, link_model, t_test_var) {\n",
    "  # Función para imprimir texto en negritas y mayúsculas\n",
    "  bold_text <- function(text) paste0(\"\\033[1m\", \"=== \", toupper(text), \" ===\", \"\\033[0m\")\n",
    "  \n",
    "  # Modelo GLM\n",
    "  modelo_glm <- glm(var_modelo, data = datos_colonias, family = link_model)\n",
    "  \n",
    "  # Impresión de resultados\n",
    "  model_type <- ifelse(link_model$link == \"logit\", \"Logit\", \n",
    "                       ifelse(link_model$link == \"probit\", \"Probit\", link_model$link))\n",
    "  cat(bold_text(paste(\"Resultados del modelo\", model_type, \":\")), \"\\n\")\n",
    "  summary_glm <- summary(modelo_glm)\n",
    "  print(summary_glm)\n",
    "  \n",
    "  # Generación de scores de propensión\n",
    "  prs_df <- data.frame(pr_score = predict(modelo_glm, type = \"response\"),\n",
    "                       simi = datos_colonias$simi)\n",
    "  \n",
    "  # MatchIt\n",
    "  matchit_out <- matchit(var_modelo, data = datos_colonias, method = \"nearest\", distance = prs_df$pr_score)\n",
    "\n",
    "  # Impresión de resultados de MatchIt\n",
    "  cat(bold_text(\"Resumen de los resultados de MatchIt:\"), \"\\n\")\n",
    "  summary_matchit <- summary(matchit_out)\n",
    "  print(summary_matchit)\n",
    "  \n",
    "  # Datos matcheados\n",
    "  datos_matcheados <- match.data(matchit_out)\n",
    "  \n",
    "  # Imprimiendo resultados\n",
    "  cat(bold_text(\"Número de manzanas matcheadas:\"), nrow(datos_matcheados), \"\\n\")\n",
    "  cat(bold_text(\"Número de manzanas matcheadas sin considerar Lomas de San Carlos:\"), \n",
    "      nrow(datos_matcheados[datos_matcheados$simi == 0, ]), \"\\n\")\n",
    "  \n",
    "    # Plot MatchIt\n",
    "  matchit_plot <- plot(summary_matchit)\n",
    "  # Definición de grupos para el t-test\n",
    "  group_0 <- \"Grupo de control (simi = 0)\"\n",
    "  group_1 <- \"Grupo de tratamiento (simi = 1)\"\n",
    "  \n",
    "  # Impresión del encabezado de los resultados del t-test\n",
    "  cat(bold_text(\"Average Treatment Effect among the Treated (ATT):\"), \"\\n\")\n",
    "  cat(bold_text(\"Grupo 0:\"), group_0, \"\\n\")\n",
    "  cat(bold_text(\"Grupo 1:\"), group_1, \"\\n\")\n",
    "  \n",
    "  # T-test\n",
    "  cat(bold_text(\"Resultados de la prueba t:\"), \"\\n\")\n",
    "  \n",
    "  \n",
    "  formula_t_test <- as.formula(paste(t_test_var, \"~ simi\"))\n",
    "  t_test_result <- t.test(formula_t_test, data = datos_matcheados)\n",
    "  print(t_test_result)\n",
    "  \n",
    "  # Calcular ATT\n",
    "  att <- mean(datos_matcheados[datos_matcheados$simi == 1, ][[t_test_var]]) -\n",
    "              mean(datos_matcheados[datos_matcheados$simi == 0, ][[t_test_var]])\n",
    "  \n",
    "\n",
    "  \n",
    "  # Calcular ATE\n",
    "  mean_treated <- mean(datos_colonias[datos_colonias$simi == 1, ][[t_test_var]])\n",
    "  mean_control <- mean(datos_colonias[datos_colonias$simi == 0, ][[t_test_var]])\n",
    "  ate <- mean_treated - mean_control\n",
    "  # Print\n",
    "  cat(bold_text(\"Medias del Grupo Tratamiento y Control para el Cálculo del ATE:\"), \"\\n\")\n",
    "  cat(bold_text(\"Para esto, se utilizan todos los datos, no solo los matcheados.\"), \"\\n\")\n",
    "  \n",
    "  cat(\"Media del Grupo Tratamiento (simi = 1):\", mean_treated, \"\\n\")\n",
    "  cat(\"Media del Grupo Control (simi = 0):\", mean_control, \"\\n\\n\\n\")\n",
    "  \n",
    "\n",
    "  cat(bold_text(\"Average Treatment Effect on the Treated (ATT):\"), \"\\n\")\n",
    "  cat(\"ATT =\", att, \"\\n\")\n",
    "  cat(bold_text(\"Average Treatment Effect (ATE):\"), \"\\n\")\n",
    "  cat(\"ATE =\", ate, \"\\n\")\n",
    "}\n"
   ],
   "id": "31db1324a981cfa8",
   "outputs": [],
   "execution_count": 5
  },
  {
   "cell_type": "markdown",
   "id": "be1c3870cf114dc5",
   "metadata": {},
   "source": [
    "#### 2. Se cargan los datos tanto de la colonia Simi como de las colonias \"similares\" y \n",
    "Se crea una dummy para identificar a qué grupo pertenece cada observación. Estos datos son a nivel manzana y corresponden a 67 colonias, considerando la colonia Lomas de San Carlos. La fuente de información es el Censo de Población y Vivienda 2020."
   ]
  },
  {
   "cell_type": "code",
   "id": "f660c9bcd94545ff",
   "metadata": {
    "ExecuteTime": {
     "end_time": "2024-12-06T14:26:32.407449Z",
     "start_time": "2024-12-06T14:26:32.028470Z"
    }
   },
   "source": [
    "#Cargar datos\n",
    "datos_colonias<-openxlsx::read.xlsx(\"G:/Mi unidad/proyecto_simi/indicadores_mza_col.xlsx\",sheet=2)%>%\n",
    "#Crea dummy para identificar si la manzana pertenece a colonia simi o no\n",
    "mutate(simi=case_when(colonia==\"Lomas de San Carlos\" ~ 1,\n",
    "                        TRUE ~ 0))\n",
    "str(datos_colonias)"
   ],
   "outputs": [
    {
     "name": "stdout",
     "output_type": "stream",
     "text": [
      "'data.frame':\t2904 obs. of  39 variables:\n",
      " $ cvegeo         : chr  \"0900500010258020\" \"0900500010258035\" \"0900500010258009\" \"0900500012574009\" ...\n",
      " $ cve_col        : chr  \"09005_0019\" \"09005_0019\" \"09005_0019\" \"09005_0019\" ...\n",
      " $ id_col         : num  17240 17240 17240 17240 17240 ...\n",
      " $ colonia        : chr  \"Benito Juarez\" \"Benito Juarez\" \"Benito Juarez\" \"Benito Juarez\" ...\n",
      " $ cve_ent        : chr  \"09\" \"09\" \"09\" \"09\" ...\n",
      " $ nom_ent        : chr  \"Ciudad de México\" \"Ciudad de México\" \"Ciudad de México\" \"Ciudad de México\" ...\n",
      " $ cve_mun        : chr  \"005\" \"005\" \"005\" \"005\" ...\n",
      " $ nom_mun        : chr  \"Gustavo A. Madero\" \"Gustavo A. Madero\" \"Gustavo A. Madero\" \"Gustavo A. Madero\" ...\n",
      " $ pobtot         : num  141 147 329 260 117 124 185 119 70 129 ...\n",
      " $ hogjef_f       : num  30 27 56 31 24 12 32 22 10 9 ...\n",
      " $ hogjef_m       : num  20 19 33 37 13 21 16 15 10 29 ...\n",
      " $ graproes       : num  8.91 9.19 8.75 8.44 8.34 ...\n",
      " $ pea            : num  77 68 155 117 50 58 87 63 39 56 ...\n",
      " $ pe_inac        : num  48 51 106 95 40 52 58 35 19 45 ...\n",
      " $ pocupada       : num  76 67 153 115 50 58 83 61 38 55 ...\n",
      " $ pdesocup       : num  0 0 0 0 0 0 4 0 0 0 ...\n",
      " $ pob0_14        : num  24 34 82 69 30 20 49 23 14 36 ...\n",
      " $ pob15_64       : num  104 97 214 170 69 88 127 83 47 81 ...\n",
      " $ pob65_mas      : num  13 16 33 21 18 16 9 13 9 12 ...\n",
      " $ vivtot         : num  53 46 92 71 38 36 50 40 20 39 ...\n",
      " $ pct_noasist    : num  0 0 0 0 0 0 0 0 0 0 ...\n",
      " $ pct_sinesc     : num  2.56 7.08 4.05 8.38 9.2 ...\n",
      " $ pct_analfa     : num  2.56 5.31 4.86 5.24 0 ...\n",
      " $ pct_sinder     : num  24.1 16.3 13.4 28.5 32.5 ...\n",
      " $ pct_pisot      : num  0 0 0 0 0 0 0 0 0 0 ...\n",
      " $ pct_excsa      : num  7.55 0 3.26 4.23 2.63 ...\n",
      " $ pct_nodren     : num  0 0 0 0 0 0 0 0 0 0 ...\n",
      " $ pct_1dor       : num  50.9 45.7 35.9 32.4 52.6 ...\n",
      " $ pct_1cuart     : num  5.66 0 7.61 4.23 0 ...\n",
      " $ pct_sinelec    : num  0 0 0 0 0 0 0 0 0 0 ...\n",
      " $ pct_sinagua    : num  0 0 0 0 0 0 0 0 0 0 ...\n",
      " $ pct_tinaco     : num  88.7 97.8 78.3 74.6 92.1 ...\n",
      " $ pct_cister     : num  22.64 6.52 18.48 14.08 0 ...\n",
      " $ pct_celular    : num  79.2 60.9 80.4 84.5 57.9 ...\n",
      " $ pct_internet   : num  71.7 47.8 59.8 50.7 57.9 ...\n",
      " $ pct_computadora: num  34 30.4 33.7 39.4 31.6 ...\n",
      " $ pct_tv_paga    : num  32.1 21.7 34.8 21.1 10.5 ...\n",
      " $ pct_videos     : num  18.87 15.22 22.83 8.45 0 ...\n",
      " $ simi           : num  0 0 0 0 0 0 0 0 0 0 ...\n"
     ]
    }
   ],
   "execution_count": 6
  },
  {
   "cell_type": "code",
   "id": "22c3657db5f339f5",
   "metadata": {
    "ExecuteTime": {
     "end_time": "2024-12-06T14:26:32.504555Z",
     "start_time": "2024-12-06T14:26:32.422538Z"
    }
   },
   "source": [
    "#Contar unos y ceros de la dummy\n",
    "datos_colonias%>%\n",
    "    count(simi)"
   ],
   "outputs": [
    {
     "data": {
      "text/html": [
       "<table class=\"dataframe\">\n",
       "<caption>A data.frame: 2 × 2</caption>\n",
       "<thead>\n",
       "\t<tr><th scope=col>simi</th><th scope=col>n</th></tr>\n",
       "\t<tr><th scope=col>&lt;dbl&gt;</th><th scope=col>&lt;int&gt;</th></tr>\n",
       "</thead>\n",
       "<tbody>\n",
       "\t<tr><td>0</td><td>2851</td></tr>\n",
       "\t<tr><td>1</td><td>  53</td></tr>\n",
       "</tbody>\n",
       "</table>\n"
      ],
      "text/markdown": "\nA data.frame: 2 × 2\n\n| simi &lt;dbl&gt; | n &lt;int&gt; |\n|---|---|\n| 0 | 2851 |\n| 1 |   53 |\n\n",
      "text/latex": "A data.frame: 2 × 2\n\\begin{tabular}{ll}\n simi & n\\\\\n <dbl> & <int>\\\\\n\\hline\n\t 0 & 2851\\\\\n\t 1 &   53\\\\\n\\end{tabular}\n",
      "text/plain": [
       "  simi n   \n",
       "1 0    2851\n",
       "2 1      53"
      ]
     },
     "metadata": {},
     "output_type": "display_data"
    }
   ],
   "execution_count": 7
  },
  {
   "cell_type": "markdown",
   "id": "c8097430bd08d196",
   "metadata": {},
   "source": [
    "#### 2. Se utilizan datos de marginación. \n",
    "Se busca con ello unir los datos de marginación a nivel colonia con los datos de las manzanas de las colonias seleccionadas. Es importante mencionar que si bien los datos de marginación son a nivel colonia, se asume que, a nivel manzana, son homogéneos. La idea es utilizar el índice de marginación como variable de interés para estimar el efecto del tratamiento."
   ]
  },
  {
   "cell_type": "code",
   "id": "5cf5179a47bd59a4",
   "metadata": {
    "ExecuteTime": {
     "end_time": "2024-12-06T14:26:38.886037Z",
     "start_time": "2024-12-06T14:26:32.519247Z"
    }
   },
   "source": [
    "#Se descargan datos de marginación de CONAPO\n",
    "\n",
    "\n",
    "url_conapo=\"http://www.conapo.gob.mx/work/models/CONAPO/Marginacion/Datos_Abiertos/Colonia/IMC_2020.zip\"\n",
    "\n",
    "download.file(url_conapo, destfile = \"data/IMC_2020.zip\")\n",
    "\n",
    "unzip(\"data/IMC_2020.zip\", exdir = \"data/IMC_2020\")\n"
   ],
   "outputs": [],
   "execution_count": 8
  },
  {
   "cell_type": "code",
   "id": "1fa354779db5dafe",
   "metadata": {
    "ExecuteTime": {
     "end_time": "2024-12-06T14:26:43.386682Z",
     "start_time": "2024-12-06T14:26:38.891933Z"
    }
   },
   "source": [
    "#Se leen los datos y se filtra para CDMX y EdoMex\n",
    "datos_marginacion<-openxlsx::read.xlsx(\"data/IMC_2020/IMUC_2020.xlsx\",sheet=1, \n",
    "                                        startRow = 4)%>%\n",
    "janitor::clean_names()%>%\n",
    "filter(cve_ent==\"09\" | cve_ent==\"15\")%>%\n",
    "select(cve_col,imn_2020)"
   ],
   "outputs": [],
   "execution_count": 9
  },
  {
   "cell_type": "code",
   "id": "8678666f692063ea",
   "metadata": {
    "ExecuteTime": {
     "end_time": "2024-12-06T14:26:43.427114Z",
     "start_time": "2024-12-06T14:26:43.392745Z"
    }
   },
   "source": [
    "#Se unen los datos de marginación a los de las manzanas de las colonias seleccionadas\n",
    "datos_colonias<-datos_colonias%>%\n",
    "left_join(datos_marginacion, by=c(\"cve_col\"=\"cve_col\"))\n",
    "head(datos_colonias,10)"
   ],
   "outputs": [
    {
     "data": {
      "text/html": [
       "<table class=\"dataframe\">\n",
       "<caption>A data.frame: 10 × 40</caption>\n",
       "<thead>\n",
       "\t<tr><th></th><th scope=col>cvegeo</th><th scope=col>cve_col</th><th scope=col>id_col</th><th scope=col>colonia</th><th scope=col>cve_ent</th><th scope=col>nom_ent</th><th scope=col>cve_mun</th><th scope=col>nom_mun</th><th scope=col>pobtot</th><th scope=col>hogjef_f</th><th scope=col>⋯</th><th scope=col>pct_sinagua</th><th scope=col>pct_tinaco</th><th scope=col>pct_cister</th><th scope=col>pct_celular</th><th scope=col>pct_internet</th><th scope=col>pct_computadora</th><th scope=col>pct_tv_paga</th><th scope=col>pct_videos</th><th scope=col>simi</th><th scope=col>imn_2020</th></tr>\n",
       "\t<tr><th></th><th scope=col>&lt;chr&gt;</th><th scope=col>&lt;chr&gt;</th><th scope=col>&lt;dbl&gt;</th><th scope=col>&lt;chr&gt;</th><th scope=col>&lt;chr&gt;</th><th scope=col>&lt;chr&gt;</th><th scope=col>&lt;chr&gt;</th><th scope=col>&lt;chr&gt;</th><th scope=col>&lt;dbl&gt;</th><th scope=col>&lt;dbl&gt;</th><th scope=col>⋯</th><th scope=col>&lt;dbl&gt;</th><th scope=col>&lt;dbl&gt;</th><th scope=col>&lt;dbl&gt;</th><th scope=col>&lt;dbl&gt;</th><th scope=col>&lt;dbl&gt;</th><th scope=col>&lt;dbl&gt;</th><th scope=col>&lt;dbl&gt;</th><th scope=col>&lt;dbl&gt;</th><th scope=col>&lt;dbl&gt;</th><th scope=col>&lt;dbl&gt;</th></tr>\n",
       "</thead>\n",
       "<tbody>\n",
       "\t<tr><th scope=row>1</th><td>0900500010258020</td><td>09005_0019</td><td>17240</td><td>Benito Juarez</td><td>09</td><td>Ciudad de México</td><td>005</td><td>Gustavo A. Madero</td><td>141</td><td>30</td><td>⋯</td><td>0</td><td>88.67925</td><td>22.641509</td><td>79.24528</td><td>71.69811</td><td>33.96226</td><td>32.07547</td><td>18.867925</td><td>0</td><td>0.9519898</td></tr>\n",
       "\t<tr><th scope=row>2</th><td>0900500010258035</td><td>09005_0019</td><td>17240</td><td>Benito Juarez</td><td>09</td><td>Ciudad de México</td><td>005</td><td>Gustavo A. Madero</td><td>147</td><td>27</td><td>⋯</td><td>0</td><td>97.82609</td><td> 6.521739</td><td>60.86957</td><td>47.82609</td><td>30.43478</td><td>21.73913</td><td>15.217391</td><td>0</td><td>0.9519898</td></tr>\n",
       "\t<tr><th scope=row>3</th><td>0900500010258009</td><td>09005_0019</td><td>17240</td><td>Benito Juarez</td><td>09</td><td>Ciudad de México</td><td>005</td><td>Gustavo A. Madero</td><td>329</td><td>56</td><td>⋯</td><td>0</td><td>78.26087</td><td>18.478261</td><td>80.43478</td><td>59.78261</td><td>33.69565</td><td>34.78261</td><td>22.826087</td><td>0</td><td>0.9519898</td></tr>\n",
       "\t<tr><th scope=row>4</th><td>0900500012574009</td><td>09005_0019</td><td>17240</td><td>Benito Juarez</td><td>09</td><td>Ciudad de México</td><td>005</td><td>Gustavo A. Madero</td><td>260</td><td>31</td><td>⋯</td><td>0</td><td>74.64789</td><td>14.084507</td><td>84.50704</td><td>50.70423</td><td>39.43662</td><td>21.12676</td><td> 8.450704</td><td>0</td><td>0.9519898</td></tr>\n",
       "\t<tr><th scope=row>5</th><td>0900500010258019</td><td>09005_0019</td><td>17240</td><td>Benito Juarez</td><td>09</td><td>Ciudad de México</td><td>005</td><td>Gustavo A. Madero</td><td>117</td><td>24</td><td>⋯</td><td>0</td><td>92.10526</td><td> 0.000000</td><td>57.89474</td><td>57.89474</td><td>31.57895</td><td>10.52632</td><td> 0.000000</td><td>0</td><td>0.9519898</td></tr>\n",
       "\t<tr><th scope=row>6</th><td>0900500012574010</td><td>09005_0019</td><td>17240</td><td>Benito Juarez</td><td>09</td><td>Ciudad de México</td><td>005</td><td>Gustavo A. Madero</td><td>124</td><td>12</td><td>⋯</td><td>0</td><td>83.33333</td><td>25.000000</td><td>77.77778</td><td>58.33333</td><td>38.88889</td><td>41.66667</td><td>13.888889</td><td>0</td><td>0.9519898</td></tr>\n",
       "\t<tr><th scope=row>7</th><td>0900500010258001</td><td>09005_0019</td><td>17240</td><td>Benito Juarez</td><td>09</td><td>Ciudad de México</td><td>005</td><td>Gustavo A. Madero</td><td>185</td><td>32</td><td>⋯</td><td>0</td><td>84.00000</td><td>28.000000</td><td>88.00000</td><td>58.00000</td><td>44.00000</td><td>46.00000</td><td>24.000000</td><td>0</td><td>0.9519898</td></tr>\n",
       "\t<tr><th scope=row>8</th><td>0900500010258045</td><td>09005_0019</td><td>17240</td><td>Benito Juarez</td><td>09</td><td>Ciudad de México</td><td>005</td><td>Gustavo A. Madero</td><td>119</td><td>22</td><td>⋯</td><td>0</td><td>92.50000</td><td> 0.000000</td><td>65.00000</td><td>62.50000</td><td>30.00000</td><td>32.50000</td><td>15.000000</td><td>0</td><td>0.9519898</td></tr>\n",
       "\t<tr><th scope=row>9</th><td>0900500010258002</td><td>09005_0019</td><td>17240</td><td>Benito Juarez</td><td>09</td><td>Ciudad de México</td><td>005</td><td>Gustavo A. Madero</td><td> 70</td><td>10</td><td>⋯</td><td>0</td><td>95.00000</td><td> 0.000000</td><td>90.00000</td><td>45.00000</td><td>40.00000</td><td>25.00000</td><td> 0.000000</td><td>0</td><td>0.9519898</td></tr>\n",
       "\t<tr><th scope=row>10</th><td>0900500012574038</td><td>09005_0019</td><td>17240</td><td>Benito Juarez</td><td>09</td><td>Ciudad de México</td><td>005</td><td>Gustavo A. Madero</td><td>129</td><td> 9</td><td>⋯</td><td>0</td><td>64.10256</td><td> 0.000000</td><td>84.61538</td><td>43.58974</td><td>25.64103</td><td>15.38462</td><td> 7.692308</td><td>0</td><td>0.9519898</td></tr>\n",
       "</tbody>\n",
       "</table>\n"
      ],
      "text/markdown": "\nA data.frame: 10 × 40\n\n| <!--/--> | cvegeo &lt;chr&gt; | cve_col &lt;chr&gt; | id_col &lt;dbl&gt; | colonia &lt;chr&gt; | cve_ent &lt;chr&gt; | nom_ent &lt;chr&gt; | cve_mun &lt;chr&gt; | nom_mun &lt;chr&gt; | pobtot &lt;dbl&gt; | hogjef_f &lt;dbl&gt; | ⋯ ⋯ | pct_sinagua &lt;dbl&gt; | pct_tinaco &lt;dbl&gt; | pct_cister &lt;dbl&gt; | pct_celular &lt;dbl&gt; | pct_internet &lt;dbl&gt; | pct_computadora &lt;dbl&gt; | pct_tv_paga &lt;dbl&gt; | pct_videos &lt;dbl&gt; | simi &lt;dbl&gt; | imn_2020 &lt;dbl&gt; |\n|---|---|---|---|---|---|---|---|---|---|---|---|---|---|---|---|---|---|---|---|---|---|\n| 1 | 0900500010258020 | 09005_0019 | 17240 | Benito Juarez | 09 | Ciudad de México | 005 | Gustavo A. Madero | 141 | 30 | ⋯ | 0 | 88.67925 | 22.641509 | 79.24528 | 71.69811 | 33.96226 | 32.07547 | 18.867925 | 0 | 0.9519898 |\n| 2 | 0900500010258035 | 09005_0019 | 17240 | Benito Juarez | 09 | Ciudad de México | 005 | Gustavo A. Madero | 147 | 27 | ⋯ | 0 | 97.82609 |  6.521739 | 60.86957 | 47.82609 | 30.43478 | 21.73913 | 15.217391 | 0 | 0.9519898 |\n| 3 | 0900500010258009 | 09005_0019 | 17240 | Benito Juarez | 09 | Ciudad de México | 005 | Gustavo A. Madero | 329 | 56 | ⋯ | 0 | 78.26087 | 18.478261 | 80.43478 | 59.78261 | 33.69565 | 34.78261 | 22.826087 | 0 | 0.9519898 |\n| 4 | 0900500012574009 | 09005_0019 | 17240 | Benito Juarez | 09 | Ciudad de México | 005 | Gustavo A. Madero | 260 | 31 | ⋯ | 0 | 74.64789 | 14.084507 | 84.50704 | 50.70423 | 39.43662 | 21.12676 |  8.450704 | 0 | 0.9519898 |\n| 5 | 0900500010258019 | 09005_0019 | 17240 | Benito Juarez | 09 | Ciudad de México | 005 | Gustavo A. Madero | 117 | 24 | ⋯ | 0 | 92.10526 |  0.000000 | 57.89474 | 57.89474 | 31.57895 | 10.52632 |  0.000000 | 0 | 0.9519898 |\n| 6 | 0900500012574010 | 09005_0019 | 17240 | Benito Juarez | 09 | Ciudad de México | 005 | Gustavo A. Madero | 124 | 12 | ⋯ | 0 | 83.33333 | 25.000000 | 77.77778 | 58.33333 | 38.88889 | 41.66667 | 13.888889 | 0 | 0.9519898 |\n| 7 | 0900500010258001 | 09005_0019 | 17240 | Benito Juarez | 09 | Ciudad de México | 005 | Gustavo A. Madero | 185 | 32 | ⋯ | 0 | 84.00000 | 28.000000 | 88.00000 | 58.00000 | 44.00000 | 46.00000 | 24.000000 | 0 | 0.9519898 |\n| 8 | 0900500010258045 | 09005_0019 | 17240 | Benito Juarez | 09 | Ciudad de México | 005 | Gustavo A. Madero | 119 | 22 | ⋯ | 0 | 92.50000 |  0.000000 | 65.00000 | 62.50000 | 30.00000 | 32.50000 | 15.000000 | 0 | 0.9519898 |\n| 9 | 0900500010258002 | 09005_0019 | 17240 | Benito Juarez | 09 | Ciudad de México | 005 | Gustavo A. Madero |  70 | 10 | ⋯ | 0 | 95.00000 |  0.000000 | 90.00000 | 45.00000 | 40.00000 | 25.00000 |  0.000000 | 0 | 0.9519898 |\n| 10 | 0900500012574038 | 09005_0019 | 17240 | Benito Juarez | 09 | Ciudad de México | 005 | Gustavo A. Madero | 129 |  9 | ⋯ | 0 | 64.10256 |  0.000000 | 84.61538 | 43.58974 | 25.64103 | 15.38462 |  7.692308 | 0 | 0.9519898 |\n\n",
      "text/latex": "A data.frame: 10 × 40\n\\begin{tabular}{r|lllllllllllllllllllll}\n  & cvegeo & cve\\_col & id\\_col & colonia & cve\\_ent & nom\\_ent & cve\\_mun & nom\\_mun & pobtot & hogjef\\_f & ⋯ & pct\\_sinagua & pct\\_tinaco & pct\\_cister & pct\\_celular & pct\\_internet & pct\\_computadora & pct\\_tv\\_paga & pct\\_videos & simi & imn\\_2020\\\\\n  & <chr> & <chr> & <dbl> & <chr> & <chr> & <chr> & <chr> & <chr> & <dbl> & <dbl> & ⋯ & <dbl> & <dbl> & <dbl> & <dbl> & <dbl> & <dbl> & <dbl> & <dbl> & <dbl> & <dbl>\\\\\n\\hline\n\t1 & 0900500010258020 & 09005\\_0019 & 17240 & Benito Juarez & 09 & Ciudad de México & 005 & Gustavo A. Madero & 141 & 30 & ⋯ & 0 & 88.67925 & 22.641509 & 79.24528 & 71.69811 & 33.96226 & 32.07547 & 18.867925 & 0 & 0.9519898\\\\\n\t2 & 0900500010258035 & 09005\\_0019 & 17240 & Benito Juarez & 09 & Ciudad de México & 005 & Gustavo A. Madero & 147 & 27 & ⋯ & 0 & 97.82609 &  6.521739 & 60.86957 & 47.82609 & 30.43478 & 21.73913 & 15.217391 & 0 & 0.9519898\\\\\n\t3 & 0900500010258009 & 09005\\_0019 & 17240 & Benito Juarez & 09 & Ciudad de México & 005 & Gustavo A. Madero & 329 & 56 & ⋯ & 0 & 78.26087 & 18.478261 & 80.43478 & 59.78261 & 33.69565 & 34.78261 & 22.826087 & 0 & 0.9519898\\\\\n\t4 & 0900500012574009 & 09005\\_0019 & 17240 & Benito Juarez & 09 & Ciudad de México & 005 & Gustavo A. Madero & 260 & 31 & ⋯ & 0 & 74.64789 & 14.084507 & 84.50704 & 50.70423 & 39.43662 & 21.12676 &  8.450704 & 0 & 0.9519898\\\\\n\t5 & 0900500010258019 & 09005\\_0019 & 17240 & Benito Juarez & 09 & Ciudad de México & 005 & Gustavo A. Madero & 117 & 24 & ⋯ & 0 & 92.10526 &  0.000000 & 57.89474 & 57.89474 & 31.57895 & 10.52632 &  0.000000 & 0 & 0.9519898\\\\\n\t6 & 0900500012574010 & 09005\\_0019 & 17240 & Benito Juarez & 09 & Ciudad de México & 005 & Gustavo A. Madero & 124 & 12 & ⋯ & 0 & 83.33333 & 25.000000 & 77.77778 & 58.33333 & 38.88889 & 41.66667 & 13.888889 & 0 & 0.9519898\\\\\n\t7 & 0900500010258001 & 09005\\_0019 & 17240 & Benito Juarez & 09 & Ciudad de México & 005 & Gustavo A. Madero & 185 & 32 & ⋯ & 0 & 84.00000 & 28.000000 & 88.00000 & 58.00000 & 44.00000 & 46.00000 & 24.000000 & 0 & 0.9519898\\\\\n\t8 & 0900500010258045 & 09005\\_0019 & 17240 & Benito Juarez & 09 & Ciudad de México & 005 & Gustavo A. Madero & 119 & 22 & ⋯ & 0 & 92.50000 &  0.000000 & 65.00000 & 62.50000 & 30.00000 & 32.50000 & 15.000000 & 0 & 0.9519898\\\\\n\t9 & 0900500010258002 & 09005\\_0019 & 17240 & Benito Juarez & 09 & Ciudad de México & 005 & Gustavo A. Madero &  70 & 10 & ⋯ & 0 & 95.00000 &  0.000000 & 90.00000 & 45.00000 & 40.00000 & 25.00000 &  0.000000 & 0 & 0.9519898\\\\\n\t10 & 0900500012574038 & 09005\\_0019 & 17240 & Benito Juarez & 09 & Ciudad de México & 005 & Gustavo A. Madero & 129 &  9 & ⋯ & 0 & 64.10256 &  0.000000 & 84.61538 & 43.58974 & 25.64103 & 15.38462 &  7.692308 & 0 & 0.9519898\\\\\n\\end{tabular}\n",
      "text/plain": [
       "   cvegeo           cve_col    id_col colonia       cve_ent nom_ent         \n",
       "1  0900500010258020 09005_0019 17240  Benito Juarez 09      Ciudad de México\n",
       "2  0900500010258035 09005_0019 17240  Benito Juarez 09      Ciudad de México\n",
       "3  0900500010258009 09005_0019 17240  Benito Juarez 09      Ciudad de México\n",
       "4  0900500012574009 09005_0019 17240  Benito Juarez 09      Ciudad de México\n",
       "5  0900500010258019 09005_0019 17240  Benito Juarez 09      Ciudad de México\n",
       "6  0900500012574010 09005_0019 17240  Benito Juarez 09      Ciudad de México\n",
       "7  0900500010258001 09005_0019 17240  Benito Juarez 09      Ciudad de México\n",
       "8  0900500010258045 09005_0019 17240  Benito Juarez 09      Ciudad de México\n",
       "9  0900500010258002 09005_0019 17240  Benito Juarez 09      Ciudad de México\n",
       "10 0900500012574038 09005_0019 17240  Benito Juarez 09      Ciudad de México\n",
       "   cve_mun nom_mun           pobtot hogjef_f ⋯ pct_sinagua pct_tinaco\n",
       "1  005     Gustavo A. Madero 141    30       ⋯ 0           88.67925  \n",
       "2  005     Gustavo A. Madero 147    27       ⋯ 0           97.82609  \n",
       "3  005     Gustavo A. Madero 329    56       ⋯ 0           78.26087  \n",
       "4  005     Gustavo A. Madero 260    31       ⋯ 0           74.64789  \n",
       "5  005     Gustavo A. Madero 117    24       ⋯ 0           92.10526  \n",
       "6  005     Gustavo A. Madero 124    12       ⋯ 0           83.33333  \n",
       "7  005     Gustavo A. Madero 185    32       ⋯ 0           84.00000  \n",
       "8  005     Gustavo A. Madero 119    22       ⋯ 0           92.50000  \n",
       "9  005     Gustavo A. Madero  70    10       ⋯ 0           95.00000  \n",
       "10 005     Gustavo A. Madero 129     9       ⋯ 0           64.10256  \n",
       "   pct_cister pct_celular pct_internet pct_computadora pct_tv_paga pct_videos\n",
       "1  22.641509  79.24528    71.69811     33.96226        32.07547    18.867925 \n",
       "2   6.521739  60.86957    47.82609     30.43478        21.73913    15.217391 \n",
       "3  18.478261  80.43478    59.78261     33.69565        34.78261    22.826087 \n",
       "4  14.084507  84.50704    50.70423     39.43662        21.12676     8.450704 \n",
       "5   0.000000  57.89474    57.89474     31.57895        10.52632     0.000000 \n",
       "6  25.000000  77.77778    58.33333     38.88889        41.66667    13.888889 \n",
       "7  28.000000  88.00000    58.00000     44.00000        46.00000    24.000000 \n",
       "8   0.000000  65.00000    62.50000     30.00000        32.50000    15.000000 \n",
       "9   0.000000  90.00000    45.00000     40.00000        25.00000     0.000000 \n",
       "10  0.000000  84.61538    43.58974     25.64103        15.38462     7.692308 \n",
       "   simi imn_2020 \n",
       "1  0    0.9519898\n",
       "2  0    0.9519898\n",
       "3  0    0.9519898\n",
       "4  0    0.9519898\n",
       "5  0    0.9519898\n",
       "6  0    0.9519898\n",
       "7  0    0.9519898\n",
       "8  0    0.9519898\n",
       "9  0    0.9519898\n",
       "10 0    0.9519898"
      ]
     },
     "metadata": {},
     "output_type": "display_data"
    }
   ],
   "execution_count": 10
  },
  {
   "metadata": {
    "ExecuteTime": {
     "end_time": "2024-12-06T14:26:43.453712Z",
     "start_time": "2024-12-06T14:26:43.439402Z"
    }
   },
   "cell_type": "code",
   "source": [
    "#Variables que componen la tabla\n",
    "names(datos_colonias)"
   ],
   "id": "bd7feceb5ad8b056",
   "outputs": [
    {
     "data": {
      "text/html": [
       "<style>\n",
       ".list-inline {list-style: none; margin:0; padding: 0}\n",
       ".list-inline>li {display: inline-block}\n",
       ".list-inline>li:not(:last-child)::after {content: \"\\00b7\"; padding: 0 .5ex}\n",
       "</style>\n",
       "<ol class=list-inline><li>'cvegeo'</li><li>'cve_col'</li><li>'id_col'</li><li>'colonia'</li><li>'cve_ent'</li><li>'nom_ent'</li><li>'cve_mun'</li><li>'nom_mun'</li><li>'pobtot'</li><li>'hogjef_f'</li><li>'hogjef_m'</li><li>'graproes'</li><li>'pea'</li><li>'pe_inac'</li><li>'pocupada'</li><li>'pdesocup'</li><li>'pob0_14'</li><li>'pob15_64'</li><li>'pob65_mas'</li><li>'vivtot'</li><li>'pct_noasist'</li><li>'pct_sinesc'</li><li>'pct_analfa'</li><li>'pct_sinder'</li><li>'pct_pisot'</li><li>'pct_excsa'</li><li>'pct_nodren'</li><li>'pct_1dor'</li><li>'pct_1cuart'</li><li>'pct_sinelec'</li><li>'pct_sinagua'</li><li>'pct_tinaco'</li><li>'pct_cister'</li><li>'pct_celular'</li><li>'pct_internet'</li><li>'pct_computadora'</li><li>'pct_tv_paga'</li><li>'pct_videos'</li><li>'simi'</li><li>'imn_2020'</li></ol>\n"
      ],
      "text/markdown": "1. 'cvegeo'\n2. 'cve_col'\n3. 'id_col'\n4. 'colonia'\n5. 'cve_ent'\n6. 'nom_ent'\n7. 'cve_mun'\n8. 'nom_mun'\n9. 'pobtot'\n10. 'hogjef_f'\n11. 'hogjef_m'\n12. 'graproes'\n13. 'pea'\n14. 'pe_inac'\n15. 'pocupada'\n16. 'pdesocup'\n17. 'pob0_14'\n18. 'pob15_64'\n19. 'pob65_mas'\n20. 'vivtot'\n21. 'pct_noasist'\n22. 'pct_sinesc'\n23. 'pct_analfa'\n24. 'pct_sinder'\n25. 'pct_pisot'\n26. 'pct_excsa'\n27. 'pct_nodren'\n28. 'pct_1dor'\n29. 'pct_1cuart'\n30. 'pct_sinelec'\n31. 'pct_sinagua'\n32. 'pct_tinaco'\n33. 'pct_cister'\n34. 'pct_celular'\n35. 'pct_internet'\n36. 'pct_computadora'\n37. 'pct_tv_paga'\n38. 'pct_videos'\n39. 'simi'\n40. 'imn_2020'\n\n\n",
      "text/latex": "\\begin{enumerate*}\n\\item 'cvegeo'\n\\item 'cve\\_col'\n\\item 'id\\_col'\n\\item 'colonia'\n\\item 'cve\\_ent'\n\\item 'nom\\_ent'\n\\item 'cve\\_mun'\n\\item 'nom\\_mun'\n\\item 'pobtot'\n\\item 'hogjef\\_f'\n\\item 'hogjef\\_m'\n\\item 'graproes'\n\\item 'pea'\n\\item 'pe\\_inac'\n\\item 'pocupada'\n\\item 'pdesocup'\n\\item 'pob0\\_14'\n\\item 'pob15\\_64'\n\\item 'pob65\\_mas'\n\\item 'vivtot'\n\\item 'pct\\_noasist'\n\\item 'pct\\_sinesc'\n\\item 'pct\\_analfa'\n\\item 'pct\\_sinder'\n\\item 'pct\\_pisot'\n\\item 'pct\\_excsa'\n\\item 'pct\\_nodren'\n\\item 'pct\\_1dor'\n\\item 'pct\\_1cuart'\n\\item 'pct\\_sinelec'\n\\item 'pct\\_sinagua'\n\\item 'pct\\_tinaco'\n\\item 'pct\\_cister'\n\\item 'pct\\_celular'\n\\item 'pct\\_internet'\n\\item 'pct\\_computadora'\n\\item 'pct\\_tv\\_paga'\n\\item 'pct\\_videos'\n\\item 'simi'\n\\item 'imn\\_2020'\n\\end{enumerate*}\n",
      "text/plain": [
       " [1] \"cvegeo\"          \"cve_col\"         \"id_col\"          \"colonia\"        \n",
       " [5] \"cve_ent\"         \"nom_ent\"         \"cve_mun\"         \"nom_mun\"        \n",
       " [9] \"pobtot\"          \"hogjef_f\"        \"hogjef_m\"        \"graproes\"       \n",
       "[13] \"pea\"             \"pe_inac\"         \"pocupada\"        \"pdesocup\"       \n",
       "[17] \"pob0_14\"         \"pob15_64\"        \"pob65_mas\"       \"vivtot\"         \n",
       "[21] \"pct_noasist\"     \"pct_sinesc\"      \"pct_analfa\"      \"pct_sinder\"     \n",
       "[25] \"pct_pisot\"       \"pct_excsa\"       \"pct_nodren\"      \"pct_1dor\"       \n",
       "[29] \"pct_1cuart\"      \"pct_sinelec\"     \"pct_sinagua\"     \"pct_tinaco\"     \n",
       "[33] \"pct_cister\"      \"pct_celular\"     \"pct_internet\"    \"pct_computadora\"\n",
       "[37] \"pct_tv_paga\"     \"pct_videos\"      \"simi\"            \"imn_2020\"       "
      ]
     },
     "metadata": {},
     "output_type": "display_data"
    }
   ],
   "execution_count": 11
  },
  {
   "cell_type": "markdown",
   "id": "f598a2fa71242b45",
   "metadata": {},
   "source": [
    "#### 3. Se inspeccionan las variables para ver si es necesario realizar alguna transformación"
   ]
  },
  {
   "cell_type": "code",
   "id": "f178b29f44cffabd",
   "metadata": {
    "ExecuteTime": {
     "end_time": "2024-12-06T14:26:44.016773Z",
     "start_time": "2024-12-06T14:26:43.580540Z"
    }
   },
   "source": [
    "\n",
    "# Inspección de variables\n",
    "datos_colonias %>%\n",
    "  select(hogjef_f, hogjef_m, graproes, pea, pe_inac, pocupada, pdesocup, pob0_14, pob15_64, pob65_mas,imn_2020) %>%\n",
    "  map2(names(.), ~{\n",
    "    # Calcular máximos, mínimos y medias\n",
    "    min_val <- min(.x, na.rm = TRUE)\n",
    "    max_val <- max(.x, na.rm = TRUE)\n",
    "    mean_val <- mean(.x, na.rm = TRUE)\n",
    "    \n",
    "    # Histograma\n",
    "    hist(.x, main = .y, xlab = .y, col = \"lightgray\", border = \"black\")\n",
    "    \n",
    "    # Líneas de máximos, mínimos y medias\n",
    "    abline(v = min_val, col = \"blue\", lty = 2, lwd = 2)\n",
    "    abline(v = max_val, col = \"red\", lty = 2, lwd = 2)\n",
    "    abline(v = mean_val, col = \"darkgreen\", lty = 1, lwd = 2)\n",
    "    \n",
    "    # Etiquetas\n",
    "    text(min_val, par(\"usr\")[4] * 0.95, labels = paste(\"Mínimo:\", round(min_val, 2)), col = \"blue\", pos = 4)\n",
    "    text(max_val, par(\"usr\")[4] * 0.95, labels = paste(\"Máximo:\", round(max_val, 2)), col = \"red\", pos = 2)\n",
    "    text(mean_val, par(\"usr\")[4] * 0.85, labels = paste(\"Media:\", round(mean_val, 2)), col = \"darkgreen\", pos = 3)\n",
    "  })\n"
   ],
   "outputs": [
    {
     "data": {
      "text/plain": [
       "Plot with title \"hogjef_f\""
      ],
      "image/png": "[encoded data removed]"
     },
     "metadata": {
      "image/png": {
       "width": 420,
       "height": 420
      }
     },
     "output_type": "display_data"
    },
    {
     "data": {
      "text/plain": [
       "Plot with title \"hogjef_m\""
      ],
      "image/png": "[encoded data removed]"
     },
     "metadata": {
      "image/png": {
       "width": 420,
       "height": 420
      }
     },
     "output_type": "display_data"
    },
    {
     "data": {
      "text/plain": [
       "Plot with title \"graproes\""
      ],
      "image/png": "[encoded data removed]"
     },
     "metadata": {
      "image/png": {
       "width": 420,
       "height": 420
      }
     },
     "output_type": "display_data"
    },
    {
     "data": {
      "text/plain": [
       "Plot with title \"pea\""
      ],
      "image/png": "[encoded data removed]"
     },
     "metadata": {
      "image/png": {
       "width": 420,
       "height": 420
      }
     },
     "output_type": "display_data"
    },
    {
     "data": {
      "text/plain": [
       "Plot with title \"pe_inac\""
      ],
      "image/png": "[encoded data removed]"
     },
     "metadata": {
      "image/png": {
       "width": 420,
       "height": 420
      }
     },
     "output_type": "display_data"
    },
    {
     "data": {
      "text/plain": [
       "Plot with title \"pocupada\""
      ],
      "image/png": "[encoded data removed]"
     },
     "metadata": {
      "image/png": {
       "width": 420,
       "height": 420
      }
     },
     "output_type": "display_data"
    },
    {
     "data": {
      "text/plain": [
       "Plot with title \"pdesocup\""
      ],
      "image/png": "[encoded data removed]"
     },
     "metadata": {
      "image/png": {
       "width": 420,
       "height": 420
      }
     },
     "output_type": "display_data"
    },
    {
     "data": {
      "text/plain": [
       "Plot with title \"pob0_14\""
      ],
      "image/png": "[encoded data removed]"
     },
     "metadata": {
      "image/png": {
       "width": 420,
       "height": 420
      }
     },
     "output_type": "display_data"
    },
    {
     "data": {
      "text/plain": [
       "Plot with title \"pob15_64\""
      ],
      "image/png": "[encoded data removed]"
     },
     "metadata": {
      "image/png": {
       "width": 420,
       "height": 420
      }
     },
     "output_type": "display_data"
    },
    {
     "data": {
      "text/plain": [
       "Plot with title \"pob65_mas\""
      ],
      "image/png": "[encoded data removed]"
     },
     "metadata": {
      "image/png": {
       "width": 420,
       "height": 420
      }
     },
     "output_type": "display_data"
    },
    {
     "data": {
      "text/html": [
       "<dl>\n",
       "\t<dt>$hogjef_f</dt>\n",
       "\t\t<dd>NULL</dd>\n",
       "\t<dt>$hogjef_m</dt>\n",
       "\t\t<dd>NULL</dd>\n",
       "\t<dt>$graproes</dt>\n",
       "\t\t<dd>NULL</dd>\n",
       "\t<dt>$pea</dt>\n",
       "\t\t<dd>NULL</dd>\n",
       "\t<dt>$pe_inac</dt>\n",
       "\t\t<dd>NULL</dd>\n",
       "\t<dt>$pocupada</dt>\n",
       "\t\t<dd>NULL</dd>\n",
       "\t<dt>$pdesocup</dt>\n",
       "\t\t<dd>NULL</dd>\n",
       "\t<dt>$pob0_14</dt>\n",
       "\t\t<dd>NULL</dd>\n",
       "\t<dt>$pob15_64</dt>\n",
       "\t\t<dd>NULL</dd>\n",
       "\t<dt>$pob65_mas</dt>\n",
       "\t\t<dd>NULL</dd>\n",
       "\t<dt>$imn_2020</dt>\n",
       "\t\t<dd>NULL</dd>\n",
       "</dl>\n"
      ],
      "text/markdown": "$hogjef_f\n:   NULL\n$hogjef_m\n:   NULL\n$graproes\n:   NULL\n$pea\n:   NULL\n$pe_inac\n:   NULL\n$pocupada\n:   NULL\n$pdesocup\n:   NULL\n$pob0_14\n:   NULL\n$pob15_64\n:   NULL\n$pob65_mas\n:   NULL\n$imn_2020\n:   NULL\n\n\n",
      "text/latex": "\\begin{description}\n\\item[\\$hogjef\\_f] NULL\n\\item[\\$hogjef\\_m] NULL\n\\item[\\$graproes] NULL\n\\item[\\$pea] NULL\n\\item[\\$pe\\_inac] NULL\n\\item[\\$pocupada] NULL\n\\item[\\$pdesocup] NULL\n\\item[\\$pob0\\_14] NULL\n\\item[\\$pob15\\_64] NULL\n\\item[\\$pob65\\_mas] NULL\n\\item[\\$imn\\_2020] NULL\n\\end{description}\n",
      "text/plain": [
       "$hogjef_f\n",
       "NULL\n",
       "\n",
       "$hogjef_m\n",
       "NULL\n",
       "\n",
       "$graproes\n",
       "NULL\n",
       "\n",
       "$pea\n",
       "NULL\n",
       "\n",
       "$pe_inac\n",
       "NULL\n",
       "\n",
       "$pocupada\n",
       "NULL\n",
       "\n",
       "$pdesocup\n",
       "NULL\n",
       "\n",
       "$pob0_14\n",
       "NULL\n",
       "\n",
       "$pob15_64\n",
       "NULL\n",
       "\n",
       "$pob65_mas\n",
       "NULL\n",
       "\n",
       "$imn_2020\n",
       "NULL\n"
      ]
     },
     "metadata": {},
     "output_type": "display_data"
    },
    {
     "data": {
      "text/plain": [
       "Plot with title \"imn_2020\""
      ],
      "image/png": "[encoded data removed]"
     },
     "metadata": {
      "image/png": {
       "width": 420,
       "height": 420
      }
     },
     "output_type": "display_data"
    }
   ],
   "execution_count": 12
  },
  {
   "metadata": {},
   "cell_type": "markdown",
   "source": [
    "## Modelos\n",
    "#### 3. Se establecen los modelos a utilizar"
   ],
   "id": "410a02c88bd06d2"
  },
  {
   "metadata": {
    "ExecuteTime": {
     "end_time": "2024-12-06T14:26:44.036173Z",
     "start_time": "2024-12-06T14:26:44.023122Z"
    }
   },
   "cell_type": "code",
   "source": [
    "#Modelo general\n",
    "var_modelo <- simi ~ hogjef_f + hogjef_m + graproes + pea +  \n",
    "              pe_inac + pocupada + pdesocup + pob0_14 + pob15_64 + pob65_mas\n",
    "\n",
    "#Modelo con transformación de variables de población a logaritmos. Se utiliza 1 para evitar problemas con ceros\n",
    "var_modelo2 <- simi ~ log(1 + hogjef_f) + log(1 + hogjef_m) + graproes + log(1 + pea) +  \n",
    "              log(1 + pe_inac) + log(1 + pocupada) + log(1 + pdesocup) + \n",
    "              log(1 + pob0_14) + log(1 + pob15_64) + log(1 + pob65_mas)"
   ],
   "id": "3e2bffd5485f6d65",
   "outputs": [],
   "execution_count": 13
  },
  {
   "cell_type": "markdown",
   "id": "fb2d1da7e3186065",
   "metadata": {},
   "source": [
    "#### Modelo probit"
   ]
  },
  {
   "cell_type": "code",
   "id": "b3239eace5c6e001",
   "metadata": {
    "ExecuteTime": {
     "end_time": "2024-12-06T14:26:44.251785Z",
     "start_time": "2024-12-06T14:26:44.041356Z"
    }
   },
   "source": "propscorematch(var_modelo = var_modelo, link_model = binomial(link = \"probit\"), t_test_var = \"imn_2020\")",
   "outputs": [
    {
     "name": "stderr",
     "output_type": "stream",
     "text": [
      "Warning message:\n",
      "\"glm.fit: fitted probabilities numerically 0 or 1 occurred\"\n"
     ]
    },
    {
     "name": "stdout",
     "output_type": "stream",
     "text": [
      "\u001B[1m=== RESULTADOS DEL MODELO PROBIT : ===\u001B[0m \n",
      "\n",
      "Call:\n",
      "glm(formula = var_modelo, family = link_model, data = datos_colonias)\n",
      "\n",
      "Coefficients:\n",
      "             Estimate Std. Error z value Pr(>|z|)    \n",
      "(Intercept) -2.169468   0.257440  -8.427  < 2e-16 ***\n",
      "hogjef_f    -0.001087   0.017018  -0.064   0.9491    \n",
      "hogjef_m     0.025554   0.014405   1.774   0.0761 .  \n",
      "graproes     0.031545   0.027659   1.141   0.2541    \n",
      "pea         -0.076610   0.091018  -0.842   0.4000    \n",
      "pe_inac     -0.042467   0.024924  -1.704   0.0884 .  \n",
      "pocupada     0.015783   0.086878   0.182   0.8558    \n",
      "pdesocup    -0.113903   0.090695  -1.256   0.2092    \n",
      "pob0_14      0.042366   0.010148   4.175 2.98e-05 ***\n",
      "pob15_64     0.036525   0.025738   1.419   0.1559    \n",
      "pob65_mas    0.029846   0.026386   1.131   0.2580    \n",
      "---\n",
      "Signif. codes:  0 '***' 0.001 '**' 0.01 '*' 0.05 '.' 0.1 ' ' 1\n",
      "\n",
      "(Dispersion parameter for binomial family taken to be 1)\n",
      "\n",
      "    Null deviance: 529.4  on 2903  degrees of freedom\n",
      "Residual deviance: 488.1  on 2893  degrees of freedom\n",
      "AIC: 510.1\n",
      "\n",
      "Number of Fisher Scoring iterations: 8\n",
      "\n",
      "\u001B[1m=== RESUMEN DE LOS RESULTADOS DE MATCHIT: ===\u001B[0m \n",
      "\n",
      "Call:\n",
      "matchit(formula = var_modelo, data = datos_colonias, method = \"nearest\", \n",
      "    distance = prs_df$pr_score)\n",
      "\n",
      "Summary of Balance for All Data:\n",
      "          Means Treated Means Control Std. Mean Diff. Var. Ratio eCDF Mean\n",
      "distance         0.0324        0.0180          0.7269     1.2374    0.2526\n",
      "hogjef_f         8.5094       11.5735         -0.4175     0.4303    0.0384\n",
      "hogjef_m        18.9057       21.4749         -0.1908     0.4903    0.0250\n",
      "graproes         9.2647        9.3526         -0.0922     0.1762    0.0774\n",
      "pea             50.1698       64.0702         -0.3729     0.4419    0.0523\n",
      "pe_inac         31.4151       37.8050         -0.2764     0.5315    0.0385\n",
      "pocupada        49.3774       62.6086         -0.3607     0.4454    0.0505\n",
      "pdesocup         0.2642        0.9670         -0.7293     0.1935    0.0247\n",
      "pob0_14         27.6604       28.7106         -0.0478     0.7419    0.0220\n",
      "pob15_64        70.1698       86.4963         -0.3130     0.5063    0.0505\n",
      "pob65_mas        6.1132        9.3578         -0.6079     0.3097    0.0544\n",
      "          eCDF Max\n",
      "distance    0.4809\n",
      "hogjef_f    0.1625\n",
      "hogjef_m    0.1222\n",
      "graproes    0.2427\n",
      "pea         0.2292\n",
      "pe_inac     0.1360\n",
      "pocupada    0.2278\n",
      "pdesocup    0.1287\n",
      "pob0_14     0.0794\n",
      "pob15_64    0.2240\n",
      "pob65_mas   0.2376\n",
      "\n",
      "Summary of Balance for Matched Data:\n",
      "          Means Treated Means Control Std. Mean Diff. Var. Ratio eCDF Mean\n",
      "distance         0.0324        0.0324         -0.0000     1.0023    0.0004\n",
      "hogjef_f         8.5094        9.5094         -0.1362     0.9390    0.0207\n",
      "hogjef_m        18.9057       19.6038         -0.0518     1.0600    0.0288\n",
      "graproes         9.2647        9.6770         -0.4324     0.8790    0.0721\n",
      "pea             50.1698       51.7925         -0.0435     1.5660    0.0411\n",
      "pe_inac         31.4151       32.1509         -0.0318     1.4613    0.0472\n",
      "pocupada        49.3774       51.0566         -0.0458     1.5275    0.0398\n",
      "pdesocup         0.2642        0.2830         -0.0196     1.1852    0.0031\n",
      "pob0_14         27.6604       28.3585         -0.0318     1.6103    0.0431\n",
      "pob15_64        70.1698       72.0000         -0.0351     1.5087    0.0503\n",
      "pob65_mas        6.1132        6.2830         -0.0318     1.2524    0.0162\n",
      "          eCDF Max Std. Pair Dist.\n",
      "distance    0.0377          0.0021\n",
      "hogjef_f    0.1321          1.0360\n",
      "hogjef_m    0.1509          0.8363\n",
      "graproes    0.2264          1.1859\n",
      "pea         0.2453          0.8827\n",
      "pe_inac     0.2075          0.8725\n",
      "pocupada    0.2642          0.8904\n",
      "pdesocup    0.0189          0.4503\n",
      "pob0_14     0.1698          0.8909\n",
      "pob15_64    0.2264          0.8505\n",
      "pob65_mas   0.1509          0.9651\n",
      "\n",
      "Sample Sizes:\n",
      "          Control Treated\n",
      "All          2851      53\n",
      "Matched        53      53\n",
      "Unmatched    2798       0\n",
      "Discarded       0       0\n",
      "\n",
      "\u001B[1m=== NÚMERO DE MANZANAS MATCHEADAS: ===\u001B[0m 106 \n",
      "\u001B[1m=== NÚMERO DE MANZANAS MATCHEADAS SIN CONSIDERAR LOMAS DE SAN CARLOS: ===\u001B[0m 53 \n",
      "\u001B[1m=== AVERAGE TREATMENT EFFECT AMONG THE TREATED (ATT): ===\u001B[0m \n",
      "\u001B[1m=== GRUPO 0: ===\u001B[0m Grupo de control (simi = 0) \n",
      "\u001B[1m=== GRUPO 1: ===\u001B[0m Grupo de tratamiento (simi = 1) \n",
      "\u001B[1m=== RESULTADOS DE LA PRUEBA T: ===\u001B[0m \n",
      "\n",
      "\tWelch Two Sample t-test\n",
      "\n",
      "data:  imn_2020 by simi\n",
      "t = 4.6062, df = 52, p-value = 2.686e-05\n",
      "alternative hypothesis: true difference in means between group 0 and group 1 is not equal to 0\n",
      "95 percent confidence interval:\n",
      " 0.001603732 0.004079649\n",
      "sample estimates:\n",
      "mean in group 0 mean in group 1 \n",
      "      0.9460781       0.9432364 \n",
      "\n",
      "\u001B[1m=== MEDIAS DEL GRUPO TRATAMIENTO Y CONTROL PARA EL CÁLCULO DEL ATE: ===\u001B[0m \n",
      "\u001B[1m=== PARA ESTO, SE UTILIZAN TODOS LOS DATOS, NO SOLO LOS MATCHEADOS. ===\u001B[0m \n",
      "Media del Grupo Tratamiento (simi = 1): 0.9432364 \n",
      "Media del Grupo Control (simi = 0): 0.946658 \n",
      "\n",
      "\n",
      "\u001B[1m=== AVERAGE TREATMENT EFFECT ON THE TREATED (ATT): ===\u001B[0m \n",
      "ATT = -0.00284169 \n",
      "\u001B[1m=== AVERAGE TREATMENT EFFECT (ATE): ===\u001B[0m \n",
      "ATE = -0.003421654 \n"
     ]
    },
    {
     "data": {
      "text/plain": [
       "plot without title"
      ],
      "image/png": "[encoded data removed]"
     },
     "metadata": {
      "image/png": {
       "width": 420,
       "height": 420
      }
     },
     "output_type": "display_data"
    }
   ],
   "execution_count": 14
  },
  {
   "cell_type": "markdown",
   "id": "f3d6fd96c116ab4d",
   "metadata": {},
   "source": [
    "#### Modelo probit con transformación de variables de población a logaritmos"
   ]
  },
  {
   "cell_type": "code",
   "id": "d573d1dbcc863b16",
   "metadata": {
    "ExecuteTime": {
     "end_time": "2024-12-06T14:26:44.414774Z",
     "start_time": "2024-12-06T14:26:44.258939Z"
    }
   },
   "source": "propscorematch(var_modelo = var_modelo2, link_model = binomial(link = \"probit\"), t_test_var = \"imn_2020\")",
   "outputs": [
    {
     "name": "stdout",
     "output_type": "stream",
     "text": [
      "\u001B[1m=== RESULTADOS DEL MODELO PROBIT : ===\u001B[0m \n",
      "\n",
      "Call:\n",
      "glm(formula = var_modelo, family = link_model, data = datos_colonias)\n",
      "\n",
      "Coefficients:\n",
      "                   Estimate Std. Error z value Pr(>|z|)    \n",
      "(Intercept)        -2.27992    0.30168  -7.557 4.11e-14 ***\n",
      "log(1 + hogjef_f)  -0.20955    0.10994  -1.906  0.05665 .  \n",
      "log(1 + hogjef_m)   0.27559    0.24826   1.110  0.26695    \n",
      "graproes           -0.03045    0.04896  -0.622  0.53393    \n",
      "log(1 + pea)       -5.15876    3.10476  -1.662  0.09660 .  \n",
      "log(1 + pe_inac)   -0.72954    0.25268  -2.887  0.00389 ** \n",
      "log(1 + pocupada)   2.96975    2.95092   1.006  0.31423    \n",
      "log(1 + pdesocup)  -0.20244    0.14956  -1.354  0.17588    \n",
      "log(1 + pob0_14)    0.52440    0.21331   2.458  0.01395 *  \n",
      "log(1 + pob15_64)   2.23972    0.77128   2.904  0.00369 ** \n",
      "log(1 + pob65_mas)  0.07919    0.09375   0.845  0.39832    \n",
      "---\n",
      "Signif. codes:  0 '***' 0.001 '**' 0.01 '*' 0.05 '.' 0.1 ' ' 1\n",
      "\n",
      "(Dispersion parameter for binomial family taken to be 1)\n",
      "\n",
      "    Null deviance: 529.40  on 2903  degrees of freedom\n",
      "Residual deviance: 493.82  on 2893  degrees of freedom\n",
      "AIC: 515.82\n",
      "\n",
      "Number of Fisher Scoring iterations: 8\n",
      "\n",
      "\u001B[1m=== RESUMEN DE LOS RESULTADOS DE MATCHIT: ===\u001B[0m \n",
      "\n",
      "Call:\n",
      "matchit(formula = var_modelo, data = datos_colonias, method = \"nearest\", \n",
      "    distance = prs_df$pr_score)\n",
      "\n",
      "Summary of Balance for All Data:\n",
      "                   Means Treated Means Control Std. Mean Diff. Var. Ratio\n",
      "distance                  0.0324        0.0180          0.4998     2.7426\n",
      "log(1 + hogjef_f)         1.8326        2.1576         -0.3044     1.2081\n",
      "log(1 + hogjef_m)         2.7625        2.7824         -0.0273     0.6209\n",
      "graproes                  9.2647        9.3526         -0.0922     0.1762\n",
      "log(1 + pea)              3.6880        3.8062         -0.1636     0.4625\n",
      "log(1 + pe_inac)          3.2039        3.2960         -0.1105     0.6633\n",
      "log(1 + pocupada)         3.6739        3.7838         -0.1527     0.4611\n",
      "log(1 + pdesocup)         0.1123        0.3442         -0.5803     0.3303\n",
      "log(1 + pob0_14)          3.0511        3.0120          0.0457     0.7032\n",
      "log(1 + pob15_64)         4.0165        4.0933         -0.1065     0.4232\n",
      "log(1 + pob65_mas)        1.6226        1.8960         -0.2921     0.7731\n",
      "                   eCDF Mean eCDF Max\n",
      "distance              0.2325   0.3777\n",
      "log(1 + hogjef_f)     0.0384   0.1625\n",
      "log(1 + hogjef_m)     0.0250   0.1222\n",
      "graproes              0.0774   0.2427\n",
      "log(1 + pea)          0.0523   0.2292\n",
      "log(1 + pe_inac)      0.0385   0.1360\n",
      "log(1 + pocupada)     0.0505   0.2278\n",
      "log(1 + pdesocup)     0.0247   0.1287\n",
      "log(1 + pob0_14)      0.0220   0.0794\n",
      "log(1 + pob15_64)     0.0505   0.2240\n",
      "log(1 + pob65_mas)    0.0544   0.2376\n",
      "\n",
      "Summary of Balance for Matched Data:\n",
      "                   Means Treated Means Control Std. Mean Diff. Var. Ratio\n",
      "distance                  0.0324        0.0323          0.0033     1.0227\n",
      "log(1 + hogjef_f)         1.8326        1.8060          0.0250     1.1525\n",
      "log(1 + hogjef_m)         2.7625        2.7111          0.0704     1.3643\n",
      "graproes                  9.2647        9.6243         -0.3771     0.6626\n",
      "log(1 + pea)              3.6880        3.6948         -0.0095     1.2329\n",
      "log(1 + pe_inac)          3.2039        3.1680          0.0431     1.2272\n",
      "log(1 + pocupada)         3.6739        3.6852         -0.0158     1.2294\n",
      "log(1 + pdesocup)         0.1123        0.0262          0.2155     4.4060\n",
      "log(1 + pob0_14)          3.0511        3.0182          0.0385     1.6222\n",
      "log(1 + pob15_64)         4.0165        4.0209         -0.0060     1.2860\n",
      "log(1 + pob65_mas)        1.6226        1.4273          0.2087     0.7912\n",
      "                   eCDF Mean eCDF Max Std. Pair Dist.\n",
      "distance              0.0004   0.0189          0.0039\n",
      "log(1 + hogjef_f)     0.0144   0.1132          0.8923\n",
      "log(1 + hogjef_m)     0.0360   0.1509          0.9571\n",
      "graproes              0.0580   0.2264          1.2985\n",
      "log(1 + pea)          0.0370   0.1698          0.9494\n",
      "log(1 + pe_inac)      0.0271   0.1509          1.0400\n",
      "log(1 + pocupada)     0.0364   0.1887          0.9488\n",
      "log(1 + pdesocup)     0.0052   0.0566          0.3463\n",
      "log(1 + pob0_14)      0.0373   0.1321          0.9701\n",
      "log(1 + pob15_64)     0.0415   0.1509          1.0407\n",
      "log(1 + pob65_mas)    0.0152   0.1132          0.8390\n",
      "\n",
      "Sample Sizes:\n",
      "          Control Treated\n",
      "All          2851      53\n",
      "Matched        53      53\n",
      "Unmatched    2798       0\n",
      "Discarded       0       0\n",
      "\n",
      "\u001B[1m=== NÚMERO DE MANZANAS MATCHEADAS: ===\u001B[0m 106 \n",
      "\u001B[1m=== NÚMERO DE MANZANAS MATCHEADAS SIN CONSIDERAR LOMAS DE SAN CARLOS: ===\u001B[0m 53 \n",
      "\u001B[1m=== AVERAGE TREATMENT EFFECT AMONG THE TREATED (ATT): ===\u001B[0m \n",
      "\u001B[1m=== GRUPO 0: ===\u001B[0m Grupo de control (simi = 0) \n",
      "\u001B[1m=== GRUPO 1: ===\u001B[0m Grupo de tratamiento (simi = 1) \n",
      "\u001B[1m=== RESULTADOS DE LA PRUEBA T: ===\u001B[0m \n",
      "\n",
      "\tWelch Two Sample t-test\n",
      "\n",
      "data:  imn_2020 by simi\n",
      "t = 5.2379, df = 52, p-value = 2.98e-06\n",
      "alternative hypothesis: true difference in means between group 0 and group 1 is not equal to 0\n",
      "95 percent confidence interval:\n",
      " 0.001627265 0.003648353\n",
      "sample estimates:\n",
      "mean in group 0 mean in group 1 \n",
      "      0.9458742       0.9432364 \n",
      "\n",
      "\u001B[1m=== MEDIAS DEL GRUPO TRATAMIENTO Y CONTROL PARA EL CÁLCULO DEL ATE: ===\u001B[0m \n",
      "\u001B[1m=== PARA ESTO, SE UTILIZAN TODOS LOS DATOS, NO SOLO LOS MATCHEADOS. ===\u001B[0m \n",
      "Media del Grupo Tratamiento (simi = 1): 0.9432364 \n",
      "Media del Grupo Control (simi = 0): 0.946658 \n",
      "\n",
      "\n",
      "\u001B[1m=== AVERAGE TREATMENT EFFECT ON THE TREATED (ATT): ===\u001B[0m \n",
      "ATT = -0.002637809 \n",
      "\u001B[1m=== AVERAGE TREATMENT EFFECT (ATE): ===\u001B[0m \n",
      "ATE = -0.003421654 \n"
     ]
    },
    {
     "data": {
      "text/plain": [
       "plot without title"
      ],
      "image/png": "[encoded data removed]"
     },
     "metadata": {
      "image/png": {
       "width": 420,
       "height": 420
      }
     },
     "output_type": "display_data"
    }
   ],
   "execution_count": 15
  },
  {
   "cell_type": "markdown",
   "id": "fda1ce9e33d4dd57",
   "metadata": {},
   "source": [
    "#### Modelo logit   "
   ]
  },
  {
   "cell_type": "code",
   "id": "91639962f5b84fe1",
   "metadata": {
    "ExecuteTime": {
     "end_time": "2024-12-06T14:26:44.529476Z",
     "start_time": "2024-12-06T14:26:44.421686Z"
    }
   },
   "source": "propscorematch(var_modelo = var_modelo, link_model = binomial(link = \"logit\"), t_test_var = \"imn_2020\")",
   "outputs": [
    {
     "name": "stderr",
     "output_type": "stream",
     "text": [
      "Warning message:\n",
      "\"glm.fit: fitted probabilities numerically 0 or 1 occurred\"\n"
     ]
    },
    {
     "name": "stdout",
     "output_type": "stream",
     "text": [
      "\u001B[1m=== RESULTADOS DEL MODELO LOGIT : ===\u001B[0m \n",
      "\n",
      "Call:\n",
      "glm(formula = var_modelo, family = link_model, data = datos_colonias)\n",
      "\n",
      "Coefficients:\n",
      "             Estimate Std. Error z value Pr(>|z|)    \n",
      "(Intercept) -4.104618   0.631493  -6.500 8.04e-11 ***\n",
      "hogjef_f    -0.000985   0.041689  -0.024   0.9811    \n",
      "hogjef_m     0.057572   0.033809   1.703   0.0886 .  \n",
      "graproes     0.072038   0.067621   1.065   0.2867    \n",
      "pea         -0.193690   0.218278  -0.887   0.3749    \n",
      "pe_inac     -0.109612   0.059647  -1.838   0.0661 .  \n",
      "pocupada     0.040800   0.208319   0.196   0.8447    \n",
      "pdesocup    -0.277124   0.224704  -1.233   0.2175    \n",
      "pob0_14      0.097968   0.023327   4.200 2.67e-05 ***\n",
      "pob15_64     0.097028   0.061757   1.571   0.1162    \n",
      "pob65_mas    0.075359   0.063004   1.196   0.2317    \n",
      "---\n",
      "Signif. codes:  0 '***' 0.001 '**' 0.01 '*' 0.05 '.' 0.1 ' ' 1\n",
      "\n",
      "(Dispersion parameter for binomial family taken to be 1)\n",
      "\n",
      "    Null deviance: 529.40  on 2903  degrees of freedom\n",
      "Residual deviance: 489.35  on 2893  degrees of freedom\n",
      "AIC: 511.35\n",
      "\n",
      "Number of Fisher Scoring iterations: 8\n",
      "\n",
      "\u001B[1m=== RESUMEN DE LOS RESULTADOS DE MATCHIT: ===\u001B[0m \n",
      "\n",
      "Call:\n",
      "matchit(formula = var_modelo, data = datos_colonias, method = \"nearest\", \n",
      "    distance = prs_df$pr_score)\n",
      "\n",
      "Summary of Balance for All Data:\n",
      "          Means Treated Means Control Std. Mean Diff. Var. Ratio eCDF Mean\n",
      "distance         0.0320        0.0180          0.6804     1.3482    0.2494\n",
      "hogjef_f         8.5094       11.5735         -0.4175     0.4303    0.0384\n",
      "hogjef_m        18.9057       21.4749         -0.1908     0.4903    0.0250\n",
      "graproes         9.2647        9.3526         -0.0922     0.1762    0.0774\n",
      "pea             50.1698       64.0702         -0.3729     0.4419    0.0523\n",
      "pe_inac         31.4151       37.8050         -0.2764     0.5315    0.0385\n",
      "pocupada        49.3774       62.6086         -0.3607     0.4454    0.0505\n",
      "pdesocup         0.2642        0.9670         -0.7293     0.1935    0.0247\n",
      "pob0_14         27.6604       28.7106         -0.0478     0.7419    0.0220\n",
      "pob15_64        70.1698       86.4963         -0.3130     0.5063    0.0505\n",
      "pob65_mas        6.1132        9.3578         -0.6079     0.3097    0.0544\n",
      "          eCDF Max\n",
      "distance    0.4708\n",
      "hogjef_f    0.1625\n",
      "hogjef_m    0.1222\n",
      "graproes    0.2427\n",
      "pea         0.2292\n",
      "pe_inac     0.1360\n",
      "pocupada    0.2278\n",
      "pdesocup    0.1287\n",
      "pob0_14     0.0794\n",
      "pob15_64    0.2240\n",
      "pob65_mas   0.2376\n",
      "\n",
      "Summary of Balance for Matched Data:\n",
      "          Means Treated Means Control Std. Mean Diff. Var. Ratio eCDF Mean\n",
      "distance         0.0320        0.0319          0.0038     1.0399    0.0004\n",
      "hogjef_f         8.5094        8.6792         -0.0231     1.1802    0.0191\n",
      "hogjef_m        18.9057       19.0000         -0.0070     1.1113    0.0156\n",
      "graproes         9.2647        9.4809         -0.2268     0.6243    0.0507\n",
      "pea             50.1698       49.5283          0.0172     1.4671    0.0258\n",
      "pe_inac         31.4151       31.2264          0.0082     1.1067    0.0153\n",
      "pocupada        49.3774       48.8491          0.0144     1.4347    0.0255\n",
      "pdesocup         0.2642        0.1509          0.1175     1.4730    0.0021\n",
      "pob0_14         27.6604       26.6038          0.0481     1.2514    0.0196\n",
      "pob15_64        70.1698       68.8491          0.0253     1.3853    0.0265\n",
      "pob65_mas        6.1132        6.8491         -0.1379     1.0411    0.0175\n",
      "          eCDF Max Std. Pair Dist.\n",
      "distance    0.0377          0.0064\n",
      "hogjef_f    0.1321          0.9897\n",
      "hogjef_m    0.1132          0.9204\n",
      "graproes    0.1887          1.2023\n",
      "pea         0.1132          0.8554\n",
      "pe_inac     0.0566          1.0137\n",
      "pocupada    0.1132          0.8631\n",
      "pdesocup    0.0377          0.4307\n",
      "pob0_14     0.0755          0.8969\n",
      "pob15_64    0.1132          0.9044\n",
      "pob65_mas   0.1509          0.9863\n",
      "\n",
      "Sample Sizes:\n",
      "          Control Treated\n",
      "All          2851      53\n",
      "Matched        53      53\n",
      "Unmatched    2798       0\n",
      "Discarded       0       0\n",
      "\n",
      "\u001B[1m=== NÚMERO DE MANZANAS MATCHEADAS: ===\u001B[0m 106 \n",
      "\u001B[1m=== NÚMERO DE MANZANAS MATCHEADAS SIN CONSIDERAR LOMAS DE SAN CARLOS: ===\u001B[0m 53 \n",
      "\u001B[1m=== AVERAGE TREATMENT EFFECT AMONG THE TREATED (ATT): ===\u001B[0m \n",
      "\u001B[1m=== GRUPO 0: ===\u001B[0m Grupo de control (simi = 0) \n",
      "\u001B[1m=== GRUPO 1: ===\u001B[0m Grupo de tratamiento (simi = 1) \n",
      "\u001B[1m=== RESULTADOS DE LA PRUEBA T: ===\u001B[0m \n",
      "\n",
      "\tWelch Two Sample t-test\n",
      "\n",
      "data:  imn_2020 by simi\n",
      "t = 4.2456, df = 52, p-value = 9.022e-05\n",
      "alternative hypothesis: true difference in means between group 0 and group 1 is not equal to 0\n",
      "95 percent confidence interval:\n",
      " 0.001441988 0.004026782\n",
      "sample estimates:\n",
      "mean in group 0 mean in group 1 \n",
      "      0.9459708       0.9432364 \n",
      "\n",
      "\u001B[1m=== MEDIAS DEL GRUPO TRATAMIENTO Y CONTROL PARA EL CÁLCULO DEL ATE: ===\u001B[0m \n",
      "\u001B[1m=== PARA ESTO, SE UTILIZAN TODOS LOS DATOS, NO SOLO LOS MATCHEADOS. ===\u001B[0m \n",
      "Media del Grupo Tratamiento (simi = 1): 0.9432364 \n",
      "Media del Grupo Control (simi = 0): 0.946658 \n",
      "\n",
      "\n",
      "\u001B[1m=== AVERAGE TREATMENT EFFECT ON THE TREATED (ATT): ===\u001B[0m \n",
      "ATT = -0.002734385 \n",
      "\u001B[1m=== AVERAGE TREATMENT EFFECT (ATE): ===\u001B[0m \n",
      "ATE = -0.003421654 \n"
     ]
    },
    {
     "data": {
      "text/plain": [
       "plot without title"
      ],
      "image/png": "[encoded data removed]"
     },
     "metadata": {
      "image/png": {
       "width": 420,
       "height": 420
      }
     },
     "output_type": "display_data"
    }
   ],
   "execution_count": 16
  },
  {
   "cell_type": "markdown",
   "id": "80ff5150708e9913",
   "metadata": {},
   "source": [
    "#### Modelo logit con transformación de variables de población a logaritmos\n"
   ]
  },
  {
   "cell_type": "code",
   "id": "f4751aad9354d822",
   "metadata": {
    "ExecuteTime": {
     "end_time": "2024-12-06T14:26:44.707217Z",
     "start_time": "2024-12-06T14:26:44.535644Z"
    }
   },
   "source": "propscorematch(var_modelo = var_modelo2, link_model = binomial(link = \"logit\"), t_test_var = \"imn_2020\")",
   "outputs": [
    {
     "name": "stdout",
     "output_type": "stream",
     "text": [
      "\u001B[1m=== RESULTADOS DEL MODELO LOGIT : ===\u001B[0m \n",
      "\n",
      "Call:\n",
      "glm(formula = var_modelo, family = link_model, data = datos_colonias)\n",
      "\n",
      "Coefficients:\n",
      "                    Estimate Std. Error z value Pr(>|z|)    \n",
      "(Intercept)         -4.35386    0.75117  -5.796 6.79e-09 ***\n",
      "log(1 + hogjef_f)   -0.47048    0.25467  -1.847  0.06469 .  \n",
      "log(1 + hogjef_m)    0.71580    0.62434   1.146  0.25160    \n",
      "graproes            -0.06455    0.11889  -0.543  0.58714    \n",
      "log(1 + pea)       -11.89294    7.42140  -1.603  0.10904    \n",
      "log(1 + pe_inac)    -1.43321    0.55404  -2.587  0.00969 ** \n",
      "log(1 + pocupada)    7.05390    7.06862   0.998  0.31832    \n",
      "log(1 + pdesocup)   -0.52709    0.38825  -1.358  0.17459    \n",
      "log(1 + pob0_14)     1.26000    0.52298   2.409  0.01598 *  \n",
      "log(1 + pob15_64)    4.65708    1.75162   2.659  0.00784 ** \n",
      "log(1 + pob65_mas)   0.14373    0.21971   0.654  0.51300    \n",
      "---\n",
      "Signif. codes:  0 '***' 0.001 '**' 0.01 '*' 0.05 '.' 0.1 ' ' 1\n",
      "\n",
      "(Dispersion parameter for binomial family taken to be 1)\n",
      "\n",
      "    Null deviance: 529.40  on 2903  degrees of freedom\n",
      "Residual deviance: 494.93  on 2893  degrees of freedom\n",
      "AIC: 516.93\n",
      "\n",
      "Number of Fisher Scoring iterations: 7\n",
      "\n",
      "\u001B[1m=== RESUMEN DE LOS RESULTADOS DE MATCHIT: ===\u001B[0m \n",
      "\n",
      "Call:\n",
      "matchit(formula = var_modelo, data = datos_colonias, method = \"nearest\", \n",
      "    distance = prs_df$pr_score)\n",
      "\n",
      "Summary of Balance for All Data:\n",
      "                   Means Treated Means Control Std. Mean Diff. Var. Ratio\n",
      "distance                  0.0329        0.0180          0.4563     3.7886\n",
      "log(1 + hogjef_f)         1.8326        2.1576         -0.3044     1.2081\n",
      "log(1 + hogjef_m)         2.7625        2.7824         -0.0273     0.6209\n",
      "graproes                  9.2647        9.3526         -0.0922     0.1762\n",
      "log(1 + pea)              3.6880        3.8062         -0.1636     0.4625\n",
      "log(1 + pe_inac)          3.2039        3.2960         -0.1105     0.6633\n",
      "log(1 + pocupada)         3.6739        3.7838         -0.1527     0.4611\n",
      "log(1 + pdesocup)         0.1123        0.3442         -0.5803     0.3303\n",
      "log(1 + pob0_14)          3.0511        3.0120          0.0457     0.7032\n",
      "log(1 + pob15_64)         4.0165        4.0933         -0.1065     0.4232\n",
      "log(1 + pob65_mas)        1.6226        1.8960         -0.2921     0.7731\n",
      "                   eCDF Mean eCDF Max\n",
      "distance              0.2290   0.3773\n",
      "log(1 + hogjef_f)     0.0384   0.1625\n",
      "log(1 + hogjef_m)     0.0250   0.1222\n",
      "graproes              0.0774   0.2427\n",
      "log(1 + pea)          0.0523   0.2292\n",
      "log(1 + pe_inac)      0.0385   0.1360\n",
      "log(1 + pocupada)     0.0505   0.2278\n",
      "log(1 + pdesocup)     0.0247   0.1287\n",
      "log(1 + pob0_14)      0.0220   0.0794\n",
      "log(1 + pob15_64)     0.0505   0.2240\n",
      "log(1 + pob65_mas)    0.0544   0.2376\n",
      "\n",
      "Summary of Balance for Matched Data:\n",
      "                   Means Treated Means Control Std. Mean Diff. Var. Ratio\n",
      "distance                  0.0329        0.0321          0.0229     1.3304\n",
      "log(1 + hogjef_f)         1.8326        1.8594         -0.0251     1.2010\n",
      "log(1 + hogjef_m)         2.7625        2.8029         -0.0553     1.2942\n",
      "graproes                  9.2647        9.6962         -0.4525     0.8583\n",
      "log(1 + pea)              3.6880        3.7543         -0.0917     1.2740\n",
      "log(1 + pe_inac)          3.2039        3.2492         -0.0544     1.0777\n",
      "log(1 + pocupada)         3.6739        3.7434         -0.0966     1.2664\n",
      "log(1 + pdesocup)         0.1123        0.0262          0.2155     4.4060\n",
      "log(1 + pob0_14)          3.0511        3.0653         -0.0167     1.6375\n",
      "log(1 + pob15_64)         4.0165        4.0843         -0.0940     1.2942\n",
      "log(1 + pob65_mas)        1.6226        1.5610          0.0658     0.8226\n",
      "                   eCDF Mean eCDF Max Std. Pair Dist.\n",
      "distance              0.0004   0.0377          0.0272\n",
      "log(1 + hogjef_f)     0.0134   0.1132          0.8800\n",
      "log(1 + hogjef_m)     0.0151   0.1132          1.1319\n",
      "graproes              0.0742   0.2264          1.1637\n",
      "log(1 + pea)          0.0270   0.1321          1.1430\n",
      "log(1 + pe_inac)      0.0216   0.1321          1.0397\n",
      "log(1 + pocupada)     0.0258   0.1321          1.1460\n",
      "log(1 + pdesocup)     0.0052   0.0566          0.3463\n",
      "log(1 + pob0_14)      0.0274   0.1132          1.0546\n",
      "log(1 + pob15_64)     0.0310   0.1321          1.0885\n",
      "log(1 + pob65_mas)    0.0089   0.0755          1.2208\n",
      "\n",
      "Sample Sizes:\n",
      "          Control Treated\n",
      "All          2851      53\n",
      "Matched        53      53\n",
      "Unmatched    2798       0\n",
      "Discarded       0       0\n",
      "\n",
      "\u001B[1m=== NÚMERO DE MANZANAS MATCHEADAS: ===\u001B[0m 106 \n",
      "\u001B[1m=== NÚMERO DE MANZANAS MATCHEADAS SIN CONSIDERAR LOMAS DE SAN CARLOS: ===\u001B[0m 53 \n",
      "\u001B[1m=== AVERAGE TREATMENT EFFECT AMONG THE TREATED (ATT): ===\u001B[0m \n",
      "\u001B[1m=== GRUPO 0: ===\u001B[0m Grupo de control (simi = 0) \n",
      "\u001B[1m=== GRUPO 1: ===\u001B[0m Grupo de tratamiento (simi = 1) \n",
      "\u001B[1m=== RESULTADOS DE LA PRUEBA T: ===\u001B[0m \n",
      "\n",
      "\tWelch Two Sample t-test\n",
      "\n",
      "data:  imn_2020 by simi\n",
      "t = 5.169, df = 52, p-value = 3.803e-06\n",
      "alternative hypothesis: true difference in means between group 0 and group 1 is not equal to 0\n",
      "95 percent confidence interval:\n",
      " 0.001819528 0.004128683\n",
      "sample estimates:\n",
      "mean in group 0 mean in group 1 \n",
      "      0.9462105       0.9432364 \n",
      "\n",
      "\u001B[1m=== MEDIAS DEL GRUPO TRATAMIENTO Y CONTROL PARA EL CÁLCULO DEL ATE: ===\u001B[0m \n",
      "\u001B[1m=== PARA ESTO, SE UTILIZAN TODOS LOS DATOS, NO SOLO LOS MATCHEADOS. ===\u001B[0m \n",
      "Media del Grupo Tratamiento (simi = 1): 0.9432364 \n",
      "Media del Grupo Control (simi = 0): 0.946658 \n",
      "\n",
      "\n",
      "\u001B[1m=== AVERAGE TREATMENT EFFECT ON THE TREATED (ATT): ===\u001B[0m \n",
      "ATT = -0.002974106 \n",
      "\u001B[1m=== AVERAGE TREATMENT EFFECT (ATE): ===\u001B[0m \n",
      "ATE = -0.003421654 \n"
     ]
    },
    {
     "data": {
      "text/plain": [
       "plot without title"
      ],
      "image/png": "[encoded data removed]"
     },
     "metadata": {
      "image/png": {
       "width": 420,
       "height": 420
      }
     },
     "output_type": "display_data"
    }
   ],
   "execution_count": 17
  },
  {
   "metadata": {},
   "cell_type": "markdown",
   "source": "#### Modelo probit con variable de interés \"pct_sinesc\" Porcentaje de población sin escolaridad",
   "id": "f273cbb6d141eb9a"
  },
  {
   "metadata": {
    "ExecuteTime": {
     "end_time": "2024-12-06T14:26:44.722860Z",
     "start_time": "2024-12-06T14:26:44.712359Z"
    }
   },
   "cell_type": "code",
   "source": [
    "#Modelo con menos variables\n",
    "var_modelo3<-simi ~ log(1+hogjef_f) + log(1+pe_inac)+log(1+pdesocup) +log(1+pob0_14)+log(1+pob65_mas)"
   ],
   "id": "75fd07bc3a083620",
   "outputs": [],
   "execution_count": 18
  },
  {
   "metadata": {
    "ExecuteTime": {
     "end_time": "2024-12-06T14:26:44.859735Z",
     "start_time": "2024-12-06T14:26:44.727601Z"
    }
   },
   "cell_type": "code",
   "source": "propscorematch(var_modelo = var_modelo3, link_model = binomial(link = \"probit\"), t_test_var = \"pct_sinesc\")",
   "id": "ee11819e09d6758c",
   "outputs": [
    {
     "name": "stdout",
     "output_type": "stream",
     "text": [
      "\u001B[1m=== RESULTADOS DEL MODELO PROBIT : ===\u001B[0m \n",
      "\n",
      "Call:\n",
      "glm(formula = var_modelo, family = link_model, data = datos_colonias)\n",
      "\n",
      "Coefficients:\n",
      "                   Estimate Std. Error z value Pr(>|z|)    \n",
      "(Intercept)        -2.34223    0.22988 -10.189  < 2e-16 ***\n",
      "log(1 + hogjef_f)  -0.28734    0.09197  -3.124  0.00178 ** \n",
      "log(1 + pe_inac)   -0.08341    0.14916  -0.559  0.57604    \n",
      "log(1 + pdesocup)  -0.27324    0.12451  -2.195  0.02819 *  \n",
      "log(1 + pob0_14)    0.40965    0.14678   2.791  0.00526 ** \n",
      "log(1 + pob65_mas) -0.04348    0.07741  -0.562  0.57435    \n",
      "---\n",
      "Signif. codes:  0 '***' 0.001 '**' 0.01 '*' 0.05 '.' 0.1 ' ' 1\n",
      "\n",
      "(Dispersion parameter for binomial family taken to be 1)\n",
      "\n",
      "    Null deviance: 529.40  on 2903  degrees of freedom\n",
      "Residual deviance: 505.46  on 2898  degrees of freedom\n",
      "AIC: 517.46\n",
      "\n",
      "Number of Fisher Scoring iterations: 7\n",
      "\n",
      "\u001B[1m=== RESUMEN DE LOS RESULTADOS DE MATCHIT: ===\u001B[0m \n",
      "\n",
      "Call:\n",
      "matchit(formula = var_modelo, data = datos_colonias, method = \"nearest\", \n",
      "    distance = prs_df$pr_score)\n",
      "\n",
      "Summary of Balance for All Data:\n",
      "                   Means Treated Means Control Std. Mean Diff. Var. Ratio\n",
      "distance                  0.0269        0.0181          0.5354     1.5454\n",
      "log(1 + hogjef_f)         1.8326        2.1576         -0.3044     1.2081\n",
      "log(1 + pe_inac)          3.2039        3.2960         -0.1105     0.6633\n",
      "log(1 + pdesocup)         0.1123        0.3442         -0.5803     0.3303\n",
      "log(1 + pob0_14)          3.0511        3.0120          0.0457     0.7032\n",
      "log(1 + pob65_mas)        1.6226        1.8960         -0.2921     0.7731\n",
      "                   eCDF Mean eCDF Max\n",
      "distance              0.2012   0.3411\n",
      "log(1 + hogjef_f)     0.0384   0.1625\n",
      "log(1 + pe_inac)      0.0385   0.1360\n",
      "log(1 + pdesocup)     0.0247   0.1287\n",
      "log(1 + pob0_14)      0.0220   0.0794\n",
      "log(1 + pob65_mas)    0.0544   0.2376\n",
      "\n",
      "Summary of Balance for Matched Data:\n",
      "                   Means Treated Means Control Std. Mean Diff. Var. Ratio\n",
      "distance                  0.0269        0.0269         -0.0020     0.9821\n",
      "log(1 + hogjef_f)         1.8326        1.8834         -0.0476     1.1014\n",
      "log(1 + pe_inac)          3.2039        3.2461         -0.0506     0.9807\n",
      "log(1 + pdesocup)         0.1123        0.0861          0.0654     1.2472\n",
      "log(1 + pob0_14)          3.0511        3.0640         -0.0151     1.0023\n",
      "log(1 + pob65_mas)        1.6226        1.4883          0.1435     0.6851\n",
      "                   eCDF Mean eCDF Max Std. Pair Dist.\n",
      "distance              0.0003   0.0189          0.0028\n",
      "log(1 + hogjef_f)     0.0155   0.1132          0.7469\n",
      "log(1 + pe_inac)      0.0155   0.1132          0.8517\n",
      "log(1 + pdesocup)     0.0010   0.0189          0.2346\n",
      "log(1 + pob0_14)      0.0247   0.0943          0.9184\n",
      "log(1 + pob65_mas)    0.0218   0.1321          0.9503\n",
      "\n",
      "Sample Sizes:\n",
      "          Control Treated\n",
      "All          2851      53\n",
      "Matched        53      53\n",
      "Unmatched    2798       0\n",
      "Discarded       0       0\n",
      "\n",
      "\u001B[1m=== NÚMERO DE MANZANAS MATCHEADAS: ===\u001B[0m 106 \n",
      "\u001B[1m=== NÚMERO DE MANZANAS MATCHEADAS SIN CONSIDERAR LOMAS DE SAN CARLOS: ===\u001B[0m 53 \n",
      "\u001B[1m=== AVERAGE TREATMENT EFFECT AMONG THE TREATED (ATT): ===\u001B[0m \n",
      "\u001B[1m=== GRUPO 0: ===\u001B[0m Grupo de control (simi = 0) \n",
      "\u001B[1m=== GRUPO 1: ===\u001B[0m Grupo de tratamiento (simi = 1) \n",
      "\u001B[1m=== RESULTADOS DE LA PRUEBA T: ===\u001B[0m \n",
      "\n",
      "\tWelch Two Sample t-test\n",
      "\n",
      "data:  pct_sinesc by simi\n",
      "t = -1.2854, df = 98.393, p-value = 0.2017\n",
      "alternative hypothesis: true difference in means between group 0 and group 1 is not equal to 0\n",
      "95 percent confidence interval:\n",
      " -2.3532194  0.5030642\n",
      "sample estimates:\n",
      "mean in group 0 mean in group 1 \n",
      "       2.301821        3.226899 \n",
      "\n",
      "\u001B[1m=== MEDIAS DEL GRUPO TRATAMIENTO Y CONTROL PARA EL CÁLCULO DEL ATE: ===\u001B[0m \n",
      "\u001B[1m=== PARA ESTO, SE UTILIZAN TODOS LOS DATOS, NO SOLO LOS MATCHEADOS. ===\u001B[0m \n",
      "Media del Grupo Tratamiento (simi = 1): 3.226899 \n",
      "Media del Grupo Control (simi = 0): 2.689839 \n",
      "\n",
      "\n",
      "\u001B[1m=== AVERAGE TREATMENT EFFECT ON THE TREATED (ATT): ===\u001B[0m \n",
      "ATT = 0.9250776 \n",
      "\u001B[1m=== AVERAGE TREATMENT EFFECT (ATE): ===\u001B[0m \n",
      "ATE = 0.5370594 \n"
     ]
    },
    {
     "data": {
      "text/plain": [
       "plot without title"
      ],
      "image/png": "[encoded data removed]"
     },
     "metadata": {
      "image/png": {
       "width": 420,
       "height": 420
      }
     },
     "output_type": "display_data"
    }
   ],
   "execution_count": 19
  },
  {
   "metadata": {},
   "cell_type": "markdown",
   "source": "#### Modelo probit con variable de interés \"imn_2020\" Índice de marginación\n",
   "id": "711afbe0080b0a2a"
  },
  {
   "metadata": {
    "ExecuteTime": {
     "end_time": "2024-12-06T14:26:44.948242Z",
     "start_time": "2024-12-06T14:26:44.866473Z"
    }
   },
   "cell_type": "code",
   "source": "propscorematch(var_modelo = var_modelo3, link_model = binomial(link = \"probit\"), t_test_var = \"imn_2020\")",
   "id": "f29893cc95247c7",
   "outputs": [
    {
     "name": "stdout",
     "output_type": "stream",
     "text": [
      "\u001B[1m=== RESULTADOS DEL MODELO PROBIT : ===\u001B[0m \n",
      "\n",
      "Call:\n",
      "glm(formula = var_modelo, family = link_model, data = datos_colonias)\n",
      "\n",
      "Coefficients:\n",
      "                   Estimate Std. Error z value Pr(>|z|)    \n",
      "(Intercept)        -2.34223    0.22988 -10.189  < 2e-16 ***\n",
      "log(1 + hogjef_f)  -0.28734    0.09197  -3.124  0.00178 ** \n",
      "log(1 + pe_inac)   -0.08341    0.14916  -0.559  0.57604    \n",
      "log(1 + pdesocup)  -0.27324    0.12451  -2.195  0.02819 *  \n",
      "log(1 + pob0_14)    0.40965    0.14678   2.791  0.00526 ** \n",
      "log(1 + pob65_mas) -0.04348    0.07741  -0.562  0.57435    \n",
      "---\n",
      "Signif. codes:  0 '***' 0.001 '**' 0.01 '*' 0.05 '.' 0.1 ' ' 1\n",
      "\n",
      "(Dispersion parameter for binomial family taken to be 1)\n",
      "\n",
      "    Null deviance: 529.40  on 2903  degrees of freedom\n",
      "Residual deviance: 505.46  on 2898  degrees of freedom\n",
      "AIC: 517.46\n",
      "\n",
      "Number of Fisher Scoring iterations: 7\n",
      "\n",
      "\u001B[1m=== RESUMEN DE LOS RESULTADOS DE MATCHIT: ===\u001B[0m \n",
      "\n",
      "Call:\n",
      "matchit(formula = var_modelo, data = datos_colonias, method = \"nearest\", \n",
      "    distance = prs_df$pr_score)\n",
      "\n",
      "Summary of Balance for All Data:\n",
      "                   Means Treated Means Control Std. Mean Diff. Var. Ratio\n",
      "distance                  0.0269        0.0181          0.5354     1.5454\n",
      "log(1 + hogjef_f)         1.8326        2.1576         -0.3044     1.2081\n",
      "log(1 + pe_inac)          3.2039        3.2960         -0.1105     0.6633\n",
      "log(1 + pdesocup)         0.1123        0.3442         -0.5803     0.3303\n",
      "log(1 + pob0_14)          3.0511        3.0120          0.0457     0.7032\n",
      "log(1 + pob65_mas)        1.6226        1.8960         -0.2921     0.7731\n",
      "                   eCDF Mean eCDF Max\n",
      "distance              0.2012   0.3411\n",
      "log(1 + hogjef_f)     0.0384   0.1625\n",
      "log(1 + pe_inac)      0.0385   0.1360\n",
      "log(1 + pdesocup)     0.0247   0.1287\n",
      "log(1 + pob0_14)      0.0220   0.0794\n",
      "log(1 + pob65_mas)    0.0544   0.2376\n",
      "\n",
      "Summary of Balance for Matched Data:\n",
      "                   Means Treated Means Control Std. Mean Diff. Var. Ratio\n",
      "distance                  0.0269        0.0269         -0.0020     0.9821\n",
      "log(1 + hogjef_f)         1.8326        1.8834         -0.0476     1.1014\n",
      "log(1 + pe_inac)          3.2039        3.2461         -0.0506     0.9807\n",
      "log(1 + pdesocup)         0.1123        0.0861          0.0654     1.2472\n",
      "log(1 + pob0_14)          3.0511        3.0640         -0.0151     1.0023\n",
      "log(1 + pob65_mas)        1.6226        1.4883          0.1435     0.6851\n",
      "                   eCDF Mean eCDF Max Std. Pair Dist.\n",
      "distance              0.0003   0.0189          0.0028\n",
      "log(1 + hogjef_f)     0.0155   0.1132          0.7469\n",
      "log(1 + pe_inac)      0.0155   0.1132          0.8517\n",
      "log(1 + pdesocup)     0.0010   0.0189          0.2346\n",
      "log(1 + pob0_14)      0.0247   0.0943          0.9184\n",
      "log(1 + pob65_mas)    0.0218   0.1321          0.9503\n",
      "\n",
      "Sample Sizes:\n",
      "          Control Treated\n",
      "All          2851      53\n",
      "Matched        53      53\n",
      "Unmatched    2798       0\n",
      "Discarded       0       0\n",
      "\n",
      "\u001B[1m=== NÚMERO DE MANZANAS MATCHEADAS: ===\u001B[0m 106 \n",
      "\u001B[1m=== NÚMERO DE MANZANAS MATCHEADAS SIN CONSIDERAR LOMAS DE SAN CARLOS: ===\u001B[0m 53 \n",
      "\u001B[1m=== AVERAGE TREATMENT EFFECT AMONG THE TREATED (ATT): ===\u001B[0m \n",
      "\u001B[1m=== GRUPO 0: ===\u001B[0m Grupo de control (simi = 0) \n",
      "\u001B[1m=== GRUPO 1: ===\u001B[0m Grupo de tratamiento (simi = 1) \n",
      "\u001B[1m=== RESULTADOS DE LA PRUEBA T: ===\u001B[0m \n",
      "\n",
      "\tWelch Two Sample t-test\n",
      "\n",
      "data:  imn_2020 by simi\n",
      "t = 5.8394, df = 52, p-value = 3.448e-07\n",
      "alternative hypothesis: true difference in means between group 0 and group 1 is not equal to 0\n",
      "95 percent confidence interval:\n",
      " 0.002155975 0.004413484\n",
      "sample estimates:\n",
      "mean in group 0 mean in group 1 \n",
      "      0.9465211       0.9432364 \n",
      "\n",
      "\u001B[1m=== MEDIAS DEL GRUPO TRATAMIENTO Y CONTROL PARA EL CÁLCULO DEL ATE: ===\u001B[0m \n",
      "\u001B[1m=== PARA ESTO, SE UTILIZAN TODOS LOS DATOS, NO SOLO LOS MATCHEADOS. ===\u001B[0m \n",
      "Media del Grupo Tratamiento (simi = 1): 0.9432364 \n",
      "Media del Grupo Control (simi = 0): 0.946658 \n",
      "\n",
      "\n",
      "\u001B[1m=== AVERAGE TREATMENT EFFECT ON THE TREATED (ATT): ===\u001B[0m \n",
      "ATT = -0.00328473 \n",
      "\u001B[1m=== AVERAGE TREATMENT EFFECT (ATE): ===\u001B[0m \n",
      "ATE = -0.003421654 \n"
     ]
    },
    {
     "data": {
      "text/plain": [
       "plot without title"
      ],
      "image/png": "[encoded data removed]"
     },
     "metadata": {
      "image/png": {
       "width": 420,
       "height": 420
      }
     },
     "output_type": "display_data"
    }
   ],
   "execution_count": 20
  },
  {
   "metadata": {},
   "cell_type": "markdown",
   "source": "#### Modelo logit con variable de interés \"pct_sinder\" Porcentaje de población sin derechohabiencia",
   "id": "61a8b76d9ea8d729"
  },
  {
   "metadata": {
    "ExecuteTime": {
     "end_time": "2024-12-06T14:26:45.075999Z",
     "start_time": "2024-12-06T14:26:44.953897Z"
    }
   },
   "cell_type": "code",
   "source": "propscorematch(var_modelo = var_modelo3, link_model = binomial(link = \"logit\"), t_test_var = \"pct_sinder\")",
   "id": "15a85a9ec5551431",
   "outputs": [
    {
     "name": "stdout",
     "output_type": "stream",
     "text": [
      "\u001B[1m=== RESULTADOS DEL MODELO LOGIT : ===\u001B[0m \n",
      "\n",
      "Call:\n",
      "glm(formula = var_modelo, family = link_model, data = datos_colonias)\n",
      "\n",
      "Coefficients:\n",
      "                   Estimate Std. Error z value Pr(>|z|)    \n",
      "(Intercept)         -4.6473     0.5892  -7.888 3.07e-15 ***\n",
      "log(1 + hogjef_f)   -0.6738     0.2082  -3.237  0.00121 ** \n",
      "log(1 + pe_inac)    -0.1507     0.3560  -0.423  0.67195    \n",
      "log(1 + pdesocup)   -0.7099     0.3412  -2.081  0.03747 *  \n",
      "log(1 + pob0_14)     0.9373     0.3533   2.653  0.00797 ** \n",
      "log(1 + pob65_mas)  -0.1073     0.1844  -0.582  0.56062    \n",
      "---\n",
      "Signif. codes:  0 '***' 0.001 '**' 0.01 '*' 0.05 '.' 0.1 ' ' 1\n",
      "\n",
      "(Dispersion parameter for binomial family taken to be 1)\n",
      "\n",
      "    Null deviance: 529.40  on 2903  degrees of freedom\n",
      "Residual deviance: 505.97  on 2898  degrees of freedom\n",
      "AIC: 517.97\n",
      "\n",
      "Number of Fisher Scoring iterations: 7\n",
      "\n",
      "\u001B[1m=== RESUMEN DE LOS RESULTADOS DE MATCHIT: ===\u001B[0m \n",
      "\n",
      "Call:\n",
      "matchit(formula = var_modelo, data = datos_colonias, method = \"nearest\", \n",
      "    distance = prs_df$pr_score)\n",
      "\n",
      "Summary of Balance for All Data:\n",
      "                   Means Treated Means Control Std. Mean Diff. Var. Ratio\n",
      "distance                  0.0267        0.0181          0.5029     1.6999\n",
      "log(1 + hogjef_f)         1.8326        2.1576         -0.3044     1.2081\n",
      "log(1 + pe_inac)          3.2039        3.2960         -0.1105     0.6633\n",
      "log(1 + pdesocup)         0.1123        0.3442         -0.5803     0.3303\n",
      "log(1 + pob0_14)          3.0511        3.0120          0.0457     0.7032\n",
      "log(1 + pob65_mas)        1.6226        1.8960         -0.2921     0.7731\n",
      "                   eCDF Mean eCDF Max\n",
      "distance              0.1999   0.3367\n",
      "log(1 + hogjef_f)     0.0384   0.1625\n",
      "log(1 + pe_inac)      0.0385   0.1360\n",
      "log(1 + pdesocup)     0.0247   0.1287\n",
      "log(1 + pob0_14)      0.0220   0.0794\n",
      "log(1 + pob65_mas)    0.0544   0.2376\n",
      "\n",
      "Summary of Balance for Matched Data:\n",
      "                   Means Treated Means Control Std. Mean Diff. Var. Ratio\n",
      "distance                  0.0267        0.0267          0.0011     1.0100\n",
      "log(1 + hogjef_f)         1.8326        1.9804         -0.1384     1.1165\n",
      "log(1 + pe_inac)          3.2039        3.2966         -0.1112     1.0579\n",
      "log(1 + pdesocup)         0.1123        0.0654          0.1173     1.3802\n",
      "log(1 + pob0_14)          3.0511        3.1472         -0.1124     0.9771\n",
      "log(1 + pob65_mas)        1.6226        1.7166         -0.1004     0.8482\n",
      "                   eCDF Mean eCDF Max Std. Pair Dist.\n",
      "distance              0.0004   0.0377          0.0018\n",
      "log(1 + hogjef_f)     0.0254   0.1132          0.7735\n",
      "log(1 + pe_inac)      0.0319   0.1509          0.8135\n",
      "log(1 + pdesocup)     0.0042   0.0377          0.3136\n",
      "log(1 + pob0_14)      0.0452   0.1698          0.9644\n",
      "log(1 + pob65_mas)    0.0215   0.1887          0.9458\n",
      "\n",
      "Sample Sizes:\n",
      "          Control Treated\n",
      "All          2851      53\n",
      "Matched        53      53\n",
      "Unmatched    2798       0\n",
      "Discarded       0       0\n",
      "\n",
      "\u001B[1m=== NÚMERO DE MANZANAS MATCHEADAS: ===\u001B[0m 106 \n",
      "\u001B[1m=== NÚMERO DE MANZANAS MATCHEADAS SIN CONSIDERAR LOMAS DE SAN CARLOS: ===\u001B[0m 53 \n",
      "\u001B[1m=== AVERAGE TREATMENT EFFECT AMONG THE TREATED (ATT): ===\u001B[0m \n",
      "\u001B[1m=== GRUPO 0: ===\u001B[0m Grupo de control (simi = 0) \n",
      "\u001B[1m=== GRUPO 1: ===\u001B[0m Grupo de tratamiento (simi = 1) \n",
      "\u001B[1m=== RESULTADOS DE LA PRUEBA T: ===\u001B[0m \n",
      "\n",
      "\tWelch Two Sample t-test\n",
      "\n",
      "data:  pct_sinder by simi\n",
      "t = 0.37542, df = 102.69, p-value = 0.7081\n",
      "alternative hypothesis: true difference in means between group 0 and group 1 is not equal to 0\n",
      "95 percent confidence interval:\n",
      " -4.045504  5.934631\n",
      "sample estimates:\n",
      "mean in group 0 mean in group 1 \n",
      "       34.99844        34.05388 \n",
      "\n",
      "\u001B[1m=== MEDIAS DEL GRUPO TRATAMIENTO Y CONTROL PARA EL CÁLCULO DEL ATE: ===\u001B[0m \n",
      "\u001B[1m=== PARA ESTO, SE UTILIZAN TODOS LOS DATOS, NO SOLO LOS MATCHEADOS. ===\u001B[0m \n",
      "Media del Grupo Tratamiento (simi = 1): 34.05388 \n",
      "Media del Grupo Control (simi = 0): 32.30576 \n",
      "\n",
      "\n",
      "\u001B[1m=== AVERAGE TREATMENT EFFECT ON THE TREATED (ATT): ===\u001B[0m \n",
      "ATT = -0.9445634 \n",
      "\u001B[1m=== AVERAGE TREATMENT EFFECT (ATE): ===\u001B[0m \n",
      "ATE = 1.748117 \n"
     ]
    },
    {
     "data": {
      "text/plain": [
       "plot without title"
      ],
      "image/png": "[encoded data removed]"
     },
     "metadata": {
      "image/png": {
       "width": 420,
       "height": 420
      }
     },
     "output_type": "display_data"
    }
   ],
   "execution_count": 21
  }
 ],
 "metadata": {
  "kernelspec": {
   "display_name": "R",
   "language": "R",
   "name": "ir"
  },
  "language_info": {
   "codemirror_mode": "r",
   "file_extension": ".r",
   "mimetype": "text/x-r-source",
   "name": "R",
   "pygments_lexer": "r",
   "version": "4.4.1"
  }
 },
 "nbformat": 4,
 "nbformat_minor": 5
}
