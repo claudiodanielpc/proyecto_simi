{
 "cells": [
  {
   "metadata": {},
   "cell_type": "markdown",
   "source": [
    "### Aplicación de propensity score matching\n",
    "\n"
   ],
   "id": "bb592c7302521f05"
  },
  {
   "cell_type": "code",
   "id": "initial_id",
   "metadata": {
    "collapsed": true,
    "ExecuteTime": {
     "end_time": "2024-11-13T01:43:53.424654Z",
     "start_time": "2024-11-13T01:43:53.413747Z"
    }
   },
   "source": [
    "##Borrar datos del entorno\n",
    "rm(list=ls())"
   ],
   "outputs": [],
   "execution_count": 27
  },
  {
   "metadata": {
    "ExecuteTime": {
     "end_time": "2024-11-13T01:43:53.483520Z",
     "start_time": "2024-11-13T01:43:53.428896Z"
    }
   },
   "cell_type": "code",
   "source": [
    "#Directorio de trabajo\n",
    "setwd(\"C:/Users/claud/Documents/GitHub/proyecto_simi\")"
   ],
   "id": "f8093b5932c40803",
   "outputs": [],
   "execution_count": 28
  },
  {
   "metadata": {
    "ExecuteTime": {
     "end_time": "2024-11-13T01:43:53.507209Z",
     "start_time": "2024-11-13T01:43:53.496185Z"
    }
   },
   "cell_type": "code",
   "source": [
    "if(!require('pacman')) install.packages('pacman')\n",
    "pacman::p_load(tidyverse,janitor,MatchIt,cobalt)"
   ],
   "id": "f0c34780850652e3",
   "outputs": [],
   "execution_count": 29
  },
  {
   "metadata": {},
   "cell_type": "markdown",
   "source": [
    "#### 1. Se cargan los datos tanto de la colonia Simi como de las colonias \"similares\" y \n",
    "Se crea una dummy para identificar a qué grupo pertenece cada observación. Estos datos son a nivel manzana y corresponden a 67 colonias, considerando la colonia Lomas de San Carlos. La fuente de información es el Censo de Población y Vivienda 2020."
   ],
   "id": "be1c3870cf114dc5"
  },
  {
   "metadata": {
    "ExecuteTime": {
     "end_time": "2024-11-13T01:43:53.845838Z",
     "start_time": "2024-11-13T01:43:53.520087Z"
    }
   },
   "cell_type": "code",
   "source": [
    "#Cargar datos\n",
    "datos_colonias<-openxlsx::read.xlsx(\"G:/Mi unidad/proyecto_simi/indicadores_mza_col.xlsx\",sheet=2)%>%\n",
    "#Crea dummy para identificar si la manzana pertenece a colonia simi o no\n",
    "mutate(simi=case_when(colonia==\"Lomas de San Carlos\" ~ 1,\n",
    "                        TRUE ~ 0))\n",
    "str(datos_colonias)"
   ],
   "id": "f660c9bcd94545ff",
   "outputs": [
    {
     "name": "stdout",
     "output_type": "stream",
     "text": [
      "'data.frame':\t2904 obs. of  39 variables:\n",
      " $ cvegeo         : chr  \"0900500010258020\" \"0900500010258035\" \"0900500010258009\" \"0900500012574009\" ...\n",
      " $ cve_col        : chr  \"09005_0019\" \"09005_0019\" \"09005_0019\" \"09005_0019\" ...\n",
      " $ id_col         : num  17240 17240 17240 17240 17240 ...\n",
      " $ colonia        : chr  \"Benito Juarez\" \"Benito Juarez\" \"Benito Juarez\" \"Benito Juarez\" ...\n",
      " $ cve_ent        : chr  \"09\" \"09\" \"09\" \"09\" ...\n",
      " $ nom_ent        : chr  \"Ciudad de México\" \"Ciudad de México\" \"Ciudad de México\" \"Ciudad de México\" ...\n",
      " $ cve_mun        : chr  \"005\" \"005\" \"005\" \"005\" ...\n",
      " $ nom_mun        : chr  \"Gustavo A. Madero\" \"Gustavo A. Madero\" \"Gustavo A. Madero\" \"Gustavo A. Madero\" ...\n",
      " $ pobtot         : num  141 147 329 260 117 124 185 119 70 129 ...\n",
      " $ hogjef_f       : num  30 27 56 31 24 12 32 22 10 9 ...\n",
      " $ hogjef_m       : num  20 19 33 37 13 21 16 15 10 29 ...\n",
      " $ graproes       : num  8.91 9.19 8.75 8.44 8.34 ...\n",
      " $ pea            : num  77 68 155 117 50 58 87 63 39 56 ...\n",
      " $ pe_inac        : num  48 51 106 95 40 52 58 35 19 45 ...\n",
      " $ pocupada       : num  76 67 153 115 50 58 83 61 38 55 ...\n",
      " $ pdesocup       : num  0 0 0 0 0 0 4 0 0 0 ...\n",
      " $ pob0_14        : num  24 34 82 69 30 20 49 23 14 36 ...\n",
      " $ pob15_64       : num  104 97 214 170 69 88 127 83 47 81 ...\n",
      " $ pob65_mas      : num  13 16 33 21 18 16 9 13 9 12 ...\n",
      " $ vivtot         : num  53 46 92 71 38 36 50 40 20 39 ...\n",
      " $ pct_noasist    : num  0 0 0 0 0 0 0 0 0 0 ...\n",
      " $ pct_sinesc     : num  2.56 7.08 4.05 8.38 9.2 ...\n",
      " $ pct_analfa     : num  2.56 5.31 4.86 5.24 0 ...\n",
      " $ pct_sinder     : num  24.1 16.3 13.4 28.5 32.5 ...\n",
      " $ pct_pisot      : num  0 0 0 0 0 0 0 0 0 0 ...\n",
      " $ pct_excsa      : num  7.55 0 3.26 4.23 2.63 ...\n",
      " $ pct_nodren     : num  0 0 0 0 0 0 0 0 0 0 ...\n",
      " $ pct_1dor       : num  50.9 45.7 35.9 32.4 52.6 ...\n",
      " $ pct_1cuart     : num  5.66 0 7.61 4.23 0 ...\n",
      " $ pct_sinelec    : num  0 0 0 0 0 0 0 0 0 0 ...\n",
      " $ pct_sinagua    : num  0 0 0 0 0 0 0 0 0 0 ...\n",
      " $ pct_tinaco     : num  88.7 97.8 78.3 74.6 92.1 ...\n",
      " $ pct_cister     : num  22.64 6.52 18.48 14.08 0 ...\n",
      " $ pct_celular    : num  79.2 60.9 80.4 84.5 57.9 ...\n",
      " $ pct_internet   : num  71.7 47.8 59.8 50.7 57.9 ...\n",
      " $ pct_computadora: num  34 30.4 33.7 39.4 31.6 ...\n",
      " $ pct_tv_paga    : num  32.1 21.7 34.8 21.1 10.5 ...\n",
      " $ pct_videos     : num  18.87 15.22 22.83 8.45 0 ...\n",
      " $ simi           : num  0 0 0 0 0 0 0 0 0 0 ...\n"
     ]
    }
   ],
   "execution_count": 30
  },
  {
   "metadata": {
    "ExecuteTime": {
     "end_time": "2024-11-13T01:43:53.874669Z",
     "start_time": "2024-11-13T01:43:53.857626Z"
    }
   },
   "cell_type": "code",
   "source": [
    "#Contar unos y ceros de la dummy\n",
    "datos_colonias%>%\n",
    "    count(simi)"
   ],
   "id": "22c3657db5f339f5",
   "outputs": [
    {
     "data": {
      "text/html": [
       "<table class=\"dataframe\">\n",
       "<caption>A data.frame: 2 × 2</caption>\n",
       "<thead>\n",
       "\t<tr><th scope=col>simi</th><th scope=col>n</th></tr>\n",
       "\t<tr><th scope=col>&lt;dbl&gt;</th><th scope=col>&lt;int&gt;</th></tr>\n",
       "</thead>\n",
       "<tbody>\n",
       "\t<tr><td>0</td><td>2851</td></tr>\n",
       "\t<tr><td>1</td><td>  53</td></tr>\n",
       "</tbody>\n",
       "</table>\n"
      ],
      "text/markdown": "\nA data.frame: 2 × 2\n\n| simi &lt;dbl&gt; | n &lt;int&gt; |\n|---|---|\n| 0 | 2851 |\n| 1 |   53 |\n\n",
      "text/latex": "A data.frame: 2 × 2\n\\begin{tabular}{ll}\n simi & n\\\\\n <dbl> & <int>\\\\\n\\hline\n\t 0 & 2851\\\\\n\t 1 &   53\\\\\n\\end{tabular}\n",
      "text/plain": [
       "  simi n   \n",
       "1 0    2851\n",
       "2 1      53"
      ]
     },
     "metadata": {},
     "output_type": "display_data"
    }
   ],
   "execution_count": 31
  },
  {
   "metadata": {},
   "cell_type": "markdown",
   "source": [
    "#### 2. Se utilizan datos de marginación. \n",
    "Se busca con ello unir los datos de marginación a nivel colonia con los datos de las manzanas de las colonias seleccionadas. Es importante mencionar que si bien los datos de marginación son a nivel colonia, se asume que, a nivel manzana, son homogéneos. La idea es utilizar el índice de marginación como variable de interés para estimar el efecto del tratamiento."
   ],
   "id": "c8097430bd08d196"
  },
  {
   "metadata": {
    "ExecuteTime": {
     "end_time": "2024-11-13T01:44:24.503305Z",
     "start_time": "2024-11-13T01:43:53.892466Z"
    }
   },
   "cell_type": "code",
   "source": [
    "#Se descargan datos de marginación de CONAPO\n",
    "\n",
    "\n",
    "url_conapo=\"http://www.conapo.gob.mx/work/models/CONAPO/Marginacion/Datos_Abiertos/Colonia/IMC_2020.zip\"\n",
    "\n",
    "download.file(url_conapo, destfile = \"data/IMC_2020.zip\")\n",
    "\n",
    "unzip(\"data/IMC_2020.zip\", exdir = \"data/IMC_2020\")\n"
   ],
   "id": "5cf5179a47bd59a4",
   "outputs": [],
   "execution_count": 32
  },
  {
   "metadata": {
    "ExecuteTime": {
     "end_time": "2024-11-13T01:44:30.395328Z",
     "start_time": "2024-11-13T01:44:24.525302Z"
    }
   },
   "cell_type": "code",
   "source": [
    "#Se leen los datos y se filtra para CDMX y EdoMex\n",
    "datos_marginacion<-openxlsx::read.xlsx(\"data/IMC_2020/IMUC_2020.xlsx\",sheet=1, \n",
    "                                        startRow = 4)%>%\n",
    "janitor::clean_names()%>%\n",
    "filter(cve_ent==\"09\" | cve_ent==\"15\")%>%\n",
    "select(cve_col,imn_2020)"
   ],
   "id": "1fa354779db5dafe",
   "outputs": [],
   "execution_count": 33
  },
  {
   "metadata": {
    "ExecuteTime": {
     "end_time": "2024-11-13T01:44:30.827007Z",
     "start_time": "2024-11-13T01:44:30.415045Z"
    }
   },
   "cell_type": "code",
   "source": [
    "#Se unen los datos de marginación a los de las manzanas de las colonias seleccionadas\n",
    "datos_colonias<-datos_colonias%>%\n",
    "left_join(datos_marginacion, by=c(\"cve_col\"=\"cve_col\"))\n",
    "datos_colonias"
   ],
   "id": "8678666f692063ea",
   "outputs": [
    {
     "data": {
      "text/html": [
       "<table class=\"dataframe\">\n",
       "<caption>A data.frame: 2904 × 40</caption>\n",
       "<thead>\n",
       "\t<tr><th scope=col>cvegeo</th><th scope=col>cve_col</th><th scope=col>id_col</th><th scope=col>colonia</th><th scope=col>cve_ent</th><th scope=col>nom_ent</th><th scope=col>cve_mun</th><th scope=col>nom_mun</th><th scope=col>pobtot</th><th scope=col>hogjef_f</th><th scope=col>⋯</th><th scope=col>pct_sinagua</th><th scope=col>pct_tinaco</th><th scope=col>pct_cister</th><th scope=col>pct_celular</th><th scope=col>pct_internet</th><th scope=col>pct_computadora</th><th scope=col>pct_tv_paga</th><th scope=col>pct_videos</th><th scope=col>simi</th><th scope=col>imn_2020</th></tr>\n",
       "\t<tr><th scope=col>&lt;chr&gt;</th><th scope=col>&lt;chr&gt;</th><th scope=col>&lt;dbl&gt;</th><th scope=col>&lt;chr&gt;</th><th scope=col>&lt;chr&gt;</th><th scope=col>&lt;chr&gt;</th><th scope=col>&lt;chr&gt;</th><th scope=col>&lt;chr&gt;</th><th scope=col>&lt;dbl&gt;</th><th scope=col>&lt;dbl&gt;</th><th scope=col>⋯</th><th scope=col>&lt;dbl&gt;</th><th scope=col>&lt;dbl&gt;</th><th scope=col>&lt;dbl&gt;</th><th scope=col>&lt;dbl&gt;</th><th scope=col>&lt;dbl&gt;</th><th scope=col>&lt;dbl&gt;</th><th scope=col>&lt;dbl&gt;</th><th scope=col>&lt;dbl&gt;</th><th scope=col>&lt;dbl&gt;</th><th scope=col>&lt;dbl&gt;</th></tr>\n",
       "</thead>\n",
       "<tbody>\n",
       "\t<tr><td>0900500010258020</td><td>09005_0019</td><td>17240</td><td>Benito Juarez       </td><td>09</td><td>Ciudad de México</td><td>005</td><td>Gustavo A. Madero</td><td>141</td><td>30</td><td>⋯</td><td> 0.00000</td><td>88.67925</td><td>22.641509</td><td> 79.24528</td><td> 71.69811</td><td>33.96226</td><td>32.07547</td><td>18.867925</td><td>0</td><td>0.9519898</td></tr>\n",
       "\t<tr><td>0900500010258035</td><td>09005_0019</td><td>17240</td><td>Benito Juarez       </td><td>09</td><td>Ciudad de México</td><td>005</td><td>Gustavo A. Madero</td><td>147</td><td>27</td><td>⋯</td><td> 0.00000</td><td>97.82609</td><td> 6.521739</td><td> 60.86957</td><td> 47.82609</td><td>30.43478</td><td>21.73913</td><td>15.217391</td><td>0</td><td>0.9519898</td></tr>\n",
       "\t<tr><td>0900500010258009</td><td>09005_0019</td><td>17240</td><td>Benito Juarez       </td><td>09</td><td>Ciudad de México</td><td>005</td><td>Gustavo A. Madero</td><td>329</td><td>56</td><td>⋯</td><td> 0.00000</td><td>78.26087</td><td>18.478261</td><td> 80.43478</td><td> 59.78261</td><td>33.69565</td><td>34.78261</td><td>22.826087</td><td>0</td><td>0.9519898</td></tr>\n",
       "\t<tr><td>0900500012574009</td><td>09005_0019</td><td>17240</td><td>Benito Juarez       </td><td>09</td><td>Ciudad de México</td><td>005</td><td>Gustavo A. Madero</td><td>260</td><td>31</td><td>⋯</td><td> 0.00000</td><td>74.64789</td><td>14.084507</td><td> 84.50704</td><td> 50.70423</td><td>39.43662</td><td>21.12676</td><td> 8.450704</td><td>0</td><td>0.9519898</td></tr>\n",
       "\t<tr><td>0900500010258019</td><td>09005_0019</td><td>17240</td><td>Benito Juarez       </td><td>09</td><td>Ciudad de México</td><td>005</td><td>Gustavo A. Madero</td><td>117</td><td>24</td><td>⋯</td><td> 0.00000</td><td>92.10526</td><td> 0.000000</td><td> 57.89474</td><td> 57.89474</td><td>31.57895</td><td>10.52632</td><td> 0.000000</td><td>0</td><td>0.9519898</td></tr>\n",
       "\t<tr><td>0900500012574010</td><td>09005_0019</td><td>17240</td><td>Benito Juarez       </td><td>09</td><td>Ciudad de México</td><td>005</td><td>Gustavo A. Madero</td><td>124</td><td>12</td><td>⋯</td><td> 0.00000</td><td>83.33333</td><td>25.000000</td><td> 77.77778</td><td> 58.33333</td><td>38.88889</td><td>41.66667</td><td>13.888889</td><td>0</td><td>0.9519898</td></tr>\n",
       "\t<tr><td>0900500010258001</td><td>09005_0019</td><td>17240</td><td>Benito Juarez       </td><td>09</td><td>Ciudad de México</td><td>005</td><td>Gustavo A. Madero</td><td>185</td><td>32</td><td>⋯</td><td> 0.00000</td><td>84.00000</td><td>28.000000</td><td> 88.00000</td><td> 58.00000</td><td>44.00000</td><td>46.00000</td><td>24.000000</td><td>0</td><td>0.9519898</td></tr>\n",
       "\t<tr><td>0900500010258045</td><td>09005_0019</td><td>17240</td><td>Benito Juarez       </td><td>09</td><td>Ciudad de México</td><td>005</td><td>Gustavo A. Madero</td><td>119</td><td>22</td><td>⋯</td><td> 0.00000</td><td>92.50000</td><td> 0.000000</td><td> 65.00000</td><td> 62.50000</td><td>30.00000</td><td>32.50000</td><td>15.000000</td><td>0</td><td>0.9519898</td></tr>\n",
       "\t<tr><td>0900500010258002</td><td>09005_0019</td><td>17240</td><td>Benito Juarez       </td><td>09</td><td>Ciudad de México</td><td>005</td><td>Gustavo A. Madero</td><td> 70</td><td>10</td><td>⋯</td><td> 0.00000</td><td>95.00000</td><td> 0.000000</td><td> 90.00000</td><td> 45.00000</td><td>40.00000</td><td>25.00000</td><td> 0.000000</td><td>0</td><td>0.9519898</td></tr>\n",
       "\t<tr><td>0900500012574038</td><td>09005_0019</td><td>17240</td><td>Benito Juarez       </td><td>09</td><td>Ciudad de México</td><td>005</td><td>Gustavo A. Madero</td><td>129</td><td> 9</td><td>⋯</td><td> 0.00000</td><td>64.10256</td><td> 0.000000</td><td> 84.61538</td><td> 43.58974</td><td>25.64103</td><td>15.38462</td><td> 7.692308</td><td>0</td><td>0.9519898</td></tr>\n",
       "\t<tr><td>0900500010258006</td><td>09005_0019</td><td>17240</td><td>Benito Juarez       </td><td>09</td><td>Ciudad de México</td><td>005</td><td>Gustavo A. Madero</td><td>124</td><td>24</td><td>⋯</td><td> 0.00000</td><td>85.00000</td><td>12.500000</td><td> 80.00000</td><td> 67.50000</td><td>22.50000</td><td>30.00000</td><td>12.500000</td><td>0</td><td>0.9519898</td></tr>\n",
       "\t<tr><td>0900500010258037</td><td>09005_0019</td><td>17240</td><td>Benito Juarez       </td><td>09</td><td>Ciudad de México</td><td>005</td><td>Gustavo A. Madero</td><td>130</td><td>22</td><td>⋯</td><td> 0.00000</td><td>73.68421</td><td> 0.000000</td><td> 73.68421</td><td> 57.89474</td><td>26.31579</td><td>26.31579</td><td>15.789474</td><td>0</td><td>0.9519898</td></tr>\n",
       "\t<tr><td>0900500010258017</td><td>09005_0019</td><td>17240</td><td>Benito Juarez       </td><td>09</td><td>Ciudad de México</td><td>005</td><td>Gustavo A. Madero</td><td>108</td><td>25</td><td>⋯</td><td> 0.00000</td><td>71.87500</td><td>28.125000</td><td> 75.00000</td><td> 65.62500</td><td>28.12500</td><td>28.12500</td><td> 0.000000</td><td>0</td><td>0.9519898</td></tr>\n",
       "\t<tr><td>0900500010258039</td><td>09005_0019</td><td>17240</td><td>Benito Juarez       </td><td>09</td><td>Ciudad de México</td><td>005</td><td>Gustavo A. Madero</td><td> 55</td><td> 4</td><td>⋯</td><td> 0.00000</td><td>58.33333</td><td> 0.000000</td><td> 83.33333</td><td> 66.66667</td><td>50.00000</td><td>41.66667</td><td> 0.000000</td><td>0</td><td>0.9519898</td></tr>\n",
       "\t<tr><td>0900500010258016</td><td>09005_0019</td><td>17240</td><td>Benito Juarez       </td><td>09</td><td>Ciudad de México</td><td>005</td><td>Gustavo A. Madero</td><td>104</td><td>13</td><td>⋯</td><td> 0.00000</td><td>70.00000</td><td>13.333333</td><td> 73.33333</td><td> 66.66667</td><td>36.66667</td><td>30.00000</td><td>20.000000</td><td>0</td><td>0.9519898</td></tr>\n",
       "\t<tr><td>0900500010258049</td><td>09005_0019</td><td>17240</td><td>Benito Juarez       </td><td>09</td><td>Ciudad de México</td><td>005</td><td>Gustavo A. Madero</td><td> 96</td><td>11</td><td>⋯</td><td> 0.00000</td><td>72.72727</td><td>27.272727</td><td> 54.54545</td><td> 72.72727</td><td>27.27273</td><td>13.63636</td><td> 0.000000</td><td>0</td><td>0.9519898</td></tr>\n",
       "\t<tr><td>0900500010258015</td><td>09005_0019</td><td>17240</td><td>Benito Juarez       </td><td>09</td><td>Ciudad de México</td><td>005</td><td>Gustavo A. Madero</td><td>105</td><td>13</td><td>⋯</td><td> 0.00000</td><td>74.07407</td><td> 0.000000</td><td> 81.48148</td><td> 74.07407</td><td>44.44444</td><td>18.51852</td><td>22.222222</td><td>0</td><td>0.9519898</td></tr>\n",
       "\t<tr><td>0900500010258041</td><td>09005_0019</td><td>17240</td><td>Benito Juarez       </td><td>09</td><td>Ciudad de México</td><td>005</td><td>Gustavo A. Madero</td><td> 68</td><td> 7</td><td>⋯</td><td> 0.00000</td><td>75.00000</td><td> 0.000000</td><td> 81.25000</td><td> 62.50000</td><td>31.25000</td><td> 0.00000</td><td> 0.000000</td><td>0</td><td>0.9519898</td></tr>\n",
       "\t<tr><td>0900500010258048</td><td>09005_0019</td><td>17240</td><td>Benito Juarez       </td><td>09</td><td>Ciudad de México</td><td>005</td><td>Gustavo A. Madero</td><td> 76</td><td>10</td><td>⋯</td><td> 0.00000</td><td>65.38462</td><td>15.384615</td><td> 61.53846</td><td> 42.30769</td><td>15.38462</td><td>11.53846</td><td> 0.000000</td><td>0</td><td>0.9519898</td></tr>\n",
       "\t<tr><td>0900500010258032</td><td>09005_0019</td><td>17240</td><td>Benito Juarez       </td><td>09</td><td>Ciudad de México</td><td>005</td><td>Gustavo A. Madero</td><td>185</td><td>19</td><td>⋯</td><td> 0.00000</td><td>57.77778</td><td> 8.888889</td><td> 80.00000</td><td> 57.77778</td><td>31.11111</td><td>17.77778</td><td> 8.888889</td><td>0</td><td>0.9519898</td></tr>\n",
       "\t<tr><td>0900500010243056</td><td>09005_0019</td><td>17240</td><td>Benito Juarez       </td><td>09</td><td>Ciudad de México</td><td>005</td><td>Gustavo A. Madero</td><td>104</td><td>10</td><td>⋯</td><td> 0.00000</td><td>64.28571</td><td> 0.000000</td><td> 67.85714</td><td> 39.28571</td><td>32.14286</td><td> 0.00000</td><td>10.714286</td><td>0</td><td>0.9519898</td></tr>\n",
       "\t<tr><td>0900500010258031</td><td>09005_0019</td><td>17240</td><td>Benito Juarez       </td><td>09</td><td>Ciudad de México</td><td>005</td><td>Gustavo A. Madero</td><td> 72</td><td> 6</td><td>⋯</td><td> 0.00000</td><td>52.94118</td><td> 0.000000</td><td> 70.58824</td><td> 70.58824</td><td>41.17647</td><td> 0.00000</td><td>29.411765</td><td>0</td><td>0.9519898</td></tr>\n",
       "\t<tr><td>0900500010243040</td><td>09005_0019</td><td>17240</td><td>Benito Juarez       </td><td>09</td><td>Ciudad de México</td><td>005</td><td>Gustavo A. Madero</td><td>120</td><td> 4</td><td>⋯</td><td> 0.00000</td><td>73.52941</td><td> 0.000000</td><td> 76.47059</td><td> 64.70588</td><td>29.41176</td><td>17.64706</td><td> 8.823529</td><td>0</td><td>0.9519898</td></tr>\n",
       "\t<tr><td>0900500010243041</td><td>09005_0019</td><td>17240</td><td>Benito Juarez       </td><td>09</td><td>Ciudad de México</td><td>005</td><td>Gustavo A. Madero</td><td> 83</td><td> 9</td><td>⋯</td><td>37.03704</td><td>51.85185</td><td>22.222222</td><td> 66.66667</td><td> 40.74074</td><td>18.51852</td><td> 0.00000</td><td> 0.000000</td><td>0</td><td>0.9519898</td></tr>\n",
       "\t<tr><td>0900500012979044</td><td>09005_0118</td><td>17339</td><td>Luis Donaldo Colosio</td><td>09</td><td>Ciudad de México</td><td>005</td><td>Gustavo A. Madero</td><td> 59</td><td> 6</td><td>⋯</td><td> 0.00000</td><td>52.94118</td><td> 0.000000</td><td> 82.35294</td><td> 52.94118</td><td>17.64706</td><td> 0.00000</td><td> 0.000000</td><td>0</td><td>0.9501927</td></tr>\n",
       "\t<tr><td>0900500012979046</td><td>09005_0118</td><td>17339</td><td>Luis Donaldo Colosio</td><td>09</td><td>Ciudad de México</td><td>005</td><td>Gustavo A. Madero</td><td> 74</td><td> 6</td><td>⋯</td><td> 0.00000</td><td>66.66667</td><td> 0.000000</td><td> 83.33333</td><td> 45.83333</td><td>25.00000</td><td>12.50000</td><td>12.500000</td><td>0</td><td>0.9501927</td></tr>\n",
       "\t<tr><td>0900500012979045</td><td>09005_0118</td><td>17339</td><td>Luis Donaldo Colosio</td><td>09</td><td>Ciudad de México</td><td>005</td><td>Gustavo A. Madero</td><td> 53</td><td> 0</td><td>⋯</td><td> 0.00000</td><td>60.00000</td><td> 0.000000</td><td> 80.00000</td><td> 30.00000</td><td> 0.00000</td><td> 0.00000</td><td> 0.000000</td><td>0</td><td>0.9501927</td></tr>\n",
       "\t<tr><td>0900500012979043</td><td>09005_0118</td><td>17339</td><td>Luis Donaldo Colosio</td><td>09</td><td>Ciudad de México</td><td>005</td><td>Gustavo A. Madero</td><td> 97</td><td>14</td><td>⋯</td><td> 0.00000</td><td>72.22222</td><td> 8.333333</td><td> 83.33333</td><td> 58.33333</td><td>36.11111</td><td>19.44444</td><td>11.111111</td><td>0</td><td>0.9501927</td></tr>\n",
       "\t<tr><td>0900500012979051</td><td>09005_0118</td><td>17339</td><td>Luis Donaldo Colosio</td><td>09</td><td>Ciudad de México</td><td>005</td><td>Gustavo A. Madero</td><td> 17</td><td> 0</td><td>⋯</td><td> 0.00000</td><td> 0.00000</td><td> 0.000000</td><td>100.00000</td><td>100.00000</td><td> 0.00000</td><td> 0.00000</td><td> 0.000000</td><td>0</td><td>0.9501927</td></tr>\n",
       "\t<tr><td>0900500012979040</td><td>09005_0118</td><td>17339</td><td>Luis Donaldo Colosio</td><td>09</td><td>Ciudad de México</td><td>005</td><td>Gustavo A. Madero</td><td>134</td><td>10</td><td>⋯</td><td> 0.00000</td><td>70.00000</td><td> 0.000000</td><td> 87.50000</td><td> 47.50000</td><td>20.00000</td><td>15.00000</td><td> 0.000000</td><td>0</td><td>0.9501927</td></tr>\n",
       "\t<tr><td>⋮</td><td>⋮</td><td>⋮</td><td>⋮</td><td>⋮</td><td>⋮</td><td>⋮</td><td>⋮</td><td>⋮</td><td>⋮</td><td>⋱</td><td>⋮</td><td>⋮</td><td>⋮</td><td>⋮</td><td>⋮</td><td>⋮</td><td>⋮</td><td>⋮</td><td>⋮</td><td>⋮</td></tr>\n",
       "\t<tr><td>1512200010917025</td><td>15122_0033</td><td>45613</td><td>San Juan Tlalpizahuac</td><td>15</td><td>México</td><td>122</td><td>Valle de Chalco Solidaridad</td><td> 71</td><td> 5</td><td>⋯</td><td>0</td><td> 77.77778</td><td>77.77778</td><td> 88.88889</td><td> 55.55556</td><td>33.33333</td><td>16.66667</td><td>16.666667</td><td>0</td><td>0.944586</td></tr>\n",
       "\t<tr><td>1512200010917026</td><td>15122_0033</td><td>45613</td><td>San Juan Tlalpizahuac</td><td>15</td><td>México</td><td>122</td><td>Valle de Chalco Solidaridad</td><td> 85</td><td>10</td><td>⋯</td><td>0</td><td> 85.18519</td><td>88.88889</td><td> 85.18519</td><td> 48.14815</td><td>33.33333</td><td>29.62963</td><td>14.814815</td><td>0</td><td>0.944586</td></tr>\n",
       "\t<tr><td>1512200010917018</td><td>15122_0033</td><td>45613</td><td>San Juan Tlalpizahuac</td><td>15</td><td>México</td><td>122</td><td>Valle de Chalco Solidaridad</td><td>105</td><td> 8</td><td>⋯</td><td>0</td><td> 84.61538</td><td>38.46154</td><td> 84.61538</td><td> 65.38462</td><td>42.30769</td><td>38.46154</td><td>11.538462</td><td>0</td><td>0.944586</td></tr>\n",
       "\t<tr><td>1512200010917019</td><td>15122_0033</td><td>45613</td><td>San Juan Tlalpizahuac</td><td>15</td><td>México</td><td>122</td><td>Valle de Chalco Solidaridad</td><td> 35</td><td> 0</td><td>⋯</td><td>0</td><td> 72.72727</td><td>63.63636</td><td> 81.81818</td><td> 54.54545</td><td>27.27273</td><td> 0.00000</td><td>27.272727</td><td>0</td><td>0.944586</td></tr>\n",
       "\t<tr><td>1512200010917002</td><td>15122_0033</td><td>45613</td><td>San Juan Tlalpizahuac</td><td>15</td><td>México</td><td>122</td><td>Valle de Chalco Solidaridad</td><td> 49</td><td> 4</td><td>⋯</td><td>0</td><td> 85.71429</td><td>78.57143</td><td>100.00000</td><td> 92.85714</td><td>50.00000</td><td>42.85714</td><td>42.857143</td><td>0</td><td>0.944586</td></tr>\n",
       "\t<tr><td>1512200010917004</td><td>15122_0033</td><td>45613</td><td>San Juan Tlalpizahuac</td><td>15</td><td>México</td><td>122</td><td>Valle de Chalco Solidaridad</td><td>122</td><td>11</td><td>⋯</td><td>0</td><td> 66.66667</td><td>69.23077</td><td> 74.35897</td><td> 51.28205</td><td>23.07692</td><td>30.76923</td><td>15.384615</td><td>0</td><td>0.944586</td></tr>\n",
       "\t<tr><td>1512200010917011</td><td>15122_0033</td><td>45613</td><td>San Juan Tlalpizahuac</td><td>15</td><td>México</td><td>122</td><td>Valle de Chalco Solidaridad</td><td>125</td><td> 9</td><td>⋯</td><td>0</td><td> 65.85366</td><td>63.41463</td><td> 70.73171</td><td> 56.09756</td><td>31.70732</td><td>21.95122</td><td>14.634146</td><td>0</td><td>0.944586</td></tr>\n",
       "\t<tr><td>1512200010917010</td><td>15122_0033</td><td>45613</td><td>San Juan Tlalpizahuac</td><td>15</td><td>México</td><td>122</td><td>Valle de Chalco Solidaridad</td><td> 69</td><td> 6</td><td>⋯</td><td>0</td><td> 84.21053</td><td>63.15789</td><td> 78.94737</td><td> 68.42105</td><td>52.63158</td><td>52.63158</td><td>42.105263</td><td>0</td><td>0.944586</td></tr>\n",
       "\t<tr><td>1512200010902031</td><td>15122_0033</td><td>45613</td><td>San Juan Tlalpizahuac</td><td>15</td><td>México</td><td>122</td><td>Valle de Chalco Solidaridad</td><td> 28</td><td> 0</td><td>⋯</td><td>0</td><td> 50.00000</td><td>66.66667</td><td> 83.33333</td><td> 50.00000</td><td> 0.00000</td><td>50.00000</td><td> 0.000000</td><td>0</td><td>0.944586</td></tr>\n",
       "\t<tr><td>1512200010917009</td><td>15122_0033</td><td>45613</td><td>San Juan Tlalpizahuac</td><td>15</td><td>México</td><td>122</td><td>Valle de Chalco Solidaridad</td><td> 59</td><td> 5</td><td>⋯</td><td>0</td><td> 77.77778</td><td>50.00000</td><td>100.00000</td><td> 50.00000</td><td>22.22222</td><td>22.22222</td><td> 0.000000</td><td>0</td><td>0.944586</td></tr>\n",
       "\t<tr><td>1512200010917003</td><td>15122_0033</td><td>45613</td><td>San Juan Tlalpizahuac</td><td>15</td><td>México</td><td>122</td><td>Valle de Chalco Solidaridad</td><td> 66</td><td> 4</td><td>⋯</td><td>0</td><td> 73.68421</td><td>57.89474</td><td> 94.73684</td><td> 57.89474</td><td>31.57895</td><td>42.10526</td><td> 0.000000</td><td>0</td><td>0.944586</td></tr>\n",
       "\t<tr><td>1512200010917012</td><td>15122_0033</td><td>45613</td><td>San Juan Tlalpizahuac</td><td>15</td><td>México</td><td>122</td><td>Valle de Chalco Solidaridad</td><td> 11</td><td> 0</td><td>⋯</td><td>0</td><td>  0.00000</td><td> 0.00000</td><td>  0.00000</td><td>  0.00000</td><td> 0.00000</td><td> 0.00000</td><td> 0.000000</td><td>0</td><td>0.944586</td></tr>\n",
       "\t<tr><td>1512200010917020</td><td>15122_0033</td><td>45613</td><td>San Juan Tlalpizahuac</td><td>15</td><td>México</td><td>122</td><td>Valle de Chalco Solidaridad</td><td> 91</td><td>10</td><td>⋯</td><td>0</td><td> 95.65217</td><td>86.95652</td><td> 86.95652</td><td> 78.26087</td><td>43.47826</td><td>39.13043</td><td>17.391304</td><td>0</td><td>0.944586</td></tr>\n",
       "\t<tr><td>1512200010917013</td><td>15122_0033</td><td>45613</td><td>San Juan Tlalpizahuac</td><td>15</td><td>México</td><td>122</td><td>Valle de Chalco Solidaridad</td><td> 67</td><td> 4</td><td>⋯</td><td>0</td><td> 94.44444</td><td>55.55556</td><td> 94.44444</td><td> 66.66667</td><td>55.55556</td><td>33.33333</td><td> 0.000000</td><td>0</td><td>0.944586</td></tr>\n",
       "\t<tr><td>1512200010917001</td><td>15122_0033</td><td>45613</td><td>San Juan Tlalpizahuac</td><td>15</td><td>México</td><td>122</td><td>Valle de Chalco Solidaridad</td><td> 65</td><td>10</td><td>⋯</td><td>0</td><td> 66.66667</td><td>37.50000</td><td> 79.16667</td><td> 62.50000</td><td>45.83333</td><td>37.50000</td><td> 0.000000</td><td>0</td><td>0.944586</td></tr>\n",
       "\t<tr><td>1512200010917005</td><td>15122_0033</td><td>45613</td><td>San Juan Tlalpizahuac</td><td>15</td><td>México</td><td>122</td><td>Valle de Chalco Solidaridad</td><td>105</td><td>14</td><td>⋯</td><td>0</td><td> 90.00000</td><td>56.66667</td><td> 76.66667</td><td> 80.00000</td><td>50.00000</td><td>53.33333</td><td>10.000000</td><td>0</td><td>0.944586</td></tr>\n",
       "\t<tr><td>1512200010917008</td><td>15122_0033</td><td>45613</td><td>San Juan Tlalpizahuac</td><td>15</td><td>México</td><td>122</td><td>Valle de Chalco Solidaridad</td><td> 75</td><td> 0</td><td>⋯</td><td>0</td><td> 89.47368</td><td>73.68421</td><td> 89.47368</td><td> 73.68421</td><td>47.36842</td><td>63.15789</td><td>21.052632</td><td>0</td><td>0.944586</td></tr>\n",
       "\t<tr><td>1512200010917021</td><td>15122_0033</td><td>45613</td><td>San Juan Tlalpizahuac</td><td>15</td><td>México</td><td>122</td><td>Valle de Chalco Solidaridad</td><td>144</td><td>21</td><td>⋯</td><td>0</td><td> 85.36585</td><td>82.92683</td><td> 73.17073</td><td> 48.78049</td><td>41.46341</td><td>24.39024</td><td> 0.000000</td><td>0</td><td>0.944586</td></tr>\n",
       "\t<tr><td>1512200010917007</td><td>15122_0033</td><td>45613</td><td>San Juan Tlalpizahuac</td><td>15</td><td>México</td><td>122</td><td>Valle de Chalco Solidaridad</td><td>  6</td><td> 0</td><td>⋯</td><td>0</td><td>  0.00000</td><td> 0.00000</td><td>  0.00000</td><td>  0.00000</td><td> 0.00000</td><td> 0.00000</td><td> 0.000000</td><td>0</td><td>0.944586</td></tr>\n",
       "\t<tr><td>1512200010917006</td><td>15122_0033</td><td>45613</td><td>San Juan Tlalpizahuac</td><td>15</td><td>México</td><td>122</td><td>Valle de Chalco Solidaridad</td><td>120</td><td>10</td><td>⋯</td><td>0</td><td>100.00000</td><td>79.31034</td><td> 79.31034</td><td> 72.41379</td><td>48.27586</td><td>51.72414</td><td>27.586207</td><td>0</td><td>0.944586</td></tr>\n",
       "\t<tr><td>1512200010917014</td><td>15122_0033</td><td>45613</td><td>San Juan Tlalpizahuac</td><td>15</td><td>México</td><td>122</td><td>Valle de Chalco Solidaridad</td><td>112</td><td>16</td><td>⋯</td><td>0</td><td> 82.35294</td><td>70.58824</td><td> 82.35294</td><td> 61.76471</td><td>26.47059</td><td>41.17647</td><td>11.764706</td><td>0</td><td>0.944586</td></tr>\n",
       "\t<tr><td>1512200010917031</td><td>15122_0033</td><td>45613</td><td>San Juan Tlalpizahuac</td><td>15</td><td>México</td><td>122</td><td>Valle de Chalco Solidaridad</td><td> 76</td><td> 4</td><td>⋯</td><td>0</td><td> 84.61538</td><td>61.53846</td><td> 92.30769</td><td> 69.23077</td><td>46.15385</td><td>23.07692</td><td> 0.000000</td><td>0</td><td>0.944586</td></tr>\n",
       "\t<tr><td>1512200010917016</td><td>15122_0033</td><td>45613</td><td>San Juan Tlalpizahuac</td><td>15</td><td>México</td><td>122</td><td>Valle de Chalco Solidaridad</td><td>101</td><td>15</td><td>⋯</td><td>0</td><td> 73.33333</td><td>70.00000</td><td> 86.66667</td><td> 53.33333</td><td>50.00000</td><td>30.00000</td><td>10.000000</td><td>0</td><td>0.944586</td></tr>\n",
       "\t<tr><td>1512200010917015</td><td>15122_0033</td><td>45613</td><td>San Juan Tlalpizahuac</td><td>15</td><td>México</td><td>122</td><td>Valle de Chalco Solidaridad</td><td>110</td><td>14</td><td>⋯</td><td>0</td><td> 88.57143</td><td>74.28571</td><td> 91.42857</td><td> 57.14286</td><td>34.28571</td><td>45.71429</td><td>11.428571</td><td>0</td><td>0.944586</td></tr>\n",
       "\t<tr><td>1512200010917030</td><td>15122_0033</td><td>45613</td><td>San Juan Tlalpizahuac</td><td>15</td><td>México</td><td>122</td><td>Valle de Chalco Solidaridad</td><td>135</td><td>16</td><td>⋯</td><td>0</td><td> 90.24390</td><td>70.73171</td><td> 85.36585</td><td> 63.41463</td><td>41.46341</td><td>39.02439</td><td> 0.000000</td><td>0</td><td>0.944586</td></tr>\n",
       "\t<tr><td>1512200010917027</td><td>15122_0033</td><td>45613</td><td>San Juan Tlalpizahuac</td><td>15</td><td>México</td><td>122</td><td>Valle de Chalco Solidaridad</td><td> 11</td><td> 0</td><td>⋯</td><td>0</td><td>100.00000</td><td> 0.00000</td><td>100.00000</td><td>100.00000</td><td> 0.00000</td><td> 0.00000</td><td> 0.000000</td><td>0</td><td>0.944586</td></tr>\n",
       "\t<tr><td>1512200010917022</td><td>15122_0033</td><td>45613</td><td>San Juan Tlalpizahuac</td><td>15</td><td>México</td><td>122</td><td>Valle de Chalco Solidaridad</td><td>191</td><td>18</td><td>⋯</td><td>0</td><td> 77.77778</td><td>73.01587</td><td> 85.71429</td><td> 46.03175</td><td>25.39683</td><td>38.09524</td><td> 4.761905</td><td>0</td><td>0.944586</td></tr>\n",
       "\t<tr><td>1512200010917023</td><td>15122_0033</td><td>45613</td><td>San Juan Tlalpizahuac</td><td>15</td><td>México</td><td>122</td><td>Valle de Chalco Solidaridad</td><td>126</td><td>12</td><td>⋯</td><td>0</td><td> 80.95238</td><td>57.14286</td><td> 90.47619</td><td> 80.95238</td><td>28.57143</td><td>47.61905</td><td> 0.000000</td><td>0</td><td>0.944586</td></tr>\n",
       "\t<tr><td>1512200010917028</td><td>15122_0033</td><td>45613</td><td>San Juan Tlalpizahuac</td><td>15</td><td>México</td><td>122</td><td>Valle de Chalco Solidaridad</td><td> 85</td><td>10</td><td>⋯</td><td>0</td><td> 88.00000</td><td>76.00000</td><td> 84.00000</td><td> 40.00000</td><td>32.00000</td><td>12.00000</td><td> 0.000000</td><td>0</td><td>0.944586</td></tr>\n",
       "\t<tr><td>1512200010917029</td><td>15122_0033</td><td>45613</td><td>San Juan Tlalpizahuac</td><td>15</td><td>México</td><td>122</td><td>Valle de Chalco Solidaridad</td><td> 59</td><td> 3</td><td>⋯</td><td>0</td><td> 72.72727</td><td>81.81818</td><td>100.00000</td><td> 63.63636</td><td>27.27273</td><td>45.45455</td><td> 0.000000</td><td>0</td><td>0.944586</td></tr>\n",
       "</tbody>\n",
       "</table>\n"
      ],
      "text/markdown": "\nA data.frame: 2904 × 40\n\n| cvegeo &lt;chr&gt; | cve_col &lt;chr&gt; | id_col &lt;dbl&gt; | colonia &lt;chr&gt; | cve_ent &lt;chr&gt; | nom_ent &lt;chr&gt; | cve_mun &lt;chr&gt; | nom_mun &lt;chr&gt; | pobtot &lt;dbl&gt; | hogjef_f &lt;dbl&gt; | ⋯ ⋯ | pct_sinagua &lt;dbl&gt; | pct_tinaco &lt;dbl&gt; | pct_cister &lt;dbl&gt; | pct_celular &lt;dbl&gt; | pct_internet &lt;dbl&gt; | pct_computadora &lt;dbl&gt; | pct_tv_paga &lt;dbl&gt; | pct_videos &lt;dbl&gt; | simi &lt;dbl&gt; | imn_2020 &lt;dbl&gt; |\n|---|---|---|---|---|---|---|---|---|---|---|---|---|---|---|---|---|---|---|---|---|\n| 0900500010258020 | 09005_0019 | 17240 | Benito Juarez        | 09 | Ciudad de México | 005 | Gustavo A. Madero | 141 | 30 | ⋯ |  0.00000 | 88.67925 | 22.641509 |  79.24528 |  71.69811 | 33.96226 | 32.07547 | 18.867925 | 0 | 0.9519898 |\n| 0900500010258035 | 09005_0019 | 17240 | Benito Juarez        | 09 | Ciudad de México | 005 | Gustavo A. Madero | 147 | 27 | ⋯ |  0.00000 | 97.82609 |  6.521739 |  60.86957 |  47.82609 | 30.43478 | 21.73913 | 15.217391 | 0 | 0.9519898 |\n| 0900500010258009 | 09005_0019 | 17240 | Benito Juarez        | 09 | Ciudad de México | 005 | Gustavo A. Madero | 329 | 56 | ⋯ |  0.00000 | 78.26087 | 18.478261 |  80.43478 |  59.78261 | 33.69565 | 34.78261 | 22.826087 | 0 | 0.9519898 |\n| 0900500012574009 | 09005_0019 | 17240 | Benito Juarez        | 09 | Ciudad de México | 005 | Gustavo A. Madero | 260 | 31 | ⋯ |  0.00000 | 74.64789 | 14.084507 |  84.50704 |  50.70423 | 39.43662 | 21.12676 |  8.450704 | 0 | 0.9519898 |\n| 0900500010258019 | 09005_0019 | 17240 | Benito Juarez        | 09 | Ciudad de México | 005 | Gustavo A. Madero | 117 | 24 | ⋯ |  0.00000 | 92.10526 |  0.000000 |  57.89474 |  57.89474 | 31.57895 | 10.52632 |  0.000000 | 0 | 0.9519898 |\n| 0900500012574010 | 09005_0019 | 17240 | Benito Juarez        | 09 | Ciudad de México | 005 | Gustavo A. Madero | 124 | 12 | ⋯ |  0.00000 | 83.33333 | 25.000000 |  77.77778 |  58.33333 | 38.88889 | 41.66667 | 13.888889 | 0 | 0.9519898 |\n| 0900500010258001 | 09005_0019 | 17240 | Benito Juarez        | 09 | Ciudad de México | 005 | Gustavo A. Madero | 185 | 32 | ⋯ |  0.00000 | 84.00000 | 28.000000 |  88.00000 |  58.00000 | 44.00000 | 46.00000 | 24.000000 | 0 | 0.9519898 |\n| 0900500010258045 | 09005_0019 | 17240 | Benito Juarez        | 09 | Ciudad de México | 005 | Gustavo A. Madero | 119 | 22 | ⋯ |  0.00000 | 92.50000 |  0.000000 |  65.00000 |  62.50000 | 30.00000 | 32.50000 | 15.000000 | 0 | 0.9519898 |\n| 0900500010258002 | 09005_0019 | 17240 | Benito Juarez        | 09 | Ciudad de México | 005 | Gustavo A. Madero |  70 | 10 | ⋯ |  0.00000 | 95.00000 |  0.000000 |  90.00000 |  45.00000 | 40.00000 | 25.00000 |  0.000000 | 0 | 0.9519898 |\n| 0900500012574038 | 09005_0019 | 17240 | Benito Juarez        | 09 | Ciudad de México | 005 | Gustavo A. Madero | 129 |  9 | ⋯ |  0.00000 | 64.10256 |  0.000000 |  84.61538 |  43.58974 | 25.64103 | 15.38462 |  7.692308 | 0 | 0.9519898 |\n| 0900500010258006 | 09005_0019 | 17240 | Benito Juarez        | 09 | Ciudad de México | 005 | Gustavo A. Madero | 124 | 24 | ⋯ |  0.00000 | 85.00000 | 12.500000 |  80.00000 |  67.50000 | 22.50000 | 30.00000 | 12.500000 | 0 | 0.9519898 |\n| 0900500010258037 | 09005_0019 | 17240 | Benito Juarez        | 09 | Ciudad de México | 005 | Gustavo A. Madero | 130 | 22 | ⋯ |  0.00000 | 73.68421 |  0.000000 |  73.68421 |  57.89474 | 26.31579 | 26.31579 | 15.789474 | 0 | 0.9519898 |\n| 0900500010258017 | 09005_0019 | 17240 | Benito Juarez        | 09 | Ciudad de México | 005 | Gustavo A. Madero | 108 | 25 | ⋯ |  0.00000 | 71.87500 | 28.125000 |  75.00000 |  65.62500 | 28.12500 | 28.12500 |  0.000000 | 0 | 0.9519898 |\n| 0900500010258039 | 09005_0019 | 17240 | Benito Juarez        | 09 | Ciudad de México | 005 | Gustavo A. Madero |  55 |  4 | ⋯ |  0.00000 | 58.33333 |  0.000000 |  83.33333 |  66.66667 | 50.00000 | 41.66667 |  0.000000 | 0 | 0.9519898 |\n| 0900500010258016 | 09005_0019 | 17240 | Benito Juarez        | 09 | Ciudad de México | 005 | Gustavo A. Madero | 104 | 13 | ⋯ |  0.00000 | 70.00000 | 13.333333 |  73.33333 |  66.66667 | 36.66667 | 30.00000 | 20.000000 | 0 | 0.9519898 |\n| 0900500010258049 | 09005_0019 | 17240 | Benito Juarez        | 09 | Ciudad de México | 005 | Gustavo A. Madero |  96 | 11 | ⋯ |  0.00000 | 72.72727 | 27.272727 |  54.54545 |  72.72727 | 27.27273 | 13.63636 |  0.000000 | 0 | 0.9519898 |\n| 0900500010258015 | 09005_0019 | 17240 | Benito Juarez        | 09 | Ciudad de México | 005 | Gustavo A. Madero | 105 | 13 | ⋯ |  0.00000 | 74.07407 |  0.000000 |  81.48148 |  74.07407 | 44.44444 | 18.51852 | 22.222222 | 0 | 0.9519898 |\n| 0900500010258041 | 09005_0019 | 17240 | Benito Juarez        | 09 | Ciudad de México | 005 | Gustavo A. Madero |  68 |  7 | ⋯ |  0.00000 | 75.00000 |  0.000000 |  81.25000 |  62.50000 | 31.25000 |  0.00000 |  0.000000 | 0 | 0.9519898 |\n| 0900500010258048 | 09005_0019 | 17240 | Benito Juarez        | 09 | Ciudad de México | 005 | Gustavo A. Madero |  76 | 10 | ⋯ |  0.00000 | 65.38462 | 15.384615 |  61.53846 |  42.30769 | 15.38462 | 11.53846 |  0.000000 | 0 | 0.9519898 |\n| 0900500010258032 | 09005_0019 | 17240 | Benito Juarez        | 09 | Ciudad de México | 005 | Gustavo A. Madero | 185 | 19 | ⋯ |  0.00000 | 57.77778 |  8.888889 |  80.00000 |  57.77778 | 31.11111 | 17.77778 |  8.888889 | 0 | 0.9519898 |\n| 0900500010243056 | 09005_0019 | 17240 | Benito Juarez        | 09 | Ciudad de México | 005 | Gustavo A. Madero | 104 | 10 | ⋯ |  0.00000 | 64.28571 |  0.000000 |  67.85714 |  39.28571 | 32.14286 |  0.00000 | 10.714286 | 0 | 0.9519898 |\n| 0900500010258031 | 09005_0019 | 17240 | Benito Juarez        | 09 | Ciudad de México | 005 | Gustavo A. Madero |  72 |  6 | ⋯ |  0.00000 | 52.94118 |  0.000000 |  70.58824 |  70.58824 | 41.17647 |  0.00000 | 29.411765 | 0 | 0.9519898 |\n| 0900500010243040 | 09005_0019 | 17240 | Benito Juarez        | 09 | Ciudad de México | 005 | Gustavo A. Madero | 120 |  4 | ⋯ |  0.00000 | 73.52941 |  0.000000 |  76.47059 |  64.70588 | 29.41176 | 17.64706 |  8.823529 | 0 | 0.9519898 |\n| 0900500010243041 | 09005_0019 | 17240 | Benito Juarez        | 09 | Ciudad de México | 005 | Gustavo A. Madero |  83 |  9 | ⋯ | 37.03704 | 51.85185 | 22.222222 |  66.66667 |  40.74074 | 18.51852 |  0.00000 |  0.000000 | 0 | 0.9519898 |\n| 0900500012979044 | 09005_0118 | 17339 | Luis Donaldo Colosio | 09 | Ciudad de México | 005 | Gustavo A. Madero |  59 |  6 | ⋯ |  0.00000 | 52.94118 |  0.000000 |  82.35294 |  52.94118 | 17.64706 |  0.00000 |  0.000000 | 0 | 0.9501927 |\n| 0900500012979046 | 09005_0118 | 17339 | Luis Donaldo Colosio | 09 | Ciudad de México | 005 | Gustavo A. Madero |  74 |  6 | ⋯ |  0.00000 | 66.66667 |  0.000000 |  83.33333 |  45.83333 | 25.00000 | 12.50000 | 12.500000 | 0 | 0.9501927 |\n| 0900500012979045 | 09005_0118 | 17339 | Luis Donaldo Colosio | 09 | Ciudad de México | 005 | Gustavo A. Madero |  53 |  0 | ⋯ |  0.00000 | 60.00000 |  0.000000 |  80.00000 |  30.00000 |  0.00000 |  0.00000 |  0.000000 | 0 | 0.9501927 |\n| 0900500012979043 | 09005_0118 | 17339 | Luis Donaldo Colosio | 09 | Ciudad de México | 005 | Gustavo A. Madero |  97 | 14 | ⋯ |  0.00000 | 72.22222 |  8.333333 |  83.33333 |  58.33333 | 36.11111 | 19.44444 | 11.111111 | 0 | 0.9501927 |\n| 0900500012979051 | 09005_0118 | 17339 | Luis Donaldo Colosio | 09 | Ciudad de México | 005 | Gustavo A. Madero |  17 |  0 | ⋯ |  0.00000 |  0.00000 |  0.000000 | 100.00000 | 100.00000 |  0.00000 |  0.00000 |  0.000000 | 0 | 0.9501927 |\n| 0900500012979040 | 09005_0118 | 17339 | Luis Donaldo Colosio | 09 | Ciudad de México | 005 | Gustavo A. Madero | 134 | 10 | ⋯ |  0.00000 | 70.00000 |  0.000000 |  87.50000 |  47.50000 | 20.00000 | 15.00000 |  0.000000 | 0 | 0.9501927 |\n| ⋮ | ⋮ | ⋮ | ⋮ | ⋮ | ⋮ | ⋮ | ⋮ | ⋮ | ⋮ | ⋱ | ⋮ | ⋮ | ⋮ | ⋮ | ⋮ | ⋮ | ⋮ | ⋮ | ⋮ | ⋮ |\n| 1512200010917025 | 15122_0033 | 45613 | San Juan Tlalpizahuac | 15 | México | 122 | Valle de Chalco Solidaridad |  71 |  5 | ⋯ | 0 |  77.77778 | 77.77778 |  88.88889 |  55.55556 | 33.33333 | 16.66667 | 16.666667 | 0 | 0.944586 |\n| 1512200010917026 | 15122_0033 | 45613 | San Juan Tlalpizahuac | 15 | México | 122 | Valle de Chalco Solidaridad |  85 | 10 | ⋯ | 0 |  85.18519 | 88.88889 |  85.18519 |  48.14815 | 33.33333 | 29.62963 | 14.814815 | 0 | 0.944586 |\n| 1512200010917018 | 15122_0033 | 45613 | San Juan Tlalpizahuac | 15 | México | 122 | Valle de Chalco Solidaridad | 105 |  8 | ⋯ | 0 |  84.61538 | 38.46154 |  84.61538 |  65.38462 | 42.30769 | 38.46154 | 11.538462 | 0 | 0.944586 |\n| 1512200010917019 | 15122_0033 | 45613 | San Juan Tlalpizahuac | 15 | México | 122 | Valle de Chalco Solidaridad |  35 |  0 | ⋯ | 0 |  72.72727 | 63.63636 |  81.81818 |  54.54545 | 27.27273 |  0.00000 | 27.272727 | 0 | 0.944586 |\n| 1512200010917002 | 15122_0033 | 45613 | San Juan Tlalpizahuac | 15 | México | 122 | Valle de Chalco Solidaridad |  49 |  4 | ⋯ | 0 |  85.71429 | 78.57143 | 100.00000 |  92.85714 | 50.00000 | 42.85714 | 42.857143 | 0 | 0.944586 |\n| 1512200010917004 | 15122_0033 | 45613 | San Juan Tlalpizahuac | 15 | México | 122 | Valle de Chalco Solidaridad | 122 | 11 | ⋯ | 0 |  66.66667 | 69.23077 |  74.35897 |  51.28205 | 23.07692 | 30.76923 | 15.384615 | 0 | 0.944586 |\n| 1512200010917011 | 15122_0033 | 45613 | San Juan Tlalpizahuac | 15 | México | 122 | Valle de Chalco Solidaridad | 125 |  9 | ⋯ | 0 |  65.85366 | 63.41463 |  70.73171 |  56.09756 | 31.70732 | 21.95122 | 14.634146 | 0 | 0.944586 |\n| 1512200010917010 | 15122_0033 | 45613 | San Juan Tlalpizahuac | 15 | México | 122 | Valle de Chalco Solidaridad |  69 |  6 | ⋯ | 0 |  84.21053 | 63.15789 |  78.94737 |  68.42105 | 52.63158 | 52.63158 | 42.105263 | 0 | 0.944586 |\n| 1512200010902031 | 15122_0033 | 45613 | San Juan Tlalpizahuac | 15 | México | 122 | Valle de Chalco Solidaridad |  28 |  0 | ⋯ | 0 |  50.00000 | 66.66667 |  83.33333 |  50.00000 |  0.00000 | 50.00000 |  0.000000 | 0 | 0.944586 |\n| 1512200010917009 | 15122_0033 | 45613 | San Juan Tlalpizahuac | 15 | México | 122 | Valle de Chalco Solidaridad |  59 |  5 | ⋯ | 0 |  77.77778 | 50.00000 | 100.00000 |  50.00000 | 22.22222 | 22.22222 |  0.000000 | 0 | 0.944586 |\n| 1512200010917003 | 15122_0033 | 45613 | San Juan Tlalpizahuac | 15 | México | 122 | Valle de Chalco Solidaridad |  66 |  4 | ⋯ | 0 |  73.68421 | 57.89474 |  94.73684 |  57.89474 | 31.57895 | 42.10526 |  0.000000 | 0 | 0.944586 |\n| 1512200010917012 | 15122_0033 | 45613 | San Juan Tlalpizahuac | 15 | México | 122 | Valle de Chalco Solidaridad |  11 |  0 | ⋯ | 0 |   0.00000 |  0.00000 |   0.00000 |   0.00000 |  0.00000 |  0.00000 |  0.000000 | 0 | 0.944586 |\n| 1512200010917020 | 15122_0033 | 45613 | San Juan Tlalpizahuac | 15 | México | 122 | Valle de Chalco Solidaridad |  91 | 10 | ⋯ | 0 |  95.65217 | 86.95652 |  86.95652 |  78.26087 | 43.47826 | 39.13043 | 17.391304 | 0 | 0.944586 |\n| 1512200010917013 | 15122_0033 | 45613 | San Juan Tlalpizahuac | 15 | México | 122 | Valle de Chalco Solidaridad |  67 |  4 | ⋯ | 0 |  94.44444 | 55.55556 |  94.44444 |  66.66667 | 55.55556 | 33.33333 |  0.000000 | 0 | 0.944586 |\n| 1512200010917001 | 15122_0033 | 45613 | San Juan Tlalpizahuac | 15 | México | 122 | Valle de Chalco Solidaridad |  65 | 10 | ⋯ | 0 |  66.66667 | 37.50000 |  79.16667 |  62.50000 | 45.83333 | 37.50000 |  0.000000 | 0 | 0.944586 |\n| 1512200010917005 | 15122_0033 | 45613 | San Juan Tlalpizahuac | 15 | México | 122 | Valle de Chalco Solidaridad | 105 | 14 | ⋯ | 0 |  90.00000 | 56.66667 |  76.66667 |  80.00000 | 50.00000 | 53.33333 | 10.000000 | 0 | 0.944586 |\n| 1512200010917008 | 15122_0033 | 45613 | San Juan Tlalpizahuac | 15 | México | 122 | Valle de Chalco Solidaridad |  75 |  0 | ⋯ | 0 |  89.47368 | 73.68421 |  89.47368 |  73.68421 | 47.36842 | 63.15789 | 21.052632 | 0 | 0.944586 |\n| 1512200010917021 | 15122_0033 | 45613 | San Juan Tlalpizahuac | 15 | México | 122 | Valle de Chalco Solidaridad | 144 | 21 | ⋯ | 0 |  85.36585 | 82.92683 |  73.17073 |  48.78049 | 41.46341 | 24.39024 |  0.000000 | 0 | 0.944586 |\n| 1512200010917007 | 15122_0033 | 45613 | San Juan Tlalpizahuac | 15 | México | 122 | Valle de Chalco Solidaridad |   6 |  0 | ⋯ | 0 |   0.00000 |  0.00000 |   0.00000 |   0.00000 |  0.00000 |  0.00000 |  0.000000 | 0 | 0.944586 |\n| 1512200010917006 | 15122_0033 | 45613 | San Juan Tlalpizahuac | 15 | México | 122 | Valle de Chalco Solidaridad | 120 | 10 | ⋯ | 0 | 100.00000 | 79.31034 |  79.31034 |  72.41379 | 48.27586 | 51.72414 | 27.586207 | 0 | 0.944586 |\n| 1512200010917014 | 15122_0033 | 45613 | San Juan Tlalpizahuac | 15 | México | 122 | Valle de Chalco Solidaridad | 112 | 16 | ⋯ | 0 |  82.35294 | 70.58824 |  82.35294 |  61.76471 | 26.47059 | 41.17647 | 11.764706 | 0 | 0.944586 |\n| 1512200010917031 | 15122_0033 | 45613 | San Juan Tlalpizahuac | 15 | México | 122 | Valle de Chalco Solidaridad |  76 |  4 | ⋯ | 0 |  84.61538 | 61.53846 |  92.30769 |  69.23077 | 46.15385 | 23.07692 |  0.000000 | 0 | 0.944586 |\n| 1512200010917016 | 15122_0033 | 45613 | San Juan Tlalpizahuac | 15 | México | 122 | Valle de Chalco Solidaridad | 101 | 15 | ⋯ | 0 |  73.33333 | 70.00000 |  86.66667 |  53.33333 | 50.00000 | 30.00000 | 10.000000 | 0 | 0.944586 |\n| 1512200010917015 | 15122_0033 | 45613 | San Juan Tlalpizahuac | 15 | México | 122 | Valle de Chalco Solidaridad | 110 | 14 | ⋯ | 0 |  88.57143 | 74.28571 |  91.42857 |  57.14286 | 34.28571 | 45.71429 | 11.428571 | 0 | 0.944586 |\n| 1512200010917030 | 15122_0033 | 45613 | San Juan Tlalpizahuac | 15 | México | 122 | Valle de Chalco Solidaridad | 135 | 16 | ⋯ | 0 |  90.24390 | 70.73171 |  85.36585 |  63.41463 | 41.46341 | 39.02439 |  0.000000 | 0 | 0.944586 |\n| 1512200010917027 | 15122_0033 | 45613 | San Juan Tlalpizahuac | 15 | México | 122 | Valle de Chalco Solidaridad |  11 |  0 | ⋯ | 0 | 100.00000 |  0.00000 | 100.00000 | 100.00000 |  0.00000 |  0.00000 |  0.000000 | 0 | 0.944586 |\n| 1512200010917022 | 15122_0033 | 45613 | San Juan Tlalpizahuac | 15 | México | 122 | Valle de Chalco Solidaridad | 191 | 18 | ⋯ | 0 |  77.77778 | 73.01587 |  85.71429 |  46.03175 | 25.39683 | 38.09524 |  4.761905 | 0 | 0.944586 |\n| 1512200010917023 | 15122_0033 | 45613 | San Juan Tlalpizahuac | 15 | México | 122 | Valle de Chalco Solidaridad | 126 | 12 | ⋯ | 0 |  80.95238 | 57.14286 |  90.47619 |  80.95238 | 28.57143 | 47.61905 |  0.000000 | 0 | 0.944586 |\n| 1512200010917028 | 15122_0033 | 45613 | San Juan Tlalpizahuac | 15 | México | 122 | Valle de Chalco Solidaridad |  85 | 10 | ⋯ | 0 |  88.00000 | 76.00000 |  84.00000 |  40.00000 | 32.00000 | 12.00000 |  0.000000 | 0 | 0.944586 |\n| 1512200010917029 | 15122_0033 | 45613 | San Juan Tlalpizahuac | 15 | México | 122 | Valle de Chalco Solidaridad |  59 |  3 | ⋯ | 0 |  72.72727 | 81.81818 | 100.00000 |  63.63636 | 27.27273 | 45.45455 |  0.000000 | 0 | 0.944586 |\n\n",
      "text/latex": "A data.frame: 2904 × 40\n\\begin{tabular}{lllllllllllllllllllll}\n cvegeo & cve\\_col & id\\_col & colonia & cve\\_ent & nom\\_ent & cve\\_mun & nom\\_mun & pobtot & hogjef\\_f & ⋯ & pct\\_sinagua & pct\\_tinaco & pct\\_cister & pct\\_celular & pct\\_internet & pct\\_computadora & pct\\_tv\\_paga & pct\\_videos & simi & imn\\_2020\\\\\n <chr> & <chr> & <dbl> & <chr> & <chr> & <chr> & <chr> & <chr> & <dbl> & <dbl> & ⋯ & <dbl> & <dbl> & <dbl> & <dbl> & <dbl> & <dbl> & <dbl> & <dbl> & <dbl> & <dbl>\\\\\n\\hline\n\t 0900500010258020 & 09005\\_0019 & 17240 & Benito Juarez        & 09 & Ciudad de México & 005 & Gustavo A. Madero & 141 & 30 & ⋯ &  0.00000 & 88.67925 & 22.641509 &  79.24528 &  71.69811 & 33.96226 & 32.07547 & 18.867925 & 0 & 0.9519898\\\\\n\t 0900500010258035 & 09005\\_0019 & 17240 & Benito Juarez        & 09 & Ciudad de México & 005 & Gustavo A. Madero & 147 & 27 & ⋯ &  0.00000 & 97.82609 &  6.521739 &  60.86957 &  47.82609 & 30.43478 & 21.73913 & 15.217391 & 0 & 0.9519898\\\\\n\t 0900500010258009 & 09005\\_0019 & 17240 & Benito Juarez        & 09 & Ciudad de México & 005 & Gustavo A. Madero & 329 & 56 & ⋯ &  0.00000 & 78.26087 & 18.478261 &  80.43478 &  59.78261 & 33.69565 & 34.78261 & 22.826087 & 0 & 0.9519898\\\\\n\t 0900500012574009 & 09005\\_0019 & 17240 & Benito Juarez        & 09 & Ciudad de México & 005 & Gustavo A. Madero & 260 & 31 & ⋯ &  0.00000 & 74.64789 & 14.084507 &  84.50704 &  50.70423 & 39.43662 & 21.12676 &  8.450704 & 0 & 0.9519898\\\\\n\t 0900500010258019 & 09005\\_0019 & 17240 & Benito Juarez        & 09 & Ciudad de México & 005 & Gustavo A. Madero & 117 & 24 & ⋯ &  0.00000 & 92.10526 &  0.000000 &  57.89474 &  57.89474 & 31.57895 & 10.52632 &  0.000000 & 0 & 0.9519898\\\\\n\t 0900500012574010 & 09005\\_0019 & 17240 & Benito Juarez        & 09 & Ciudad de México & 005 & Gustavo A. Madero & 124 & 12 & ⋯ &  0.00000 & 83.33333 & 25.000000 &  77.77778 &  58.33333 & 38.88889 & 41.66667 & 13.888889 & 0 & 0.9519898\\\\\n\t 0900500010258001 & 09005\\_0019 & 17240 & Benito Juarez        & 09 & Ciudad de México & 005 & Gustavo A. Madero & 185 & 32 & ⋯ &  0.00000 & 84.00000 & 28.000000 &  88.00000 &  58.00000 & 44.00000 & 46.00000 & 24.000000 & 0 & 0.9519898\\\\\n\t 0900500010258045 & 09005\\_0019 & 17240 & Benito Juarez        & 09 & Ciudad de México & 005 & Gustavo A. Madero & 119 & 22 & ⋯ &  0.00000 & 92.50000 &  0.000000 &  65.00000 &  62.50000 & 30.00000 & 32.50000 & 15.000000 & 0 & 0.9519898\\\\\n\t 0900500010258002 & 09005\\_0019 & 17240 & Benito Juarez        & 09 & Ciudad de México & 005 & Gustavo A. Madero &  70 & 10 & ⋯ &  0.00000 & 95.00000 &  0.000000 &  90.00000 &  45.00000 & 40.00000 & 25.00000 &  0.000000 & 0 & 0.9519898\\\\\n\t 0900500012574038 & 09005\\_0019 & 17240 & Benito Juarez        & 09 & Ciudad de México & 005 & Gustavo A. Madero & 129 &  9 & ⋯ &  0.00000 & 64.10256 &  0.000000 &  84.61538 &  43.58974 & 25.64103 & 15.38462 &  7.692308 & 0 & 0.9519898\\\\\n\t 0900500010258006 & 09005\\_0019 & 17240 & Benito Juarez        & 09 & Ciudad de México & 005 & Gustavo A. Madero & 124 & 24 & ⋯ &  0.00000 & 85.00000 & 12.500000 &  80.00000 &  67.50000 & 22.50000 & 30.00000 & 12.500000 & 0 & 0.9519898\\\\\n\t 0900500010258037 & 09005\\_0019 & 17240 & Benito Juarez        & 09 & Ciudad de México & 005 & Gustavo A. Madero & 130 & 22 & ⋯ &  0.00000 & 73.68421 &  0.000000 &  73.68421 &  57.89474 & 26.31579 & 26.31579 & 15.789474 & 0 & 0.9519898\\\\\n\t 0900500010258017 & 09005\\_0019 & 17240 & Benito Juarez        & 09 & Ciudad de México & 005 & Gustavo A. Madero & 108 & 25 & ⋯ &  0.00000 & 71.87500 & 28.125000 &  75.00000 &  65.62500 & 28.12500 & 28.12500 &  0.000000 & 0 & 0.9519898\\\\\n\t 0900500010258039 & 09005\\_0019 & 17240 & Benito Juarez        & 09 & Ciudad de México & 005 & Gustavo A. Madero &  55 &  4 & ⋯ &  0.00000 & 58.33333 &  0.000000 &  83.33333 &  66.66667 & 50.00000 & 41.66667 &  0.000000 & 0 & 0.9519898\\\\\n\t 0900500010258016 & 09005\\_0019 & 17240 & Benito Juarez        & 09 & Ciudad de México & 005 & Gustavo A. Madero & 104 & 13 & ⋯ &  0.00000 & 70.00000 & 13.333333 &  73.33333 &  66.66667 & 36.66667 & 30.00000 & 20.000000 & 0 & 0.9519898\\\\\n\t 0900500010258049 & 09005\\_0019 & 17240 & Benito Juarez        & 09 & Ciudad de México & 005 & Gustavo A. Madero &  96 & 11 & ⋯ &  0.00000 & 72.72727 & 27.272727 &  54.54545 &  72.72727 & 27.27273 & 13.63636 &  0.000000 & 0 & 0.9519898\\\\\n\t 0900500010258015 & 09005\\_0019 & 17240 & Benito Juarez        & 09 & Ciudad de México & 005 & Gustavo A. Madero & 105 & 13 & ⋯ &  0.00000 & 74.07407 &  0.000000 &  81.48148 &  74.07407 & 44.44444 & 18.51852 & 22.222222 & 0 & 0.9519898\\\\\n\t 0900500010258041 & 09005\\_0019 & 17240 & Benito Juarez        & 09 & Ciudad de México & 005 & Gustavo A. Madero &  68 &  7 & ⋯ &  0.00000 & 75.00000 &  0.000000 &  81.25000 &  62.50000 & 31.25000 &  0.00000 &  0.000000 & 0 & 0.9519898\\\\\n\t 0900500010258048 & 09005\\_0019 & 17240 & Benito Juarez        & 09 & Ciudad de México & 005 & Gustavo A. Madero &  76 & 10 & ⋯ &  0.00000 & 65.38462 & 15.384615 &  61.53846 &  42.30769 & 15.38462 & 11.53846 &  0.000000 & 0 & 0.9519898\\\\\n\t 0900500010258032 & 09005\\_0019 & 17240 & Benito Juarez        & 09 & Ciudad de México & 005 & Gustavo A. Madero & 185 & 19 & ⋯ &  0.00000 & 57.77778 &  8.888889 &  80.00000 &  57.77778 & 31.11111 & 17.77778 &  8.888889 & 0 & 0.9519898\\\\\n\t 0900500010243056 & 09005\\_0019 & 17240 & Benito Juarez        & 09 & Ciudad de México & 005 & Gustavo A. Madero & 104 & 10 & ⋯ &  0.00000 & 64.28571 &  0.000000 &  67.85714 &  39.28571 & 32.14286 &  0.00000 & 10.714286 & 0 & 0.9519898\\\\\n\t 0900500010258031 & 09005\\_0019 & 17240 & Benito Juarez        & 09 & Ciudad de México & 005 & Gustavo A. Madero &  72 &  6 & ⋯ &  0.00000 & 52.94118 &  0.000000 &  70.58824 &  70.58824 & 41.17647 &  0.00000 & 29.411765 & 0 & 0.9519898\\\\\n\t 0900500010243040 & 09005\\_0019 & 17240 & Benito Juarez        & 09 & Ciudad de México & 005 & Gustavo A. Madero & 120 &  4 & ⋯ &  0.00000 & 73.52941 &  0.000000 &  76.47059 &  64.70588 & 29.41176 & 17.64706 &  8.823529 & 0 & 0.9519898\\\\\n\t 0900500010243041 & 09005\\_0019 & 17240 & Benito Juarez        & 09 & Ciudad de México & 005 & Gustavo A. Madero &  83 &  9 & ⋯ & 37.03704 & 51.85185 & 22.222222 &  66.66667 &  40.74074 & 18.51852 &  0.00000 &  0.000000 & 0 & 0.9519898\\\\\n\t 0900500012979044 & 09005\\_0118 & 17339 & Luis Donaldo Colosio & 09 & Ciudad de México & 005 & Gustavo A. Madero &  59 &  6 & ⋯ &  0.00000 & 52.94118 &  0.000000 &  82.35294 &  52.94118 & 17.64706 &  0.00000 &  0.000000 & 0 & 0.9501927\\\\\n\t 0900500012979046 & 09005\\_0118 & 17339 & Luis Donaldo Colosio & 09 & Ciudad de México & 005 & Gustavo A. Madero &  74 &  6 & ⋯ &  0.00000 & 66.66667 &  0.000000 &  83.33333 &  45.83333 & 25.00000 & 12.50000 & 12.500000 & 0 & 0.9501927\\\\\n\t 0900500012979045 & 09005\\_0118 & 17339 & Luis Donaldo Colosio & 09 & Ciudad de México & 005 & Gustavo A. Madero &  53 &  0 & ⋯ &  0.00000 & 60.00000 &  0.000000 &  80.00000 &  30.00000 &  0.00000 &  0.00000 &  0.000000 & 0 & 0.9501927\\\\\n\t 0900500012979043 & 09005\\_0118 & 17339 & Luis Donaldo Colosio & 09 & Ciudad de México & 005 & Gustavo A. Madero &  97 & 14 & ⋯ &  0.00000 & 72.22222 &  8.333333 &  83.33333 &  58.33333 & 36.11111 & 19.44444 & 11.111111 & 0 & 0.9501927\\\\\n\t 0900500012979051 & 09005\\_0118 & 17339 & Luis Donaldo Colosio & 09 & Ciudad de México & 005 & Gustavo A. Madero &  17 &  0 & ⋯ &  0.00000 &  0.00000 &  0.000000 & 100.00000 & 100.00000 &  0.00000 &  0.00000 &  0.000000 & 0 & 0.9501927\\\\\n\t 0900500012979040 & 09005\\_0118 & 17339 & Luis Donaldo Colosio & 09 & Ciudad de México & 005 & Gustavo A. Madero & 134 & 10 & ⋯ &  0.00000 & 70.00000 &  0.000000 &  87.50000 &  47.50000 & 20.00000 & 15.00000 &  0.000000 & 0 & 0.9501927\\\\\n\t ⋮ & ⋮ & ⋮ & ⋮ & ⋮ & ⋮ & ⋮ & ⋮ & ⋮ & ⋮ & ⋱ & ⋮ & ⋮ & ⋮ & ⋮ & ⋮ & ⋮ & ⋮ & ⋮ & ⋮ & ⋮\\\\\n\t 1512200010917025 & 15122\\_0033 & 45613 & San Juan Tlalpizahuac & 15 & México & 122 & Valle de Chalco Solidaridad &  71 &  5 & ⋯ & 0 &  77.77778 & 77.77778 &  88.88889 &  55.55556 & 33.33333 & 16.66667 & 16.666667 & 0 & 0.944586\\\\\n\t 1512200010917026 & 15122\\_0033 & 45613 & San Juan Tlalpizahuac & 15 & México & 122 & Valle de Chalco Solidaridad &  85 & 10 & ⋯ & 0 &  85.18519 & 88.88889 &  85.18519 &  48.14815 & 33.33333 & 29.62963 & 14.814815 & 0 & 0.944586\\\\\n\t 1512200010917018 & 15122\\_0033 & 45613 & San Juan Tlalpizahuac & 15 & México & 122 & Valle de Chalco Solidaridad & 105 &  8 & ⋯ & 0 &  84.61538 & 38.46154 &  84.61538 &  65.38462 & 42.30769 & 38.46154 & 11.538462 & 0 & 0.944586\\\\\n\t 1512200010917019 & 15122\\_0033 & 45613 & San Juan Tlalpizahuac & 15 & México & 122 & Valle de Chalco Solidaridad &  35 &  0 & ⋯ & 0 &  72.72727 & 63.63636 &  81.81818 &  54.54545 & 27.27273 &  0.00000 & 27.272727 & 0 & 0.944586\\\\\n\t 1512200010917002 & 15122\\_0033 & 45613 & San Juan Tlalpizahuac & 15 & México & 122 & Valle de Chalco Solidaridad &  49 &  4 & ⋯ & 0 &  85.71429 & 78.57143 & 100.00000 &  92.85714 & 50.00000 & 42.85714 & 42.857143 & 0 & 0.944586\\\\\n\t 1512200010917004 & 15122\\_0033 & 45613 & San Juan Tlalpizahuac & 15 & México & 122 & Valle de Chalco Solidaridad & 122 & 11 & ⋯ & 0 &  66.66667 & 69.23077 &  74.35897 &  51.28205 & 23.07692 & 30.76923 & 15.384615 & 0 & 0.944586\\\\\n\t 1512200010917011 & 15122\\_0033 & 45613 & San Juan Tlalpizahuac & 15 & México & 122 & Valle de Chalco Solidaridad & 125 &  9 & ⋯ & 0 &  65.85366 & 63.41463 &  70.73171 &  56.09756 & 31.70732 & 21.95122 & 14.634146 & 0 & 0.944586\\\\\n\t 1512200010917010 & 15122\\_0033 & 45613 & San Juan Tlalpizahuac & 15 & México & 122 & Valle de Chalco Solidaridad &  69 &  6 & ⋯ & 0 &  84.21053 & 63.15789 &  78.94737 &  68.42105 & 52.63158 & 52.63158 & 42.105263 & 0 & 0.944586\\\\\n\t 1512200010902031 & 15122\\_0033 & 45613 & San Juan Tlalpizahuac & 15 & México & 122 & Valle de Chalco Solidaridad &  28 &  0 & ⋯ & 0 &  50.00000 & 66.66667 &  83.33333 &  50.00000 &  0.00000 & 50.00000 &  0.000000 & 0 & 0.944586\\\\\n\t 1512200010917009 & 15122\\_0033 & 45613 & San Juan Tlalpizahuac & 15 & México & 122 & Valle de Chalco Solidaridad &  59 &  5 & ⋯ & 0 &  77.77778 & 50.00000 & 100.00000 &  50.00000 & 22.22222 & 22.22222 &  0.000000 & 0 & 0.944586\\\\\n\t 1512200010917003 & 15122\\_0033 & 45613 & San Juan Tlalpizahuac & 15 & México & 122 & Valle de Chalco Solidaridad &  66 &  4 & ⋯ & 0 &  73.68421 & 57.89474 &  94.73684 &  57.89474 & 31.57895 & 42.10526 &  0.000000 & 0 & 0.944586\\\\\n\t 1512200010917012 & 15122\\_0033 & 45613 & San Juan Tlalpizahuac & 15 & México & 122 & Valle de Chalco Solidaridad &  11 &  0 & ⋯ & 0 &   0.00000 &  0.00000 &   0.00000 &   0.00000 &  0.00000 &  0.00000 &  0.000000 & 0 & 0.944586\\\\\n\t 1512200010917020 & 15122\\_0033 & 45613 & San Juan Tlalpizahuac & 15 & México & 122 & Valle de Chalco Solidaridad &  91 & 10 & ⋯ & 0 &  95.65217 & 86.95652 &  86.95652 &  78.26087 & 43.47826 & 39.13043 & 17.391304 & 0 & 0.944586\\\\\n\t 1512200010917013 & 15122\\_0033 & 45613 & San Juan Tlalpizahuac & 15 & México & 122 & Valle de Chalco Solidaridad &  67 &  4 & ⋯ & 0 &  94.44444 & 55.55556 &  94.44444 &  66.66667 & 55.55556 & 33.33333 &  0.000000 & 0 & 0.944586\\\\\n\t 1512200010917001 & 15122\\_0033 & 45613 & San Juan Tlalpizahuac & 15 & México & 122 & Valle de Chalco Solidaridad &  65 & 10 & ⋯ & 0 &  66.66667 & 37.50000 &  79.16667 &  62.50000 & 45.83333 & 37.50000 &  0.000000 & 0 & 0.944586\\\\\n\t 1512200010917005 & 15122\\_0033 & 45613 & San Juan Tlalpizahuac & 15 & México & 122 & Valle de Chalco Solidaridad & 105 & 14 & ⋯ & 0 &  90.00000 & 56.66667 &  76.66667 &  80.00000 & 50.00000 & 53.33333 & 10.000000 & 0 & 0.944586\\\\\n\t 1512200010917008 & 15122\\_0033 & 45613 & San Juan Tlalpizahuac & 15 & México & 122 & Valle de Chalco Solidaridad &  75 &  0 & ⋯ & 0 &  89.47368 & 73.68421 &  89.47368 &  73.68421 & 47.36842 & 63.15789 & 21.052632 & 0 & 0.944586\\\\\n\t 1512200010917021 & 15122\\_0033 & 45613 & San Juan Tlalpizahuac & 15 & México & 122 & Valle de Chalco Solidaridad & 144 & 21 & ⋯ & 0 &  85.36585 & 82.92683 &  73.17073 &  48.78049 & 41.46341 & 24.39024 &  0.000000 & 0 & 0.944586\\\\\n\t 1512200010917007 & 15122\\_0033 & 45613 & San Juan Tlalpizahuac & 15 & México & 122 & Valle de Chalco Solidaridad &   6 &  0 & ⋯ & 0 &   0.00000 &  0.00000 &   0.00000 &   0.00000 &  0.00000 &  0.00000 &  0.000000 & 0 & 0.944586\\\\\n\t 1512200010917006 & 15122\\_0033 & 45613 & San Juan Tlalpizahuac & 15 & México & 122 & Valle de Chalco Solidaridad & 120 & 10 & ⋯ & 0 & 100.00000 & 79.31034 &  79.31034 &  72.41379 & 48.27586 & 51.72414 & 27.586207 & 0 & 0.944586\\\\\n\t 1512200010917014 & 15122\\_0033 & 45613 & San Juan Tlalpizahuac & 15 & México & 122 & Valle de Chalco Solidaridad & 112 & 16 & ⋯ & 0 &  82.35294 & 70.58824 &  82.35294 &  61.76471 & 26.47059 & 41.17647 & 11.764706 & 0 & 0.944586\\\\\n\t 1512200010917031 & 15122\\_0033 & 45613 & San Juan Tlalpizahuac & 15 & México & 122 & Valle de Chalco Solidaridad &  76 &  4 & ⋯ & 0 &  84.61538 & 61.53846 &  92.30769 &  69.23077 & 46.15385 & 23.07692 &  0.000000 & 0 & 0.944586\\\\\n\t 1512200010917016 & 15122\\_0033 & 45613 & San Juan Tlalpizahuac & 15 & México & 122 & Valle de Chalco Solidaridad & 101 & 15 & ⋯ & 0 &  73.33333 & 70.00000 &  86.66667 &  53.33333 & 50.00000 & 30.00000 & 10.000000 & 0 & 0.944586\\\\\n\t 1512200010917015 & 15122\\_0033 & 45613 & San Juan Tlalpizahuac & 15 & México & 122 & Valle de Chalco Solidaridad & 110 & 14 & ⋯ & 0 &  88.57143 & 74.28571 &  91.42857 &  57.14286 & 34.28571 & 45.71429 & 11.428571 & 0 & 0.944586\\\\\n\t 1512200010917030 & 15122\\_0033 & 45613 & San Juan Tlalpizahuac & 15 & México & 122 & Valle de Chalco Solidaridad & 135 & 16 & ⋯ & 0 &  90.24390 & 70.73171 &  85.36585 &  63.41463 & 41.46341 & 39.02439 &  0.000000 & 0 & 0.944586\\\\\n\t 1512200010917027 & 15122\\_0033 & 45613 & San Juan Tlalpizahuac & 15 & México & 122 & Valle de Chalco Solidaridad &  11 &  0 & ⋯ & 0 & 100.00000 &  0.00000 & 100.00000 & 100.00000 &  0.00000 &  0.00000 &  0.000000 & 0 & 0.944586\\\\\n\t 1512200010917022 & 15122\\_0033 & 45613 & San Juan Tlalpizahuac & 15 & México & 122 & Valle de Chalco Solidaridad & 191 & 18 & ⋯ & 0 &  77.77778 & 73.01587 &  85.71429 &  46.03175 & 25.39683 & 38.09524 &  4.761905 & 0 & 0.944586\\\\\n\t 1512200010917023 & 15122\\_0033 & 45613 & San Juan Tlalpizahuac & 15 & México & 122 & Valle de Chalco Solidaridad & 126 & 12 & ⋯ & 0 &  80.95238 & 57.14286 &  90.47619 &  80.95238 & 28.57143 & 47.61905 &  0.000000 & 0 & 0.944586\\\\\n\t 1512200010917028 & 15122\\_0033 & 45613 & San Juan Tlalpizahuac & 15 & México & 122 & Valle de Chalco Solidaridad &  85 & 10 & ⋯ & 0 &  88.00000 & 76.00000 &  84.00000 &  40.00000 & 32.00000 & 12.00000 &  0.000000 & 0 & 0.944586\\\\\n\t 1512200010917029 & 15122\\_0033 & 45613 & San Juan Tlalpizahuac & 15 & México & 122 & Valle de Chalco Solidaridad &  59 &  3 & ⋯ & 0 &  72.72727 & 81.81818 & 100.00000 &  63.63636 & 27.27273 & 45.45455 &  0.000000 & 0 & 0.944586\\\\\n\\end{tabular}\n",
      "text/plain": [
       "     cvegeo           cve_col    id_col colonia               cve_ent\n",
       "1    0900500010258020 09005_0019 17240  Benito Juarez         09     \n",
       "2    0900500010258035 09005_0019 17240  Benito Juarez         09     \n",
       "3    0900500010258009 09005_0019 17240  Benito Juarez         09     \n",
       "4    0900500012574009 09005_0019 17240  Benito Juarez         09     \n",
       "5    0900500010258019 09005_0019 17240  Benito Juarez         09     \n",
       "6    0900500012574010 09005_0019 17240  Benito Juarez         09     \n",
       "7    0900500010258001 09005_0019 17240  Benito Juarez         09     \n",
       "8    0900500010258045 09005_0019 17240  Benito Juarez         09     \n",
       "9    0900500010258002 09005_0019 17240  Benito Juarez         09     \n",
       "10   0900500012574038 09005_0019 17240  Benito Juarez         09     \n",
       "11   0900500010258006 09005_0019 17240  Benito Juarez         09     \n",
       "12   0900500010258037 09005_0019 17240  Benito Juarez         09     \n",
       "13   0900500010258017 09005_0019 17240  Benito Juarez         09     \n",
       "14   0900500010258039 09005_0019 17240  Benito Juarez         09     \n",
       "15   0900500010258016 09005_0019 17240  Benito Juarez         09     \n",
       "16   0900500010258049 09005_0019 17240  Benito Juarez         09     \n",
       "17   0900500010258015 09005_0019 17240  Benito Juarez         09     \n",
       "18   0900500010258041 09005_0019 17240  Benito Juarez         09     \n",
       "19   0900500010258048 09005_0019 17240  Benito Juarez         09     \n",
       "20   0900500010258032 09005_0019 17240  Benito Juarez         09     \n",
       "21   0900500010243056 09005_0019 17240  Benito Juarez         09     \n",
       "22   0900500010258031 09005_0019 17240  Benito Juarez         09     \n",
       "23   0900500010243040 09005_0019 17240  Benito Juarez         09     \n",
       "24   0900500010243041 09005_0019 17240  Benito Juarez         09     \n",
       "25   0900500012979044 09005_0118 17339  Luis Donaldo Colosio  09     \n",
       "26   0900500012979046 09005_0118 17339  Luis Donaldo Colosio  09     \n",
       "27   0900500012979045 09005_0118 17339  Luis Donaldo Colosio  09     \n",
       "28   0900500012979043 09005_0118 17339  Luis Donaldo Colosio  09     \n",
       "29   0900500012979051 09005_0118 17339  Luis Donaldo Colosio  09     \n",
       "30   0900500012979040 09005_0118 17339  Luis Donaldo Colosio  09     \n",
       "⋮    ⋮                ⋮          ⋮      ⋮                     ⋮      \n",
       "2875 1512200010917025 15122_0033 45613  San Juan Tlalpizahuac 15     \n",
       "2876 1512200010917026 15122_0033 45613  San Juan Tlalpizahuac 15     \n",
       "2877 1512200010917018 15122_0033 45613  San Juan Tlalpizahuac 15     \n",
       "2878 1512200010917019 15122_0033 45613  San Juan Tlalpizahuac 15     \n",
       "2879 1512200010917002 15122_0033 45613  San Juan Tlalpizahuac 15     \n",
       "2880 1512200010917004 15122_0033 45613  San Juan Tlalpizahuac 15     \n",
       "2881 1512200010917011 15122_0033 45613  San Juan Tlalpizahuac 15     \n",
       "2882 1512200010917010 15122_0033 45613  San Juan Tlalpizahuac 15     \n",
       "2883 1512200010902031 15122_0033 45613  San Juan Tlalpizahuac 15     \n",
       "2884 1512200010917009 15122_0033 45613  San Juan Tlalpizahuac 15     \n",
       "2885 1512200010917003 15122_0033 45613  San Juan Tlalpizahuac 15     \n",
       "2886 1512200010917012 15122_0033 45613  San Juan Tlalpizahuac 15     \n",
       "2887 1512200010917020 15122_0033 45613  San Juan Tlalpizahuac 15     \n",
       "2888 1512200010917013 15122_0033 45613  San Juan Tlalpizahuac 15     \n",
       "2889 1512200010917001 15122_0033 45613  San Juan Tlalpizahuac 15     \n",
       "2890 1512200010917005 15122_0033 45613  San Juan Tlalpizahuac 15     \n",
       "2891 1512200010917008 15122_0033 45613  San Juan Tlalpizahuac 15     \n",
       "2892 1512200010917021 15122_0033 45613  San Juan Tlalpizahuac 15     \n",
       "2893 1512200010917007 15122_0033 45613  San Juan Tlalpizahuac 15     \n",
       "2894 1512200010917006 15122_0033 45613  San Juan Tlalpizahuac 15     \n",
       "2895 1512200010917014 15122_0033 45613  San Juan Tlalpizahuac 15     \n",
       "2896 1512200010917031 15122_0033 45613  San Juan Tlalpizahuac 15     \n",
       "2897 1512200010917016 15122_0033 45613  San Juan Tlalpizahuac 15     \n",
       "2898 1512200010917015 15122_0033 45613  San Juan Tlalpizahuac 15     \n",
       "2899 1512200010917030 15122_0033 45613  San Juan Tlalpizahuac 15     \n",
       "2900 1512200010917027 15122_0033 45613  San Juan Tlalpizahuac 15     \n",
       "2901 1512200010917022 15122_0033 45613  San Juan Tlalpizahuac 15     \n",
       "2902 1512200010917023 15122_0033 45613  San Juan Tlalpizahuac 15     \n",
       "2903 1512200010917028 15122_0033 45613  San Juan Tlalpizahuac 15     \n",
       "2904 1512200010917029 15122_0033 45613  San Juan Tlalpizahuac 15     \n",
       "     nom_ent          cve_mun nom_mun                     pobtot hogjef_f ⋯\n",
       "1    Ciudad de México 005     Gustavo A. Madero           141    30       ⋯\n",
       "2    Ciudad de México 005     Gustavo A. Madero           147    27       ⋯\n",
       "3    Ciudad de México 005     Gustavo A. Madero           329    56       ⋯\n",
       "4    Ciudad de México 005     Gustavo A. Madero           260    31       ⋯\n",
       "5    Ciudad de México 005     Gustavo A. Madero           117    24       ⋯\n",
       "6    Ciudad de México 005     Gustavo A. Madero           124    12       ⋯\n",
       "7    Ciudad de México 005     Gustavo A. Madero           185    32       ⋯\n",
       "8    Ciudad de México 005     Gustavo A. Madero           119    22       ⋯\n",
       "9    Ciudad de México 005     Gustavo A. Madero            70    10       ⋯\n",
       "10   Ciudad de México 005     Gustavo A. Madero           129     9       ⋯\n",
       "11   Ciudad de México 005     Gustavo A. Madero           124    24       ⋯\n",
       "12   Ciudad de México 005     Gustavo A. Madero           130    22       ⋯\n",
       "13   Ciudad de México 005     Gustavo A. Madero           108    25       ⋯\n",
       "14   Ciudad de México 005     Gustavo A. Madero            55     4       ⋯\n",
       "15   Ciudad de México 005     Gustavo A. Madero           104    13       ⋯\n",
       "16   Ciudad de México 005     Gustavo A. Madero            96    11       ⋯\n",
       "17   Ciudad de México 005     Gustavo A. Madero           105    13       ⋯\n",
       "18   Ciudad de México 005     Gustavo A. Madero            68     7       ⋯\n",
       "19   Ciudad de México 005     Gustavo A. Madero            76    10       ⋯\n",
       "20   Ciudad de México 005     Gustavo A. Madero           185    19       ⋯\n",
       "21   Ciudad de México 005     Gustavo A. Madero           104    10       ⋯\n",
       "22   Ciudad de México 005     Gustavo A. Madero            72     6       ⋯\n",
       "23   Ciudad de México 005     Gustavo A. Madero           120     4       ⋯\n",
       "24   Ciudad de México 005     Gustavo A. Madero            83     9       ⋯\n",
       "25   Ciudad de México 005     Gustavo A. Madero            59     6       ⋯\n",
       "26   Ciudad de México 005     Gustavo A. Madero            74     6       ⋯\n",
       "27   Ciudad de México 005     Gustavo A. Madero            53     0       ⋯\n",
       "28   Ciudad de México 005     Gustavo A. Madero            97    14       ⋯\n",
       "29   Ciudad de México 005     Gustavo A. Madero            17     0       ⋯\n",
       "30   Ciudad de México 005     Gustavo A. Madero           134    10       ⋯\n",
       "⋮    ⋮                ⋮       ⋮                           ⋮      ⋮        ⋱\n",
       "2875 México           122     Valle de Chalco Solidaridad  71     5       ⋯\n",
       "2876 México           122     Valle de Chalco Solidaridad  85    10       ⋯\n",
       "2877 México           122     Valle de Chalco Solidaridad 105     8       ⋯\n",
       "2878 México           122     Valle de Chalco Solidaridad  35     0       ⋯\n",
       "2879 México           122     Valle de Chalco Solidaridad  49     4       ⋯\n",
       "2880 México           122     Valle de Chalco Solidaridad 122    11       ⋯\n",
       "2881 México           122     Valle de Chalco Solidaridad 125     9       ⋯\n",
       "2882 México           122     Valle de Chalco Solidaridad  69     6       ⋯\n",
       "2883 México           122     Valle de Chalco Solidaridad  28     0       ⋯\n",
       "2884 México           122     Valle de Chalco Solidaridad  59     5       ⋯\n",
       "2885 México           122     Valle de Chalco Solidaridad  66     4       ⋯\n",
       "2886 México           122     Valle de Chalco Solidaridad  11     0       ⋯\n",
       "2887 México           122     Valle de Chalco Solidaridad  91    10       ⋯\n",
       "2888 México           122     Valle de Chalco Solidaridad  67     4       ⋯\n",
       "2889 México           122     Valle de Chalco Solidaridad  65    10       ⋯\n",
       "2890 México           122     Valle de Chalco Solidaridad 105    14       ⋯\n",
       "2891 México           122     Valle de Chalco Solidaridad  75     0       ⋯\n",
       "2892 México           122     Valle de Chalco Solidaridad 144    21       ⋯\n",
       "2893 México           122     Valle de Chalco Solidaridad   6     0       ⋯\n",
       "2894 México           122     Valle de Chalco Solidaridad 120    10       ⋯\n",
       "2895 México           122     Valle de Chalco Solidaridad 112    16       ⋯\n",
       "2896 México           122     Valle de Chalco Solidaridad  76     4       ⋯\n",
       "2897 México           122     Valle de Chalco Solidaridad 101    15       ⋯\n",
       "2898 México           122     Valle de Chalco Solidaridad 110    14       ⋯\n",
       "2899 México           122     Valle de Chalco Solidaridad 135    16       ⋯\n",
       "2900 México           122     Valle de Chalco Solidaridad  11     0       ⋯\n",
       "2901 México           122     Valle de Chalco Solidaridad 191    18       ⋯\n",
       "2902 México           122     Valle de Chalco Solidaridad 126    12       ⋯\n",
       "2903 México           122     Valle de Chalco Solidaridad  85    10       ⋯\n",
       "2904 México           122     Valle de Chalco Solidaridad  59     3       ⋯\n",
       "     pct_sinagua pct_tinaco pct_cister pct_celular pct_internet pct_computadora\n",
       "1     0.00000    88.67925   22.641509   79.24528    71.69811    33.96226       \n",
       "2     0.00000    97.82609    6.521739   60.86957    47.82609    30.43478       \n",
       "3     0.00000    78.26087   18.478261   80.43478    59.78261    33.69565       \n",
       "4     0.00000    74.64789   14.084507   84.50704    50.70423    39.43662       \n",
       "5     0.00000    92.10526    0.000000   57.89474    57.89474    31.57895       \n",
       "6     0.00000    83.33333   25.000000   77.77778    58.33333    38.88889       \n",
       "7     0.00000    84.00000   28.000000   88.00000    58.00000    44.00000       \n",
       "8     0.00000    92.50000    0.000000   65.00000    62.50000    30.00000       \n",
       "9     0.00000    95.00000    0.000000   90.00000    45.00000    40.00000       \n",
       "10    0.00000    64.10256    0.000000   84.61538    43.58974    25.64103       \n",
       "11    0.00000    85.00000   12.500000   80.00000    67.50000    22.50000       \n",
       "12    0.00000    73.68421    0.000000   73.68421    57.89474    26.31579       \n",
       "13    0.00000    71.87500   28.125000   75.00000    65.62500    28.12500       \n",
       "14    0.00000    58.33333    0.000000   83.33333    66.66667    50.00000       \n",
       "15    0.00000    70.00000   13.333333   73.33333    66.66667    36.66667       \n",
       "16    0.00000    72.72727   27.272727   54.54545    72.72727    27.27273       \n",
       "17    0.00000    74.07407    0.000000   81.48148    74.07407    44.44444       \n",
       "18    0.00000    75.00000    0.000000   81.25000    62.50000    31.25000       \n",
       "19    0.00000    65.38462   15.384615   61.53846    42.30769    15.38462       \n",
       "20    0.00000    57.77778    8.888889   80.00000    57.77778    31.11111       \n",
       "21    0.00000    64.28571    0.000000   67.85714    39.28571    32.14286       \n",
       "22    0.00000    52.94118    0.000000   70.58824    70.58824    41.17647       \n",
       "23    0.00000    73.52941    0.000000   76.47059    64.70588    29.41176       \n",
       "24   37.03704    51.85185   22.222222   66.66667    40.74074    18.51852       \n",
       "25    0.00000    52.94118    0.000000   82.35294    52.94118    17.64706       \n",
       "26    0.00000    66.66667    0.000000   83.33333    45.83333    25.00000       \n",
       "27    0.00000    60.00000    0.000000   80.00000    30.00000     0.00000       \n",
       "28    0.00000    72.22222    8.333333   83.33333    58.33333    36.11111       \n",
       "29    0.00000     0.00000    0.000000  100.00000   100.00000     0.00000       \n",
       "30    0.00000    70.00000    0.000000   87.50000    47.50000    20.00000       \n",
       "⋮    ⋮           ⋮          ⋮          ⋮           ⋮            ⋮              \n",
       "2875 0            77.77778  77.77778    88.88889    55.55556    33.33333       \n",
       "2876 0            85.18519  88.88889    85.18519    48.14815    33.33333       \n",
       "2877 0            84.61538  38.46154    84.61538    65.38462    42.30769       \n",
       "2878 0            72.72727  63.63636    81.81818    54.54545    27.27273       \n",
       "2879 0            85.71429  78.57143   100.00000    92.85714    50.00000       \n",
       "2880 0            66.66667  69.23077    74.35897    51.28205    23.07692       \n",
       "2881 0            65.85366  63.41463    70.73171    56.09756    31.70732       \n",
       "2882 0            84.21053  63.15789    78.94737    68.42105    52.63158       \n",
       "2883 0            50.00000  66.66667    83.33333    50.00000     0.00000       \n",
       "2884 0            77.77778  50.00000   100.00000    50.00000    22.22222       \n",
       "2885 0            73.68421  57.89474    94.73684    57.89474    31.57895       \n",
       "2886 0             0.00000   0.00000     0.00000     0.00000     0.00000       \n",
       "2887 0            95.65217  86.95652    86.95652    78.26087    43.47826       \n",
       "2888 0            94.44444  55.55556    94.44444    66.66667    55.55556       \n",
       "2889 0            66.66667  37.50000    79.16667    62.50000    45.83333       \n",
       "2890 0            90.00000  56.66667    76.66667    80.00000    50.00000       \n",
       "2891 0            89.47368  73.68421    89.47368    73.68421    47.36842       \n",
       "2892 0            85.36585  82.92683    73.17073    48.78049    41.46341       \n",
       "2893 0             0.00000   0.00000     0.00000     0.00000     0.00000       \n",
       "2894 0           100.00000  79.31034    79.31034    72.41379    48.27586       \n",
       "2895 0            82.35294  70.58824    82.35294    61.76471    26.47059       \n",
       "2896 0            84.61538  61.53846    92.30769    69.23077    46.15385       \n",
       "2897 0            73.33333  70.00000    86.66667    53.33333    50.00000       \n",
       "2898 0            88.57143  74.28571    91.42857    57.14286    34.28571       \n",
       "2899 0            90.24390  70.73171    85.36585    63.41463    41.46341       \n",
       "2900 0           100.00000   0.00000   100.00000   100.00000     0.00000       \n",
       "2901 0            77.77778  73.01587    85.71429    46.03175    25.39683       \n",
       "2902 0            80.95238  57.14286    90.47619    80.95238    28.57143       \n",
       "2903 0            88.00000  76.00000    84.00000    40.00000    32.00000       \n",
       "2904 0            72.72727  81.81818   100.00000    63.63636    27.27273       \n",
       "     pct_tv_paga pct_videos simi imn_2020 \n",
       "1    32.07547    18.867925  0    0.9519898\n",
       "2    21.73913    15.217391  0    0.9519898\n",
       "3    34.78261    22.826087  0    0.9519898\n",
       "4    21.12676     8.450704  0    0.9519898\n",
       "5    10.52632     0.000000  0    0.9519898\n",
       "6    41.66667    13.888889  0    0.9519898\n",
       "7    46.00000    24.000000  0    0.9519898\n",
       "8    32.50000    15.000000  0    0.9519898\n",
       "9    25.00000     0.000000  0    0.9519898\n",
       "10   15.38462     7.692308  0    0.9519898\n",
       "11   30.00000    12.500000  0    0.9519898\n",
       "12   26.31579    15.789474  0    0.9519898\n",
       "13   28.12500     0.000000  0    0.9519898\n",
       "14   41.66667     0.000000  0    0.9519898\n",
       "15   30.00000    20.000000  0    0.9519898\n",
       "16   13.63636     0.000000  0    0.9519898\n",
       "17   18.51852    22.222222  0    0.9519898\n",
       "18    0.00000     0.000000  0    0.9519898\n",
       "19   11.53846     0.000000  0    0.9519898\n",
       "20   17.77778     8.888889  0    0.9519898\n",
       "21    0.00000    10.714286  0    0.9519898\n",
       "22    0.00000    29.411765  0    0.9519898\n",
       "23   17.64706     8.823529  0    0.9519898\n",
       "24    0.00000     0.000000  0    0.9519898\n",
       "25    0.00000     0.000000  0    0.9501927\n",
       "26   12.50000    12.500000  0    0.9501927\n",
       "27    0.00000     0.000000  0    0.9501927\n",
       "28   19.44444    11.111111  0    0.9501927\n",
       "29    0.00000     0.000000  0    0.9501927\n",
       "30   15.00000     0.000000  0    0.9501927\n",
       "⋮    ⋮           ⋮          ⋮    ⋮        \n",
       "2875 16.66667    16.666667  0    0.944586 \n",
       "2876 29.62963    14.814815  0    0.944586 \n",
       "2877 38.46154    11.538462  0    0.944586 \n",
       "2878  0.00000    27.272727  0    0.944586 \n",
       "2879 42.85714    42.857143  0    0.944586 \n",
       "2880 30.76923    15.384615  0    0.944586 \n",
       "2881 21.95122    14.634146  0    0.944586 \n",
       "2882 52.63158    42.105263  0    0.944586 \n",
       "2883 50.00000     0.000000  0    0.944586 \n",
       "2884 22.22222     0.000000  0    0.944586 \n",
       "2885 42.10526     0.000000  0    0.944586 \n",
       "2886  0.00000     0.000000  0    0.944586 \n",
       "2887 39.13043    17.391304  0    0.944586 \n",
       "2888 33.33333     0.000000  0    0.944586 \n",
       "2889 37.50000     0.000000  0    0.944586 \n",
       "2890 53.33333    10.000000  0    0.944586 \n",
       "2891 63.15789    21.052632  0    0.944586 \n",
       "2892 24.39024     0.000000  0    0.944586 \n",
       "2893  0.00000     0.000000  0    0.944586 \n",
       "2894 51.72414    27.586207  0    0.944586 \n",
       "2895 41.17647    11.764706  0    0.944586 \n",
       "2896 23.07692     0.000000  0    0.944586 \n",
       "2897 30.00000    10.000000  0    0.944586 \n",
       "2898 45.71429    11.428571  0    0.944586 \n",
       "2899 39.02439     0.000000  0    0.944586 \n",
       "2900  0.00000     0.000000  0    0.944586 \n",
       "2901 38.09524     4.761905  0    0.944586 \n",
       "2902 47.61905     0.000000  0    0.944586 \n",
       "2903 12.00000     0.000000  0    0.944586 \n",
       "2904 45.45455     0.000000  0    0.944586 "
      ]
     },
     "metadata": {},
     "output_type": "display_data"
    }
   ],
   "execution_count": 34
  },
  {
   "metadata": {},
   "cell_type": "markdown",
   "source": [
    "## Modelos\n",
    "#### 3. Se ajusta un **modelo probit** para obtener el propensity score"
   ],
   "id": "1934df38162294b0"
  },
  {
   "metadata": {
    "ExecuteTime": {
     "end_time": "2024-11-13T01:44:30.866759Z",
     "start_time": "2024-11-13T01:44:30.849562Z"
    }
   },
   "cell_type": "code",
   "source": [
    "var_modelo <- simi ~ hogjef_f + hogjef_m + graproes + pea +  \n",
    "              pe_inac + pocupada + pdesocup + pob0_14 + pob15_64 + pob65_mas"
   ],
   "id": "eb1c22fe7a10c70b",
   "outputs": [],
   "execution_count": 35
  },
  {
   "metadata": {
    "ExecuteTime": {
     "end_time": "2024-11-13T01:44:31.191585Z",
     "start_time": "2024-11-13T01:44:31.134762Z"
    }
   },
   "cell_type": "code",
   "source": [
    "#Modelo probit\n",
    "modelo_probit<-glm(var_modelo,\n",
    "                     data=datos_colonias,family=binomial(link=\"probit\"))\n",
    "summary(modelo_probit)"
   ],
   "id": "4d57ea00643e3c4d",
   "outputs": [
    {
     "name": "stderr",
     "output_type": "stream",
     "text": [
      "Warning message:\n",
      "\"glm.fit: fitted probabilities numerically 0 or 1 occurred\"\n"
     ]
    },
    {
     "data": {
      "text/plain": [
       "\n",
       "Call:\n",
       "glm(formula = var_modelo, family = binomial(link = \"probit\"), \n",
       "    data = datos_colonias)\n",
       "\n",
       "Coefficients:\n",
       "             Estimate Std. Error z value Pr(>|z|)    \n",
       "(Intercept) -2.169468   0.257440  -8.427  < 2e-16 ***\n",
       "hogjef_f    -0.001087   0.017018  -0.064   0.9491    \n",
       "hogjef_m     0.025554   0.014405   1.774   0.0761 .  \n",
       "graproes     0.031545   0.027659   1.141   0.2541    \n",
       "pea         -0.076610   0.091018  -0.842   0.4000    \n",
       "pe_inac     -0.042467   0.024924  -1.704   0.0884 .  \n",
       "pocupada     0.015783   0.086878   0.182   0.8558    \n",
       "pdesocup    -0.113903   0.090695  -1.256   0.2092    \n",
       "pob0_14      0.042366   0.010148   4.175 2.98e-05 ***\n",
       "pob15_64     0.036525   0.025738   1.419   0.1559    \n",
       "pob65_mas    0.029846   0.026386   1.131   0.2580    \n",
       "---\n",
       "Signif. codes:  0 '***' 0.001 '**' 0.01 '*' 0.05 '.' 0.1 ' ' 1\n",
       "\n",
       "(Dispersion parameter for binomial family taken to be 1)\n",
       "\n",
       "    Null deviance: 529.4  on 2903  degrees of freedom\n",
       "Residual deviance: 488.1  on 2893  degrees of freedom\n",
       "AIC: 510.1\n",
       "\n",
       "Number of Fisher Scoring iterations: 8\n"
      ]
     },
     "metadata": {},
     "output_type": "display_data"
    }
   ],
   "execution_count": 36
  },
  {
   "metadata": {},
   "cell_type": "markdown",
   "source": "#### 3.1 Se obtiene el propensity score y se realiza el matching",
   "id": "7086fb4fa6e01ef1"
  },
  {
   "metadata": {
    "ExecuteTime": {
     "end_time": "2024-11-13T01:44:31.393992Z",
     "start_time": "2024-11-13T01:44:31.277543Z"
    }
   },
   "cell_type": "code",
   "source": [
    "prs_df <- data.frame(pr_score = predict(modelo_probit, type = \"response\"),\n",
    "                     simi = datos_colonias$simi)"
   ],
   "id": "80e9121f017c1983",
   "outputs": [],
   "execution_count": 37
  },
  {
   "metadata": {
    "ExecuteTime": {
     "end_time": "2024-11-13T01:44:31.520683Z",
     "start_time": "2024-11-13T01:44:31.432238Z"
    }
   },
   "cell_type": "code",
   "source": [
    "matchit_out <- matchit(var_modelo,\n",
    "                       data = datos_colonias, method = \"nearest\", distance = prs_df$pr_score)\n",
    "matchit_out\n",
    "summary(matchit_out)"
   ],
   "id": "be6bdd32b7e3672c",
   "outputs": [
    {
     "data": {
      "text/plain": [
       "A matchit object\n",
       " - method: 1:1 nearest neighbor matching without replacement\n",
       " - distance: User-defined\n",
       " - number of obs.: 2904 (original), 106 (matched)\n",
       " - target estimand: ATT\n",
       " - covariates: hogjef_f, hogjef_m, graproes, pea, pe_inac, pocupada, pdesocup, pob0_14, pob15_64, pob65_mas"
      ]
     },
     "metadata": {},
     "output_type": "display_data"
    },
    {
     "data": {
      "text/plain": [
       "\n",
       "Call:\n",
       "matchit(formula = var_modelo, data = datos_colonias, method = \"nearest\", \n",
       "    distance = prs_df$pr_score)\n",
       "\n",
       "Summary of Balance for All Data:\n",
       "          Means Treated Means Control Std. Mean Diff. Var. Ratio eCDF Mean\n",
       "distance         0.0324        0.0180          0.7269     1.2374    0.2526\n",
       "hogjef_f         8.5094       11.5735         -0.4175     0.4303    0.0384\n",
       "hogjef_m        18.9057       21.4749         -0.1908     0.4903    0.0250\n",
       "graproes         9.2647        9.3526         -0.0922     0.1762    0.0774\n",
       "pea             50.1698       64.0702         -0.3729     0.4419    0.0523\n",
       "pe_inac         31.4151       37.8050         -0.2764     0.5315    0.0385\n",
       "pocupada        49.3774       62.6086         -0.3607     0.4454    0.0505\n",
       "pdesocup         0.2642        0.9670         -0.7293     0.1935    0.0247\n",
       "pob0_14         27.6604       28.7106         -0.0478     0.7419    0.0220\n",
       "pob15_64        70.1698       86.4963         -0.3130     0.5063    0.0505\n",
       "pob65_mas        6.1132        9.3578         -0.6079     0.3097    0.0544\n",
       "          eCDF Max\n",
       "distance    0.4809\n",
       "hogjef_f    0.1625\n",
       "hogjef_m    0.1222\n",
       "graproes    0.2427\n",
       "pea         0.2292\n",
       "pe_inac     0.1360\n",
       "pocupada    0.2278\n",
       "pdesocup    0.1287\n",
       "pob0_14     0.0794\n",
       "pob15_64    0.2240\n",
       "pob65_mas   0.2376\n",
       "\n",
       "Summary of Balance for Matched Data:\n",
       "          Means Treated Means Control Std. Mean Diff. Var. Ratio eCDF Mean\n",
       "distance         0.0324        0.0324         -0.0000     1.0023    0.0004\n",
       "hogjef_f         8.5094        9.5094         -0.1362     0.9390    0.0207\n",
       "hogjef_m        18.9057       19.6038         -0.0518     1.0600    0.0288\n",
       "graproes         9.2647        9.6770         -0.4324     0.8790    0.0721\n",
       "pea             50.1698       51.7925         -0.0435     1.5660    0.0411\n",
       "pe_inac         31.4151       32.1509         -0.0318     1.4613    0.0472\n",
       "pocupada        49.3774       51.0566         -0.0458     1.5275    0.0398\n",
       "pdesocup         0.2642        0.2830         -0.0196     1.1852    0.0031\n",
       "pob0_14         27.6604       28.3585         -0.0318     1.6103    0.0431\n",
       "pob15_64        70.1698       72.0000         -0.0351     1.5087    0.0503\n",
       "pob65_mas        6.1132        6.2830         -0.0318     1.2524    0.0162\n",
       "          eCDF Max Std. Pair Dist.\n",
       "distance    0.0377          0.0021\n",
       "hogjef_f    0.1321          1.0360\n",
       "hogjef_m    0.1509          0.8363\n",
       "graproes    0.2264          1.1859\n",
       "pea         0.2453          0.8827\n",
       "pe_inac     0.2075          0.8725\n",
       "pocupada    0.2642          0.8904\n",
       "pdesocup    0.0189          0.4503\n",
       "pob0_14     0.1698          0.8909\n",
       "pob15_64    0.2264          0.8505\n",
       "pob65_mas   0.1509          0.9651\n",
       "\n",
       "Sample Sizes:\n",
       "          Control Treated\n",
       "All          2851      53\n",
       "Matched        53      53\n",
       "Unmatched    2798       0\n",
       "Discarded       0       0\n"
      ]
     },
     "metadata": {},
     "output_type": "display_data"
    }
   ],
   "execution_count": 38
  },
  {
   "metadata": {
    "ExecuteTime": {
     "end_time": "2024-11-13T01:44:31.785907Z",
     "start_time": "2024-11-13T01:44:31.539673Z"
    }
   },
   "cell_type": "code",
   "source": [
    "#Crear tabla con matcheados y el score de propensión\n",
    "datos_matcheados<-match.data(matchit_out)\n",
    "print(paste(\"Número de manzanas matcheadas:\",nrow(datos_matcheados)))\n",
    "#Número de manzanas matcheadas sin considerar Lomas de San Carlos\n",
    "print(paste(\"Número de manzanas matcheadas sin considerar Lomas de San Carlos:\",nrow(datos_matcheados[datos_matcheados$simi==0,])))\n",
    "datos_matcheados"
   ],
   "id": "3c6e4d5aa15a78da",
   "outputs": [
    {
     "name": "stdout",
     "output_type": "stream",
     "text": [
      "[1] \"Número de manzanas matcheadas: 106\"\n",
      "[1] \"Número de manzanas matcheadas sin considerar Lomas de San Carlos: 53\"\n"
     ]
    },
    {
     "data": {
      "text/html": [
       "<table class=\"dataframe\">\n",
       "<caption>A matchdata: 106 × 43</caption>\n",
       "<thead>\n",
       "\t<tr><th></th><th scope=col>cvegeo</th><th scope=col>cve_col</th><th scope=col>id_col</th><th scope=col>colonia</th><th scope=col>cve_ent</th><th scope=col>nom_ent</th><th scope=col>cve_mun</th><th scope=col>nom_mun</th><th scope=col>pobtot</th><th scope=col>hogjef_f</th><th scope=col>⋯</th><th scope=col>pct_celular</th><th scope=col>pct_internet</th><th scope=col>pct_computadora</th><th scope=col>pct_tv_paga</th><th scope=col>pct_videos</th><th scope=col>simi</th><th scope=col>imn_2020</th><th scope=col>distance</th><th scope=col>weights</th><th scope=col>subclass</th></tr>\n",
       "\t<tr><th></th><th scope=col>&lt;chr&gt;</th><th scope=col>&lt;chr&gt;</th><th scope=col>&lt;dbl&gt;</th><th scope=col>&lt;chr&gt;</th><th scope=col>&lt;chr&gt;</th><th scope=col>&lt;chr&gt;</th><th scope=col>&lt;chr&gt;</th><th scope=col>&lt;chr&gt;</th><th scope=col>&lt;dbl&gt;</th><th scope=col>&lt;dbl&gt;</th><th scope=col>⋯</th><th scope=col>&lt;dbl&gt;</th><th scope=col>&lt;dbl&gt;</th><th scope=col>&lt;dbl&gt;</th><th scope=col>&lt;dbl&gt;</th><th scope=col>&lt;dbl&gt;</th><th scope=col>&lt;dbl&gt;</th><th scope=col>&lt;dbl&gt;</th><th scope=col>&lt;dbl&gt;</th><th scope=col>&lt;dbl&gt;</th><th scope=col>&lt;fct&gt;</th></tr>\n",
       "</thead>\n",
       "<tbody>\n",
       "\t<tr><th scope=row>10</th><td>0900500012574038</td><td>09005_0019</td><td>17240</td><td>Benito Juarez                </td><td>09</td><td>Ciudad de México</td><td>005</td><td>Gustavo A. Madero     </td><td>129</td><td> 9</td><td>⋯</td><td> 84.61538</td><td>43.58974</td><td>25.64103</td><td>15.384615</td><td> 7.692308</td><td>0</td><td>0.9519898</td><td>0.048198757</td><td>1</td><td>10</td></tr>\n",
       "\t<tr><th scope=row>17</th><td>0900500010258015</td><td>09005_0019</td><td>17240</td><td>Benito Juarez                </td><td>09</td><td>Ciudad de México</td><td>005</td><td>Gustavo A. Madero     </td><td>105</td><td>13</td><td>⋯</td><td> 81.48148</td><td>74.07407</td><td>44.44444</td><td>18.518519</td><td>22.222222</td><td>0</td><td>0.9519898</td><td>0.025630934</td><td>1</td><td>2 </td></tr>\n",
       "\t<tr><th scope=row>140</th><td>0900700014838009</td><td>09007_0013</td><td>17473</td><td>Ampliacion Emiliano Zapata   </td><td>09</td><td>Ciudad de México</td><td>007</td><td>Iztapalapa            </td><td>117</td><td>11</td><td>⋯</td><td> 90.00000</td><td>76.66667</td><td>26.66667</td><td>23.333333</td><td>26.666667</td><td>0</td><td>0.9476954</td><td>0.043328905</td><td>1</td><td>27</td></tr>\n",
       "\t<tr><th scope=row>174</th><td>0900700012189005</td><td>09007_0051</td><td>17512</td><td>El Rosario                   </td><td>09</td><td>Ciudad de México</td><td>007</td><td>Iztapalapa            </td><td> 77</td><td> 7</td><td>⋯</td><td> 80.76923</td><td>69.23077</td><td>30.76923</td><td>26.923077</td><td>19.230769</td><td>0</td><td>0.9548266</td><td>0.010332922</td><td>1</td><td>47</td></tr>\n",
       "\t<tr><th scope=row>220</th><td>0900700012051095</td><td>09007_0056</td><td>17517</td><td>El Triangulo                 </td><td>09</td><td>Ciudad de México</td><td>007</td><td>Iztapalapa            </td><td> 88</td><td> 8</td><td>⋯</td><td> 96.00000</td><td>48.00000</td><td>16.00000</td><td> 0.000000</td><td> 0.000000</td><td>0</td><td>0.9397610</td><td>0.026139155</td><td>1</td><td>3 </td></tr>\n",
       "\t<tr><th scope=row>284</th><td>0900700014289028</td><td>09007_0167</td><td>17628</td><td>San Francisco Apolocalco     </td><td>09</td><td>Ciudad de México</td><td>007</td><td>Iztapalapa            </td><td>147</td><td>10</td><td>⋯</td><td> 71.05263</td><td>63.15789</td><td>36.84211</td><td>26.315789</td><td>18.421053</td><td>0</td><td>0.9410142</td><td>0.041723277</td><td>1</td><td>24</td></tr>\n",
       "\t<tr><th scope=row>320</th><td>0900700014293012</td><td>09007_0167</td><td>17628</td><td>San Francisco Apolocalco     </td><td>09</td><td>Ciudad de México</td><td>007</td><td>Iztapalapa            </td><td>145</td><td> 7</td><td>⋯</td><td> 73.80952</td><td>66.66667</td><td>28.57143</td><td>28.571429</td><td> 0.000000</td><td>0</td><td>0.9410142</td><td>0.051061547</td><td>1</td><td>12</td></tr>\n",
       "\t<tr><th scope=row>476</th><td>090080001057A028</td><td>09008_0007</td><td>17695</td><td>El Ocotal                    </td><td>09</td><td>Ciudad de México</td><td>008</td><td>La Magdalena Contreras</td><td>154</td><td>11</td><td>⋯</td><td> 86.66667</td><td>77.77778</td><td>35.55556</td><td>26.666667</td><td>11.111111</td><td>0</td><td>0.9463932</td><td>0.071366383</td><td>1</td><td>32</td></tr>\n",
       "\t<tr><th scope=row>712</th><td>0901700010899014</td><td>09017_0043</td><td>18749</td><td>Merced Balbuena              </td><td>09</td><td>Ciudad de México</td><td>017</td><td>Venustiano Carranza   </td><td> 60</td><td> 6</td><td>⋯</td><td> 80.00000</td><td>80.00000</td><td>75.00000</td><td>45.000000</td><td>45.000000</td><td>0</td><td>0.9407663</td><td>0.031424306</td><td>1</td><td>37</td></tr>\n",
       "\t<tr><th scope=row>769</th><td>0901700010460015</td><td>09017_0054</td><td>18760</td><td>Peñon de Los Baños           </td><td>09</td><td>Ciudad de México</td><td>017</td><td>Venustiano Carranza   </td><td>105</td><td>14</td><td>⋯</td><td> 89.74359</td><td>71.79487</td><td>71.79487</td><td>35.897436</td><td>28.205128</td><td>0</td><td>0.9536387</td><td>0.029048695</td><td>1</td><td>45</td></tr>\n",
       "\t<tr><th scope=row>771</th><td>0901700010460007</td><td>09017_0054</td><td>18760</td><td>Peñon de Los Baños           </td><td>09</td><td>Ciudad de México</td><td>017</td><td>Venustiano Carranza   </td><td>120</td><td>13</td><td>⋯</td><td> 72.09302</td><td>32.55814</td><td>37.20930</td><td> 9.302326</td><td> 9.302326</td><td>0</td><td>0.9536387</td><td>0.035202763</td><td>1</td><td>41</td></tr>\n",
       "\t<tr><th scope=row>797</th><td>0901700010352001</td><td>09017_0054</td><td>18760</td><td>Peñon de Los Baños           </td><td>09</td><td>Ciudad de México</td><td>017</td><td>Venustiano Carranza   </td><td>160</td><td>10</td><td>⋯</td><td> 90.00000</td><td>66.66667</td><td>40.00000</td><td>33.333333</td><td> 0.000000</td><td>0</td><td>0.9536387</td><td>0.004029852</td><td>1</td><td>4 </td></tr>\n",
       "\t<tr><th scope=row>813</th><td>1501300011338054</td><td>15013_0001</td><td>39976</td><td>1Ro de Septiembre            </td><td>15</td><td>México          </td><td>013</td><td>Atizapán de Zaragoza  </td><td> 13</td><td> 0</td><td>⋯</td><td>100.00000</td><td> 0.00000</td><td> 0.00000</td><td> 0.000000</td><td> 0.000000</td><td>0</td><td>0.9465358</td><td>0.043911303</td><td>1</td><td>30</td></tr>\n",
       "\t<tr><th scope=row>864</th><td>1501300010630061</td><td>15013_0002</td><td>39977</td><td>5 de Mayo                    </td><td>15</td><td>México          </td><td>013</td><td>Atizapán de Zaragoza  </td><td> 66</td><td> 6</td><td>⋯</td><td> 65.21739</td><td>39.13043</td><td> 0.00000</td><td>17.391304</td><td> 0.000000</td><td>0</td><td>0.9430531</td><td>0.030301397</td><td>1</td><td>50</td></tr>\n",
       "\t<tr><th scope=row>963</th><td>1501300011395050</td><td>15013_0010</td><td>39986</td><td>Alfredo V Bonfil             </td><td>15</td><td>México          </td><td>013</td><td>Atizapán de Zaragoza  </td><td> 85</td><td> 8</td><td>⋯</td><td> 86.95652</td><td>65.21739</td><td>47.82609</td><td>43.478261</td><td>26.086957</td><td>0</td><td>0.9485763</td><td>0.023951051</td><td>1</td><td>23</td></tr>\n",
       "\t<tr><th scope=row>964</th><td>1501300011408025</td><td>15013_0010</td><td>39986</td><td>Alfredo V Bonfil             </td><td>15</td><td>México          </td><td>013</td><td>Atizapán de Zaragoza  </td><td>148</td><td>13</td><td>⋯</td><td> 94.44444</td><td>58.33333</td><td>50.00000</td><td>30.555556</td><td>19.444444</td><td>0</td><td>0.9485763</td><td>0.013914263</td><td>1</td><td>8 </td></tr>\n",
       "\t<tr><th scope=row>976</th><td>1501300010274033</td><td>15013_0040</td><td>40019</td><td>Ejido San Miguel Chalma      </td><td>15</td><td>México          </td><td>013</td><td>Atizapán de Zaragoza  </td><td> 88</td><td> 4</td><td>⋯</td><td> 77.77778</td><td>50.00000</td><td>22.22222</td><td>27.777778</td><td> 0.000000</td><td>0</td><td>0.9523169</td><td>0.033320171</td><td>1</td><td>14</td></tr>\n",
       "\t<tr><th scope=row>1030</th><td>1501300011817018</td><td>15013_0040</td><td>40019</td><td>Ejido San Miguel Chalma      </td><td>15</td><td>México          </td><td>013</td><td>Atizapán de Zaragoza  </td><td>126</td><td>15</td><td>⋯</td><td> 91.66667</td><td>63.88889</td><td>33.33333</td><td>25.000000</td><td>19.444444</td><td>0</td><td>0.9523169</td><td>0.016018699</td><td>1</td><td>40</td></tr>\n",
       "\t<tr><th scope=row>1165</th><td>1501300011395033</td><td>15013_0102</td><td>40082</td><td>Lomas de Tepalcapa           </td><td>15</td><td>México          </td><td>013</td><td>Atizapán de Zaragoza  </td><td>103</td><td>10</td><td>⋯</td><td> 86.66667</td><td>56.66667</td><td>30.00000</td><td>10.000000</td><td>10.000000</td><td>0</td><td>0.9456336</td><td>0.029062119</td><td>1</td><td>35</td></tr>\n",
       "\t<tr><th scope=row>1177</th><td>1501300010490013</td><td>15013_0102</td><td>40082</td><td>Lomas de Tepalcapa           </td><td>15</td><td>México          </td><td>013</td><td>Atizapán de Zaragoza  </td><td>114</td><td> 5</td><td>⋯</td><td> 89.28571</td><td>60.71429</td><td>28.57143</td><td>17.857143</td><td> 0.000000</td><td>0</td><td>0.9456336</td><td>0.027992501</td><td>1</td><td>17</td></tr>\n",
       "\t<tr><th scope=row>1202</th><td>1501300011662028</td><td>15013_0102</td><td>40082</td><td>Lomas de Tepalcapa           </td><td>15</td><td>México          </td><td>013</td><td>Atizapán de Zaragoza  </td><td> 12</td><td> 0</td><td>⋯</td><td>100.00000</td><td> 0.00000</td><td> 0.00000</td><td> 0.000000</td><td> 0.000000</td><td>0</td><td>0.9456336</td><td>0.022331181</td><td>1</td><td>48</td></tr>\n",
       "\t<tr><th scope=row>1293</th><td>1501300011427020</td><td>15013_0152</td><td>40134</td><td>San Jose El Jaral 2Da Seccion</td><td>15</td><td>México          </td><td>013</td><td>Atizapán de Zaragoza  </td><td>128</td><td>28</td><td>⋯</td><td> 78.43137</td><td>45.09804</td><td>41.17647</td><td>29.411765</td><td>13.725490</td><td>0</td><td>0.9480449</td><td>0.008557784</td><td>1</td><td>52</td></tr>\n",
       "\t<tr><th scope=row>1401</th><td>1501300011516007</td><td>15013_0164</td><td>40147</td><td>Uam                          </td><td>15</td><td>México          </td><td>013</td><td>Atizapán de Zaragoza  </td><td> 28</td><td> 5</td><td>⋯</td><td> 77.77778</td><td>66.66667</td><td>66.66667</td><td> 0.000000</td><td> 0.000000</td><td>0</td><td>0.9498870</td><td>0.031979407</td><td>1</td><td>20</td></tr>\n",
       "\t<tr><th scope=row>1454</th><td>150250001206A010</td><td>15025_0063</td><td>40836</td><td>Nueva San Antonio            </td><td>15</td><td>México          </td><td>025</td><td>Chalco                </td><td> 90</td><td> 3</td><td>⋯</td><td> 59.45946</td><td>48.64865</td><td>27.02703</td><td>24.324324</td><td> 0.000000</td><td>0</td><td>0.9401904</td><td>0.036780060</td><td>1</td><td>25</td></tr>\n",
       "\t<tr><th scope=row>1459</th><td>150250001206A030</td><td>15025_0063</td><td>40836</td><td>Nueva San Antonio            </td><td>15</td><td>México          </td><td>025</td><td>Chalco                </td><td> 63</td><td> 3</td><td>⋯</td><td> 57.14286</td><td>38.09524</td><td>23.80952</td><td> 0.000000</td><td> 0.000000</td><td>0</td><td>0.9401904</td><td>0.029333969</td><td>1</td><td>29</td></tr>\n",
       "\t<tr><th scope=row>1580</th><td>150290001019A033</td><td>15029_0031</td><td>40994</td><td>Revolucion                   </td><td>15</td><td>México          </td><td>029</td><td>Chicoloapan           </td><td> 53</td><td> 7</td><td>⋯</td><td> 73.33333</td><td>73.33333</td><td>33.33333</td><td> 0.000000</td><td> 0.000000</td><td>0</td><td>0.9410442</td><td>0.025124045</td><td>1</td><td>44</td></tr>\n",
       "\t<tr><th scope=row>1649</th><td>150310001061A041</td><td>15031_0025</td><td>41044</td><td>Cerro de Las Palomas         </td><td>15</td><td>México          </td><td>031</td><td>Chimalhuacán          </td><td> 65</td><td> 0</td><td>⋯</td><td> 86.66667</td><td>46.66667</td><td>33.33333</td><td> 0.000000</td><td> 0.000000</td><td>0</td><td>0.9422877</td><td>0.020238430</td><td>1</td><td>1 </td></tr>\n",
       "\t<tr><th scope=row>1682</th><td>1503100010605015</td><td>15031_0025</td><td>41044</td><td>Cerro de Las Palomas         </td><td>15</td><td>México          </td><td>031</td><td>Chimalhuacán          </td><td> 65</td><td> 4</td><td>⋯</td><td> 73.07692</td><td>46.15385</td><td>23.07692</td><td>19.230769</td><td> 0.000000</td><td>0</td><td>0.9422877</td><td>0.021387859</td><td>1</td><td>43</td></tr>\n",
       "\t<tr><th scope=row>1754</th><td>1503300011237007</td><td>15033_0021</td><td>41174</td><td>Altavilla                    </td><td>15</td><td>México          </td><td>033</td><td>Ecatepec de Morelos   </td><td> 93</td><td> 9</td><td>⋯</td><td> 92.00000</td><td>84.00000</td><td>60.00000</td><td>56.000000</td><td>44.000000</td><td>0</td><td>0.9470579</td><td>0.012197826</td><td>1</td><td>6 </td></tr>\n",
       "\t<tr><th scope=row>1833</th><td>1503300011218022</td><td>15033_0021</td><td>41174</td><td>Altavilla                    </td><td>15</td><td>México          </td><td>033</td><td>Ecatepec de Morelos   </td><td>186</td><td>19</td><td>⋯</td><td> 82.97872</td><td>36.17021</td><td>29.78723</td><td>19.148936</td><td> 0.000000</td><td>0</td><td>0.9470579</td><td>0.014692517</td><td>1</td><td>19</td></tr>\n",
       "\t<tr><th scope=row>⋮</th><td>⋮</td><td>⋮</td><td>⋮</td><td>⋮</td><td>⋮</td><td>⋮</td><td>⋮</td><td>⋮</td><td>⋮</td><td>⋮</td><td>⋱</td><td>⋮</td><td>⋮</td><td>⋮</td><td>⋮</td><td>⋮</td><td>⋮</td><td>⋮</td><td>⋮</td><td>⋮</td><td>⋮</td></tr>\n",
       "\t<tr><th scope=row>1963</th><td>150330001256A033</td><td>15033_0266</td><td>41423</td><td>Lomas de San Carlos   </td><td>15</td><td>México</td><td>033</td><td>Ecatepec de Morelos</td><td> 17</td><td> 0</td><td>⋯</td><td> 80.00000</td><td>80.00000</td><td> 0.000000</td><td> 0.000000</td><td> 0.000000</td><td>1</td><td>0.9432364</td><td>0.029042267</td><td>1</td><td>45</td></tr>\n",
       "\t<tr><th scope=row>1964</th><td>1503300013623049</td><td>15033_0266</td><td>41423</td><td>Lomas de San Carlos   </td><td>15</td><td>México</td><td>033</td><td>Ecatepec de Morelos</td><td>120</td><td>11</td><td>⋯</td><td> 75.00000</td><td>65.00000</td><td>30.000000</td><td>25.000000</td><td>25.000000</td><td>1</td><td>0.9432364</td><td>0.033116100</td><td>1</td><td>46</td></tr>\n",
       "\t<tr><th scope=row>1965</th><td>1503300013623059</td><td>15033_0266</td><td>41423</td><td>Lomas de San Carlos   </td><td>15</td><td>México</td><td>033</td><td>Ecatepec de Morelos</td><td>109</td><td>12</td><td>⋯</td><td> 80.00000</td><td>56.66667</td><td>30.000000</td><td>16.666667</td><td>10.000000</td><td>1</td><td>0.9432364</td><td>0.010318926</td><td>1</td><td>47</td></tr>\n",
       "\t<tr><th scope=row>1966</th><td>150330001256A021</td><td>15033_0266</td><td>41423</td><td>Lomas de San Carlos   </td><td>15</td><td>México</td><td>033</td><td>Ecatepec de Morelos</td><td>144</td><td>17</td><td>⋯</td><td> 80.39216</td><td>45.09804</td><td>25.490196</td><td> 0.000000</td><td> 0.000000</td><td>1</td><td>0.9432364</td><td>0.022322320</td><td>1</td><td>48</td></tr>\n",
       "\t<tr><th scope=row>1967</th><td>1503300013623041</td><td>15033_0266</td><td>41423</td><td>Lomas de San Carlos   </td><td>15</td><td>México</td><td>033</td><td>Ecatepec de Morelos</td><td> 30</td><td> 0</td><td>⋯</td><td> 70.00000</td><td>70.00000</td><td>50.000000</td><td>30.000000</td><td> 0.000000</td><td>1</td><td>0.9432364</td><td>0.052980016</td><td>1</td><td>49</td></tr>\n",
       "\t<tr><th scope=row>1968</th><td>1503300013623050</td><td>15033_0266</td><td>41423</td><td>Lomas de San Carlos   </td><td>15</td><td>México</td><td>033</td><td>Ecatepec de Morelos</td><td>132</td><td>15</td><td>⋯</td><td> 85.29412</td><td>52.94118</td><td>35.294118</td><td>35.294118</td><td>14.705882</td><td>1</td><td>0.9432364</td><td>0.030277681</td><td>1</td><td>50</td></tr>\n",
       "\t<tr><th scope=row>1969</th><td>1503300013623052</td><td>15033_0266</td><td>41423</td><td>Lomas de San Carlos   </td><td>15</td><td>México</td><td>033</td><td>Ecatepec de Morelos</td><td>132</td><td>19</td><td>⋯</td><td> 77.77778</td><td>48.88889</td><td>20.000000</td><td>17.777778</td><td> 6.666667</td><td>1</td><td>0.9432364</td><td>0.007998610</td><td>1</td><td>51</td></tr>\n",
       "\t<tr><th scope=row>1970</th><td>1503300013623051</td><td>15033_0266</td><td>41423</td><td>Lomas de San Carlos   </td><td>15</td><td>México</td><td>033</td><td>Ecatepec de Morelos</td><td>122</td><td>10</td><td>⋯</td><td> 84.61538</td><td>43.58974</td><td>30.769231</td><td>28.205128</td><td>15.384615</td><td>1</td><td>0.9432364</td><td>0.008554968</td><td>1</td><td>52</td></tr>\n",
       "\t<tr><th scope=row>1971</th><td>1503300013623055</td><td>15033_0266</td><td>41423</td><td>Lomas de San Carlos   </td><td>15</td><td>México</td><td>033</td><td>Ecatepec de Morelos</td><td> 53</td><td> 4</td><td>⋯</td><td> 91.66667</td><td>58.33333</td><td>41.666667</td><td>25.000000</td><td>25.000000</td><td>1</td><td>0.9432364</td><td>0.028418391</td><td>1</td><td>53</td></tr>\n",
       "\t<tr><th scope=row>2016</th><td>1503300013093028</td><td>15033_0440</td><td>41601</td><td>Texalpa               </td><td>15</td><td>México</td><td>033</td><td>Ecatepec de Morelos</td><td>139</td><td> 3</td><td>⋯</td><td> 82.35294</td><td>38.23529</td><td>23.529412</td><td>26.470588</td><td> 8.823529</td><td>0</td><td>0.9431293</td><td>0.114916222</td><td>1</td><td>42</td></tr>\n",
       "\t<tr><th scope=row>2042</th><td>1503300013360027</td><td>15033_0440</td><td>41601</td><td>Texalpa               </td><td>15</td><td>México</td><td>033</td><td>Ecatepec de Morelos</td><td> 30</td><td> 3</td><td>⋯</td><td> 88.88889</td><td>55.55556</td><td>44.444444</td><td>33.333333</td><td> 0.000000</td><td>0</td><td>0.9431293</td><td>0.027326914</td><td>1</td><td>34</td></tr>\n",
       "\t<tr><th scope=row>2085</th><td>1503300013233005</td><td>15033_0443</td><td>41604</td><td>Tolotzin I            </td><td>15</td><td>México</td><td>033</td><td>Ecatepec de Morelos</td><td> 15</td><td> 0</td><td>⋯</td><td> 83.33333</td><td> 0.00000</td><td> 0.000000</td><td> 0.000000</td><td> 0.000000</td><td>0</td><td>0.9470660</td><td>0.027372004</td><td>1</td><td>5 </td></tr>\n",
       "\t<tr><th scope=row>2093</th><td>1503300011044015</td><td>15033_0475</td><td>41636</td><td>Viveros Xalostoc      </td><td>15</td><td>México</td><td>033</td><td>Ecatepec de Morelos</td><td>122</td><td>14</td><td>⋯</td><td> 69.23077</td><td>46.15385</td><td>33.333333</td><td>33.333333</td><td>12.820513</td><td>0</td><td>0.9442384</td><td>0.037120615</td><td>1</td><td>11</td></tr>\n",
       "\t<tr><th scope=row>2118</th><td>1503700710064043</td><td>15037_0020</td><td>41736</td><td>Federal Burocratica   </td><td>15</td><td>México</td><td>037</td><td>Huixquilucan       </td><td>211</td><td>18</td><td>⋯</td><td> 78.12500</td><td>51.56250</td><td>28.125000</td><td>35.937500</td><td> 6.250000</td><td>0</td><td>0.9442130</td><td>0.074871428</td><td>1</td><td>31</td></tr>\n",
       "\t<tr><th scope=row>2182</th><td>1503900010567046</td><td>15039_0019</td><td>41827</td><td>Cerro del Tejolote    </td><td>15</td><td>México</td><td>039</td><td>Ixtapaluca         </td><td>112</td><td>11</td><td>⋯</td><td> 90.00000</td><td>86.66667</td><td>50.000000</td><td>23.333333</td><td> 0.000000</td><td>0</td><td>0.9396434</td><td>0.061597649</td><td>1</td><td>21</td></tr>\n",
       "\t<tr><th scope=row>2203</th><td>1503900010567008</td><td>15039_0019</td><td>41827</td><td>Cerro del Tejolote    </td><td>15</td><td>México</td><td>039</td><td>Ixtapaluca         </td><td>137</td><td>19</td><td>⋯</td><td> 84.21053</td><td>52.63158</td><td>26.315789</td><td>31.578947</td><td>10.526316</td><td>0</td><td>0.9396434</td><td>0.021911169</td><td>1</td><td>26</td></tr>\n",
       "\t<tr><th scope=row>2205</th><td>1503900010567051</td><td>15039_0019</td><td>41827</td><td>Cerro del Tejolote    </td><td>15</td><td>México</td><td>039</td><td>Ixtapaluca         </td><td> 96</td><td> 7</td><td>⋯</td><td> 85.71429</td><td>57.14286</td><td>28.571429</td><td>38.095238</td><td>14.285714</td><td>0</td><td>0.9396434</td><td>0.007997235</td><td>1</td><td>51</td></tr>\n",
       "\t<tr><th scope=row>2228</th><td>1503900011226024</td><td>15039_0020</td><td>41828</td><td>Citlalmina            </td><td>15</td><td>México</td><td>039</td><td>Ixtapaluca         </td><td> 63</td><td> 4</td><td>⋯</td><td> 76.92308</td><td>76.92308</td><td>61.538462</td><td>38.461538</td><td> 0.000000</td><td>0</td><td>0.9425221</td><td>0.039414494</td><td>1</td><td>33</td></tr>\n",
       "\t<tr><th scope=row>2326</th><td>1505700011968003</td><td>15057_0055</td><td>42507</td><td>Colinas de San Mateo  </td><td>15</td><td>México</td><td>057</td><td>Naucalpan de Juárez</td><td>136</td><td> 7</td><td>⋯</td><td> 88.88889</td><td>70.37037</td><td>40.740741</td><td>40.740741</td><td>29.629630</td><td>0</td><td>0.9413230</td><td>0.052944350</td><td>1</td><td>49</td></tr>\n",
       "\t<tr><th scope=row>2381</th><td>1505700012415021</td><td>15057_0142</td><td>42614</td><td>La Mancha I           </td><td>15</td><td>México</td><td>057</td><td>Naucalpan de Juárez</td><td> 88</td><td> 3</td><td>⋯</td><td> 80.95238</td><td>61.90476</td><td>42.857143</td><td> 0.000000</td><td> 0.000000</td><td>0</td><td>0.9458611</td><td>0.024529921</td><td>1</td><td>28</td></tr>\n",
       "\t<tr><th scope=row>2533</th><td>1510400011071015</td><td>15104_0178</td><td>44487</td><td>San Pablo Xalpa       </td><td>15</td><td>México</td><td>104</td><td>Tlalnepantla de Baz</td><td>172</td><td>18</td><td>⋯</td><td> 89.23077</td><td>63.07692</td><td>47.692308</td><td> 9.230769</td><td> 4.615385</td><td>0</td><td>0.9541726</td><td>0.002657074</td><td>1</td><td>38</td></tr>\n",
       "\t<tr><th scope=row>2549</th><td>1510400011705009</td><td>15104_0184</td><td>44493</td><td>Santa Maria Tlayacampa</td><td>15</td><td>México</td><td>104</td><td>Tlalnepantla de Baz</td><td> 43</td><td> 7</td><td>⋯</td><td> 66.66667</td><td>16.66667</td><td>27.777778</td><td> 0.000000</td><td> 0.000000</td><td>0</td><td>0.9452682</td><td>0.024175815</td><td>1</td><td>22</td></tr>\n",
       "\t<tr><th scope=row>2665</th><td>1510900030953022</td><td>15109_0079</td><td>45115</td><td>La Libertad           </td><td>15</td><td>México</td><td>109</td><td>Tultitlán          </td><td> 65</td><td> 4</td><td>⋯</td><td> 84.21053</td><td>84.21053</td><td>21.052632</td><td>57.894737</td><td>31.578947</td><td>0</td><td>0.9444515</td><td>0.040398316</td><td>1</td><td>16</td></tr>\n",
       "\t<tr><th scope=row>2696</th><td>1510900031260024</td><td>15109_0079</td><td>45115</td><td>La Libertad           </td><td>15</td><td>México</td><td>109</td><td>Tultitlán          </td><td> 86</td><td> 9</td><td>⋯</td><td> 66.66667</td><td>66.66667</td><td>37.500000</td><td>37.500000</td><td>12.500000</td><td>0</td><td>0.9444515</td><td>0.033104151</td><td>1</td><td>46</td></tr>\n",
       "\t<tr><th scope=row>2727</th><td>1510900031538044</td><td>15109_0183</td><td>45223</td><td>Valle de Tules        </td><td>15</td><td>México</td><td>109</td><td>Tultitlán          </td><td>142</td><td>12</td><td>⋯</td><td> 77.55102</td><td>53.06122</td><td>38.775510</td><td>24.489796</td><td>18.367347</td><td>0</td><td>0.9495984</td><td>0.020654036</td><td>1</td><td>7 </td></tr>\n",
       "\t<tr><th scope=row>2731</th><td>1510900031538048</td><td>15109_0183</td><td>45223</td><td>Valle de Tules        </td><td>15</td><td>México</td><td>109</td><td>Tultitlán          </td><td> 45</td><td> 3</td><td>⋯</td><td>100.00000</td><td>81.81818</td><td>36.363636</td><td> 0.000000</td><td> 0.000000</td><td>0</td><td>0.9495984</td><td>0.022515768</td><td>1</td><td>15</td></tr>\n",
       "\t<tr><th scope=row>2735</th><td>1510900031538041</td><td>15109_0183</td><td>45223</td><td>Valle de Tules        </td><td>15</td><td>México</td><td>109</td><td>Tultitlán          </td><td> 75</td><td> 4</td><td>⋯</td><td> 91.30435</td><td>73.91304</td><td>43.478261</td><td>47.826087</td><td>26.086957</td><td>0</td><td>0.9495984</td><td>0.028406324</td><td>1</td><td>53</td></tr>\n",
       "\t<tr><th scope=row>2798</th><td>1512000140664015</td><td>15120_0004</td><td>45508</td><td>Arbolada Los Sauces I </td><td>15</td><td>México</td><td>120</td><td>Zumpango           </td><td> 69</td><td> 6</td><td>⋯</td><td> 39.13043</td><td>26.08696</td><td> 6.521739</td><td>17.391304</td><td> 0.000000</td><td>0</td><td>0.9489722</td><td>0.036169275</td><td>1</td><td>18</td></tr>\n",
       "\t<tr><th scope=row>2804</th><td>1512000140664020</td><td>15120_0004</td><td>45508</td><td>Arbolada Los Sauces I </td><td>15</td><td>México</td><td>120</td><td>Zumpango           </td><td>126</td><td>24</td><td>⋯</td><td> 60.60606</td><td>19.69697</td><td> 7.575758</td><td>15.151515</td><td> 0.000000</td><td>0</td><td>0.9489722</td><td>0.015643800</td><td>1</td><td>13</td></tr>\n",
       "\t<tr><th scope=row>2814</th><td>151200204065A008</td><td>15120_0057</td><td>45576</td><td>Villas de La Laguna   </td><td>15</td><td>México</td><td>120</td><td>Zumpango           </td><td>367</td><td>42</td><td>⋯</td><td> 52.46637</td><td>24.66368</td><td>13.901345</td><td>23.318386</td><td> 1.345291</td><td>0</td><td>0.9475377</td><td>0.064628632</td><td>1</td><td>36</td></tr>\n",
       "</tbody>\n",
       "</table>\n"
      ],
      "text/markdown": "\nA matchdata: 106 × 43\n\n| <!--/--> | cvegeo &lt;chr&gt; | cve_col &lt;chr&gt; | id_col &lt;dbl&gt; | colonia &lt;chr&gt; | cve_ent &lt;chr&gt; | nom_ent &lt;chr&gt; | cve_mun &lt;chr&gt; | nom_mun &lt;chr&gt; | pobtot &lt;dbl&gt; | hogjef_f &lt;dbl&gt; | ⋯ ⋯ | pct_celular &lt;dbl&gt; | pct_internet &lt;dbl&gt; | pct_computadora &lt;dbl&gt; | pct_tv_paga &lt;dbl&gt; | pct_videos &lt;dbl&gt; | simi &lt;dbl&gt; | imn_2020 &lt;dbl&gt; | distance &lt;dbl&gt; | weights &lt;dbl&gt; | subclass &lt;fct&gt; |\n|---|---|---|---|---|---|---|---|---|---|---|---|---|---|---|---|---|---|---|---|---|---|\n| 10 | 0900500012574038 | 09005_0019 | 17240 | Benito Juarez                 | 09 | Ciudad de México | 005 | Gustavo A. Madero      | 129 |  9 | ⋯ |  84.61538 | 43.58974 | 25.64103 | 15.384615 |  7.692308 | 0 | 0.9519898 | 0.048198757 | 1 | 10 |\n| 17 | 0900500010258015 | 09005_0019 | 17240 | Benito Juarez                 | 09 | Ciudad de México | 005 | Gustavo A. Madero      | 105 | 13 | ⋯ |  81.48148 | 74.07407 | 44.44444 | 18.518519 | 22.222222 | 0 | 0.9519898 | 0.025630934 | 1 | 2  |\n| 140 | 0900700014838009 | 09007_0013 | 17473 | Ampliacion Emiliano Zapata    | 09 | Ciudad de México | 007 | Iztapalapa             | 117 | 11 | ⋯ |  90.00000 | 76.66667 | 26.66667 | 23.333333 | 26.666667 | 0 | 0.9476954 | 0.043328905 | 1 | 27 |\n| 174 | 0900700012189005 | 09007_0051 | 17512 | El Rosario                    | 09 | Ciudad de México | 007 | Iztapalapa             |  77 |  7 | ⋯ |  80.76923 | 69.23077 | 30.76923 | 26.923077 | 19.230769 | 0 | 0.9548266 | 0.010332922 | 1 | 47 |\n| 220 | 0900700012051095 | 09007_0056 | 17517 | El Triangulo                  | 09 | Ciudad de México | 007 | Iztapalapa             |  88 |  8 | ⋯ |  96.00000 | 48.00000 | 16.00000 |  0.000000 |  0.000000 | 0 | 0.9397610 | 0.026139155 | 1 | 3  |\n| 284 | 0900700014289028 | 09007_0167 | 17628 | San Francisco Apolocalco      | 09 | Ciudad de México | 007 | Iztapalapa             | 147 | 10 | ⋯ |  71.05263 | 63.15789 | 36.84211 | 26.315789 | 18.421053 | 0 | 0.9410142 | 0.041723277 | 1 | 24 |\n| 320 | 0900700014293012 | 09007_0167 | 17628 | San Francisco Apolocalco      | 09 | Ciudad de México | 007 | Iztapalapa             | 145 |  7 | ⋯ |  73.80952 | 66.66667 | 28.57143 | 28.571429 |  0.000000 | 0 | 0.9410142 | 0.051061547 | 1 | 12 |\n| 476 | 090080001057A028 | 09008_0007 | 17695 | El Ocotal                     | 09 | Ciudad de México | 008 | La Magdalena Contreras | 154 | 11 | ⋯ |  86.66667 | 77.77778 | 35.55556 | 26.666667 | 11.111111 | 0 | 0.9463932 | 0.071366383 | 1 | 32 |\n| 712 | 0901700010899014 | 09017_0043 | 18749 | Merced Balbuena               | 09 | Ciudad de México | 017 | Venustiano Carranza    |  60 |  6 | ⋯ |  80.00000 | 80.00000 | 75.00000 | 45.000000 | 45.000000 | 0 | 0.9407663 | 0.031424306 | 1 | 37 |\n| 769 | 0901700010460015 | 09017_0054 | 18760 | Peñon de Los Baños            | 09 | Ciudad de México | 017 | Venustiano Carranza    | 105 | 14 | ⋯ |  89.74359 | 71.79487 | 71.79487 | 35.897436 | 28.205128 | 0 | 0.9536387 | 0.029048695 | 1 | 45 |\n| 771 | 0901700010460007 | 09017_0054 | 18760 | Peñon de Los Baños            | 09 | Ciudad de México | 017 | Venustiano Carranza    | 120 | 13 | ⋯ |  72.09302 | 32.55814 | 37.20930 |  9.302326 |  9.302326 | 0 | 0.9536387 | 0.035202763 | 1 | 41 |\n| 797 | 0901700010352001 | 09017_0054 | 18760 | Peñon de Los Baños            | 09 | Ciudad de México | 017 | Venustiano Carranza    | 160 | 10 | ⋯ |  90.00000 | 66.66667 | 40.00000 | 33.333333 |  0.000000 | 0 | 0.9536387 | 0.004029852 | 1 | 4  |\n| 813 | 1501300011338054 | 15013_0001 | 39976 | 1Ro de Septiembre             | 15 | México           | 013 | Atizapán de Zaragoza   |  13 |  0 | ⋯ | 100.00000 |  0.00000 |  0.00000 |  0.000000 |  0.000000 | 0 | 0.9465358 | 0.043911303 | 1 | 30 |\n| 864 | 1501300010630061 | 15013_0002 | 39977 | 5 de Mayo                     | 15 | México           | 013 | Atizapán de Zaragoza   |  66 |  6 | ⋯ |  65.21739 | 39.13043 |  0.00000 | 17.391304 |  0.000000 | 0 | 0.9430531 | 0.030301397 | 1 | 50 |\n| 963 | 1501300011395050 | 15013_0010 | 39986 | Alfredo V Bonfil              | 15 | México           | 013 | Atizapán de Zaragoza   |  85 |  8 | ⋯ |  86.95652 | 65.21739 | 47.82609 | 43.478261 | 26.086957 | 0 | 0.9485763 | 0.023951051 | 1 | 23 |\n| 964 | 1501300011408025 | 15013_0010 | 39986 | Alfredo V Bonfil              | 15 | México           | 013 | Atizapán de Zaragoza   | 148 | 13 | ⋯ |  94.44444 | 58.33333 | 50.00000 | 30.555556 | 19.444444 | 0 | 0.9485763 | 0.013914263 | 1 | 8  |\n| 976 | 1501300010274033 | 15013_0040 | 40019 | Ejido San Miguel Chalma       | 15 | México           | 013 | Atizapán de Zaragoza   |  88 |  4 | ⋯ |  77.77778 | 50.00000 | 22.22222 | 27.777778 |  0.000000 | 0 | 0.9523169 | 0.033320171 | 1 | 14 |\n| 1030 | 1501300011817018 | 15013_0040 | 40019 | Ejido San Miguel Chalma       | 15 | México           | 013 | Atizapán de Zaragoza   | 126 | 15 | ⋯ |  91.66667 | 63.88889 | 33.33333 | 25.000000 | 19.444444 | 0 | 0.9523169 | 0.016018699 | 1 | 40 |\n| 1165 | 1501300011395033 | 15013_0102 | 40082 | Lomas de Tepalcapa            | 15 | México           | 013 | Atizapán de Zaragoza   | 103 | 10 | ⋯ |  86.66667 | 56.66667 | 30.00000 | 10.000000 | 10.000000 | 0 | 0.9456336 | 0.029062119 | 1 | 35 |\n| 1177 | 1501300010490013 | 15013_0102 | 40082 | Lomas de Tepalcapa            | 15 | México           | 013 | Atizapán de Zaragoza   | 114 |  5 | ⋯ |  89.28571 | 60.71429 | 28.57143 | 17.857143 |  0.000000 | 0 | 0.9456336 | 0.027992501 | 1 | 17 |\n| 1202 | 1501300011662028 | 15013_0102 | 40082 | Lomas de Tepalcapa            | 15 | México           | 013 | Atizapán de Zaragoza   |  12 |  0 | ⋯ | 100.00000 |  0.00000 |  0.00000 |  0.000000 |  0.000000 | 0 | 0.9456336 | 0.022331181 | 1 | 48 |\n| 1293 | 1501300011427020 | 15013_0152 | 40134 | San Jose El Jaral 2Da Seccion | 15 | México           | 013 | Atizapán de Zaragoza   | 128 | 28 | ⋯ |  78.43137 | 45.09804 | 41.17647 | 29.411765 | 13.725490 | 0 | 0.9480449 | 0.008557784 | 1 | 52 |\n| 1401 | 1501300011516007 | 15013_0164 | 40147 | Uam                           | 15 | México           | 013 | Atizapán de Zaragoza   |  28 |  5 | ⋯ |  77.77778 | 66.66667 | 66.66667 |  0.000000 |  0.000000 | 0 | 0.9498870 | 0.031979407 | 1 | 20 |\n| 1454 | 150250001206A010 | 15025_0063 | 40836 | Nueva San Antonio             | 15 | México           | 025 | Chalco                 |  90 |  3 | ⋯ |  59.45946 | 48.64865 | 27.02703 | 24.324324 |  0.000000 | 0 | 0.9401904 | 0.036780060 | 1 | 25 |\n| 1459 | 150250001206A030 | 15025_0063 | 40836 | Nueva San Antonio             | 15 | México           | 025 | Chalco                 |  63 |  3 | ⋯ |  57.14286 | 38.09524 | 23.80952 |  0.000000 |  0.000000 | 0 | 0.9401904 | 0.029333969 | 1 | 29 |\n| 1580 | 150290001019A033 | 15029_0031 | 40994 | Revolucion                    | 15 | México           | 029 | Chicoloapan            |  53 |  7 | ⋯ |  73.33333 | 73.33333 | 33.33333 |  0.000000 |  0.000000 | 0 | 0.9410442 | 0.025124045 | 1 | 44 |\n| 1649 | 150310001061A041 | 15031_0025 | 41044 | Cerro de Las Palomas          | 15 | México           | 031 | Chimalhuacán           |  65 |  0 | ⋯ |  86.66667 | 46.66667 | 33.33333 |  0.000000 |  0.000000 | 0 | 0.9422877 | 0.020238430 | 1 | 1  |\n| 1682 | 1503100010605015 | 15031_0025 | 41044 | Cerro de Las Palomas          | 15 | México           | 031 | Chimalhuacán           |  65 |  4 | ⋯ |  73.07692 | 46.15385 | 23.07692 | 19.230769 |  0.000000 | 0 | 0.9422877 | 0.021387859 | 1 | 43 |\n| 1754 | 1503300011237007 | 15033_0021 | 41174 | Altavilla                     | 15 | México           | 033 | Ecatepec de Morelos    |  93 |  9 | ⋯ |  92.00000 | 84.00000 | 60.00000 | 56.000000 | 44.000000 | 0 | 0.9470579 | 0.012197826 | 1 | 6  |\n| 1833 | 1503300011218022 | 15033_0021 | 41174 | Altavilla                     | 15 | México           | 033 | Ecatepec de Morelos    | 186 | 19 | ⋯ |  82.97872 | 36.17021 | 29.78723 | 19.148936 |  0.000000 | 0 | 0.9470579 | 0.014692517 | 1 | 19 |\n| ⋮ | ⋮ | ⋮ | ⋮ | ⋮ | ⋮ | ⋮ | ⋮ | ⋮ | ⋮ | ⋮ | ⋱ | ⋮ | ⋮ | ⋮ | ⋮ | ⋮ | ⋮ | ⋮ | ⋮ | ⋮ | ⋮ |\n| 1963 | 150330001256A033 | 15033_0266 | 41423 | Lomas de San Carlos    | 15 | México | 033 | Ecatepec de Morelos |  17 |  0 | ⋯ |  80.00000 | 80.00000 |  0.000000 |  0.000000 |  0.000000 | 1 | 0.9432364 | 0.029042267 | 1 | 45 |\n| 1964 | 1503300013623049 | 15033_0266 | 41423 | Lomas de San Carlos    | 15 | México | 033 | Ecatepec de Morelos | 120 | 11 | ⋯ |  75.00000 | 65.00000 | 30.000000 | 25.000000 | 25.000000 | 1 | 0.9432364 | 0.033116100 | 1 | 46 |\n| 1965 | 1503300013623059 | 15033_0266 | 41423 | Lomas de San Carlos    | 15 | México | 033 | Ecatepec de Morelos | 109 | 12 | ⋯ |  80.00000 | 56.66667 | 30.000000 | 16.666667 | 10.000000 | 1 | 0.9432364 | 0.010318926 | 1 | 47 |\n| 1966 | 150330001256A021 | 15033_0266 | 41423 | Lomas de San Carlos    | 15 | México | 033 | Ecatepec de Morelos | 144 | 17 | ⋯ |  80.39216 | 45.09804 | 25.490196 |  0.000000 |  0.000000 | 1 | 0.9432364 | 0.022322320 | 1 | 48 |\n| 1967 | 1503300013623041 | 15033_0266 | 41423 | Lomas de San Carlos    | 15 | México | 033 | Ecatepec de Morelos |  30 |  0 | ⋯ |  70.00000 | 70.00000 | 50.000000 | 30.000000 |  0.000000 | 1 | 0.9432364 | 0.052980016 | 1 | 49 |\n| 1968 | 1503300013623050 | 15033_0266 | 41423 | Lomas de San Carlos    | 15 | México | 033 | Ecatepec de Morelos | 132 | 15 | ⋯ |  85.29412 | 52.94118 | 35.294118 | 35.294118 | 14.705882 | 1 | 0.9432364 | 0.030277681 | 1 | 50 |\n| 1969 | 1503300013623052 | 15033_0266 | 41423 | Lomas de San Carlos    | 15 | México | 033 | Ecatepec de Morelos | 132 | 19 | ⋯ |  77.77778 | 48.88889 | 20.000000 | 17.777778 |  6.666667 | 1 | 0.9432364 | 0.007998610 | 1 | 51 |\n| 1970 | 1503300013623051 | 15033_0266 | 41423 | Lomas de San Carlos    | 15 | México | 033 | Ecatepec de Morelos | 122 | 10 | ⋯ |  84.61538 | 43.58974 | 30.769231 | 28.205128 | 15.384615 | 1 | 0.9432364 | 0.008554968 | 1 | 52 |\n| 1971 | 1503300013623055 | 15033_0266 | 41423 | Lomas de San Carlos    | 15 | México | 033 | Ecatepec de Morelos |  53 |  4 | ⋯ |  91.66667 | 58.33333 | 41.666667 | 25.000000 | 25.000000 | 1 | 0.9432364 | 0.028418391 | 1 | 53 |\n| 2016 | 1503300013093028 | 15033_0440 | 41601 | Texalpa                | 15 | México | 033 | Ecatepec de Morelos | 139 |  3 | ⋯ |  82.35294 | 38.23529 | 23.529412 | 26.470588 |  8.823529 | 0 | 0.9431293 | 0.114916222 | 1 | 42 |\n| 2042 | 1503300013360027 | 15033_0440 | 41601 | Texalpa                | 15 | México | 033 | Ecatepec de Morelos |  30 |  3 | ⋯ |  88.88889 | 55.55556 | 44.444444 | 33.333333 |  0.000000 | 0 | 0.9431293 | 0.027326914 | 1 | 34 |\n| 2085 | 1503300013233005 | 15033_0443 | 41604 | Tolotzin I             | 15 | México | 033 | Ecatepec de Morelos |  15 |  0 | ⋯ |  83.33333 |  0.00000 |  0.000000 |  0.000000 |  0.000000 | 0 | 0.9470660 | 0.027372004 | 1 | 5  |\n| 2093 | 1503300011044015 | 15033_0475 | 41636 | Viveros Xalostoc       | 15 | México | 033 | Ecatepec de Morelos | 122 | 14 | ⋯ |  69.23077 | 46.15385 | 33.333333 | 33.333333 | 12.820513 | 0 | 0.9442384 | 0.037120615 | 1 | 11 |\n| 2118 | 1503700710064043 | 15037_0020 | 41736 | Federal Burocratica    | 15 | México | 037 | Huixquilucan        | 211 | 18 | ⋯ |  78.12500 | 51.56250 | 28.125000 | 35.937500 |  6.250000 | 0 | 0.9442130 | 0.074871428 | 1 | 31 |\n| 2182 | 1503900010567046 | 15039_0019 | 41827 | Cerro del Tejolote     | 15 | México | 039 | Ixtapaluca          | 112 | 11 | ⋯ |  90.00000 | 86.66667 | 50.000000 | 23.333333 |  0.000000 | 0 | 0.9396434 | 0.061597649 | 1 | 21 |\n| 2203 | 1503900010567008 | 15039_0019 | 41827 | Cerro del Tejolote     | 15 | México | 039 | Ixtapaluca          | 137 | 19 | ⋯ |  84.21053 | 52.63158 | 26.315789 | 31.578947 | 10.526316 | 0 | 0.9396434 | 0.021911169 | 1 | 26 |\n| 2205 | 1503900010567051 | 15039_0019 | 41827 | Cerro del Tejolote     | 15 | México | 039 | Ixtapaluca          |  96 |  7 | ⋯ |  85.71429 | 57.14286 | 28.571429 | 38.095238 | 14.285714 | 0 | 0.9396434 | 0.007997235 | 1 | 51 |\n| 2228 | 1503900011226024 | 15039_0020 | 41828 | Citlalmina             | 15 | México | 039 | Ixtapaluca          |  63 |  4 | ⋯ |  76.92308 | 76.92308 | 61.538462 | 38.461538 |  0.000000 | 0 | 0.9425221 | 0.039414494 | 1 | 33 |\n| 2326 | 1505700011968003 | 15057_0055 | 42507 | Colinas de San Mateo   | 15 | México | 057 | Naucalpan de Juárez | 136 |  7 | ⋯ |  88.88889 | 70.37037 | 40.740741 | 40.740741 | 29.629630 | 0 | 0.9413230 | 0.052944350 | 1 | 49 |\n| 2381 | 1505700012415021 | 15057_0142 | 42614 | La Mancha I            | 15 | México | 057 | Naucalpan de Juárez |  88 |  3 | ⋯ |  80.95238 | 61.90476 | 42.857143 |  0.000000 |  0.000000 | 0 | 0.9458611 | 0.024529921 | 1 | 28 |\n| 2533 | 1510400011071015 | 15104_0178 | 44487 | San Pablo Xalpa        | 15 | México | 104 | Tlalnepantla de Baz | 172 | 18 | ⋯ |  89.23077 | 63.07692 | 47.692308 |  9.230769 |  4.615385 | 0 | 0.9541726 | 0.002657074 | 1 | 38 |\n| 2549 | 1510400011705009 | 15104_0184 | 44493 | Santa Maria Tlayacampa | 15 | México | 104 | Tlalnepantla de Baz |  43 |  7 | ⋯ |  66.66667 | 16.66667 | 27.777778 |  0.000000 |  0.000000 | 0 | 0.9452682 | 0.024175815 | 1 | 22 |\n| 2665 | 1510900030953022 | 15109_0079 | 45115 | La Libertad            | 15 | México | 109 | Tultitlán           |  65 |  4 | ⋯ |  84.21053 | 84.21053 | 21.052632 | 57.894737 | 31.578947 | 0 | 0.9444515 | 0.040398316 | 1 | 16 |\n| 2696 | 1510900031260024 | 15109_0079 | 45115 | La Libertad            | 15 | México | 109 | Tultitlán           |  86 |  9 | ⋯ |  66.66667 | 66.66667 | 37.500000 | 37.500000 | 12.500000 | 0 | 0.9444515 | 0.033104151 | 1 | 46 |\n| 2727 | 1510900031538044 | 15109_0183 | 45223 | Valle de Tules         | 15 | México | 109 | Tultitlán           | 142 | 12 | ⋯ |  77.55102 | 53.06122 | 38.775510 | 24.489796 | 18.367347 | 0 | 0.9495984 | 0.020654036 | 1 | 7  |\n| 2731 | 1510900031538048 | 15109_0183 | 45223 | Valle de Tules         | 15 | México | 109 | Tultitlán           |  45 |  3 | ⋯ | 100.00000 | 81.81818 | 36.363636 |  0.000000 |  0.000000 | 0 | 0.9495984 | 0.022515768 | 1 | 15 |\n| 2735 | 1510900031538041 | 15109_0183 | 45223 | Valle de Tules         | 15 | México | 109 | Tultitlán           |  75 |  4 | ⋯ |  91.30435 | 73.91304 | 43.478261 | 47.826087 | 26.086957 | 0 | 0.9495984 | 0.028406324 | 1 | 53 |\n| 2798 | 1512000140664015 | 15120_0004 | 45508 | Arbolada Los Sauces I  | 15 | México | 120 | Zumpango            |  69 |  6 | ⋯ |  39.13043 | 26.08696 |  6.521739 | 17.391304 |  0.000000 | 0 | 0.9489722 | 0.036169275 | 1 | 18 |\n| 2804 | 1512000140664020 | 15120_0004 | 45508 | Arbolada Los Sauces I  | 15 | México | 120 | Zumpango            | 126 | 24 | ⋯ |  60.60606 | 19.69697 |  7.575758 | 15.151515 |  0.000000 | 0 | 0.9489722 | 0.015643800 | 1 | 13 |\n| 2814 | 151200204065A008 | 15120_0057 | 45576 | Villas de La Laguna    | 15 | México | 120 | Zumpango            | 367 | 42 | ⋯ |  52.46637 | 24.66368 | 13.901345 | 23.318386 |  1.345291 | 0 | 0.9475377 | 0.064628632 | 1 | 36 |\n\n",
      "text/latex": "A matchdata: 106 × 43\n\\begin{tabular}{r|lllllllllllllllllllll}\n  & cvegeo & cve\\_col & id\\_col & colonia & cve\\_ent & nom\\_ent & cve\\_mun & nom\\_mun & pobtot & hogjef\\_f & ⋯ & pct\\_celular & pct\\_internet & pct\\_computadora & pct\\_tv\\_paga & pct\\_videos & simi & imn\\_2020 & distance & weights & subclass\\\\\n  & <chr> & <chr> & <dbl> & <chr> & <chr> & <chr> & <chr> & <chr> & <dbl> & <dbl> & ⋯ & <dbl> & <dbl> & <dbl> & <dbl> & <dbl> & <dbl> & <dbl> & <dbl> & <dbl> & <fct>\\\\\n\\hline\n\t10 & 0900500012574038 & 09005\\_0019 & 17240 & Benito Juarez                 & 09 & Ciudad de México & 005 & Gustavo A. Madero      & 129 &  9 & ⋯ &  84.61538 & 43.58974 & 25.64103 & 15.384615 &  7.692308 & 0 & 0.9519898 & 0.048198757 & 1 & 10\\\\\n\t17 & 0900500010258015 & 09005\\_0019 & 17240 & Benito Juarez                 & 09 & Ciudad de México & 005 & Gustavo A. Madero      & 105 & 13 & ⋯ &  81.48148 & 74.07407 & 44.44444 & 18.518519 & 22.222222 & 0 & 0.9519898 & 0.025630934 & 1 & 2 \\\\\n\t140 & 0900700014838009 & 09007\\_0013 & 17473 & Ampliacion Emiliano Zapata    & 09 & Ciudad de México & 007 & Iztapalapa             & 117 & 11 & ⋯ &  90.00000 & 76.66667 & 26.66667 & 23.333333 & 26.666667 & 0 & 0.9476954 & 0.043328905 & 1 & 27\\\\\n\t174 & 0900700012189005 & 09007\\_0051 & 17512 & El Rosario                    & 09 & Ciudad de México & 007 & Iztapalapa             &  77 &  7 & ⋯ &  80.76923 & 69.23077 & 30.76923 & 26.923077 & 19.230769 & 0 & 0.9548266 & 0.010332922 & 1 & 47\\\\\n\t220 & 0900700012051095 & 09007\\_0056 & 17517 & El Triangulo                  & 09 & Ciudad de México & 007 & Iztapalapa             &  88 &  8 & ⋯ &  96.00000 & 48.00000 & 16.00000 &  0.000000 &  0.000000 & 0 & 0.9397610 & 0.026139155 & 1 & 3 \\\\\n\t284 & 0900700014289028 & 09007\\_0167 & 17628 & San Francisco Apolocalco      & 09 & Ciudad de México & 007 & Iztapalapa             & 147 & 10 & ⋯ &  71.05263 & 63.15789 & 36.84211 & 26.315789 & 18.421053 & 0 & 0.9410142 & 0.041723277 & 1 & 24\\\\\n\t320 & 0900700014293012 & 09007\\_0167 & 17628 & San Francisco Apolocalco      & 09 & Ciudad de México & 007 & Iztapalapa             & 145 &  7 & ⋯ &  73.80952 & 66.66667 & 28.57143 & 28.571429 &  0.000000 & 0 & 0.9410142 & 0.051061547 & 1 & 12\\\\\n\t476 & 090080001057A028 & 09008\\_0007 & 17695 & El Ocotal                     & 09 & Ciudad de México & 008 & La Magdalena Contreras & 154 & 11 & ⋯ &  86.66667 & 77.77778 & 35.55556 & 26.666667 & 11.111111 & 0 & 0.9463932 & 0.071366383 & 1 & 32\\\\\n\t712 & 0901700010899014 & 09017\\_0043 & 18749 & Merced Balbuena               & 09 & Ciudad de México & 017 & Venustiano Carranza    &  60 &  6 & ⋯ &  80.00000 & 80.00000 & 75.00000 & 45.000000 & 45.000000 & 0 & 0.9407663 & 0.031424306 & 1 & 37\\\\\n\t769 & 0901700010460015 & 09017\\_0054 & 18760 & Peñon de Los Baños            & 09 & Ciudad de México & 017 & Venustiano Carranza    & 105 & 14 & ⋯ &  89.74359 & 71.79487 & 71.79487 & 35.897436 & 28.205128 & 0 & 0.9536387 & 0.029048695 & 1 & 45\\\\\n\t771 & 0901700010460007 & 09017\\_0054 & 18760 & Peñon de Los Baños            & 09 & Ciudad de México & 017 & Venustiano Carranza    & 120 & 13 & ⋯ &  72.09302 & 32.55814 & 37.20930 &  9.302326 &  9.302326 & 0 & 0.9536387 & 0.035202763 & 1 & 41\\\\\n\t797 & 0901700010352001 & 09017\\_0054 & 18760 & Peñon de Los Baños            & 09 & Ciudad de México & 017 & Venustiano Carranza    & 160 & 10 & ⋯ &  90.00000 & 66.66667 & 40.00000 & 33.333333 &  0.000000 & 0 & 0.9536387 & 0.004029852 & 1 & 4 \\\\\n\t813 & 1501300011338054 & 15013\\_0001 & 39976 & 1Ro de Septiembre             & 15 & México           & 013 & Atizapán de Zaragoza   &  13 &  0 & ⋯ & 100.00000 &  0.00000 &  0.00000 &  0.000000 &  0.000000 & 0 & 0.9465358 & 0.043911303 & 1 & 30\\\\\n\t864 & 1501300010630061 & 15013\\_0002 & 39977 & 5 de Mayo                     & 15 & México           & 013 & Atizapán de Zaragoza   &  66 &  6 & ⋯ &  65.21739 & 39.13043 &  0.00000 & 17.391304 &  0.000000 & 0 & 0.9430531 & 0.030301397 & 1 & 50\\\\\n\t963 & 1501300011395050 & 15013\\_0010 & 39986 & Alfredo V Bonfil              & 15 & México           & 013 & Atizapán de Zaragoza   &  85 &  8 & ⋯ &  86.95652 & 65.21739 & 47.82609 & 43.478261 & 26.086957 & 0 & 0.9485763 & 0.023951051 & 1 & 23\\\\\n\t964 & 1501300011408025 & 15013\\_0010 & 39986 & Alfredo V Bonfil              & 15 & México           & 013 & Atizapán de Zaragoza   & 148 & 13 & ⋯ &  94.44444 & 58.33333 & 50.00000 & 30.555556 & 19.444444 & 0 & 0.9485763 & 0.013914263 & 1 & 8 \\\\\n\t976 & 1501300010274033 & 15013\\_0040 & 40019 & Ejido San Miguel Chalma       & 15 & México           & 013 & Atizapán de Zaragoza   &  88 &  4 & ⋯ &  77.77778 & 50.00000 & 22.22222 & 27.777778 &  0.000000 & 0 & 0.9523169 & 0.033320171 & 1 & 14\\\\\n\t1030 & 1501300011817018 & 15013\\_0040 & 40019 & Ejido San Miguel Chalma       & 15 & México           & 013 & Atizapán de Zaragoza   & 126 & 15 & ⋯ &  91.66667 & 63.88889 & 33.33333 & 25.000000 & 19.444444 & 0 & 0.9523169 & 0.016018699 & 1 & 40\\\\\n\t1165 & 1501300011395033 & 15013\\_0102 & 40082 & Lomas de Tepalcapa            & 15 & México           & 013 & Atizapán de Zaragoza   & 103 & 10 & ⋯ &  86.66667 & 56.66667 & 30.00000 & 10.000000 & 10.000000 & 0 & 0.9456336 & 0.029062119 & 1 & 35\\\\\n\t1177 & 1501300010490013 & 15013\\_0102 & 40082 & Lomas de Tepalcapa            & 15 & México           & 013 & Atizapán de Zaragoza   & 114 &  5 & ⋯ &  89.28571 & 60.71429 & 28.57143 & 17.857143 &  0.000000 & 0 & 0.9456336 & 0.027992501 & 1 & 17\\\\\n\t1202 & 1501300011662028 & 15013\\_0102 & 40082 & Lomas de Tepalcapa            & 15 & México           & 013 & Atizapán de Zaragoza   &  12 &  0 & ⋯ & 100.00000 &  0.00000 &  0.00000 &  0.000000 &  0.000000 & 0 & 0.9456336 & 0.022331181 & 1 & 48\\\\\n\t1293 & 1501300011427020 & 15013\\_0152 & 40134 & San Jose El Jaral 2Da Seccion & 15 & México           & 013 & Atizapán de Zaragoza   & 128 & 28 & ⋯ &  78.43137 & 45.09804 & 41.17647 & 29.411765 & 13.725490 & 0 & 0.9480449 & 0.008557784 & 1 & 52\\\\\n\t1401 & 1501300011516007 & 15013\\_0164 & 40147 & Uam                           & 15 & México           & 013 & Atizapán de Zaragoza   &  28 &  5 & ⋯ &  77.77778 & 66.66667 & 66.66667 &  0.000000 &  0.000000 & 0 & 0.9498870 & 0.031979407 & 1 & 20\\\\\n\t1454 & 150250001206A010 & 15025\\_0063 & 40836 & Nueva San Antonio             & 15 & México           & 025 & Chalco                 &  90 &  3 & ⋯ &  59.45946 & 48.64865 & 27.02703 & 24.324324 &  0.000000 & 0 & 0.9401904 & 0.036780060 & 1 & 25\\\\\n\t1459 & 150250001206A030 & 15025\\_0063 & 40836 & Nueva San Antonio             & 15 & México           & 025 & Chalco                 &  63 &  3 & ⋯ &  57.14286 & 38.09524 & 23.80952 &  0.000000 &  0.000000 & 0 & 0.9401904 & 0.029333969 & 1 & 29\\\\\n\t1580 & 150290001019A033 & 15029\\_0031 & 40994 & Revolucion                    & 15 & México           & 029 & Chicoloapan            &  53 &  7 & ⋯ &  73.33333 & 73.33333 & 33.33333 &  0.000000 &  0.000000 & 0 & 0.9410442 & 0.025124045 & 1 & 44\\\\\n\t1649 & 150310001061A041 & 15031\\_0025 & 41044 & Cerro de Las Palomas          & 15 & México           & 031 & Chimalhuacán           &  65 &  0 & ⋯ &  86.66667 & 46.66667 & 33.33333 &  0.000000 &  0.000000 & 0 & 0.9422877 & 0.020238430 & 1 & 1 \\\\\n\t1682 & 1503100010605015 & 15031\\_0025 & 41044 & Cerro de Las Palomas          & 15 & México           & 031 & Chimalhuacán           &  65 &  4 & ⋯ &  73.07692 & 46.15385 & 23.07692 & 19.230769 &  0.000000 & 0 & 0.9422877 & 0.021387859 & 1 & 43\\\\\n\t1754 & 1503300011237007 & 15033\\_0021 & 41174 & Altavilla                     & 15 & México           & 033 & Ecatepec de Morelos    &  93 &  9 & ⋯ &  92.00000 & 84.00000 & 60.00000 & 56.000000 & 44.000000 & 0 & 0.9470579 & 0.012197826 & 1 & 6 \\\\\n\t1833 & 1503300011218022 & 15033\\_0021 & 41174 & Altavilla                     & 15 & México           & 033 & Ecatepec de Morelos    & 186 & 19 & ⋯ &  82.97872 & 36.17021 & 29.78723 & 19.148936 &  0.000000 & 0 & 0.9470579 & 0.014692517 & 1 & 19\\\\\n\t⋮ & ⋮ & ⋮ & ⋮ & ⋮ & ⋮ & ⋮ & ⋮ & ⋮ & ⋮ & ⋮ & ⋱ & ⋮ & ⋮ & ⋮ & ⋮ & ⋮ & ⋮ & ⋮ & ⋮ & ⋮ & ⋮\\\\\n\t1963 & 150330001256A033 & 15033\\_0266 & 41423 & Lomas de San Carlos    & 15 & México & 033 & Ecatepec de Morelos &  17 &  0 & ⋯ &  80.00000 & 80.00000 &  0.000000 &  0.000000 &  0.000000 & 1 & 0.9432364 & 0.029042267 & 1 & 45\\\\\n\t1964 & 1503300013623049 & 15033\\_0266 & 41423 & Lomas de San Carlos    & 15 & México & 033 & Ecatepec de Morelos & 120 & 11 & ⋯ &  75.00000 & 65.00000 & 30.000000 & 25.000000 & 25.000000 & 1 & 0.9432364 & 0.033116100 & 1 & 46\\\\\n\t1965 & 1503300013623059 & 15033\\_0266 & 41423 & Lomas de San Carlos    & 15 & México & 033 & Ecatepec de Morelos & 109 & 12 & ⋯ &  80.00000 & 56.66667 & 30.000000 & 16.666667 & 10.000000 & 1 & 0.9432364 & 0.010318926 & 1 & 47\\\\\n\t1966 & 150330001256A021 & 15033\\_0266 & 41423 & Lomas de San Carlos    & 15 & México & 033 & Ecatepec de Morelos & 144 & 17 & ⋯ &  80.39216 & 45.09804 & 25.490196 &  0.000000 &  0.000000 & 1 & 0.9432364 & 0.022322320 & 1 & 48\\\\\n\t1967 & 1503300013623041 & 15033\\_0266 & 41423 & Lomas de San Carlos    & 15 & México & 033 & Ecatepec de Morelos &  30 &  0 & ⋯ &  70.00000 & 70.00000 & 50.000000 & 30.000000 &  0.000000 & 1 & 0.9432364 & 0.052980016 & 1 & 49\\\\\n\t1968 & 1503300013623050 & 15033\\_0266 & 41423 & Lomas de San Carlos    & 15 & México & 033 & Ecatepec de Morelos & 132 & 15 & ⋯ &  85.29412 & 52.94118 & 35.294118 & 35.294118 & 14.705882 & 1 & 0.9432364 & 0.030277681 & 1 & 50\\\\\n\t1969 & 1503300013623052 & 15033\\_0266 & 41423 & Lomas de San Carlos    & 15 & México & 033 & Ecatepec de Morelos & 132 & 19 & ⋯ &  77.77778 & 48.88889 & 20.000000 & 17.777778 &  6.666667 & 1 & 0.9432364 & 0.007998610 & 1 & 51\\\\\n\t1970 & 1503300013623051 & 15033\\_0266 & 41423 & Lomas de San Carlos    & 15 & México & 033 & Ecatepec de Morelos & 122 & 10 & ⋯ &  84.61538 & 43.58974 & 30.769231 & 28.205128 & 15.384615 & 1 & 0.9432364 & 0.008554968 & 1 & 52\\\\\n\t1971 & 1503300013623055 & 15033\\_0266 & 41423 & Lomas de San Carlos    & 15 & México & 033 & Ecatepec de Morelos &  53 &  4 & ⋯ &  91.66667 & 58.33333 & 41.666667 & 25.000000 & 25.000000 & 1 & 0.9432364 & 0.028418391 & 1 & 53\\\\\n\t2016 & 1503300013093028 & 15033\\_0440 & 41601 & Texalpa                & 15 & México & 033 & Ecatepec de Morelos & 139 &  3 & ⋯ &  82.35294 & 38.23529 & 23.529412 & 26.470588 &  8.823529 & 0 & 0.9431293 & 0.114916222 & 1 & 42\\\\\n\t2042 & 1503300013360027 & 15033\\_0440 & 41601 & Texalpa                & 15 & México & 033 & Ecatepec de Morelos &  30 &  3 & ⋯ &  88.88889 & 55.55556 & 44.444444 & 33.333333 &  0.000000 & 0 & 0.9431293 & 0.027326914 & 1 & 34\\\\\n\t2085 & 1503300013233005 & 15033\\_0443 & 41604 & Tolotzin I             & 15 & México & 033 & Ecatepec de Morelos &  15 &  0 & ⋯ &  83.33333 &  0.00000 &  0.000000 &  0.000000 &  0.000000 & 0 & 0.9470660 & 0.027372004 & 1 & 5 \\\\\n\t2093 & 1503300011044015 & 15033\\_0475 & 41636 & Viveros Xalostoc       & 15 & México & 033 & Ecatepec de Morelos & 122 & 14 & ⋯ &  69.23077 & 46.15385 & 33.333333 & 33.333333 & 12.820513 & 0 & 0.9442384 & 0.037120615 & 1 & 11\\\\\n\t2118 & 1503700710064043 & 15037\\_0020 & 41736 & Federal Burocratica    & 15 & México & 037 & Huixquilucan        & 211 & 18 & ⋯ &  78.12500 & 51.56250 & 28.125000 & 35.937500 &  6.250000 & 0 & 0.9442130 & 0.074871428 & 1 & 31\\\\\n\t2182 & 1503900010567046 & 15039\\_0019 & 41827 & Cerro del Tejolote     & 15 & México & 039 & Ixtapaluca          & 112 & 11 & ⋯ &  90.00000 & 86.66667 & 50.000000 & 23.333333 &  0.000000 & 0 & 0.9396434 & 0.061597649 & 1 & 21\\\\\n\t2203 & 1503900010567008 & 15039\\_0019 & 41827 & Cerro del Tejolote     & 15 & México & 039 & Ixtapaluca          & 137 & 19 & ⋯ &  84.21053 & 52.63158 & 26.315789 & 31.578947 & 10.526316 & 0 & 0.9396434 & 0.021911169 & 1 & 26\\\\\n\t2205 & 1503900010567051 & 15039\\_0019 & 41827 & Cerro del Tejolote     & 15 & México & 039 & Ixtapaluca          &  96 &  7 & ⋯ &  85.71429 & 57.14286 & 28.571429 & 38.095238 & 14.285714 & 0 & 0.9396434 & 0.007997235 & 1 & 51\\\\\n\t2228 & 1503900011226024 & 15039\\_0020 & 41828 & Citlalmina             & 15 & México & 039 & Ixtapaluca          &  63 &  4 & ⋯ &  76.92308 & 76.92308 & 61.538462 & 38.461538 &  0.000000 & 0 & 0.9425221 & 0.039414494 & 1 & 33\\\\\n\t2326 & 1505700011968003 & 15057\\_0055 & 42507 & Colinas de San Mateo   & 15 & México & 057 & Naucalpan de Juárez & 136 &  7 & ⋯ &  88.88889 & 70.37037 & 40.740741 & 40.740741 & 29.629630 & 0 & 0.9413230 & 0.052944350 & 1 & 49\\\\\n\t2381 & 1505700012415021 & 15057\\_0142 & 42614 & La Mancha I            & 15 & México & 057 & Naucalpan de Juárez &  88 &  3 & ⋯ &  80.95238 & 61.90476 & 42.857143 &  0.000000 &  0.000000 & 0 & 0.9458611 & 0.024529921 & 1 & 28\\\\\n\t2533 & 1510400011071015 & 15104\\_0178 & 44487 & San Pablo Xalpa        & 15 & México & 104 & Tlalnepantla de Baz & 172 & 18 & ⋯ &  89.23077 & 63.07692 & 47.692308 &  9.230769 &  4.615385 & 0 & 0.9541726 & 0.002657074 & 1 & 38\\\\\n\t2549 & 1510400011705009 & 15104\\_0184 & 44493 & Santa Maria Tlayacampa & 15 & México & 104 & Tlalnepantla de Baz &  43 &  7 & ⋯ &  66.66667 & 16.66667 & 27.777778 &  0.000000 &  0.000000 & 0 & 0.9452682 & 0.024175815 & 1 & 22\\\\\n\t2665 & 1510900030953022 & 15109\\_0079 & 45115 & La Libertad            & 15 & México & 109 & Tultitlán           &  65 &  4 & ⋯ &  84.21053 & 84.21053 & 21.052632 & 57.894737 & 31.578947 & 0 & 0.9444515 & 0.040398316 & 1 & 16\\\\\n\t2696 & 1510900031260024 & 15109\\_0079 & 45115 & La Libertad            & 15 & México & 109 & Tultitlán           &  86 &  9 & ⋯ &  66.66667 & 66.66667 & 37.500000 & 37.500000 & 12.500000 & 0 & 0.9444515 & 0.033104151 & 1 & 46\\\\\n\t2727 & 1510900031538044 & 15109\\_0183 & 45223 & Valle de Tules         & 15 & México & 109 & Tultitlán           & 142 & 12 & ⋯ &  77.55102 & 53.06122 & 38.775510 & 24.489796 & 18.367347 & 0 & 0.9495984 & 0.020654036 & 1 & 7 \\\\\n\t2731 & 1510900031538048 & 15109\\_0183 & 45223 & Valle de Tules         & 15 & México & 109 & Tultitlán           &  45 &  3 & ⋯ & 100.00000 & 81.81818 & 36.363636 &  0.000000 &  0.000000 & 0 & 0.9495984 & 0.022515768 & 1 & 15\\\\\n\t2735 & 1510900031538041 & 15109\\_0183 & 45223 & Valle de Tules         & 15 & México & 109 & Tultitlán           &  75 &  4 & ⋯ &  91.30435 & 73.91304 & 43.478261 & 47.826087 & 26.086957 & 0 & 0.9495984 & 0.028406324 & 1 & 53\\\\\n\t2798 & 1512000140664015 & 15120\\_0004 & 45508 & Arbolada Los Sauces I  & 15 & México & 120 & Zumpango            &  69 &  6 & ⋯ &  39.13043 & 26.08696 &  6.521739 & 17.391304 &  0.000000 & 0 & 0.9489722 & 0.036169275 & 1 & 18\\\\\n\t2804 & 1512000140664020 & 15120\\_0004 & 45508 & Arbolada Los Sauces I  & 15 & México & 120 & Zumpango            & 126 & 24 & ⋯ &  60.60606 & 19.69697 &  7.575758 & 15.151515 &  0.000000 & 0 & 0.9489722 & 0.015643800 & 1 & 13\\\\\n\t2814 & 151200204065A008 & 15120\\_0057 & 45576 & Villas de La Laguna    & 15 & México & 120 & Zumpango            & 367 & 42 & ⋯ &  52.46637 & 24.66368 & 13.901345 & 23.318386 &  1.345291 & 0 & 0.9475377 & 0.064628632 & 1 & 36\\\\\n\\end{tabular}\n",
      "text/plain": [
       "     cvegeo           cve_col    id_col colonia                       cve_ent\n",
       "10   0900500012574038 09005_0019 17240  Benito Juarez                 09     \n",
       "17   0900500010258015 09005_0019 17240  Benito Juarez                 09     \n",
       "140  0900700014838009 09007_0013 17473  Ampliacion Emiliano Zapata    09     \n",
       "174  0900700012189005 09007_0051 17512  El Rosario                    09     \n",
       "220  0900700012051095 09007_0056 17517  El Triangulo                  09     \n",
       "284  0900700014289028 09007_0167 17628  San Francisco Apolocalco      09     \n",
       "320  0900700014293012 09007_0167 17628  San Francisco Apolocalco      09     \n",
       "476  090080001057A028 09008_0007 17695  El Ocotal                     09     \n",
       "712  0901700010899014 09017_0043 18749  Merced Balbuena               09     \n",
       "769  0901700010460015 09017_0054 18760  Peñon de Los Baños            09     \n",
       "771  0901700010460007 09017_0054 18760  Peñon de Los Baños            09     \n",
       "797  0901700010352001 09017_0054 18760  Peñon de Los Baños            09     \n",
       "813  1501300011338054 15013_0001 39976  1Ro de Septiembre             15     \n",
       "864  1501300010630061 15013_0002 39977  5 de Mayo                     15     \n",
       "963  1501300011395050 15013_0010 39986  Alfredo V Bonfil              15     \n",
       "964  1501300011408025 15013_0010 39986  Alfredo V Bonfil              15     \n",
       "976  1501300010274033 15013_0040 40019  Ejido San Miguel Chalma       15     \n",
       "1030 1501300011817018 15013_0040 40019  Ejido San Miguel Chalma       15     \n",
       "1165 1501300011395033 15013_0102 40082  Lomas de Tepalcapa            15     \n",
       "1177 1501300010490013 15013_0102 40082  Lomas de Tepalcapa            15     \n",
       "1202 1501300011662028 15013_0102 40082  Lomas de Tepalcapa            15     \n",
       "1293 1501300011427020 15013_0152 40134  San Jose El Jaral 2Da Seccion 15     \n",
       "1401 1501300011516007 15013_0164 40147  Uam                           15     \n",
       "1454 150250001206A010 15025_0063 40836  Nueva San Antonio             15     \n",
       "1459 150250001206A030 15025_0063 40836  Nueva San Antonio             15     \n",
       "1580 150290001019A033 15029_0031 40994  Revolucion                    15     \n",
       "1649 150310001061A041 15031_0025 41044  Cerro de Las Palomas          15     \n",
       "1682 1503100010605015 15031_0025 41044  Cerro de Las Palomas          15     \n",
       "1754 1503300011237007 15033_0021 41174  Altavilla                     15     \n",
       "1833 1503300011218022 15033_0021 41174  Altavilla                     15     \n",
       "⋮    ⋮                ⋮          ⋮      ⋮                             ⋮      \n",
       "1963 150330001256A033 15033_0266 41423  Lomas de San Carlos           15     \n",
       "1964 1503300013623049 15033_0266 41423  Lomas de San Carlos           15     \n",
       "1965 1503300013623059 15033_0266 41423  Lomas de San Carlos           15     \n",
       "1966 150330001256A021 15033_0266 41423  Lomas de San Carlos           15     \n",
       "1967 1503300013623041 15033_0266 41423  Lomas de San Carlos           15     \n",
       "1968 1503300013623050 15033_0266 41423  Lomas de San Carlos           15     \n",
       "1969 1503300013623052 15033_0266 41423  Lomas de San Carlos           15     \n",
       "1970 1503300013623051 15033_0266 41423  Lomas de San Carlos           15     \n",
       "1971 1503300013623055 15033_0266 41423  Lomas de San Carlos           15     \n",
       "2016 1503300013093028 15033_0440 41601  Texalpa                       15     \n",
       "2042 1503300013360027 15033_0440 41601  Texalpa                       15     \n",
       "2085 1503300013233005 15033_0443 41604  Tolotzin I                    15     \n",
       "2093 1503300011044015 15033_0475 41636  Viveros Xalostoc              15     \n",
       "2118 1503700710064043 15037_0020 41736  Federal Burocratica           15     \n",
       "2182 1503900010567046 15039_0019 41827  Cerro del Tejolote            15     \n",
       "2203 1503900010567008 15039_0019 41827  Cerro del Tejolote            15     \n",
       "2205 1503900010567051 15039_0019 41827  Cerro del Tejolote            15     \n",
       "2228 1503900011226024 15039_0020 41828  Citlalmina                    15     \n",
       "2326 1505700011968003 15057_0055 42507  Colinas de San Mateo          15     \n",
       "2381 1505700012415021 15057_0142 42614  La Mancha I                   15     \n",
       "2533 1510400011071015 15104_0178 44487  San Pablo Xalpa               15     \n",
       "2549 1510400011705009 15104_0184 44493  Santa Maria Tlayacampa        15     \n",
       "2665 1510900030953022 15109_0079 45115  La Libertad                   15     \n",
       "2696 1510900031260024 15109_0079 45115  La Libertad                   15     \n",
       "2727 1510900031538044 15109_0183 45223  Valle de Tules                15     \n",
       "2731 1510900031538048 15109_0183 45223  Valle de Tules                15     \n",
       "2735 1510900031538041 15109_0183 45223  Valle de Tules                15     \n",
       "2798 1512000140664015 15120_0004 45508  Arbolada Los Sauces I         15     \n",
       "2804 1512000140664020 15120_0004 45508  Arbolada Los Sauces I         15     \n",
       "2814 151200204065A008 15120_0057 45576  Villas de La Laguna           15     \n",
       "     nom_ent          cve_mun nom_mun                pobtot hogjef_f ⋯\n",
       "10   Ciudad de México 005     Gustavo A. Madero      129     9       ⋯\n",
       "17   Ciudad de México 005     Gustavo A. Madero      105    13       ⋯\n",
       "140  Ciudad de México 007     Iztapalapa             117    11       ⋯\n",
       "174  Ciudad de México 007     Iztapalapa              77     7       ⋯\n",
       "220  Ciudad de México 007     Iztapalapa              88     8       ⋯\n",
       "284  Ciudad de México 007     Iztapalapa             147    10       ⋯\n",
       "320  Ciudad de México 007     Iztapalapa             145     7       ⋯\n",
       "476  Ciudad de México 008     La Magdalena Contreras 154    11       ⋯\n",
       "712  Ciudad de México 017     Venustiano Carranza     60     6       ⋯\n",
       "769  Ciudad de México 017     Venustiano Carranza    105    14       ⋯\n",
       "771  Ciudad de México 017     Venustiano Carranza    120    13       ⋯\n",
       "797  Ciudad de México 017     Venustiano Carranza    160    10       ⋯\n",
       "813  México           013     Atizapán de Zaragoza    13     0       ⋯\n",
       "864  México           013     Atizapán de Zaragoza    66     6       ⋯\n",
       "963  México           013     Atizapán de Zaragoza    85     8       ⋯\n",
       "964  México           013     Atizapán de Zaragoza   148    13       ⋯\n",
       "976  México           013     Atizapán de Zaragoza    88     4       ⋯\n",
       "1030 México           013     Atizapán de Zaragoza   126    15       ⋯\n",
       "1165 México           013     Atizapán de Zaragoza   103    10       ⋯\n",
       "1177 México           013     Atizapán de Zaragoza   114     5       ⋯\n",
       "1202 México           013     Atizapán de Zaragoza    12     0       ⋯\n",
       "1293 México           013     Atizapán de Zaragoza   128    28       ⋯\n",
       "1401 México           013     Atizapán de Zaragoza    28     5       ⋯\n",
       "1454 México           025     Chalco                  90     3       ⋯\n",
       "1459 México           025     Chalco                  63     3       ⋯\n",
       "1580 México           029     Chicoloapan             53     7       ⋯\n",
       "1649 México           031     Chimalhuacán            65     0       ⋯\n",
       "1682 México           031     Chimalhuacán            65     4       ⋯\n",
       "1754 México           033     Ecatepec de Morelos     93     9       ⋯\n",
       "1833 México           033     Ecatepec de Morelos    186    19       ⋯\n",
       "⋮    ⋮                ⋮       ⋮                      ⋮      ⋮        ⋱\n",
       "1963 México           033     Ecatepec de Morelos     17     0       ⋯\n",
       "1964 México           033     Ecatepec de Morelos    120    11       ⋯\n",
       "1965 México           033     Ecatepec de Morelos    109    12       ⋯\n",
       "1966 México           033     Ecatepec de Morelos    144    17       ⋯\n",
       "1967 México           033     Ecatepec de Morelos     30     0       ⋯\n",
       "1968 México           033     Ecatepec de Morelos    132    15       ⋯\n",
       "1969 México           033     Ecatepec de Morelos    132    19       ⋯\n",
       "1970 México           033     Ecatepec de Morelos    122    10       ⋯\n",
       "1971 México           033     Ecatepec de Morelos     53     4       ⋯\n",
       "2016 México           033     Ecatepec de Morelos    139     3       ⋯\n",
       "2042 México           033     Ecatepec de Morelos     30     3       ⋯\n",
       "2085 México           033     Ecatepec de Morelos     15     0       ⋯\n",
       "2093 México           033     Ecatepec de Morelos    122    14       ⋯\n",
       "2118 México           037     Huixquilucan           211    18       ⋯\n",
       "2182 México           039     Ixtapaluca             112    11       ⋯\n",
       "2203 México           039     Ixtapaluca             137    19       ⋯\n",
       "2205 México           039     Ixtapaluca              96     7       ⋯\n",
       "2228 México           039     Ixtapaluca              63     4       ⋯\n",
       "2326 México           057     Naucalpan de Juárez    136     7       ⋯\n",
       "2381 México           057     Naucalpan de Juárez     88     3       ⋯\n",
       "2533 México           104     Tlalnepantla de Baz    172    18       ⋯\n",
       "2549 México           104     Tlalnepantla de Baz     43     7       ⋯\n",
       "2665 México           109     Tultitlán               65     4       ⋯\n",
       "2696 México           109     Tultitlán               86     9       ⋯\n",
       "2727 México           109     Tultitlán              142    12       ⋯\n",
       "2731 México           109     Tultitlán               45     3       ⋯\n",
       "2735 México           109     Tultitlán               75     4       ⋯\n",
       "2798 México           120     Zumpango                69     6       ⋯\n",
       "2804 México           120     Zumpango               126    24       ⋯\n",
       "2814 México           120     Zumpango               367    42       ⋯\n",
       "     pct_celular pct_internet pct_computadora pct_tv_paga pct_videos simi\n",
       "10    84.61538   43.58974     25.64103        15.384615    7.692308  0   \n",
       "17    81.48148   74.07407     44.44444        18.518519   22.222222  0   \n",
       "140   90.00000   76.66667     26.66667        23.333333   26.666667  0   \n",
       "174   80.76923   69.23077     30.76923        26.923077   19.230769  0   \n",
       "220   96.00000   48.00000     16.00000         0.000000    0.000000  0   \n",
       "284   71.05263   63.15789     36.84211        26.315789   18.421053  0   \n",
       "320   73.80952   66.66667     28.57143        28.571429    0.000000  0   \n",
       "476   86.66667   77.77778     35.55556        26.666667   11.111111  0   \n",
       "712   80.00000   80.00000     75.00000        45.000000   45.000000  0   \n",
       "769   89.74359   71.79487     71.79487        35.897436   28.205128  0   \n",
       "771   72.09302   32.55814     37.20930         9.302326    9.302326  0   \n",
       "797   90.00000   66.66667     40.00000        33.333333    0.000000  0   \n",
       "813  100.00000    0.00000      0.00000         0.000000    0.000000  0   \n",
       "864   65.21739   39.13043      0.00000        17.391304    0.000000  0   \n",
       "963   86.95652   65.21739     47.82609        43.478261   26.086957  0   \n",
       "964   94.44444   58.33333     50.00000        30.555556   19.444444  0   \n",
       "976   77.77778   50.00000     22.22222        27.777778    0.000000  0   \n",
       "1030  91.66667   63.88889     33.33333        25.000000   19.444444  0   \n",
       "1165  86.66667   56.66667     30.00000        10.000000   10.000000  0   \n",
       "1177  89.28571   60.71429     28.57143        17.857143    0.000000  0   \n",
       "1202 100.00000    0.00000      0.00000         0.000000    0.000000  0   \n",
       "1293  78.43137   45.09804     41.17647        29.411765   13.725490  0   \n",
       "1401  77.77778   66.66667     66.66667         0.000000    0.000000  0   \n",
       "1454  59.45946   48.64865     27.02703        24.324324    0.000000  0   \n",
       "1459  57.14286   38.09524     23.80952         0.000000    0.000000  0   \n",
       "1580  73.33333   73.33333     33.33333         0.000000    0.000000  0   \n",
       "1649  86.66667   46.66667     33.33333         0.000000    0.000000  0   \n",
       "1682  73.07692   46.15385     23.07692        19.230769    0.000000  0   \n",
       "1754  92.00000   84.00000     60.00000        56.000000   44.000000  0   \n",
       "1833  82.97872   36.17021     29.78723        19.148936    0.000000  0   \n",
       "⋮    ⋮           ⋮            ⋮               ⋮           ⋮          ⋮   \n",
       "1963  80.00000   80.00000      0.000000        0.000000    0.000000  1   \n",
       "1964  75.00000   65.00000     30.000000       25.000000   25.000000  1   \n",
       "1965  80.00000   56.66667     30.000000       16.666667   10.000000  1   \n",
       "1966  80.39216   45.09804     25.490196        0.000000    0.000000  1   \n",
       "1967  70.00000   70.00000     50.000000       30.000000    0.000000  1   \n",
       "1968  85.29412   52.94118     35.294118       35.294118   14.705882  1   \n",
       "1969  77.77778   48.88889     20.000000       17.777778    6.666667  1   \n",
       "1970  84.61538   43.58974     30.769231       28.205128   15.384615  1   \n",
       "1971  91.66667   58.33333     41.666667       25.000000   25.000000  1   \n",
       "2016  82.35294   38.23529     23.529412       26.470588    8.823529  0   \n",
       "2042  88.88889   55.55556     44.444444       33.333333    0.000000  0   \n",
       "2085  83.33333    0.00000      0.000000        0.000000    0.000000  0   \n",
       "2093  69.23077   46.15385     33.333333       33.333333   12.820513  0   \n",
       "2118  78.12500   51.56250     28.125000       35.937500    6.250000  0   \n",
       "2182  90.00000   86.66667     50.000000       23.333333    0.000000  0   \n",
       "2203  84.21053   52.63158     26.315789       31.578947   10.526316  0   \n",
       "2205  85.71429   57.14286     28.571429       38.095238   14.285714  0   \n",
       "2228  76.92308   76.92308     61.538462       38.461538    0.000000  0   \n",
       "2326  88.88889   70.37037     40.740741       40.740741   29.629630  0   \n",
       "2381  80.95238   61.90476     42.857143        0.000000    0.000000  0   \n",
       "2533  89.23077   63.07692     47.692308        9.230769    4.615385  0   \n",
       "2549  66.66667   16.66667     27.777778        0.000000    0.000000  0   \n",
       "2665  84.21053   84.21053     21.052632       57.894737   31.578947  0   \n",
       "2696  66.66667   66.66667     37.500000       37.500000   12.500000  0   \n",
       "2727  77.55102   53.06122     38.775510       24.489796   18.367347  0   \n",
       "2731 100.00000   81.81818     36.363636        0.000000    0.000000  0   \n",
       "2735  91.30435   73.91304     43.478261       47.826087   26.086957  0   \n",
       "2798  39.13043   26.08696      6.521739       17.391304    0.000000  0   \n",
       "2804  60.60606   19.69697      7.575758       15.151515    0.000000  0   \n",
       "2814  52.46637   24.66368     13.901345       23.318386    1.345291  0   \n",
       "     imn_2020  distance    weights subclass\n",
       "10   0.9519898 0.048198757 1       10      \n",
       "17   0.9519898 0.025630934 1       2       \n",
       "140  0.9476954 0.043328905 1       27      \n",
       "174  0.9548266 0.010332922 1       47      \n",
       "220  0.9397610 0.026139155 1       3       \n",
       "284  0.9410142 0.041723277 1       24      \n",
       "320  0.9410142 0.051061547 1       12      \n",
       "476  0.9463932 0.071366383 1       32      \n",
       "712  0.9407663 0.031424306 1       37      \n",
       "769  0.9536387 0.029048695 1       45      \n",
       "771  0.9536387 0.035202763 1       41      \n",
       "797  0.9536387 0.004029852 1       4       \n",
       "813  0.9465358 0.043911303 1       30      \n",
       "864  0.9430531 0.030301397 1       50      \n",
       "963  0.9485763 0.023951051 1       23      \n",
       "964  0.9485763 0.013914263 1       8       \n",
       "976  0.9523169 0.033320171 1       14      \n",
       "1030 0.9523169 0.016018699 1       40      \n",
       "1165 0.9456336 0.029062119 1       35      \n",
       "1177 0.9456336 0.027992501 1       17      \n",
       "1202 0.9456336 0.022331181 1       48      \n",
       "1293 0.9480449 0.008557784 1       52      \n",
       "1401 0.9498870 0.031979407 1       20      \n",
       "1454 0.9401904 0.036780060 1       25      \n",
       "1459 0.9401904 0.029333969 1       29      \n",
       "1580 0.9410442 0.025124045 1       44      \n",
       "1649 0.9422877 0.020238430 1       1       \n",
       "1682 0.9422877 0.021387859 1       43      \n",
       "1754 0.9470579 0.012197826 1       6       \n",
       "1833 0.9470579 0.014692517 1       19      \n",
       "⋮    ⋮         ⋮           ⋮       ⋮       \n",
       "1963 0.9432364 0.029042267 1       45      \n",
       "1964 0.9432364 0.033116100 1       46      \n",
       "1965 0.9432364 0.010318926 1       47      \n",
       "1966 0.9432364 0.022322320 1       48      \n",
       "1967 0.9432364 0.052980016 1       49      \n",
       "1968 0.9432364 0.030277681 1       50      \n",
       "1969 0.9432364 0.007998610 1       51      \n",
       "1970 0.9432364 0.008554968 1       52      \n",
       "1971 0.9432364 0.028418391 1       53      \n",
       "2016 0.9431293 0.114916222 1       42      \n",
       "2042 0.9431293 0.027326914 1       34      \n",
       "2085 0.9470660 0.027372004 1       5       \n",
       "2093 0.9442384 0.037120615 1       11      \n",
       "2118 0.9442130 0.074871428 1       31      \n",
       "2182 0.9396434 0.061597649 1       21      \n",
       "2203 0.9396434 0.021911169 1       26      \n",
       "2205 0.9396434 0.007997235 1       51      \n",
       "2228 0.9425221 0.039414494 1       33      \n",
       "2326 0.9413230 0.052944350 1       49      \n",
       "2381 0.9458611 0.024529921 1       28      \n",
       "2533 0.9541726 0.002657074 1       38      \n",
       "2549 0.9452682 0.024175815 1       22      \n",
       "2665 0.9444515 0.040398316 1       16      \n",
       "2696 0.9444515 0.033104151 1       46      \n",
       "2727 0.9495984 0.020654036 1       7       \n",
       "2731 0.9495984 0.022515768 1       15      \n",
       "2735 0.9495984 0.028406324 1       53      \n",
       "2798 0.9489722 0.036169275 1       18      \n",
       "2804 0.9489722 0.015643800 1       13      \n",
       "2814 0.9475377 0.064628632 1       36      "
      ]
     },
     "metadata": {},
     "output_type": "display_data"
    }
   ],
   "execution_count": 39
  },
  {
   "metadata": {
    "ExecuteTime": {
     "end_time": "2024-11-13T01:44:32.620750Z",
     "start_time": "2024-11-13T01:44:31.807231Z"
    }
   },
   "cell_type": "code",
   "source": [
    "plot(matchit_out, type = \"jitter\")\n",
    "plot(matchit_out, type = \"qq\")\n",
    "plot(summary(matchit_out))\n"
   ],
   "id": "68f7c1285dce724d",
   "outputs": [
    {
     "name": "stdout",
     "output_type": "stream",
     "text": [
      "To identify the units, use first mouse button; to stop, use second.\n"
     ]
    },
    {
     "data": {
      "text/plain": [
       "Plot with title \"Distribution of Propensity Scores\""
      ],
      "image/png": "[encoded data removed]"
     },
     "metadata": {
      "image/png": {
       "width": 420,
       "height": 420
      }
     },
     "output_type": "display_data"
    },
    {
     "data": {
      "text/plain": [
       "plot without title"
      ],
      "image/png": "[encoded data removed]"
     },
     "metadata": {
      "image/png": {
       "width": 420,
       "height": 420
      }
     },
     "output_type": "display_data"
    },
    {
     "data": {
      "text/plain": [
       "plot without title"
      ],
      "image/png": "[encoded data removed]"
     },
     "metadata": {
      "image/png": {
       "width": 420,
       "height": 420
      }
     },
     "output_type": "display_data"
    },
    {
     "data": {
      "text/plain": [
       "plot without title"
      ],
      "image/png": "[encoded data removed]"
     },
     "metadata": {
      "image/png": {
       "width": 420,
       "height": 420
      }
     },
     "output_type": "display_data"
    },
    {
     "data": {
      "text/plain": [
       "plot without title"
      ],
      "image/png": "[encoded data removed]"
     },
     "metadata": {
      "image/png": {
       "width": 420,
       "height": 420
      }
     },
     "output_type": "display_data"
    },
    {
     "data": {
      "text/plain": [
       "plot without title"
      ],
      "image/png": "[encoded data removed]"
     },
     "metadata": {
      "image/png": {
       "width": 420,
       "height": 420
      }
     },
     "output_type": "display_data"
    }
   ],
   "execution_count": 40
  },
  {
   "metadata": {},
   "cell_type": "markdown",
   "source": "#### 3.3 Se estima el efecto del tratamiento",
   "id": "769e53e278ef405e"
  },
  {
   "metadata": {
    "ExecuteTime": {
     "end_time": "2024-11-13T01:44:32.720807Z",
     "start_time": "2024-11-13T01:44:32.679606Z"
    }
   },
   "cell_type": "code",
   "source": "t.test(imn_2020~simi, data=datos_matcheados)",
   "id": "d61de9d6db2fc60b",
   "outputs": [
    {
     "data": {
      "text/plain": [
       "\n",
       "\tWelch Two Sample t-test\n",
       "\n",
       "data:  imn_2020 by simi\n",
       "t = 4.6062, df = 52, p-value = 2.686e-05\n",
       "alternative hypothesis: true difference in means between group 0 and group 1 is not equal to 0\n",
       "95 percent confidence interval:\n",
       " 0.001603732 0.004079649\n",
       "sample estimates:\n",
       "mean in group 0 mean in group 1 \n",
       "      0.9460781       0.9432364 \n"
      ]
     },
     "metadata": {},
     "output_type": "display_data"
    }
   ],
   "execution_count": 41
  },
  {
   "metadata": {},
   "cell_type": "markdown",
   "source": "#### 4.1 Se estima ***modelo logit** para obtener el propensity score",
   "id": "df0406267b22fc1b"
  },
  {
   "metadata": {
    "ExecuteTime": {
     "end_time": "2024-11-13T01:44:32.850668Z",
     "start_time": "2024-11-13T01:44:32.772878Z"
    }
   },
   "cell_type": "code",
   "source": [
    "modelo_logit<-glm(var_modelo,\n",
    "                        data=datos_colonias,family=binomial(link=\"logit\"))\n",
    "summary(modelo_logit)"
   ],
   "id": "bea29cffe3750b82",
   "outputs": [
    {
     "name": "stderr",
     "output_type": "stream",
     "text": [
      "Warning message:\n",
      "\"glm.fit: fitted probabilities numerically 0 or 1 occurred\"\n"
     ]
    },
    {
     "data": {
      "text/plain": [
       "\n",
       "Call:\n",
       "glm(formula = var_modelo, family = binomial(link = \"logit\"), \n",
       "    data = datos_colonias)\n",
       "\n",
       "Coefficients:\n",
       "             Estimate Std. Error z value Pr(>|z|)    \n",
       "(Intercept) -4.104618   0.631493  -6.500 8.04e-11 ***\n",
       "hogjef_f    -0.000985   0.041689  -0.024   0.9811    \n",
       "hogjef_m     0.057572   0.033809   1.703   0.0886 .  \n",
       "graproes     0.072038   0.067621   1.065   0.2867    \n",
       "pea         -0.193690   0.218278  -0.887   0.3749    \n",
       "pe_inac     -0.109612   0.059647  -1.838   0.0661 .  \n",
       "pocupada     0.040800   0.208319   0.196   0.8447    \n",
       "pdesocup    -0.277124   0.224704  -1.233   0.2175    \n",
       "pob0_14      0.097968   0.023327   4.200 2.67e-05 ***\n",
       "pob15_64     0.097028   0.061757   1.571   0.1162    \n",
       "pob65_mas    0.075359   0.063004   1.196   0.2317    \n",
       "---\n",
       "Signif. codes:  0 '***' 0.001 '**' 0.01 '*' 0.05 '.' 0.1 ' ' 1\n",
       "\n",
       "(Dispersion parameter for binomial family taken to be 1)\n",
       "\n",
       "    Null deviance: 529.40  on 2903  degrees of freedom\n",
       "Residual deviance: 489.35  on 2893  degrees of freedom\n",
       "AIC: 511.35\n",
       "\n",
       "Number of Fisher Scoring iterations: 8\n"
      ]
     },
     "metadata": {},
     "output_type": "display_data"
    }
   ],
   "execution_count": 42
  },
  {
   "metadata": {
    "ExecuteTime": {
     "end_time": "2024-11-13T01:44:32.894479Z",
     "start_time": "2024-11-13T01:44:32.876496Z"
    }
   },
   "cell_type": "code",
   "source": [
    "prs_df <- data.frame(pr_score = predict(modelo_logit, type = \"response\"),\n",
    "                     simi = datos_colonias$simi)"
   ],
   "id": "2f62ecc01f528048",
   "outputs": [],
   "execution_count": 43
  },
  {
   "metadata": {
    "ExecuteTime": {
     "end_time": "2024-11-13T01:44:33.126689Z",
     "start_time": "2024-11-13T01:44:32.923688Z"
    }
   },
   "cell_type": "code",
   "source": [
    "matchit_out <- matchit(var_modelo,\n",
    "                       data = datos_colonias, method = \"nearest\", distance = prs_df$pr_score)\n",
    "matchit_out\n",
    "summary(matchit_out)"
   ],
   "id": "22fce8a72288ed1c",
   "outputs": [
    {
     "data": {
      "text/plain": [
       "A matchit object\n",
       " - method: 1:1 nearest neighbor matching without replacement\n",
       " - distance: User-defined\n",
       " - number of obs.: 2904 (original), 106 (matched)\n",
       " - target estimand: ATT\n",
       " - covariates: hogjef_f, hogjef_m, graproes, pea, pe_inac, pocupada, pdesocup, pob0_14, pob15_64, pob65_mas"
      ]
     },
     "metadata": {},
     "output_type": "display_data"
    },
    {
     "data": {
      "text/plain": [
       "\n",
       "Call:\n",
       "matchit(formula = var_modelo, data = datos_colonias, method = \"nearest\", \n",
       "    distance = prs_df$pr_score)\n",
       "\n",
       "Summary of Balance for All Data:\n",
       "          Means Treated Means Control Std. Mean Diff. Var. Ratio eCDF Mean\n",
       "distance         0.0320        0.0180          0.6804     1.3482    0.2494\n",
       "hogjef_f         8.5094       11.5735         -0.4175     0.4303    0.0384\n",
       "hogjef_m        18.9057       21.4749         -0.1908     0.4903    0.0250\n",
       "graproes         9.2647        9.3526         -0.0922     0.1762    0.0774\n",
       "pea             50.1698       64.0702         -0.3729     0.4419    0.0523\n",
       "pe_inac         31.4151       37.8050         -0.2764     0.5315    0.0385\n",
       "pocupada        49.3774       62.6086         -0.3607     0.4454    0.0505\n",
       "pdesocup         0.2642        0.9670         -0.7293     0.1935    0.0247\n",
       "pob0_14         27.6604       28.7106         -0.0478     0.7419    0.0220\n",
       "pob15_64        70.1698       86.4963         -0.3130     0.5063    0.0505\n",
       "pob65_mas        6.1132        9.3578         -0.6079     0.3097    0.0544\n",
       "          eCDF Max\n",
       "distance    0.4708\n",
       "hogjef_f    0.1625\n",
       "hogjef_m    0.1222\n",
       "graproes    0.2427\n",
       "pea         0.2292\n",
       "pe_inac     0.1360\n",
       "pocupada    0.2278\n",
       "pdesocup    0.1287\n",
       "pob0_14     0.0794\n",
       "pob15_64    0.2240\n",
       "pob65_mas   0.2376\n",
       "\n",
       "Summary of Balance for Matched Data:\n",
       "          Means Treated Means Control Std. Mean Diff. Var. Ratio eCDF Mean\n",
       "distance         0.0320        0.0319          0.0038     1.0399    0.0004\n",
       "hogjef_f         8.5094        8.6792         -0.0231     1.1802    0.0191\n",
       "hogjef_m        18.9057       19.0000         -0.0070     1.1113    0.0156\n",
       "graproes         9.2647        9.4809         -0.2268     0.6243    0.0507\n",
       "pea             50.1698       49.5283          0.0172     1.4671    0.0258\n",
       "pe_inac         31.4151       31.2264          0.0082     1.1067    0.0153\n",
       "pocupada        49.3774       48.8491          0.0144     1.4347    0.0255\n",
       "pdesocup         0.2642        0.1509          0.1175     1.4730    0.0021\n",
       "pob0_14         27.6604       26.6038          0.0481     1.2514    0.0196\n",
       "pob15_64        70.1698       68.8491          0.0253     1.3853    0.0265\n",
       "pob65_mas        6.1132        6.8491         -0.1379     1.0411    0.0175\n",
       "          eCDF Max Std. Pair Dist.\n",
       "distance    0.0377          0.0064\n",
       "hogjef_f    0.1321          0.9897\n",
       "hogjef_m    0.1132          0.9204\n",
       "graproes    0.1887          1.2023\n",
       "pea         0.1132          0.8554\n",
       "pe_inac     0.0566          1.0137\n",
       "pocupada    0.1132          0.8631\n",
       "pdesocup    0.0377          0.4307\n",
       "pob0_14     0.0755          0.8969\n",
       "pob15_64    0.1132          0.9044\n",
       "pob65_mas   0.1509          0.9863\n",
       "\n",
       "Sample Sizes:\n",
       "          Control Treated\n",
       "All          2851      53\n",
       "Matched        53      53\n",
       "Unmatched    2798       0\n",
       "Discarded       0       0\n"
      ]
     },
     "metadata": {},
     "output_type": "display_data"
    }
   ],
   "execution_count": 44
  },
  {
   "metadata": {
    "ExecuteTime": {
     "end_time": "2024-11-13T01:44:33.438721Z",
     "start_time": "2024-11-13T01:44:33.146862Z"
    }
   },
   "cell_type": "code",
   "source": [
    "datos_matcheados<-match.data(matchit_out)\n",
    "print(paste(\"Número de manzanas matcheadas:\",nrow(datos_matcheados)))\n",
    "#Número de manzanas matcheadas sin considerar Lomas de San Carlos\n",
    "print(paste(\"Número de manzanas matcheadas sin considerar Lomas de San Carlos:\",nrow(datos_matcheados[datos_matcheados$simi==0,])))\n",
    "datos_matcheados"
   ],
   "id": "75fd13e1f611b8be",
   "outputs": [
    {
     "name": "stdout",
     "output_type": "stream",
     "text": [
      "[1] \"Número de manzanas matcheadas: 106\"\n",
      "[1] \"Número de manzanas matcheadas sin considerar Lomas de San Carlos: 53\"\n"
     ]
    },
    {
     "data": {
      "text/html": [
       "<table class=\"dataframe\">\n",
       "<caption>A matchdata: 106 × 43</caption>\n",
       "<thead>\n",
       "\t<tr><th></th><th scope=col>cvegeo</th><th scope=col>cve_col</th><th scope=col>id_col</th><th scope=col>colonia</th><th scope=col>cve_ent</th><th scope=col>nom_ent</th><th scope=col>cve_mun</th><th scope=col>nom_mun</th><th scope=col>pobtot</th><th scope=col>hogjef_f</th><th scope=col>⋯</th><th scope=col>pct_celular</th><th scope=col>pct_internet</th><th scope=col>pct_computadora</th><th scope=col>pct_tv_paga</th><th scope=col>pct_videos</th><th scope=col>simi</th><th scope=col>imn_2020</th><th scope=col>distance</th><th scope=col>weights</th><th scope=col>subclass</th></tr>\n",
       "\t<tr><th></th><th scope=col>&lt;chr&gt;</th><th scope=col>&lt;chr&gt;</th><th scope=col>&lt;dbl&gt;</th><th scope=col>&lt;chr&gt;</th><th scope=col>&lt;chr&gt;</th><th scope=col>&lt;chr&gt;</th><th scope=col>&lt;chr&gt;</th><th scope=col>&lt;chr&gt;</th><th scope=col>&lt;dbl&gt;</th><th scope=col>&lt;dbl&gt;</th><th scope=col>⋯</th><th scope=col>&lt;dbl&gt;</th><th scope=col>&lt;dbl&gt;</th><th scope=col>&lt;dbl&gt;</th><th scope=col>&lt;dbl&gt;</th><th scope=col>&lt;dbl&gt;</th><th scope=col>&lt;dbl&gt;</th><th scope=col>&lt;dbl&gt;</th><th scope=col>&lt;dbl&gt;</th><th scope=col>&lt;dbl&gt;</th><th scope=col>&lt;fct&gt;</th></tr>\n",
       "</thead>\n",
       "<tbody>\n",
       "\t<tr><th scope=row>136</th><td>0900700015037017</td><td>09007_0013</td><td>17473</td><td>Ampliacion Emiliano Zapata   </td><td>09</td><td>Ciudad de México</td><td>007</td><td>Iztapalapa            </td><td>160</td><td> 9</td><td>⋯</td><td> 78.00000</td><td>44.00000</td><td>20.00000</td><td> 8.00000</td><td> 6.000000</td><td>0</td><td>0.9476954</td><td>0.032881102</td><td>1</td><td>14</td></tr>\n",
       "\t<tr><th scope=row>160</th><td>0900700012206013</td><td>09007_0051</td><td>17512</td><td>El Rosario                   </td><td>09</td><td>Ciudad de México</td><td>007</td><td>Iztapalapa            </td><td> 23</td><td> 0</td><td>⋯</td><td>100.00000</td><td>85.71429</td><td>57.14286</td><td> 0.00000</td><td> 0.000000</td><td>0</td><td>0.9548266</td><td>0.024079667</td><td>1</td><td>23</td></tr>\n",
       "\t<tr><th scope=row>193</th><td>0900700012174015</td><td>09007_0051</td><td>17512</td><td>El Rosario                   </td><td>09</td><td>Ciudad de México</td><td>007</td><td>Iztapalapa            </td><td> 86</td><td>18</td><td>⋯</td><td> 80.55556</td><td>66.66667</td><td>47.22222</td><td>22.22222</td><td>27.777778</td><td>0</td><td>0.9548266</td><td>0.008479839</td><td>1</td><td>51</td></tr>\n",
       "\t<tr><th scope=row>197</th><td>0900700012174003</td><td>09007_0051</td><td>17512</td><td>El Rosario                   </td><td>09</td><td>Ciudad de México</td><td>007</td><td>Iztapalapa            </td><td> 70</td><td> 0</td><td>⋯</td><td> 83.33333</td><td>61.11111</td><td>50.00000</td><td>38.88889</td><td> 0.000000</td><td>0</td><td>0.9548266</td><td>0.022630622</td><td>1</td><td>15</td></tr>\n",
       "\t<tr><th scope=row>214</th><td>0900700012174018</td><td>09007_0051</td><td>17512</td><td>El Rosario                   </td><td>09</td><td>Ciudad de México</td><td>007</td><td>Iztapalapa            </td><td>136</td><td>12</td><td>⋯</td><td> 83.33333</td><td>64.28571</td><td>64.28571</td><td>42.85714</td><td>23.809524</td><td>0</td><td>0.9548266</td><td>0.003164353</td><td>1</td><td>38</td></tr>\n",
       "\t<tr><th scope=row>229</th><td>0900700012051087</td><td>09007_0056</td><td>17517</td><td>El Triangulo                 </td><td>09</td><td>Ciudad de México</td><td>007</td><td>Iztapalapa            </td><td> 69</td><td> 9</td><td>⋯</td><td> 79.16667</td><td>29.16667</td><td>12.50000</td><td> 0.00000</td><td> 0.000000</td><td>0</td><td>0.9397610</td><td>0.028338405</td><td>1</td><td>35</td></tr>\n",
       "\t<tr><th scope=row>234</th><td>0900700012051114</td><td>09007_0056</td><td>17517</td><td>El Triangulo                 </td><td>09</td><td>Ciudad de México</td><td>007</td><td>Iztapalapa            </td><td> 77</td><td>14</td><td>⋯</td><td> 88.88889</td><td>22.22222</td><td> 0.00000</td><td>18.51852</td><td>14.814815</td><td>0</td><td>0.9397610</td><td>0.024077291</td><td>1</td><td>28</td></tr>\n",
       "\t<tr><th scope=row>244</th><td>0900700012051108</td><td>09007_0056</td><td>17517</td><td>El Triangulo                 </td><td>09</td><td>Ciudad de México</td><td>007</td><td>Iztapalapa            </td><td> 65</td><td> 6</td><td>⋯</td><td>100.00000</td><td>42.85714</td><td>28.57143</td><td>28.57143</td><td> 0.000000</td><td>0</td><td>0.9397610</td><td>0.039300592</td><td>1</td><td>33</td></tr>\n",
       "\t<tr><th scope=row>319</th><td>0900700014293013</td><td>09007_0167</td><td>17628</td><td>San Francisco Apolocalco     </td><td>09</td><td>Ciudad de México</td><td>007</td><td>Iztapalapa            </td><td>119</td><td> 5</td><td>⋯</td><td> 72.72727</td><td>42.42424</td><td>24.24242</td><td>24.24242</td><td> 9.090909</td><td>0</td><td>0.9410142</td><td>0.053718436</td><td>1</td><td>39</td></tr>\n",
       "\t<tr><th scope=row>333</th><td>0900700013401030</td><td>09007_0170</td><td>17631</td><td>San Jose Buenavista          </td><td>09</td><td>Ciudad de México</td><td>007</td><td>Iztapalapa            </td><td>298</td><td>26</td><td>⋯</td><td> 85.18519</td><td>59.25926</td><td>18.51852</td><td>23.45679</td><td>13.580247</td><td>0</td><td>0.9417717</td><td>0.070185731</td><td>1</td><td>32</td></tr>\n",
       "\t<tr><th scope=row>424</th><td>0900700014024039</td><td>09007_0220</td><td>17681</td><td>Valle de Luces               </td><td>09</td><td>Ciudad de México</td><td>007</td><td>Iztapalapa            </td><td>128</td><td>16</td><td>⋯</td><td> 81.08108</td><td>64.86486</td><td>54.05405</td><td>24.32432</td><td>10.810811</td><td>0</td><td>0.9527808</td><td>0.004449086</td><td>1</td><td>4 </td></tr>\n",
       "\t<tr><th scope=row>484</th><td>090080001057A015</td><td>09008_0007</td><td>17695</td><td>El Ocotal                    </td><td>09</td><td>Ciudad de México</td><td>008</td><td>La Magdalena Contreras</td><td> 27</td><td> 3</td><td>⋯</td><td> 57.14286</td><td>50.00000</td><td>28.57143</td><td>28.57143</td><td>21.428571</td><td>0</td><td>0.9463932</td><td>0.041714858</td><td>1</td><td>24</td></tr>\n",
       "\t<tr><th scope=row>535</th><td>0901000011561040</td><td>09010_0110</td><td>17880</td><td>Jalalpa Tepito               </td><td>09</td><td>Ciudad de México</td><td>010</td><td>Álvaro Obregón        </td><td>137</td><td> 9</td><td>⋯</td><td> 90.62500</td><td>59.37500</td><td>40.62500</td><td>37.50000</td><td> 0.000000</td><td>0</td><td>0.9453571</td><td>0.027773000</td><td>1</td><td>29</td></tr>\n",
       "\t<tr><th scope=row>608</th><td>0901100010679031</td><td>09011_0037</td><td>18078</td><td>La Conchita Zapotitlan B     </td><td>09</td><td>Ciudad de México</td><td>011</td><td>Tláhuac               </td><td>117</td><td>12</td><td>⋯</td><td> 88.88889</td><td>52.77778</td><td>55.55556</td><td>33.33333</td><td>13.888889</td><td>0</td><td>0.9491171</td><td>0.028573430</td><td>1</td><td>53</td></tr>\n",
       "\t<tr><th scope=row>640</th><td>0901100010679027</td><td>09011_0037</td><td>18078</td><td>La Conchita Zapotitlan B     </td><td>09</td><td>Ciudad de México</td><td>011</td><td>Tláhuac               </td><td> 53</td><td> 5</td><td>⋯</td><td> 75.00000</td><td>75.00000</td><td>25.00000</td><td>25.00000</td><td> 0.000000</td><td>0</td><td>0.9491171</td><td>0.027661113</td><td>1</td><td>5 </td></tr>\n",
       "\t<tr><th scope=row>732</th><td>0901700010899022</td><td>09017_0043</td><td>18749</td><td>Merced Balbuena              </td><td>09</td><td>Ciudad de México</td><td>017</td><td>Venustiano Carranza   </td><td> 58</td><td> 7</td><td>⋯</td><td> 81.25000</td><td>68.75000</td><td>31.25000</td><td>68.75000</td><td>31.250000</td><td>0</td><td>0.9407663</td><td>0.012706327</td><td>1</td><td>6 </td></tr>\n",
       "\t<tr><th scope=row>770</th><td>0901700010460021</td><td>09017_0054</td><td>18760</td><td>Peñon de Los Baños           </td><td>09</td><td>Ciudad de México</td><td>017</td><td>Venustiano Carranza   </td><td> 36</td><td> 4</td><td>⋯</td><td>100.00000</td><td> 0.00000</td><td> 0.00000</td><td> 0.00000</td><td> 0.000000</td><td>0</td><td>0.9536387</td><td>0.029087195</td><td>1</td><td>50</td></tr>\n",
       "\t<tr><th scope=row>870</th><td>1501300010630053</td><td>15013_0002</td><td>39977</td><td>5 de Mayo                    </td><td>15</td><td>México          </td><td>013</td><td>Atizapán de Zaragoza  </td><td>270</td><td>14</td><td>⋯</td><td> 74.35897</td><td>43.58974</td><td>30.76923</td><td>26.92308</td><td> 7.692308</td><td>0</td><td>0.9430531</td><td>0.024673244</td><td>1</td><td>44</td></tr>\n",
       "\t<tr><th scope=row>878</th><td>1501300011395049</td><td>15013_0002</td><td>39977</td><td>5 de Mayo                    </td><td>15</td><td>México          </td><td>013</td><td>Atizapán de Zaragoza  </td><td> 48</td><td> 0</td><td>⋯</td><td> 81.81818</td><td>63.63636</td><td>27.27273</td><td> 0.00000</td><td> 0.000000</td><td>0</td><td>0.9430531</td><td>0.020897834</td><td>1</td><td>48</td></tr>\n",
       "\t<tr><th scope=row>947</th><td>1501300011408032</td><td>15013_0010</td><td>39986</td><td>Alfredo V Bonfil             </td><td>15</td><td>México          </td><td>013</td><td>Atizapán de Zaragoza  </td><td>142</td><td>16</td><td>⋯</td><td> 90.47619</td><td>78.57143</td><td>54.76190</td><td>35.71429</td><td>35.714286</td><td>0</td><td>0.9485763</td><td>0.008673039</td><td>1</td><td>52</td></tr>\n",
       "\t<tr><th scope=row>977</th><td>1501300010274034</td><td>15013_0040</td><td>40019</td><td>Ejido San Miguel Chalma      </td><td>15</td><td>México          </td><td>013</td><td>Atizapán de Zaragoza  </td><td> 36</td><td> 3</td><td>⋯</td><td> 81.81818</td><td>54.54545</td><td>45.45455</td><td> 0.00000</td><td> 0.000000</td><td>0</td><td>0.9523169</td><td>0.032090308</td><td>1</td><td>20</td></tr>\n",
       "\t<tr><th scope=row>1205</th><td>1501300011380007</td><td>15013_0102</td><td>40082</td><td>Lomas de Tepalcapa           </td><td>15</td><td>México          </td><td>013</td><td>Atizapán de Zaragoza  </td><td> 22</td><td> 0</td><td>⋯</td><td>100.00000</td><td>66.66667</td><td> 0.00000</td><td> 0.00000</td><td> 0.000000</td><td>0</td><td>0.9456336</td><td>0.042839394</td><td>1</td><td>30</td></tr>\n",
       "\t<tr><th scope=row>1309</th><td>1501300011431026</td><td>15013_0152</td><td>40134</td><td>San Jose El Jaral 2Da Seccion</td><td>15</td><td>México          </td><td>013</td><td>Atizapán de Zaragoza  </td><td> 89</td><td> 6</td><td>⋯</td><td> 76.92308</td><td>57.69231</td><td>42.30769</td><td>38.46154</td><td>23.076923</td><td>0</td><td>0.9480449</td><td>0.029367844</td><td>1</td><td>45</td></tr>\n",
       "\t<tr><th scope=row>1334</th><td>1501300011573015</td><td>15013_0164</td><td>40147</td><td>Uam                          </td><td>15</td><td>México          </td><td>013</td><td>Atizapán de Zaragoza  </td><td> 62</td><td> 6</td><td>⋯</td><td> 94.44444</td><td>38.88889</td><td>38.88889</td><td> 0.00000</td><td> 0.000000</td><td>0</td><td>0.9498870</td><td>0.051128858</td><td>1</td><td>12</td></tr>\n",
       "\t<tr><th scope=row>1396</th><td>1501300011516002</td><td>15013_0164</td><td>40147</td><td>Uam                          </td><td>15</td><td>México          </td><td>013</td><td>Atizapán de Zaragoza  </td><td> 54</td><td> 3</td><td>⋯</td><td>100.00000</td><td>71.42857</td><td>42.85714</td><td> 0.00000</td><td> 0.000000</td><td>0</td><td>0.9498870</td><td>0.022226554</td><td>1</td><td>26</td></tr>\n",
       "\t<tr><th scope=row>1466</th><td>150250001206A005</td><td>15025_0063</td><td>40836</td><td>Nueva San Antonio            </td><td>15</td><td>México          </td><td>025</td><td>Chalco                </td><td> 70</td><td> 7</td><td>⋯</td><td> 56.66667</td><td>20.00000</td><td>16.66667</td><td>10.00000</td><td> 0.000000</td><td>0</td><td>0.9401904</td><td>0.022944879</td><td>1</td><td>9 </td></tr>\n",
       "\t<tr><th scope=row>1503</th><td>1502500012055013</td><td>15025_0063</td><td>40836</td><td>Nueva San Antonio            </td><td>15</td><td>México          </td><td>025</td><td>Chalco                </td><td> 44</td><td> 0</td><td>⋯</td><td> 61.53846</td><td>38.46154</td><td> 0.00000</td><td>23.07692</td><td> 0.000000</td><td>0</td><td>0.9401904</td><td>0.028514535</td><td>1</td><td>17</td></tr>\n",
       "\t<tr><th scope=row>1515</th><td>1502900010310003</td><td>15029_0011</td><td>40974</td><td>El Arenal 2                  </td><td>15</td><td>México          </td><td>029</td><td>Chicoloapan           </td><td>171</td><td>11</td><td>⋯</td><td> 81.39535</td><td>55.81395</td><td>37.20930</td><td>25.58140</td><td>16.279070</td><td>0</td><td>0.9511805</td><td>0.037304396</td><td>1</td><td>11</td></tr>\n",
       "\t<tr><th scope=row>1516</th><td>1502900010310011</td><td>15029_0011</td><td>40974</td><td>El Arenal 2                  </td><td>15</td><td>México          </td><td>029</td><td>Chicoloapan           </td><td>165</td><td>15</td><td>⋯</td><td> 78.57143</td><td>61.90476</td><td>42.85714</td><td>28.57143</td><td>11.904762</td><td>0</td><td>0.9511805</td><td>0.023696492</td><td>1</td><td>22</td></tr>\n",
       "\t<tr><th scope=row>1531</th><td>1502900010221011</td><td>15029_0015</td><td>40978</td><td>Emiliano Zapata              </td><td>15</td><td>México          </td><td>029</td><td>Chicoloapan           </td><td>123</td><td>10</td><td>⋯</td><td> 86.11111</td><td>52.77778</td><td>41.66667</td><td>38.88889</td><td>22.222222</td><td>0</td><td>0.9424810</td><td>0.012905685</td><td>1</td><td>8 </td></tr>\n",
       "\t<tr><th scope=row>⋮</th><td>⋮</td><td>⋮</td><td>⋮</td><td>⋮</td><td>⋮</td><td>⋮</td><td>⋮</td><td>⋮</td><td>⋮</td><td>⋮</td><td>⋱</td><td>⋮</td><td>⋮</td><td>⋮</td><td>⋮</td><td>⋮</td><td>⋮</td><td>⋮</td><td>⋮</td><td>⋮</td><td>⋮</td></tr>\n",
       "\t<tr><th scope=row>1958</th><td>1503300013623039</td><td>15033_0266</td><td>41423</td><td>Lomas de San Carlos   </td><td>15</td><td>México</td><td>033</td><td>Ecatepec de Morelos        </td><td> 80</td><td>10</td><td>⋯</td><td> 88.00000</td><td>76.00000</td><td>40.00000</td><td>24.00000</td><td> 0.000000</td><td>1</td><td>0.9432364</td><td>0.016273905</td><td>1</td><td>40</td></tr>\n",
       "\t<tr><th scope=row>1959</th><td>150330001256A002</td><td>15033_0266</td><td>41423</td><td>Lomas de San Carlos   </td><td>15</td><td>México</td><td>033</td><td>Ecatepec de Morelos        </td><td>212</td><td>12</td><td>⋯</td><td> 95.65217</td><td>47.82609</td><td>23.91304</td><td>15.21739</td><td> 0.000000</td><td>1</td><td>0.9432364</td><td>0.031700876</td><td>1</td><td>41</td></tr>\n",
       "\t<tr><th scope=row>1960</th><td>1503300013623062</td><td>15033_0266</td><td>41423</td><td>Lomas de San Carlos   </td><td>15</td><td>México</td><td>033</td><td>Ecatepec de Morelos        </td><td> 91</td><td> 9</td><td>⋯</td><td> 75.00000</td><td>50.00000</td><td>21.87500</td><td>37.50000</td><td>25.000000</td><td>1</td><td>0.9432364</td><td>0.124927073</td><td>1</td><td>42</td></tr>\n",
       "\t<tr><th scope=row>1961</th><td>1503300013623048</td><td>15033_0266</td><td>41423</td><td>Lomas de San Carlos   </td><td>15</td><td>México</td><td>033</td><td>Ecatepec de Morelos        </td><td>129</td><td>15</td><td>⋯</td><td> 74.35897</td><td>61.53846</td><td>23.07692</td><td>33.33333</td><td>12.820513</td><td>1</td><td>0.9432364</td><td>0.020530611</td><td>1</td><td>43</td></tr>\n",
       "\t<tr><th scope=row>1962</th><td>1503300013623040</td><td>15033_0266</td><td>41423</td><td>Lomas de San Carlos   </td><td>15</td><td>México</td><td>033</td><td>Ecatepec de Morelos        </td><td> 50</td><td> 0</td><td>⋯</td><td> 91.66667</td><td>66.66667</td><td>50.00000</td><td> 0.00000</td><td> 0.000000</td><td>1</td><td>0.9432364</td><td>0.024657030</td><td>1</td><td>44</td></tr>\n",
       "\t<tr><th scope=row>1963</th><td>150330001256A033</td><td>15033_0266</td><td>41423</td><td>Lomas de San Carlos   </td><td>15</td><td>México</td><td>033</td><td>Ecatepec de Morelos        </td><td> 17</td><td> 0</td><td>⋯</td><td> 80.00000</td><td>80.00000</td><td> 0.00000</td><td> 0.00000</td><td> 0.000000</td><td>1</td><td>0.9432364</td><td>0.029382287</td><td>1</td><td>45</td></tr>\n",
       "\t<tr><th scope=row>1964</th><td>1503300013623049</td><td>15033_0266</td><td>41423</td><td>Lomas de San Carlos   </td><td>15</td><td>México</td><td>033</td><td>Ecatepec de Morelos        </td><td>120</td><td>11</td><td>⋯</td><td> 75.00000</td><td>65.00000</td><td>30.00000</td><td>25.00000</td><td>25.000000</td><td>1</td><td>0.9432364</td><td>0.032145223</td><td>1</td><td>46</td></tr>\n",
       "\t<tr><th scope=row>1965</th><td>1503300013623059</td><td>15033_0266</td><td>41423</td><td>Lomas de San Carlos   </td><td>15</td><td>México</td><td>033</td><td>Ecatepec de Morelos        </td><td>109</td><td>12</td><td>⋯</td><td> 80.00000</td><td>56.66667</td><td>30.00000</td><td>16.66667</td><td>10.000000</td><td>1</td><td>0.9432364</td><td>0.010722001</td><td>1</td><td>47</td></tr>\n",
       "\t<tr><th scope=row>1966</th><td>150330001256A021</td><td>15033_0266</td><td>41423</td><td>Lomas de San Carlos   </td><td>15</td><td>México</td><td>033</td><td>Ecatepec de Morelos        </td><td>144</td><td>17</td><td>⋯</td><td> 80.39216</td><td>45.09804</td><td>25.49020</td><td> 0.00000</td><td> 0.000000</td><td>1</td><td>0.9432364</td><td>0.020901825</td><td>1</td><td>48</td></tr>\n",
       "\t<tr><th scope=row>1967</th><td>1503300013623041</td><td>15033_0266</td><td>41423</td><td>Lomas de San Carlos   </td><td>15</td><td>México</td><td>033</td><td>Ecatepec de Morelos        </td><td> 30</td><td> 0</td><td>⋯</td><td> 70.00000</td><td>70.00000</td><td>50.00000</td><td>30.00000</td><td> 0.000000</td><td>1</td><td>0.9432364</td><td>0.055617601</td><td>1</td><td>49</td></tr>\n",
       "\t<tr><th scope=row>1968</th><td>1503300013623050</td><td>15033_0266</td><td>41423</td><td>Lomas de San Carlos   </td><td>15</td><td>México</td><td>033</td><td>Ecatepec de Morelos        </td><td>132</td><td>15</td><td>⋯</td><td> 85.29412</td><td>52.94118</td><td>35.29412</td><td>35.29412</td><td>14.705882</td><td>1</td><td>0.9432364</td><td>0.029080490</td><td>1</td><td>50</td></tr>\n",
       "\t<tr><th scope=row>1969</th><td>1503300013623052</td><td>15033_0266</td><td>41423</td><td>Lomas de San Carlos   </td><td>15</td><td>México</td><td>033</td><td>Ecatepec de Morelos        </td><td>132</td><td>19</td><td>⋯</td><td> 77.77778</td><td>48.88889</td><td>20.00000</td><td>17.77778</td><td> 6.666667</td><td>1</td><td>0.9432364</td><td>0.008478242</td><td>1</td><td>51</td></tr>\n",
       "\t<tr><th scope=row>1970</th><td>1503300013623051</td><td>15033_0266</td><td>41423</td><td>Lomas de San Carlos   </td><td>15</td><td>México</td><td>033</td><td>Ecatepec de Morelos        </td><td>122</td><td>10</td><td>⋯</td><td> 84.61538</td><td>43.58974</td><td>30.76923</td><td>28.20513</td><td>15.384615</td><td>1</td><td>0.9432364</td><td>0.008661918</td><td>1</td><td>52</td></tr>\n",
       "\t<tr><th scope=row>1971</th><td>1503300013623055</td><td>15033_0266</td><td>41423</td><td>Lomas de San Carlos   </td><td>15</td><td>México</td><td>033</td><td>Ecatepec de Morelos        </td><td> 53</td><td> 4</td><td>⋯</td><td> 91.66667</td><td>58.33333</td><td>41.66667</td><td>25.00000</td><td>25.000000</td><td>1</td><td>0.9432364</td><td>0.028579710</td><td>1</td><td>53</td></tr>\n",
       "\t<tr><th scope=row>2004</th><td>150330001338A016</td><td>15033_0440</td><td>41601</td><td>Texalpa               </td><td>15</td><td>México</td><td>033</td><td>Ecatepec de Morelos        </td><td> 81</td><td> 8</td><td>⋯</td><td> 70.58824</td><td>52.94118</td><td>23.52941</td><td>47.05882</td><td> 0.000000</td><td>0</td><td>0.9431293</td><td>0.026027083</td><td>1</td><td>2 </td></tr>\n",
       "\t<tr><th scope=row>2007</th><td>150330001338A015</td><td>15033_0440</td><td>41601</td><td>Texalpa               </td><td>15</td><td>México</td><td>033</td><td>Ecatepec de Morelos        </td><td> 89</td><td> 9</td><td>⋯</td><td> 70.83333</td><td>70.83333</td><td>25.00000</td><td>20.83333</td><td> 0.000000</td><td>0</td><td>0.9431293</td><td>0.062972101</td><td>1</td><td>21</td></tr>\n",
       "\t<tr><th scope=row>2016</th><td>1503300013093028</td><td>15033_0440</td><td>41601</td><td>Texalpa               </td><td>15</td><td>México</td><td>033</td><td>Ecatepec de Morelos        </td><td>139</td><td> 3</td><td>⋯</td><td> 82.35294</td><td>38.23529</td><td>23.52941</td><td>26.47059</td><td> 8.823529</td><td>0</td><td>0.9431293</td><td>0.119923446</td><td>1</td><td>42</td></tr>\n",
       "\t<tr><th scope=row>2072</th><td>1503300013233035</td><td>15033_0443</td><td>41604</td><td>Tolotzin I            </td><td>15</td><td>México</td><td>033</td><td>Ecatepec de Morelos        </td><td> 56</td><td> 0</td><td>⋯</td><td>100.00000</td><td>66.66667</td><td>58.33333</td><td>50.00000</td><td>50.000000</td><td>0</td><td>0.9470660</td><td>0.035523976</td><td>1</td><td>18</td></tr>\n",
       "\t<tr><th scope=row>2193</th><td>1503900010567014</td><td>15039_0019</td><td>41827</td><td>Cerro del Tejolote    </td><td>15</td><td>México</td><td>039</td><td>Ixtapaluca                 </td><td> 28</td><td> 6</td><td>⋯</td><td> 50.00000</td><td>41.66667</td><td>33.33333</td><td> 0.00000</td><td> 0.000000</td><td>0</td><td>0.9396434</td><td>0.020361913</td><td>1</td><td>1 </td></tr>\n",
       "\t<tr><th scope=row>2261</th><td>1503900010158002</td><td>15039_0069</td><td>41883</td><td>Loma Bonita           </td><td>15</td><td>México</td><td>039</td><td>Ixtapaluca                 </td><td>128</td><td>14</td><td>⋯</td><td> 82.50000</td><td>57.50000</td><td>40.00000</td><td>45.00000</td><td>22.500000</td><td>0</td><td>0.9538928</td><td>0.016267677</td><td>1</td><td>40</td></tr>\n",
       "\t<tr><th scope=row>2411</th><td>1508100250151009</td><td>15081_0005</td><td>43395</td><td>5 de Mayo             </td><td>15</td><td>México</td><td>081</td><td>Tecámac                    </td><td> 64</td><td> 9</td><td>⋯</td><td> 90.47619</td><td>61.90476</td><td>52.38095</td><td>33.33333</td><td>14.285714</td><td>0</td><td>0.9444401</td><td>0.010718870</td><td>1</td><td>47</td></tr>\n",
       "\t<tr><th scope=row>2451</th><td>1508100980895017</td><td>15081_0060</td><td>43459</td><td>Nueva Tlalnepantla    </td><td>15</td><td>México</td><td>081</td><td>Tecámac                    </td><td>177</td><td> 8</td><td>⋯</td><td> 81.81818</td><td>52.27273</td><td>20.45455</td><td>22.72727</td><td>15.909091</td><td>0</td><td>0.9418601</td><td>0.032131679</td><td>1</td><td>46</td></tr>\n",
       "\t<tr><th scope=row>2456</th><td>1508100980895010</td><td>15081_0060</td><td>43459</td><td>Nueva Tlalnepantla    </td><td>15</td><td>México</td><td>081</td><td>Tecámac                    </td><td> 74</td><td> 8</td><td>⋯</td><td> 84.00000</td><td>44.00000</td><td>32.00000</td><td>28.00000</td><td>16.000000</td><td>0</td><td>0.9418601</td><td>0.031800360</td><td>1</td><td>25</td></tr>\n",
       "\t<tr><th scope=row>2556</th><td>1510400011705007</td><td>15104_0184</td><td>44493</td><td>Santa Maria Tlayacampa</td><td>15</td><td>México</td><td>104</td><td>Tlalnepantla de Baz        </td><td>130</td><td>13</td><td>⋯</td><td> 85.00000</td><td>42.50000</td><td>37.50000</td><td>17.50000</td><td> 0.000000</td><td>0</td><td>0.9452682</td><td>0.015577367</td><td>1</td><td>13</td></tr>\n",
       "\t<tr><th scope=row>2568</th><td>1510400010073004</td><td>15104_0184</td><td>44493</td><td>Santa Maria Tlayacampa</td><td>15</td><td>México</td><td>104</td><td>Tlalnepantla de Baz        </td><td> 72</td><td> 4</td><td>⋯</td><td> 72.72727</td><td>45.45455</td><td>22.72727</td><td>31.81818</td><td> 0.000000</td><td>0</td><td>0.9452682</td><td>0.020529772</td><td>1</td><td>43</td></tr>\n",
       "\t<tr><th scope=row>2697</th><td>1510900031260011</td><td>15109_0079</td><td>45115</td><td>La Libertad           </td><td>15</td><td>México</td><td>109</td><td>Tultitlán                  </td><td>208</td><td>16</td><td>⋯</td><td> 88.88889</td><td>46.29630</td><td>37.03704</td><td>20.37037</td><td> 5.555556</td><td>0</td><td>0.9444515</td><td>0.075053527</td><td>1</td><td>31</td></tr>\n",
       "\t<tr><th scope=row>2726</th><td>1510900031538050</td><td>15109_0183</td><td>45223</td><td>Valle de Tules        </td><td>15</td><td>México</td><td>109</td><td>Tultitlán                  </td><td> 48</td><td> 0</td><td>⋯</td><td> 92.85714</td><td>50.00000</td><td>35.71429</td><td>21.42857</td><td> 0.000000</td><td>0</td><td>0.9495984</td><td>0.044934345</td><td>1</td><td>10</td></tr>\n",
       "\t<tr><th scope=row>2784</th><td>1512000140664005</td><td>15120_0004</td><td>45508</td><td>Arbolada Los Sauces I </td><td>15</td><td>México</td><td>120</td><td>Zumpango                   </td><td>302</td><td>35</td><td>⋯</td><td> 64.92537</td><td>41.04478</td><td>23.88060</td><td>32.83582</td><td> 9.701493</td><td>0</td><td>0.9489722</td><td>0.044316918</td><td>1</td><td>27</td></tr>\n",
       "\t<tr><th scope=row>2883</th><td>1512200010902031</td><td>15122_0033</td><td>45613</td><td>San Juan Tlalpizahuac </td><td>15</td><td>México</td><td>122</td><td>Valle de Chalco Solidaridad</td><td> 28</td><td> 0</td><td>⋯</td><td> 83.33333</td><td>50.00000</td><td> 0.00000</td><td>50.00000</td><td> 0.000000</td><td>0</td><td>0.9445860</td><td>0.031658819</td><td>1</td><td>41</td></tr>\n",
       "\t<tr><th scope=row>2898</th><td>1512200010917015</td><td>15122_0033</td><td>45613</td><td>San Juan Tlalpizahuac </td><td>15</td><td>México</td><td>122</td><td>Valle de Chalco Solidaridad</td><td>110</td><td>14</td><td>⋯</td><td> 91.42857</td><td>57.14286</td><td>34.28571</td><td>45.71429</td><td>11.428571</td><td>0</td><td>0.9445860</td><td>0.019395983</td><td>1</td><td>7 </td></tr>\n",
       "</tbody>\n",
       "</table>\n"
      ],
      "text/markdown": "\nA matchdata: 106 × 43\n\n| <!--/--> | cvegeo &lt;chr&gt; | cve_col &lt;chr&gt; | id_col &lt;dbl&gt; | colonia &lt;chr&gt; | cve_ent &lt;chr&gt; | nom_ent &lt;chr&gt; | cve_mun &lt;chr&gt; | nom_mun &lt;chr&gt; | pobtot &lt;dbl&gt; | hogjef_f &lt;dbl&gt; | ⋯ ⋯ | pct_celular &lt;dbl&gt; | pct_internet &lt;dbl&gt; | pct_computadora &lt;dbl&gt; | pct_tv_paga &lt;dbl&gt; | pct_videos &lt;dbl&gt; | simi &lt;dbl&gt; | imn_2020 &lt;dbl&gt; | distance &lt;dbl&gt; | weights &lt;dbl&gt; | subclass &lt;fct&gt; |\n|---|---|---|---|---|---|---|---|---|---|---|---|---|---|---|---|---|---|---|---|---|---|\n| 136 | 0900700015037017 | 09007_0013 | 17473 | Ampliacion Emiliano Zapata    | 09 | Ciudad de México | 007 | Iztapalapa             | 160 |  9 | ⋯ |  78.00000 | 44.00000 | 20.00000 |  8.00000 |  6.000000 | 0 | 0.9476954 | 0.032881102 | 1 | 14 |\n| 160 | 0900700012206013 | 09007_0051 | 17512 | El Rosario                    | 09 | Ciudad de México | 007 | Iztapalapa             |  23 |  0 | ⋯ | 100.00000 | 85.71429 | 57.14286 |  0.00000 |  0.000000 | 0 | 0.9548266 | 0.024079667 | 1 | 23 |\n| 193 | 0900700012174015 | 09007_0051 | 17512 | El Rosario                    | 09 | Ciudad de México | 007 | Iztapalapa             |  86 | 18 | ⋯ |  80.55556 | 66.66667 | 47.22222 | 22.22222 | 27.777778 | 0 | 0.9548266 | 0.008479839 | 1 | 51 |\n| 197 | 0900700012174003 | 09007_0051 | 17512 | El Rosario                    | 09 | Ciudad de México | 007 | Iztapalapa             |  70 |  0 | ⋯ |  83.33333 | 61.11111 | 50.00000 | 38.88889 |  0.000000 | 0 | 0.9548266 | 0.022630622 | 1 | 15 |\n| 214 | 0900700012174018 | 09007_0051 | 17512 | El Rosario                    | 09 | Ciudad de México | 007 | Iztapalapa             | 136 | 12 | ⋯ |  83.33333 | 64.28571 | 64.28571 | 42.85714 | 23.809524 | 0 | 0.9548266 | 0.003164353 | 1 | 38 |\n| 229 | 0900700012051087 | 09007_0056 | 17517 | El Triangulo                  | 09 | Ciudad de México | 007 | Iztapalapa             |  69 |  9 | ⋯ |  79.16667 | 29.16667 | 12.50000 |  0.00000 |  0.000000 | 0 | 0.9397610 | 0.028338405 | 1 | 35 |\n| 234 | 0900700012051114 | 09007_0056 | 17517 | El Triangulo                  | 09 | Ciudad de México | 007 | Iztapalapa             |  77 | 14 | ⋯ |  88.88889 | 22.22222 |  0.00000 | 18.51852 | 14.814815 | 0 | 0.9397610 | 0.024077291 | 1 | 28 |\n| 244 | 0900700012051108 | 09007_0056 | 17517 | El Triangulo                  | 09 | Ciudad de México | 007 | Iztapalapa             |  65 |  6 | ⋯ | 100.00000 | 42.85714 | 28.57143 | 28.57143 |  0.000000 | 0 | 0.9397610 | 0.039300592 | 1 | 33 |\n| 319 | 0900700014293013 | 09007_0167 | 17628 | San Francisco Apolocalco      | 09 | Ciudad de México | 007 | Iztapalapa             | 119 |  5 | ⋯ |  72.72727 | 42.42424 | 24.24242 | 24.24242 |  9.090909 | 0 | 0.9410142 | 0.053718436 | 1 | 39 |\n| 333 | 0900700013401030 | 09007_0170 | 17631 | San Jose Buenavista           | 09 | Ciudad de México | 007 | Iztapalapa             | 298 | 26 | ⋯ |  85.18519 | 59.25926 | 18.51852 | 23.45679 | 13.580247 | 0 | 0.9417717 | 0.070185731 | 1 | 32 |\n| 424 | 0900700014024039 | 09007_0220 | 17681 | Valle de Luces                | 09 | Ciudad de México | 007 | Iztapalapa             | 128 | 16 | ⋯ |  81.08108 | 64.86486 | 54.05405 | 24.32432 | 10.810811 | 0 | 0.9527808 | 0.004449086 | 1 | 4  |\n| 484 | 090080001057A015 | 09008_0007 | 17695 | El Ocotal                     | 09 | Ciudad de México | 008 | La Magdalena Contreras |  27 |  3 | ⋯ |  57.14286 | 50.00000 | 28.57143 | 28.57143 | 21.428571 | 0 | 0.9463932 | 0.041714858 | 1 | 24 |\n| 535 | 0901000011561040 | 09010_0110 | 17880 | Jalalpa Tepito                | 09 | Ciudad de México | 010 | Álvaro Obregón         | 137 |  9 | ⋯ |  90.62500 | 59.37500 | 40.62500 | 37.50000 |  0.000000 | 0 | 0.9453571 | 0.027773000 | 1 | 29 |\n| 608 | 0901100010679031 | 09011_0037 | 18078 | La Conchita Zapotitlan B      | 09 | Ciudad de México | 011 | Tláhuac                | 117 | 12 | ⋯ |  88.88889 | 52.77778 | 55.55556 | 33.33333 | 13.888889 | 0 | 0.9491171 | 0.028573430 | 1 | 53 |\n| 640 | 0901100010679027 | 09011_0037 | 18078 | La Conchita Zapotitlan B      | 09 | Ciudad de México | 011 | Tláhuac                |  53 |  5 | ⋯ |  75.00000 | 75.00000 | 25.00000 | 25.00000 |  0.000000 | 0 | 0.9491171 | 0.027661113 | 1 | 5  |\n| 732 | 0901700010899022 | 09017_0043 | 18749 | Merced Balbuena               | 09 | Ciudad de México | 017 | Venustiano Carranza    |  58 |  7 | ⋯ |  81.25000 | 68.75000 | 31.25000 | 68.75000 | 31.250000 | 0 | 0.9407663 | 0.012706327 | 1 | 6  |\n| 770 | 0901700010460021 | 09017_0054 | 18760 | Peñon de Los Baños            | 09 | Ciudad de México | 017 | Venustiano Carranza    |  36 |  4 | ⋯ | 100.00000 |  0.00000 |  0.00000 |  0.00000 |  0.000000 | 0 | 0.9536387 | 0.029087195 | 1 | 50 |\n| 870 | 1501300010630053 | 15013_0002 | 39977 | 5 de Mayo                     | 15 | México           | 013 | Atizapán de Zaragoza   | 270 | 14 | ⋯ |  74.35897 | 43.58974 | 30.76923 | 26.92308 |  7.692308 | 0 | 0.9430531 | 0.024673244 | 1 | 44 |\n| 878 | 1501300011395049 | 15013_0002 | 39977 | 5 de Mayo                     | 15 | México           | 013 | Atizapán de Zaragoza   |  48 |  0 | ⋯ |  81.81818 | 63.63636 | 27.27273 |  0.00000 |  0.000000 | 0 | 0.9430531 | 0.020897834 | 1 | 48 |\n| 947 | 1501300011408032 | 15013_0010 | 39986 | Alfredo V Bonfil              | 15 | México           | 013 | Atizapán de Zaragoza   | 142 | 16 | ⋯ |  90.47619 | 78.57143 | 54.76190 | 35.71429 | 35.714286 | 0 | 0.9485763 | 0.008673039 | 1 | 52 |\n| 977 | 1501300010274034 | 15013_0040 | 40019 | Ejido San Miguel Chalma       | 15 | México           | 013 | Atizapán de Zaragoza   |  36 |  3 | ⋯ |  81.81818 | 54.54545 | 45.45455 |  0.00000 |  0.000000 | 0 | 0.9523169 | 0.032090308 | 1 | 20 |\n| 1205 | 1501300011380007 | 15013_0102 | 40082 | Lomas de Tepalcapa            | 15 | México           | 013 | Atizapán de Zaragoza   |  22 |  0 | ⋯ | 100.00000 | 66.66667 |  0.00000 |  0.00000 |  0.000000 | 0 | 0.9456336 | 0.042839394 | 1 | 30 |\n| 1309 | 1501300011431026 | 15013_0152 | 40134 | San Jose El Jaral 2Da Seccion | 15 | México           | 013 | Atizapán de Zaragoza   |  89 |  6 | ⋯ |  76.92308 | 57.69231 | 42.30769 | 38.46154 | 23.076923 | 0 | 0.9480449 | 0.029367844 | 1 | 45 |\n| 1334 | 1501300011573015 | 15013_0164 | 40147 | Uam                           | 15 | México           | 013 | Atizapán de Zaragoza   |  62 |  6 | ⋯ |  94.44444 | 38.88889 | 38.88889 |  0.00000 |  0.000000 | 0 | 0.9498870 | 0.051128858 | 1 | 12 |\n| 1396 | 1501300011516002 | 15013_0164 | 40147 | Uam                           | 15 | México           | 013 | Atizapán de Zaragoza   |  54 |  3 | ⋯ | 100.00000 | 71.42857 | 42.85714 |  0.00000 |  0.000000 | 0 | 0.9498870 | 0.022226554 | 1 | 26 |\n| 1466 | 150250001206A005 | 15025_0063 | 40836 | Nueva San Antonio             | 15 | México           | 025 | Chalco                 |  70 |  7 | ⋯ |  56.66667 | 20.00000 | 16.66667 | 10.00000 |  0.000000 | 0 | 0.9401904 | 0.022944879 | 1 | 9  |\n| 1503 | 1502500012055013 | 15025_0063 | 40836 | Nueva San Antonio             | 15 | México           | 025 | Chalco                 |  44 |  0 | ⋯ |  61.53846 | 38.46154 |  0.00000 | 23.07692 |  0.000000 | 0 | 0.9401904 | 0.028514535 | 1 | 17 |\n| 1515 | 1502900010310003 | 15029_0011 | 40974 | El Arenal 2                   | 15 | México           | 029 | Chicoloapan            | 171 | 11 | ⋯ |  81.39535 | 55.81395 | 37.20930 | 25.58140 | 16.279070 | 0 | 0.9511805 | 0.037304396 | 1 | 11 |\n| 1516 | 1502900010310011 | 15029_0011 | 40974 | El Arenal 2                   | 15 | México           | 029 | Chicoloapan            | 165 | 15 | ⋯ |  78.57143 | 61.90476 | 42.85714 | 28.57143 | 11.904762 | 0 | 0.9511805 | 0.023696492 | 1 | 22 |\n| 1531 | 1502900010221011 | 15029_0015 | 40978 | Emiliano Zapata               | 15 | México           | 029 | Chicoloapan            | 123 | 10 | ⋯ |  86.11111 | 52.77778 | 41.66667 | 38.88889 | 22.222222 | 0 | 0.9424810 | 0.012905685 | 1 | 8  |\n| ⋮ | ⋮ | ⋮ | ⋮ | ⋮ | ⋮ | ⋮ | ⋮ | ⋮ | ⋮ | ⋮ | ⋱ | ⋮ | ⋮ | ⋮ | ⋮ | ⋮ | ⋮ | ⋮ | ⋮ | ⋮ | ⋮ |\n| 1958 | 1503300013623039 | 15033_0266 | 41423 | Lomas de San Carlos    | 15 | México | 033 | Ecatepec de Morelos         |  80 | 10 | ⋯ |  88.00000 | 76.00000 | 40.00000 | 24.00000 |  0.000000 | 1 | 0.9432364 | 0.016273905 | 1 | 40 |\n| 1959 | 150330001256A002 | 15033_0266 | 41423 | Lomas de San Carlos    | 15 | México | 033 | Ecatepec de Morelos         | 212 | 12 | ⋯ |  95.65217 | 47.82609 | 23.91304 | 15.21739 |  0.000000 | 1 | 0.9432364 | 0.031700876 | 1 | 41 |\n| 1960 | 1503300013623062 | 15033_0266 | 41423 | Lomas de San Carlos    | 15 | México | 033 | Ecatepec de Morelos         |  91 |  9 | ⋯ |  75.00000 | 50.00000 | 21.87500 | 37.50000 | 25.000000 | 1 | 0.9432364 | 0.124927073 | 1 | 42 |\n| 1961 | 1503300013623048 | 15033_0266 | 41423 | Lomas de San Carlos    | 15 | México | 033 | Ecatepec de Morelos         | 129 | 15 | ⋯ |  74.35897 | 61.53846 | 23.07692 | 33.33333 | 12.820513 | 1 | 0.9432364 | 0.020530611 | 1 | 43 |\n| 1962 | 1503300013623040 | 15033_0266 | 41423 | Lomas de San Carlos    | 15 | México | 033 | Ecatepec de Morelos         |  50 |  0 | ⋯ |  91.66667 | 66.66667 | 50.00000 |  0.00000 |  0.000000 | 1 | 0.9432364 | 0.024657030 | 1 | 44 |\n| 1963 | 150330001256A033 | 15033_0266 | 41423 | Lomas de San Carlos    | 15 | México | 033 | Ecatepec de Morelos         |  17 |  0 | ⋯ |  80.00000 | 80.00000 |  0.00000 |  0.00000 |  0.000000 | 1 | 0.9432364 | 0.029382287 | 1 | 45 |\n| 1964 | 1503300013623049 | 15033_0266 | 41423 | Lomas de San Carlos    | 15 | México | 033 | Ecatepec de Morelos         | 120 | 11 | ⋯ |  75.00000 | 65.00000 | 30.00000 | 25.00000 | 25.000000 | 1 | 0.9432364 | 0.032145223 | 1 | 46 |\n| 1965 | 1503300013623059 | 15033_0266 | 41423 | Lomas de San Carlos    | 15 | México | 033 | Ecatepec de Morelos         | 109 | 12 | ⋯ |  80.00000 | 56.66667 | 30.00000 | 16.66667 | 10.000000 | 1 | 0.9432364 | 0.010722001 | 1 | 47 |\n| 1966 | 150330001256A021 | 15033_0266 | 41423 | Lomas de San Carlos    | 15 | México | 033 | Ecatepec de Morelos         | 144 | 17 | ⋯ |  80.39216 | 45.09804 | 25.49020 |  0.00000 |  0.000000 | 1 | 0.9432364 | 0.020901825 | 1 | 48 |\n| 1967 | 1503300013623041 | 15033_0266 | 41423 | Lomas de San Carlos    | 15 | México | 033 | Ecatepec de Morelos         |  30 |  0 | ⋯ |  70.00000 | 70.00000 | 50.00000 | 30.00000 |  0.000000 | 1 | 0.9432364 | 0.055617601 | 1 | 49 |\n| 1968 | 1503300013623050 | 15033_0266 | 41423 | Lomas de San Carlos    | 15 | México | 033 | Ecatepec de Morelos         | 132 | 15 | ⋯ |  85.29412 | 52.94118 | 35.29412 | 35.29412 | 14.705882 | 1 | 0.9432364 | 0.029080490 | 1 | 50 |\n| 1969 | 1503300013623052 | 15033_0266 | 41423 | Lomas de San Carlos    | 15 | México | 033 | Ecatepec de Morelos         | 132 | 19 | ⋯ |  77.77778 | 48.88889 | 20.00000 | 17.77778 |  6.666667 | 1 | 0.9432364 | 0.008478242 | 1 | 51 |\n| 1970 | 1503300013623051 | 15033_0266 | 41423 | Lomas de San Carlos    | 15 | México | 033 | Ecatepec de Morelos         | 122 | 10 | ⋯ |  84.61538 | 43.58974 | 30.76923 | 28.20513 | 15.384615 | 1 | 0.9432364 | 0.008661918 | 1 | 52 |\n| 1971 | 1503300013623055 | 15033_0266 | 41423 | Lomas de San Carlos    | 15 | México | 033 | Ecatepec de Morelos         |  53 |  4 | ⋯ |  91.66667 | 58.33333 | 41.66667 | 25.00000 | 25.000000 | 1 | 0.9432364 | 0.028579710 | 1 | 53 |\n| 2004 | 150330001338A016 | 15033_0440 | 41601 | Texalpa                | 15 | México | 033 | Ecatepec de Morelos         |  81 |  8 | ⋯ |  70.58824 | 52.94118 | 23.52941 | 47.05882 |  0.000000 | 0 | 0.9431293 | 0.026027083 | 1 | 2  |\n| 2007 | 150330001338A015 | 15033_0440 | 41601 | Texalpa                | 15 | México | 033 | Ecatepec de Morelos         |  89 |  9 | ⋯ |  70.83333 | 70.83333 | 25.00000 | 20.83333 |  0.000000 | 0 | 0.9431293 | 0.062972101 | 1 | 21 |\n| 2016 | 1503300013093028 | 15033_0440 | 41601 | Texalpa                | 15 | México | 033 | Ecatepec de Morelos         | 139 |  3 | ⋯ |  82.35294 | 38.23529 | 23.52941 | 26.47059 |  8.823529 | 0 | 0.9431293 | 0.119923446 | 1 | 42 |\n| 2072 | 1503300013233035 | 15033_0443 | 41604 | Tolotzin I             | 15 | México | 033 | Ecatepec de Morelos         |  56 |  0 | ⋯ | 100.00000 | 66.66667 | 58.33333 | 50.00000 | 50.000000 | 0 | 0.9470660 | 0.035523976 | 1 | 18 |\n| 2193 | 1503900010567014 | 15039_0019 | 41827 | Cerro del Tejolote     | 15 | México | 039 | Ixtapaluca                  |  28 |  6 | ⋯ |  50.00000 | 41.66667 | 33.33333 |  0.00000 |  0.000000 | 0 | 0.9396434 | 0.020361913 | 1 | 1  |\n| 2261 | 1503900010158002 | 15039_0069 | 41883 | Loma Bonita            | 15 | México | 039 | Ixtapaluca                  | 128 | 14 | ⋯ |  82.50000 | 57.50000 | 40.00000 | 45.00000 | 22.500000 | 0 | 0.9538928 | 0.016267677 | 1 | 40 |\n| 2411 | 1508100250151009 | 15081_0005 | 43395 | 5 de Mayo              | 15 | México | 081 | Tecámac                     |  64 |  9 | ⋯ |  90.47619 | 61.90476 | 52.38095 | 33.33333 | 14.285714 | 0 | 0.9444401 | 0.010718870 | 1 | 47 |\n| 2451 | 1508100980895017 | 15081_0060 | 43459 | Nueva Tlalnepantla     | 15 | México | 081 | Tecámac                     | 177 |  8 | ⋯ |  81.81818 | 52.27273 | 20.45455 | 22.72727 | 15.909091 | 0 | 0.9418601 | 0.032131679 | 1 | 46 |\n| 2456 | 1508100980895010 | 15081_0060 | 43459 | Nueva Tlalnepantla     | 15 | México | 081 | Tecámac                     |  74 |  8 | ⋯ |  84.00000 | 44.00000 | 32.00000 | 28.00000 | 16.000000 | 0 | 0.9418601 | 0.031800360 | 1 | 25 |\n| 2556 | 1510400011705007 | 15104_0184 | 44493 | Santa Maria Tlayacampa | 15 | México | 104 | Tlalnepantla de Baz         | 130 | 13 | ⋯ |  85.00000 | 42.50000 | 37.50000 | 17.50000 |  0.000000 | 0 | 0.9452682 | 0.015577367 | 1 | 13 |\n| 2568 | 1510400010073004 | 15104_0184 | 44493 | Santa Maria Tlayacampa | 15 | México | 104 | Tlalnepantla de Baz         |  72 |  4 | ⋯ |  72.72727 | 45.45455 | 22.72727 | 31.81818 |  0.000000 | 0 | 0.9452682 | 0.020529772 | 1 | 43 |\n| 2697 | 1510900031260011 | 15109_0079 | 45115 | La Libertad            | 15 | México | 109 | Tultitlán                   | 208 | 16 | ⋯ |  88.88889 | 46.29630 | 37.03704 | 20.37037 |  5.555556 | 0 | 0.9444515 | 0.075053527 | 1 | 31 |\n| 2726 | 1510900031538050 | 15109_0183 | 45223 | Valle de Tules         | 15 | México | 109 | Tultitlán                   |  48 |  0 | ⋯ |  92.85714 | 50.00000 | 35.71429 | 21.42857 |  0.000000 | 0 | 0.9495984 | 0.044934345 | 1 | 10 |\n| 2784 | 1512000140664005 | 15120_0004 | 45508 | Arbolada Los Sauces I  | 15 | México | 120 | Zumpango                    | 302 | 35 | ⋯ |  64.92537 | 41.04478 | 23.88060 | 32.83582 |  9.701493 | 0 | 0.9489722 | 0.044316918 | 1 | 27 |\n| 2883 | 1512200010902031 | 15122_0033 | 45613 | San Juan Tlalpizahuac  | 15 | México | 122 | Valle de Chalco Solidaridad |  28 |  0 | ⋯ |  83.33333 | 50.00000 |  0.00000 | 50.00000 |  0.000000 | 0 | 0.9445860 | 0.031658819 | 1 | 41 |\n| 2898 | 1512200010917015 | 15122_0033 | 45613 | San Juan Tlalpizahuac  | 15 | México | 122 | Valle de Chalco Solidaridad | 110 | 14 | ⋯ |  91.42857 | 57.14286 | 34.28571 | 45.71429 | 11.428571 | 0 | 0.9445860 | 0.019395983 | 1 | 7  |\n\n",
      "text/latex": "A matchdata: 106 × 43\n\\begin{tabular}{r|lllllllllllllllllllll}\n  & cvegeo & cve\\_col & id\\_col & colonia & cve\\_ent & nom\\_ent & cve\\_mun & nom\\_mun & pobtot & hogjef\\_f & ⋯ & pct\\_celular & pct\\_internet & pct\\_computadora & pct\\_tv\\_paga & pct\\_videos & simi & imn\\_2020 & distance & weights & subclass\\\\\n  & <chr> & <chr> & <dbl> & <chr> & <chr> & <chr> & <chr> & <chr> & <dbl> & <dbl> & ⋯ & <dbl> & <dbl> & <dbl> & <dbl> & <dbl> & <dbl> & <dbl> & <dbl> & <dbl> & <fct>\\\\\n\\hline\n\t136 & 0900700015037017 & 09007\\_0013 & 17473 & Ampliacion Emiliano Zapata    & 09 & Ciudad de México & 007 & Iztapalapa             & 160 &  9 & ⋯ &  78.00000 & 44.00000 & 20.00000 &  8.00000 &  6.000000 & 0 & 0.9476954 & 0.032881102 & 1 & 14\\\\\n\t160 & 0900700012206013 & 09007\\_0051 & 17512 & El Rosario                    & 09 & Ciudad de México & 007 & Iztapalapa             &  23 &  0 & ⋯ & 100.00000 & 85.71429 & 57.14286 &  0.00000 &  0.000000 & 0 & 0.9548266 & 0.024079667 & 1 & 23\\\\\n\t193 & 0900700012174015 & 09007\\_0051 & 17512 & El Rosario                    & 09 & Ciudad de México & 007 & Iztapalapa             &  86 & 18 & ⋯ &  80.55556 & 66.66667 & 47.22222 & 22.22222 & 27.777778 & 0 & 0.9548266 & 0.008479839 & 1 & 51\\\\\n\t197 & 0900700012174003 & 09007\\_0051 & 17512 & El Rosario                    & 09 & Ciudad de México & 007 & Iztapalapa             &  70 &  0 & ⋯ &  83.33333 & 61.11111 & 50.00000 & 38.88889 &  0.000000 & 0 & 0.9548266 & 0.022630622 & 1 & 15\\\\\n\t214 & 0900700012174018 & 09007\\_0051 & 17512 & El Rosario                    & 09 & Ciudad de México & 007 & Iztapalapa             & 136 & 12 & ⋯ &  83.33333 & 64.28571 & 64.28571 & 42.85714 & 23.809524 & 0 & 0.9548266 & 0.003164353 & 1 & 38\\\\\n\t229 & 0900700012051087 & 09007\\_0056 & 17517 & El Triangulo                  & 09 & Ciudad de México & 007 & Iztapalapa             &  69 &  9 & ⋯ &  79.16667 & 29.16667 & 12.50000 &  0.00000 &  0.000000 & 0 & 0.9397610 & 0.028338405 & 1 & 35\\\\\n\t234 & 0900700012051114 & 09007\\_0056 & 17517 & El Triangulo                  & 09 & Ciudad de México & 007 & Iztapalapa             &  77 & 14 & ⋯ &  88.88889 & 22.22222 &  0.00000 & 18.51852 & 14.814815 & 0 & 0.9397610 & 0.024077291 & 1 & 28\\\\\n\t244 & 0900700012051108 & 09007\\_0056 & 17517 & El Triangulo                  & 09 & Ciudad de México & 007 & Iztapalapa             &  65 &  6 & ⋯ & 100.00000 & 42.85714 & 28.57143 & 28.57143 &  0.000000 & 0 & 0.9397610 & 0.039300592 & 1 & 33\\\\\n\t319 & 0900700014293013 & 09007\\_0167 & 17628 & San Francisco Apolocalco      & 09 & Ciudad de México & 007 & Iztapalapa             & 119 &  5 & ⋯ &  72.72727 & 42.42424 & 24.24242 & 24.24242 &  9.090909 & 0 & 0.9410142 & 0.053718436 & 1 & 39\\\\\n\t333 & 0900700013401030 & 09007\\_0170 & 17631 & San Jose Buenavista           & 09 & Ciudad de México & 007 & Iztapalapa             & 298 & 26 & ⋯ &  85.18519 & 59.25926 & 18.51852 & 23.45679 & 13.580247 & 0 & 0.9417717 & 0.070185731 & 1 & 32\\\\\n\t424 & 0900700014024039 & 09007\\_0220 & 17681 & Valle de Luces                & 09 & Ciudad de México & 007 & Iztapalapa             & 128 & 16 & ⋯ &  81.08108 & 64.86486 & 54.05405 & 24.32432 & 10.810811 & 0 & 0.9527808 & 0.004449086 & 1 & 4 \\\\\n\t484 & 090080001057A015 & 09008\\_0007 & 17695 & El Ocotal                     & 09 & Ciudad de México & 008 & La Magdalena Contreras &  27 &  3 & ⋯ &  57.14286 & 50.00000 & 28.57143 & 28.57143 & 21.428571 & 0 & 0.9463932 & 0.041714858 & 1 & 24\\\\\n\t535 & 0901000011561040 & 09010\\_0110 & 17880 & Jalalpa Tepito                & 09 & Ciudad de México & 010 & Álvaro Obregón         & 137 &  9 & ⋯ &  90.62500 & 59.37500 & 40.62500 & 37.50000 &  0.000000 & 0 & 0.9453571 & 0.027773000 & 1 & 29\\\\\n\t608 & 0901100010679031 & 09011\\_0037 & 18078 & La Conchita Zapotitlan B      & 09 & Ciudad de México & 011 & Tláhuac                & 117 & 12 & ⋯ &  88.88889 & 52.77778 & 55.55556 & 33.33333 & 13.888889 & 0 & 0.9491171 & 0.028573430 & 1 & 53\\\\\n\t640 & 0901100010679027 & 09011\\_0037 & 18078 & La Conchita Zapotitlan B      & 09 & Ciudad de México & 011 & Tláhuac                &  53 &  5 & ⋯ &  75.00000 & 75.00000 & 25.00000 & 25.00000 &  0.000000 & 0 & 0.9491171 & 0.027661113 & 1 & 5 \\\\\n\t732 & 0901700010899022 & 09017\\_0043 & 18749 & Merced Balbuena               & 09 & Ciudad de México & 017 & Venustiano Carranza    &  58 &  7 & ⋯ &  81.25000 & 68.75000 & 31.25000 & 68.75000 & 31.250000 & 0 & 0.9407663 & 0.012706327 & 1 & 6 \\\\\n\t770 & 0901700010460021 & 09017\\_0054 & 18760 & Peñon de Los Baños            & 09 & Ciudad de México & 017 & Venustiano Carranza    &  36 &  4 & ⋯ & 100.00000 &  0.00000 &  0.00000 &  0.00000 &  0.000000 & 0 & 0.9536387 & 0.029087195 & 1 & 50\\\\\n\t870 & 1501300010630053 & 15013\\_0002 & 39977 & 5 de Mayo                     & 15 & México           & 013 & Atizapán de Zaragoza   & 270 & 14 & ⋯ &  74.35897 & 43.58974 & 30.76923 & 26.92308 &  7.692308 & 0 & 0.9430531 & 0.024673244 & 1 & 44\\\\\n\t878 & 1501300011395049 & 15013\\_0002 & 39977 & 5 de Mayo                     & 15 & México           & 013 & Atizapán de Zaragoza   &  48 &  0 & ⋯ &  81.81818 & 63.63636 & 27.27273 &  0.00000 &  0.000000 & 0 & 0.9430531 & 0.020897834 & 1 & 48\\\\\n\t947 & 1501300011408032 & 15013\\_0010 & 39986 & Alfredo V Bonfil              & 15 & México           & 013 & Atizapán de Zaragoza   & 142 & 16 & ⋯ &  90.47619 & 78.57143 & 54.76190 & 35.71429 & 35.714286 & 0 & 0.9485763 & 0.008673039 & 1 & 52\\\\\n\t977 & 1501300010274034 & 15013\\_0040 & 40019 & Ejido San Miguel Chalma       & 15 & México           & 013 & Atizapán de Zaragoza   &  36 &  3 & ⋯ &  81.81818 & 54.54545 & 45.45455 &  0.00000 &  0.000000 & 0 & 0.9523169 & 0.032090308 & 1 & 20\\\\\n\t1205 & 1501300011380007 & 15013\\_0102 & 40082 & Lomas de Tepalcapa            & 15 & México           & 013 & Atizapán de Zaragoza   &  22 &  0 & ⋯ & 100.00000 & 66.66667 &  0.00000 &  0.00000 &  0.000000 & 0 & 0.9456336 & 0.042839394 & 1 & 30\\\\\n\t1309 & 1501300011431026 & 15013\\_0152 & 40134 & San Jose El Jaral 2Da Seccion & 15 & México           & 013 & Atizapán de Zaragoza   &  89 &  6 & ⋯ &  76.92308 & 57.69231 & 42.30769 & 38.46154 & 23.076923 & 0 & 0.9480449 & 0.029367844 & 1 & 45\\\\\n\t1334 & 1501300011573015 & 15013\\_0164 & 40147 & Uam                           & 15 & México           & 013 & Atizapán de Zaragoza   &  62 &  6 & ⋯ &  94.44444 & 38.88889 & 38.88889 &  0.00000 &  0.000000 & 0 & 0.9498870 & 0.051128858 & 1 & 12\\\\\n\t1396 & 1501300011516002 & 15013\\_0164 & 40147 & Uam                           & 15 & México           & 013 & Atizapán de Zaragoza   &  54 &  3 & ⋯ & 100.00000 & 71.42857 & 42.85714 &  0.00000 &  0.000000 & 0 & 0.9498870 & 0.022226554 & 1 & 26\\\\\n\t1466 & 150250001206A005 & 15025\\_0063 & 40836 & Nueva San Antonio             & 15 & México           & 025 & Chalco                 &  70 &  7 & ⋯ &  56.66667 & 20.00000 & 16.66667 & 10.00000 &  0.000000 & 0 & 0.9401904 & 0.022944879 & 1 & 9 \\\\\n\t1503 & 1502500012055013 & 15025\\_0063 & 40836 & Nueva San Antonio             & 15 & México           & 025 & Chalco                 &  44 &  0 & ⋯ &  61.53846 & 38.46154 &  0.00000 & 23.07692 &  0.000000 & 0 & 0.9401904 & 0.028514535 & 1 & 17\\\\\n\t1515 & 1502900010310003 & 15029\\_0011 & 40974 & El Arenal 2                   & 15 & México           & 029 & Chicoloapan            & 171 & 11 & ⋯ &  81.39535 & 55.81395 & 37.20930 & 25.58140 & 16.279070 & 0 & 0.9511805 & 0.037304396 & 1 & 11\\\\\n\t1516 & 1502900010310011 & 15029\\_0011 & 40974 & El Arenal 2                   & 15 & México           & 029 & Chicoloapan            & 165 & 15 & ⋯ &  78.57143 & 61.90476 & 42.85714 & 28.57143 & 11.904762 & 0 & 0.9511805 & 0.023696492 & 1 & 22\\\\\n\t1531 & 1502900010221011 & 15029\\_0015 & 40978 & Emiliano Zapata               & 15 & México           & 029 & Chicoloapan            & 123 & 10 & ⋯ &  86.11111 & 52.77778 & 41.66667 & 38.88889 & 22.222222 & 0 & 0.9424810 & 0.012905685 & 1 & 8 \\\\\n\t⋮ & ⋮ & ⋮ & ⋮ & ⋮ & ⋮ & ⋮ & ⋮ & ⋮ & ⋮ & ⋮ & ⋱ & ⋮ & ⋮ & ⋮ & ⋮ & ⋮ & ⋮ & ⋮ & ⋮ & ⋮ & ⋮\\\\\n\t1958 & 1503300013623039 & 15033\\_0266 & 41423 & Lomas de San Carlos    & 15 & México & 033 & Ecatepec de Morelos         &  80 & 10 & ⋯ &  88.00000 & 76.00000 & 40.00000 & 24.00000 &  0.000000 & 1 & 0.9432364 & 0.016273905 & 1 & 40\\\\\n\t1959 & 150330001256A002 & 15033\\_0266 & 41423 & Lomas de San Carlos    & 15 & México & 033 & Ecatepec de Morelos         & 212 & 12 & ⋯ &  95.65217 & 47.82609 & 23.91304 & 15.21739 &  0.000000 & 1 & 0.9432364 & 0.031700876 & 1 & 41\\\\\n\t1960 & 1503300013623062 & 15033\\_0266 & 41423 & Lomas de San Carlos    & 15 & México & 033 & Ecatepec de Morelos         &  91 &  9 & ⋯ &  75.00000 & 50.00000 & 21.87500 & 37.50000 & 25.000000 & 1 & 0.9432364 & 0.124927073 & 1 & 42\\\\\n\t1961 & 1503300013623048 & 15033\\_0266 & 41423 & Lomas de San Carlos    & 15 & México & 033 & Ecatepec de Morelos         & 129 & 15 & ⋯ &  74.35897 & 61.53846 & 23.07692 & 33.33333 & 12.820513 & 1 & 0.9432364 & 0.020530611 & 1 & 43\\\\\n\t1962 & 1503300013623040 & 15033\\_0266 & 41423 & Lomas de San Carlos    & 15 & México & 033 & Ecatepec de Morelos         &  50 &  0 & ⋯ &  91.66667 & 66.66667 & 50.00000 &  0.00000 &  0.000000 & 1 & 0.9432364 & 0.024657030 & 1 & 44\\\\\n\t1963 & 150330001256A033 & 15033\\_0266 & 41423 & Lomas de San Carlos    & 15 & México & 033 & Ecatepec de Morelos         &  17 &  0 & ⋯ &  80.00000 & 80.00000 &  0.00000 &  0.00000 &  0.000000 & 1 & 0.9432364 & 0.029382287 & 1 & 45\\\\\n\t1964 & 1503300013623049 & 15033\\_0266 & 41423 & Lomas de San Carlos    & 15 & México & 033 & Ecatepec de Morelos         & 120 & 11 & ⋯ &  75.00000 & 65.00000 & 30.00000 & 25.00000 & 25.000000 & 1 & 0.9432364 & 0.032145223 & 1 & 46\\\\\n\t1965 & 1503300013623059 & 15033\\_0266 & 41423 & Lomas de San Carlos    & 15 & México & 033 & Ecatepec de Morelos         & 109 & 12 & ⋯ &  80.00000 & 56.66667 & 30.00000 & 16.66667 & 10.000000 & 1 & 0.9432364 & 0.010722001 & 1 & 47\\\\\n\t1966 & 150330001256A021 & 15033\\_0266 & 41423 & Lomas de San Carlos    & 15 & México & 033 & Ecatepec de Morelos         & 144 & 17 & ⋯ &  80.39216 & 45.09804 & 25.49020 &  0.00000 &  0.000000 & 1 & 0.9432364 & 0.020901825 & 1 & 48\\\\\n\t1967 & 1503300013623041 & 15033\\_0266 & 41423 & Lomas de San Carlos    & 15 & México & 033 & Ecatepec de Morelos         &  30 &  0 & ⋯ &  70.00000 & 70.00000 & 50.00000 & 30.00000 &  0.000000 & 1 & 0.9432364 & 0.055617601 & 1 & 49\\\\\n\t1968 & 1503300013623050 & 15033\\_0266 & 41423 & Lomas de San Carlos    & 15 & México & 033 & Ecatepec de Morelos         & 132 & 15 & ⋯ &  85.29412 & 52.94118 & 35.29412 & 35.29412 & 14.705882 & 1 & 0.9432364 & 0.029080490 & 1 & 50\\\\\n\t1969 & 1503300013623052 & 15033\\_0266 & 41423 & Lomas de San Carlos    & 15 & México & 033 & Ecatepec de Morelos         & 132 & 19 & ⋯ &  77.77778 & 48.88889 & 20.00000 & 17.77778 &  6.666667 & 1 & 0.9432364 & 0.008478242 & 1 & 51\\\\\n\t1970 & 1503300013623051 & 15033\\_0266 & 41423 & Lomas de San Carlos    & 15 & México & 033 & Ecatepec de Morelos         & 122 & 10 & ⋯ &  84.61538 & 43.58974 & 30.76923 & 28.20513 & 15.384615 & 1 & 0.9432364 & 0.008661918 & 1 & 52\\\\\n\t1971 & 1503300013623055 & 15033\\_0266 & 41423 & Lomas de San Carlos    & 15 & México & 033 & Ecatepec de Morelos         &  53 &  4 & ⋯ &  91.66667 & 58.33333 & 41.66667 & 25.00000 & 25.000000 & 1 & 0.9432364 & 0.028579710 & 1 & 53\\\\\n\t2004 & 150330001338A016 & 15033\\_0440 & 41601 & Texalpa                & 15 & México & 033 & Ecatepec de Morelos         &  81 &  8 & ⋯ &  70.58824 & 52.94118 & 23.52941 & 47.05882 &  0.000000 & 0 & 0.9431293 & 0.026027083 & 1 & 2 \\\\\n\t2007 & 150330001338A015 & 15033\\_0440 & 41601 & Texalpa                & 15 & México & 033 & Ecatepec de Morelos         &  89 &  9 & ⋯ &  70.83333 & 70.83333 & 25.00000 & 20.83333 &  0.000000 & 0 & 0.9431293 & 0.062972101 & 1 & 21\\\\\n\t2016 & 1503300013093028 & 15033\\_0440 & 41601 & Texalpa                & 15 & México & 033 & Ecatepec de Morelos         & 139 &  3 & ⋯ &  82.35294 & 38.23529 & 23.52941 & 26.47059 &  8.823529 & 0 & 0.9431293 & 0.119923446 & 1 & 42\\\\\n\t2072 & 1503300013233035 & 15033\\_0443 & 41604 & Tolotzin I             & 15 & México & 033 & Ecatepec de Morelos         &  56 &  0 & ⋯ & 100.00000 & 66.66667 & 58.33333 & 50.00000 & 50.000000 & 0 & 0.9470660 & 0.035523976 & 1 & 18\\\\\n\t2193 & 1503900010567014 & 15039\\_0019 & 41827 & Cerro del Tejolote     & 15 & México & 039 & Ixtapaluca                  &  28 &  6 & ⋯ &  50.00000 & 41.66667 & 33.33333 &  0.00000 &  0.000000 & 0 & 0.9396434 & 0.020361913 & 1 & 1 \\\\\n\t2261 & 1503900010158002 & 15039\\_0069 & 41883 & Loma Bonita            & 15 & México & 039 & Ixtapaluca                  & 128 & 14 & ⋯ &  82.50000 & 57.50000 & 40.00000 & 45.00000 & 22.500000 & 0 & 0.9538928 & 0.016267677 & 1 & 40\\\\\n\t2411 & 1508100250151009 & 15081\\_0005 & 43395 & 5 de Mayo              & 15 & México & 081 & Tecámac                     &  64 &  9 & ⋯ &  90.47619 & 61.90476 & 52.38095 & 33.33333 & 14.285714 & 0 & 0.9444401 & 0.010718870 & 1 & 47\\\\\n\t2451 & 1508100980895017 & 15081\\_0060 & 43459 & Nueva Tlalnepantla     & 15 & México & 081 & Tecámac                     & 177 &  8 & ⋯ &  81.81818 & 52.27273 & 20.45455 & 22.72727 & 15.909091 & 0 & 0.9418601 & 0.032131679 & 1 & 46\\\\\n\t2456 & 1508100980895010 & 15081\\_0060 & 43459 & Nueva Tlalnepantla     & 15 & México & 081 & Tecámac                     &  74 &  8 & ⋯ &  84.00000 & 44.00000 & 32.00000 & 28.00000 & 16.000000 & 0 & 0.9418601 & 0.031800360 & 1 & 25\\\\\n\t2556 & 1510400011705007 & 15104\\_0184 & 44493 & Santa Maria Tlayacampa & 15 & México & 104 & Tlalnepantla de Baz         & 130 & 13 & ⋯ &  85.00000 & 42.50000 & 37.50000 & 17.50000 &  0.000000 & 0 & 0.9452682 & 0.015577367 & 1 & 13\\\\\n\t2568 & 1510400010073004 & 15104\\_0184 & 44493 & Santa Maria Tlayacampa & 15 & México & 104 & Tlalnepantla de Baz         &  72 &  4 & ⋯ &  72.72727 & 45.45455 & 22.72727 & 31.81818 &  0.000000 & 0 & 0.9452682 & 0.020529772 & 1 & 43\\\\\n\t2697 & 1510900031260011 & 15109\\_0079 & 45115 & La Libertad            & 15 & México & 109 & Tultitlán                   & 208 & 16 & ⋯ &  88.88889 & 46.29630 & 37.03704 & 20.37037 &  5.555556 & 0 & 0.9444515 & 0.075053527 & 1 & 31\\\\\n\t2726 & 1510900031538050 & 15109\\_0183 & 45223 & Valle de Tules         & 15 & México & 109 & Tultitlán                   &  48 &  0 & ⋯ &  92.85714 & 50.00000 & 35.71429 & 21.42857 &  0.000000 & 0 & 0.9495984 & 0.044934345 & 1 & 10\\\\\n\t2784 & 1512000140664005 & 15120\\_0004 & 45508 & Arbolada Los Sauces I  & 15 & México & 120 & Zumpango                    & 302 & 35 & ⋯ &  64.92537 & 41.04478 & 23.88060 & 32.83582 &  9.701493 & 0 & 0.9489722 & 0.044316918 & 1 & 27\\\\\n\t2883 & 1512200010902031 & 15122\\_0033 & 45613 & San Juan Tlalpizahuac  & 15 & México & 122 & Valle de Chalco Solidaridad &  28 &  0 & ⋯ &  83.33333 & 50.00000 &  0.00000 & 50.00000 &  0.000000 & 0 & 0.9445860 & 0.031658819 & 1 & 41\\\\\n\t2898 & 1512200010917015 & 15122\\_0033 & 45613 & San Juan Tlalpizahuac  & 15 & México & 122 & Valle de Chalco Solidaridad & 110 & 14 & ⋯ &  91.42857 & 57.14286 & 34.28571 & 45.71429 & 11.428571 & 0 & 0.9445860 & 0.019395983 & 1 & 7 \\\\\n\\end{tabular}\n",
      "text/plain": [
       "     cvegeo           cve_col    id_col colonia                       cve_ent\n",
       "136  0900700015037017 09007_0013 17473  Ampliacion Emiliano Zapata    09     \n",
       "160  0900700012206013 09007_0051 17512  El Rosario                    09     \n",
       "193  0900700012174015 09007_0051 17512  El Rosario                    09     \n",
       "197  0900700012174003 09007_0051 17512  El Rosario                    09     \n",
       "214  0900700012174018 09007_0051 17512  El Rosario                    09     \n",
       "229  0900700012051087 09007_0056 17517  El Triangulo                  09     \n",
       "234  0900700012051114 09007_0056 17517  El Triangulo                  09     \n",
       "244  0900700012051108 09007_0056 17517  El Triangulo                  09     \n",
       "319  0900700014293013 09007_0167 17628  San Francisco Apolocalco      09     \n",
       "333  0900700013401030 09007_0170 17631  San Jose Buenavista           09     \n",
       "424  0900700014024039 09007_0220 17681  Valle de Luces                09     \n",
       "484  090080001057A015 09008_0007 17695  El Ocotal                     09     \n",
       "535  0901000011561040 09010_0110 17880  Jalalpa Tepito                09     \n",
       "608  0901100010679031 09011_0037 18078  La Conchita Zapotitlan B      09     \n",
       "640  0901100010679027 09011_0037 18078  La Conchita Zapotitlan B      09     \n",
       "732  0901700010899022 09017_0043 18749  Merced Balbuena               09     \n",
       "770  0901700010460021 09017_0054 18760  Peñon de Los Baños            09     \n",
       "870  1501300010630053 15013_0002 39977  5 de Mayo                     15     \n",
       "878  1501300011395049 15013_0002 39977  5 de Mayo                     15     \n",
       "947  1501300011408032 15013_0010 39986  Alfredo V Bonfil              15     \n",
       "977  1501300010274034 15013_0040 40019  Ejido San Miguel Chalma       15     \n",
       "1205 1501300011380007 15013_0102 40082  Lomas de Tepalcapa            15     \n",
       "1309 1501300011431026 15013_0152 40134  San Jose El Jaral 2Da Seccion 15     \n",
       "1334 1501300011573015 15013_0164 40147  Uam                           15     \n",
       "1396 1501300011516002 15013_0164 40147  Uam                           15     \n",
       "1466 150250001206A005 15025_0063 40836  Nueva San Antonio             15     \n",
       "1503 1502500012055013 15025_0063 40836  Nueva San Antonio             15     \n",
       "1515 1502900010310003 15029_0011 40974  El Arenal 2                   15     \n",
       "1516 1502900010310011 15029_0011 40974  El Arenal 2                   15     \n",
       "1531 1502900010221011 15029_0015 40978  Emiliano Zapata               15     \n",
       "⋮    ⋮                ⋮          ⋮      ⋮                             ⋮      \n",
       "1958 1503300013623039 15033_0266 41423  Lomas de San Carlos           15     \n",
       "1959 150330001256A002 15033_0266 41423  Lomas de San Carlos           15     \n",
       "1960 1503300013623062 15033_0266 41423  Lomas de San Carlos           15     \n",
       "1961 1503300013623048 15033_0266 41423  Lomas de San Carlos           15     \n",
       "1962 1503300013623040 15033_0266 41423  Lomas de San Carlos           15     \n",
       "1963 150330001256A033 15033_0266 41423  Lomas de San Carlos           15     \n",
       "1964 1503300013623049 15033_0266 41423  Lomas de San Carlos           15     \n",
       "1965 1503300013623059 15033_0266 41423  Lomas de San Carlos           15     \n",
       "1966 150330001256A021 15033_0266 41423  Lomas de San Carlos           15     \n",
       "1967 1503300013623041 15033_0266 41423  Lomas de San Carlos           15     \n",
       "1968 1503300013623050 15033_0266 41423  Lomas de San Carlos           15     \n",
       "1969 1503300013623052 15033_0266 41423  Lomas de San Carlos           15     \n",
       "1970 1503300013623051 15033_0266 41423  Lomas de San Carlos           15     \n",
       "1971 1503300013623055 15033_0266 41423  Lomas de San Carlos           15     \n",
       "2004 150330001338A016 15033_0440 41601  Texalpa                       15     \n",
       "2007 150330001338A015 15033_0440 41601  Texalpa                       15     \n",
       "2016 1503300013093028 15033_0440 41601  Texalpa                       15     \n",
       "2072 1503300013233035 15033_0443 41604  Tolotzin I                    15     \n",
       "2193 1503900010567014 15039_0019 41827  Cerro del Tejolote            15     \n",
       "2261 1503900010158002 15039_0069 41883  Loma Bonita                   15     \n",
       "2411 1508100250151009 15081_0005 43395  5 de Mayo                     15     \n",
       "2451 1508100980895017 15081_0060 43459  Nueva Tlalnepantla            15     \n",
       "2456 1508100980895010 15081_0060 43459  Nueva Tlalnepantla            15     \n",
       "2556 1510400011705007 15104_0184 44493  Santa Maria Tlayacampa        15     \n",
       "2568 1510400010073004 15104_0184 44493  Santa Maria Tlayacampa        15     \n",
       "2697 1510900031260011 15109_0079 45115  La Libertad                   15     \n",
       "2726 1510900031538050 15109_0183 45223  Valle de Tules                15     \n",
       "2784 1512000140664005 15120_0004 45508  Arbolada Los Sauces I         15     \n",
       "2883 1512200010902031 15122_0033 45613  San Juan Tlalpizahuac         15     \n",
       "2898 1512200010917015 15122_0033 45613  San Juan Tlalpizahuac         15     \n",
       "     nom_ent          cve_mun nom_mun                     pobtot hogjef_f ⋯\n",
       "136  Ciudad de México 007     Iztapalapa                  160     9       ⋯\n",
       "160  Ciudad de México 007     Iztapalapa                   23     0       ⋯\n",
       "193  Ciudad de México 007     Iztapalapa                   86    18       ⋯\n",
       "197  Ciudad de México 007     Iztapalapa                   70     0       ⋯\n",
       "214  Ciudad de México 007     Iztapalapa                  136    12       ⋯\n",
       "229  Ciudad de México 007     Iztapalapa                   69     9       ⋯\n",
       "234  Ciudad de México 007     Iztapalapa                   77    14       ⋯\n",
       "244  Ciudad de México 007     Iztapalapa                   65     6       ⋯\n",
       "319  Ciudad de México 007     Iztapalapa                  119     5       ⋯\n",
       "333  Ciudad de México 007     Iztapalapa                  298    26       ⋯\n",
       "424  Ciudad de México 007     Iztapalapa                  128    16       ⋯\n",
       "484  Ciudad de México 008     La Magdalena Contreras       27     3       ⋯\n",
       "535  Ciudad de México 010     Álvaro Obregón              137     9       ⋯\n",
       "608  Ciudad de México 011     Tláhuac                     117    12       ⋯\n",
       "640  Ciudad de México 011     Tláhuac                      53     5       ⋯\n",
       "732  Ciudad de México 017     Venustiano Carranza          58     7       ⋯\n",
       "770  Ciudad de México 017     Venustiano Carranza          36     4       ⋯\n",
       "870  México           013     Atizapán de Zaragoza        270    14       ⋯\n",
       "878  México           013     Atizapán de Zaragoza         48     0       ⋯\n",
       "947  México           013     Atizapán de Zaragoza        142    16       ⋯\n",
       "977  México           013     Atizapán de Zaragoza         36     3       ⋯\n",
       "1205 México           013     Atizapán de Zaragoza         22     0       ⋯\n",
       "1309 México           013     Atizapán de Zaragoza         89     6       ⋯\n",
       "1334 México           013     Atizapán de Zaragoza         62     6       ⋯\n",
       "1396 México           013     Atizapán de Zaragoza         54     3       ⋯\n",
       "1466 México           025     Chalco                       70     7       ⋯\n",
       "1503 México           025     Chalco                       44     0       ⋯\n",
       "1515 México           029     Chicoloapan                 171    11       ⋯\n",
       "1516 México           029     Chicoloapan                 165    15       ⋯\n",
       "1531 México           029     Chicoloapan                 123    10       ⋯\n",
       "⋮    ⋮                ⋮       ⋮                           ⋮      ⋮        ⋱\n",
       "1958 México           033     Ecatepec de Morelos          80    10       ⋯\n",
       "1959 México           033     Ecatepec de Morelos         212    12       ⋯\n",
       "1960 México           033     Ecatepec de Morelos          91     9       ⋯\n",
       "1961 México           033     Ecatepec de Morelos         129    15       ⋯\n",
       "1962 México           033     Ecatepec de Morelos          50     0       ⋯\n",
       "1963 México           033     Ecatepec de Morelos          17     0       ⋯\n",
       "1964 México           033     Ecatepec de Morelos         120    11       ⋯\n",
       "1965 México           033     Ecatepec de Morelos         109    12       ⋯\n",
       "1966 México           033     Ecatepec de Morelos         144    17       ⋯\n",
       "1967 México           033     Ecatepec de Morelos          30     0       ⋯\n",
       "1968 México           033     Ecatepec de Morelos         132    15       ⋯\n",
       "1969 México           033     Ecatepec de Morelos         132    19       ⋯\n",
       "1970 México           033     Ecatepec de Morelos         122    10       ⋯\n",
       "1971 México           033     Ecatepec de Morelos          53     4       ⋯\n",
       "2004 México           033     Ecatepec de Morelos          81     8       ⋯\n",
       "2007 México           033     Ecatepec de Morelos          89     9       ⋯\n",
       "2016 México           033     Ecatepec de Morelos         139     3       ⋯\n",
       "2072 México           033     Ecatepec de Morelos          56     0       ⋯\n",
       "2193 México           039     Ixtapaluca                   28     6       ⋯\n",
       "2261 México           039     Ixtapaluca                  128    14       ⋯\n",
       "2411 México           081     Tecámac                      64     9       ⋯\n",
       "2451 México           081     Tecámac                     177     8       ⋯\n",
       "2456 México           081     Tecámac                      74     8       ⋯\n",
       "2556 México           104     Tlalnepantla de Baz         130    13       ⋯\n",
       "2568 México           104     Tlalnepantla de Baz          72     4       ⋯\n",
       "2697 México           109     Tultitlán                   208    16       ⋯\n",
       "2726 México           109     Tultitlán                    48     0       ⋯\n",
       "2784 México           120     Zumpango                    302    35       ⋯\n",
       "2883 México           122     Valle de Chalco Solidaridad  28     0       ⋯\n",
       "2898 México           122     Valle de Chalco Solidaridad 110    14       ⋯\n",
       "     pct_celular pct_internet pct_computadora pct_tv_paga pct_videos simi\n",
       "136   78.00000   44.00000     20.00000         8.00000     6.000000  0   \n",
       "160  100.00000   85.71429     57.14286         0.00000     0.000000  0   \n",
       "193   80.55556   66.66667     47.22222        22.22222    27.777778  0   \n",
       "197   83.33333   61.11111     50.00000        38.88889     0.000000  0   \n",
       "214   83.33333   64.28571     64.28571        42.85714    23.809524  0   \n",
       "229   79.16667   29.16667     12.50000         0.00000     0.000000  0   \n",
       "234   88.88889   22.22222      0.00000        18.51852    14.814815  0   \n",
       "244  100.00000   42.85714     28.57143        28.57143     0.000000  0   \n",
       "319   72.72727   42.42424     24.24242        24.24242     9.090909  0   \n",
       "333   85.18519   59.25926     18.51852        23.45679    13.580247  0   \n",
       "424   81.08108   64.86486     54.05405        24.32432    10.810811  0   \n",
       "484   57.14286   50.00000     28.57143        28.57143    21.428571  0   \n",
       "535   90.62500   59.37500     40.62500        37.50000     0.000000  0   \n",
       "608   88.88889   52.77778     55.55556        33.33333    13.888889  0   \n",
       "640   75.00000   75.00000     25.00000        25.00000     0.000000  0   \n",
       "732   81.25000   68.75000     31.25000        68.75000    31.250000  0   \n",
       "770  100.00000    0.00000      0.00000         0.00000     0.000000  0   \n",
       "870   74.35897   43.58974     30.76923        26.92308     7.692308  0   \n",
       "878   81.81818   63.63636     27.27273         0.00000     0.000000  0   \n",
       "947   90.47619   78.57143     54.76190        35.71429    35.714286  0   \n",
       "977   81.81818   54.54545     45.45455         0.00000     0.000000  0   \n",
       "1205 100.00000   66.66667      0.00000         0.00000     0.000000  0   \n",
       "1309  76.92308   57.69231     42.30769        38.46154    23.076923  0   \n",
       "1334  94.44444   38.88889     38.88889         0.00000     0.000000  0   \n",
       "1396 100.00000   71.42857     42.85714         0.00000     0.000000  0   \n",
       "1466  56.66667   20.00000     16.66667        10.00000     0.000000  0   \n",
       "1503  61.53846   38.46154      0.00000        23.07692     0.000000  0   \n",
       "1515  81.39535   55.81395     37.20930        25.58140    16.279070  0   \n",
       "1516  78.57143   61.90476     42.85714        28.57143    11.904762  0   \n",
       "1531  86.11111   52.77778     41.66667        38.88889    22.222222  0   \n",
       "⋮    ⋮           ⋮            ⋮               ⋮           ⋮          ⋮   \n",
       "1958  88.00000   76.00000     40.00000        24.00000     0.000000  1   \n",
       "1959  95.65217   47.82609     23.91304        15.21739     0.000000  1   \n",
       "1960  75.00000   50.00000     21.87500        37.50000    25.000000  1   \n",
       "1961  74.35897   61.53846     23.07692        33.33333    12.820513  1   \n",
       "1962  91.66667   66.66667     50.00000         0.00000     0.000000  1   \n",
       "1963  80.00000   80.00000      0.00000         0.00000     0.000000  1   \n",
       "1964  75.00000   65.00000     30.00000        25.00000    25.000000  1   \n",
       "1965  80.00000   56.66667     30.00000        16.66667    10.000000  1   \n",
       "1966  80.39216   45.09804     25.49020         0.00000     0.000000  1   \n",
       "1967  70.00000   70.00000     50.00000        30.00000     0.000000  1   \n",
       "1968  85.29412   52.94118     35.29412        35.29412    14.705882  1   \n",
       "1969  77.77778   48.88889     20.00000        17.77778     6.666667  1   \n",
       "1970  84.61538   43.58974     30.76923        28.20513    15.384615  1   \n",
       "1971  91.66667   58.33333     41.66667        25.00000    25.000000  1   \n",
       "2004  70.58824   52.94118     23.52941        47.05882     0.000000  0   \n",
       "2007  70.83333   70.83333     25.00000        20.83333     0.000000  0   \n",
       "2016  82.35294   38.23529     23.52941        26.47059     8.823529  0   \n",
       "2072 100.00000   66.66667     58.33333        50.00000    50.000000  0   \n",
       "2193  50.00000   41.66667     33.33333         0.00000     0.000000  0   \n",
       "2261  82.50000   57.50000     40.00000        45.00000    22.500000  0   \n",
       "2411  90.47619   61.90476     52.38095        33.33333    14.285714  0   \n",
       "2451  81.81818   52.27273     20.45455        22.72727    15.909091  0   \n",
       "2456  84.00000   44.00000     32.00000        28.00000    16.000000  0   \n",
       "2556  85.00000   42.50000     37.50000        17.50000     0.000000  0   \n",
       "2568  72.72727   45.45455     22.72727        31.81818     0.000000  0   \n",
       "2697  88.88889   46.29630     37.03704        20.37037     5.555556  0   \n",
       "2726  92.85714   50.00000     35.71429        21.42857     0.000000  0   \n",
       "2784  64.92537   41.04478     23.88060        32.83582     9.701493  0   \n",
       "2883  83.33333   50.00000      0.00000        50.00000     0.000000  0   \n",
       "2898  91.42857   57.14286     34.28571        45.71429    11.428571  0   \n",
       "     imn_2020  distance    weights subclass\n",
       "136  0.9476954 0.032881102 1       14      \n",
       "160  0.9548266 0.024079667 1       23      \n",
       "193  0.9548266 0.008479839 1       51      \n",
       "197  0.9548266 0.022630622 1       15      \n",
       "214  0.9548266 0.003164353 1       38      \n",
       "229  0.9397610 0.028338405 1       35      \n",
       "234  0.9397610 0.024077291 1       28      \n",
       "244  0.9397610 0.039300592 1       33      \n",
       "319  0.9410142 0.053718436 1       39      \n",
       "333  0.9417717 0.070185731 1       32      \n",
       "424  0.9527808 0.004449086 1       4       \n",
       "484  0.9463932 0.041714858 1       24      \n",
       "535  0.9453571 0.027773000 1       29      \n",
       "608  0.9491171 0.028573430 1       53      \n",
       "640  0.9491171 0.027661113 1       5       \n",
       "732  0.9407663 0.012706327 1       6       \n",
       "770  0.9536387 0.029087195 1       50      \n",
       "870  0.9430531 0.024673244 1       44      \n",
       "878  0.9430531 0.020897834 1       48      \n",
       "947  0.9485763 0.008673039 1       52      \n",
       "977  0.9523169 0.032090308 1       20      \n",
       "1205 0.9456336 0.042839394 1       30      \n",
       "1309 0.9480449 0.029367844 1       45      \n",
       "1334 0.9498870 0.051128858 1       12      \n",
       "1396 0.9498870 0.022226554 1       26      \n",
       "1466 0.9401904 0.022944879 1       9       \n",
       "1503 0.9401904 0.028514535 1       17      \n",
       "1515 0.9511805 0.037304396 1       11      \n",
       "1516 0.9511805 0.023696492 1       22      \n",
       "1531 0.9424810 0.012905685 1       8       \n",
       "⋮    ⋮         ⋮           ⋮       ⋮       \n",
       "1958 0.9432364 0.016273905 1       40      \n",
       "1959 0.9432364 0.031700876 1       41      \n",
       "1960 0.9432364 0.124927073 1       42      \n",
       "1961 0.9432364 0.020530611 1       43      \n",
       "1962 0.9432364 0.024657030 1       44      \n",
       "1963 0.9432364 0.029382287 1       45      \n",
       "1964 0.9432364 0.032145223 1       46      \n",
       "1965 0.9432364 0.010722001 1       47      \n",
       "1966 0.9432364 0.020901825 1       48      \n",
       "1967 0.9432364 0.055617601 1       49      \n",
       "1968 0.9432364 0.029080490 1       50      \n",
       "1969 0.9432364 0.008478242 1       51      \n",
       "1970 0.9432364 0.008661918 1       52      \n",
       "1971 0.9432364 0.028579710 1       53      \n",
       "2004 0.9431293 0.026027083 1       2       \n",
       "2007 0.9431293 0.062972101 1       21      \n",
       "2016 0.9431293 0.119923446 1       42      \n",
       "2072 0.9470660 0.035523976 1       18      \n",
       "2193 0.9396434 0.020361913 1       1       \n",
       "2261 0.9538928 0.016267677 1       40      \n",
       "2411 0.9444401 0.010718870 1       47      \n",
       "2451 0.9418601 0.032131679 1       46      \n",
       "2456 0.9418601 0.031800360 1       25      \n",
       "2556 0.9452682 0.015577367 1       13      \n",
       "2568 0.9452682 0.020529772 1       43      \n",
       "2697 0.9444515 0.075053527 1       31      \n",
       "2726 0.9495984 0.044934345 1       10      \n",
       "2784 0.9489722 0.044316918 1       27      \n",
       "2883 0.9445860 0.031658819 1       41      \n",
       "2898 0.9445860 0.019395983 1       7       "
      ]
     },
     "metadata": {},
     "output_type": "display_data"
    }
   ],
   "execution_count": 45
  },
  {
   "metadata": {
    "ExecuteTime": {
     "end_time": "2024-11-13T01:44:33.586123Z",
     "start_time": "2024-11-13T01:44:33.460490Z"
    }
   },
   "cell_type": "code",
   "source": "plot(summary(matchit_out))",
   "id": "ebd1bd39ca1fc918",
   "outputs": [
    {
     "data": {
      "text/plain": [
       "plot without title"
      ],
      "image/png": "[encoded data removed]"
     },
     "metadata": {
      "image/png": {
       "width": 420,
       "height": 420
      }
     },
     "output_type": "display_data"
    }
   ],
   "execution_count": 46
  },
  {
   "metadata": {},
   "cell_type": "markdown",
   "source": "#### 4.2 Se estima el efecto del tratamiento",
   "id": "3f6192f21043bd06"
  },
  {
   "metadata": {
    "ExecuteTime": {
     "end_time": "2024-11-13T01:44:33.943188Z",
     "start_time": "2024-11-13T01:44:33.836005Z"
    }
   },
   "cell_type": "code",
   "source": "t.test(imn_2020~simi, data=datos_matcheados)",
   "id": "7045b0bf8e051c69",
   "outputs": [
    {
     "data": {
      "text/plain": [
       "\n",
       "\tWelch Two Sample t-test\n",
       "\n",
       "data:  imn_2020 by simi\n",
       "t = 4.2456, df = 52, p-value = 9.022e-05\n",
       "alternative hypothesis: true difference in means between group 0 and group 1 is not equal to 0\n",
       "95 percent confidence interval:\n",
       " 0.001441988 0.004026782\n",
       "sample estimates:\n",
       "mean in group 0 mean in group 1 \n",
       "      0.9459708       0.9432364 \n"
      ]
     },
     "metadata": {},
     "output_type": "display_data"
    }
   ],
   "execution_count": 47
  }
 ],
 "metadata": {
  "kernelspec": {
   "display_name": "R",
   "language": "R",
   "name": "ir"
  },
  "language_info": {
   "codemirror_mode": {
    "name": "ipython",
    "version": 2
   },
   "file_extension": ".py",
   "mimetype": "text/x-python",
   "name": "python",
   "nbconvert_exporter": "python",
   "pygments_lexer": "ipython2",
   "version": "2.7.6"
  }
 },
 "nbformat": 4,
 "nbformat_minor": 5
}
